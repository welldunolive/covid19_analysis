{
 "cells": [
  {
   "cell_type": "markdown",
   "metadata": {},
   "source": [
    "#### Notebooks  \n",
    "- [Data Collection](./01_data_collection.ipynb)\n",
    "- [Data Cleaning](./02_data_cleaning.ipynb)\n",
    "- [Data Preprocessing](./03_data_preprocessing.ipynb)\n",
    "- [EDA Five States](./04_eda_five_states.ipynb)\n",
    "- [EDA California](./05_eda_ca.ipynb)\n",
    "- [EDA Florida](./05_eda_fl.ipynb)\n",
    "- [EDA Illinois](./05_eda_il.ipynb)\n",
    "- [EDA New York](./05_eda_ny.ipynb)\n",
    "- [EDA Texas](./05_eda_tx.ipynb)\n",
    "- [Modeling Five States](./06_modeling_five_states.ipynb)\n",
    "- [Modeling California](./07_modeling_ca.ipynb)\n",
    "- [Modeling Florida](./07_modeling_fl.ipynb)\n",
    "- [Modeling Illinois](./07_modeling_il.ipynb)\n",
    "- [Modeling New York](./07_modeling_ny.ipynb)\n",
    "- [Modeling Texas](./07_modeling_tx.ipynb)\n",
    "- [Conclusions](./08_conclusions.ipynb)\n",
    "\n",
    "#### This Notebook's Contents  \n",
    "- [Imports](#Imports) \n",
    "- [Combining COVID and Census Data](#Combining-COVID-and-Census-Data) \n",
    "- [Feature Engineering](#Feature-Engineering)\n",
    "- [Break Out the States](#Break-Out-the-States)\n",
    "- [Export the Data for Modeling](#Export-the-Data-for-Modeling)"
   ]
  },
  {
   "cell_type": "markdown",
   "metadata": {},
   "source": [
    "# Imports"
   ]
  },
  {
   "cell_type": "code",
   "execution_count": 1,
   "metadata": {},
   "outputs": [],
   "source": [
    "# Import the required libraries.\n",
    "import pandas as pd\n",
    "import numpy as np\n",
    "import warnings\n",
    "warnings.filterwarnings('ignore')"
   ]
  },
  {
   "cell_type": "code",
   "execution_count": 2,
   "metadata": {},
   "outputs": [],
   "source": [
    "# Import the data.\n",
    "covid = pd.read_csv('../data/preprocessing/cleaned_covid_five_states.csv')\n",
    "race = pd.read_csv('../data/preprocessing/cleaned_dp05_race_five_states.csv')\n",
    "sa = pd.read_csv('../data/preprocessing/cleaned_dp05_sex_age_five_states.csv')\n",
    "land = pd.read_csv('../data/preprocessing/cleaned_area_five_states.csv')\n",
    "ins = pd.read_csv('../data/preprocessing/cleaned_dp03_insurance_five_states.csv')\n",
    "inc = pd.read_csv('../data/preprocessing/cleaned_dp03_income_five_states.csv')\n",
    "obes = pd.read_csv('../data/preprocessing/cleaned_obesity_five_states.csv')"
   ]
  },
  {
   "cell_type": "code",
   "execution_count": 3,
   "metadata": {},
   "outputs": [
    {
     "data": {
      "text/html": [
       "<div>\n",
       "<style scoped>\n",
       "    .dataframe tbody tr th:only-of-type {\n",
       "        vertical-align: middle;\n",
       "    }\n",
       "\n",
       "    .dataframe tbody tr th {\n",
       "        vertical-align: top;\n",
       "    }\n",
       "\n",
       "    .dataframe thead th {\n",
       "        text-align: right;\n",
       "    }\n",
       "</style>\n",
       "<table border=\"1\" class=\"dataframe\">\n",
       "  <thead>\n",
       "    <tr style=\"text-align: right;\">\n",
       "      <th></th>\n",
       "      <th>Geographic Area Name</th>\n",
       "      <th>total_cases</th>\n",
       "      <th>total_fatalities</th>\n",
       "      <th>death_rate</th>\n",
       "      <th>total_tests</th>\n",
       "    </tr>\n",
       "  </thead>\n",
       "  <tbody>\n",
       "    <tr>\n",
       "      <th>0</th>\n",
       "      <td>Santa Clara County, California</td>\n",
       "      <td>23978.0</td>\n",
       "      <td>388.0</td>\n",
       "      <td>0.016181</td>\n",
       "      <td>839764</td>\n",
       "    </tr>\n",
       "    <tr>\n",
       "      <th>1</th>\n",
       "      <td>San Mateo County, California</td>\n",
       "      <td>10942.0</td>\n",
       "      <td>159.0</td>\n",
       "      <td>0.014531</td>\n",
       "      <td>285657</td>\n",
       "    </tr>\n",
       "  </tbody>\n",
       "</table>\n",
       "</div>"
      ],
      "text/plain": [
       "             Geographic Area Name  total_cases  total_fatalities  death_rate  \\\n",
       "0  Santa Clara County, California      23978.0             388.0    0.016181   \n",
       "1    San Mateo County, California      10942.0             159.0    0.014531   \n",
       "\n",
       "   total_tests  \n",
       "0       839764  \n",
       "1       285657  "
      ]
     },
     "execution_count": 3,
     "metadata": {},
     "output_type": "execute_result"
    }
   ],
   "source": [
    "# Display the first few rows of data. \n",
    "covid.head(2)"
   ]
  },
  {
   "cell_type": "code",
   "execution_count": 4,
   "metadata": {},
   "outputs": [
    {
     "data": {
      "text/html": [
       "<div>\n",
       "<style scoped>\n",
       "    .dataframe tbody tr th:only-of-type {\n",
       "        vertical-align: middle;\n",
       "    }\n",
       "\n",
       "    .dataframe tbody tr th {\n",
       "        vertical-align: top;\n",
       "    }\n",
       "\n",
       "    .dataframe thead th {\n",
       "        text-align: right;\n",
       "    }\n",
       "</style>\n",
       "<table border=\"1\" class=\"dataframe\">\n",
       "  <thead>\n",
       "    <tr style=\"text-align: right;\">\n",
       "      <th></th>\n",
       "      <th>Geographic Area Name</th>\n",
       "      <th>race_pop</th>\n",
       "      <th>race_pop_hispanic_or_latino_of_any_race</th>\n",
       "      <th>race_pop_white_alone</th>\n",
       "      <th>race_pop_black_or_african_american_alone</th>\n",
       "      <th>race_pop_american_indian_and_alaska_native_alone</th>\n",
       "      <th>race_pop_asian_alone</th>\n",
       "      <th>race_pop_native_hawaiian_and_other_pacific_islander_alone</th>\n",
       "      <th>race_pop_some_other_race_alone</th>\n",
       "      <th>race_pop_two_or_more_races</th>\n",
       "    </tr>\n",
       "  </thead>\n",
       "  <tbody>\n",
       "    <tr>\n",
       "      <th>0</th>\n",
       "      <td>Austin County, Texas</td>\n",
       "      <td>29565</td>\n",
       "      <td>7819</td>\n",
       "      <td>18525</td>\n",
       "      <td>2576</td>\n",
       "      <td>48</td>\n",
       "      <td>89</td>\n",
       "      <td>0</td>\n",
       "      <td>52</td>\n",
       "      <td>456</td>\n",
       "    </tr>\n",
       "    <tr>\n",
       "      <th>1</th>\n",
       "      <td>Kenedy County, Texas</td>\n",
       "      <td>595</td>\n",
       "      <td>522</td>\n",
       "      <td>72</td>\n",
       "      <td>0</td>\n",
       "      <td>0</td>\n",
       "      <td>1</td>\n",
       "      <td>0</td>\n",
       "      <td>0</td>\n",
       "      <td>0</td>\n",
       "    </tr>\n",
       "  </tbody>\n",
       "</table>\n",
       "</div>"
      ],
      "text/plain": [
       "   Geographic Area Name  race_pop  race_pop_hispanic_or_latino_of_any_race  \\\n",
       "0  Austin County, Texas     29565                                     7819   \n",
       "1  Kenedy County, Texas       595                                      522   \n",
       "\n",
       "   race_pop_white_alone  race_pop_black_or_african_american_alone  \\\n",
       "0                 18525                                      2576   \n",
       "1                    72                                         0   \n",
       "\n",
       "   race_pop_american_indian_and_alaska_native_alone  race_pop_asian_alone  \\\n",
       "0                                                48                    89   \n",
       "1                                                 0                     1   \n",
       "\n",
       "   race_pop_native_hawaiian_and_other_pacific_islander_alone  \\\n",
       "0                                                  0           \n",
       "1                                                  0           \n",
       "\n",
       "   race_pop_some_other_race_alone  race_pop_two_or_more_races  \n",
       "0                              52                         456  \n",
       "1                               0                           0  "
      ]
     },
     "execution_count": 4,
     "metadata": {},
     "output_type": "execute_result"
    }
   ],
   "source": [
    "# Display the first few rows of data. \n",
    "race.head(2)"
   ]
  },
  {
   "cell_type": "code",
   "execution_count": 5,
   "metadata": {},
   "outputs": [
    {
     "data": {
      "text/html": [
       "<div>\n",
       "<style scoped>\n",
       "    .dataframe tbody tr th:only-of-type {\n",
       "        vertical-align: middle;\n",
       "    }\n",
       "\n",
       "    .dataframe tbody tr th {\n",
       "        vertical-align: top;\n",
       "    }\n",
       "\n",
       "    .dataframe thead th {\n",
       "        text-align: right;\n",
       "    }\n",
       "</style>\n",
       "<table border=\"1\" class=\"dataframe\">\n",
       "  <thead>\n",
       "    <tr style=\"text-align: right;\">\n",
       "      <th></th>\n",
       "      <th>Geographic Area Name</th>\n",
       "      <th>sex_age_pop</th>\n",
       "      <th>sex_age_pop_male</th>\n",
       "      <th>sex_age_pop_female</th>\n",
       "      <th>sex_age_pop_under_5</th>\n",
       "      <th>sex_age_pop_5_to_9</th>\n",
       "      <th>sex_age_pop_10_to_14</th>\n",
       "      <th>sex_age_pop_15_to_19</th>\n",
       "      <th>sex_age_pop_20_to_24</th>\n",
       "      <th>sex_age_pop_25_to_34</th>\n",
       "      <th>sex_age_pop_35_to_44</th>\n",
       "      <th>sex_age_pop_45_to_54</th>\n",
       "      <th>sex_age_pop_55_to_59</th>\n",
       "      <th>sex_age_pop_60_to_64</th>\n",
       "      <th>sex_age_pop_65_to_74</th>\n",
       "      <th>sex_age_pop_75_to_84</th>\n",
       "      <th>sex_age_pop_85_and_over</th>\n",
       "      <th>sex_age_median_age_in_years</th>\n",
       "    </tr>\n",
       "  </thead>\n",
       "  <tbody>\n",
       "    <tr>\n",
       "      <th>0</th>\n",
       "      <td>Austin County, Texas</td>\n",
       "      <td>29565</td>\n",
       "      <td>14684</td>\n",
       "      <td>14881</td>\n",
       "      <td>1780</td>\n",
       "      <td>1960</td>\n",
       "      <td>2118</td>\n",
       "      <td>1861</td>\n",
       "      <td>1712</td>\n",
       "      <td>3339</td>\n",
       "      <td>3275</td>\n",
       "      <td>3821</td>\n",
       "      <td>2327</td>\n",
       "      <td>1978</td>\n",
       "      <td>3243</td>\n",
       "      <td>1532</td>\n",
       "      <td>619</td>\n",
       "      <td>40.7</td>\n",
       "    </tr>\n",
       "    <tr>\n",
       "      <th>1</th>\n",
       "      <td>Kenedy County, Texas</td>\n",
       "      <td>595</td>\n",
       "      <td>286</td>\n",
       "      <td>309</td>\n",
       "      <td>85</td>\n",
       "      <td>37</td>\n",
       "      <td>40</td>\n",
       "      <td>10</td>\n",
       "      <td>10</td>\n",
       "      <td>95</td>\n",
       "      <td>47</td>\n",
       "      <td>75</td>\n",
       "      <td>51</td>\n",
       "      <td>9</td>\n",
       "      <td>85</td>\n",
       "      <td>29</td>\n",
       "      <td>22</td>\n",
       "      <td>39.5</td>\n",
       "    </tr>\n",
       "  </tbody>\n",
       "</table>\n",
       "</div>"
      ],
      "text/plain": [
       "   Geographic Area Name  sex_age_pop  sex_age_pop_male  sex_age_pop_female  \\\n",
       "0  Austin County, Texas        29565             14684               14881   \n",
       "1  Kenedy County, Texas          595               286                 309   \n",
       "\n",
       "   sex_age_pop_under_5  sex_age_pop_5_to_9  sex_age_pop_10_to_14  \\\n",
       "0                 1780                1960                  2118   \n",
       "1                   85                  37                    40   \n",
       "\n",
       "   sex_age_pop_15_to_19  sex_age_pop_20_to_24  sex_age_pop_25_to_34  \\\n",
       "0                  1861                  1712                  3339   \n",
       "1                    10                    10                    95   \n",
       "\n",
       "   sex_age_pop_35_to_44  sex_age_pop_45_to_54  sex_age_pop_55_to_59  \\\n",
       "0                  3275                  3821                  2327   \n",
       "1                    47                    75                    51   \n",
       "\n",
       "   sex_age_pop_60_to_64  sex_age_pop_65_to_74  sex_age_pop_75_to_84  \\\n",
       "0                  1978                  3243                  1532   \n",
       "1                     9                    85                    29   \n",
       "\n",
       "   sex_age_pop_85_and_over  sex_age_median_age_in_years  \n",
       "0                      619                         40.7  \n",
       "1                       22                         39.5  "
      ]
     },
     "execution_count": 5,
     "metadata": {},
     "output_type": "execute_result"
    }
   ],
   "source": [
    "# Display the first few rows of data. \n",
    "sa.head(2)"
   ]
  },
  {
   "cell_type": "code",
   "execution_count": 6,
   "metadata": {},
   "outputs": [
    {
     "data": {
      "text/html": [
       "<div>\n",
       "<style scoped>\n",
       "    .dataframe tbody tr th:only-of-type {\n",
       "        vertical-align: middle;\n",
       "    }\n",
       "\n",
       "    .dataframe tbody tr th {\n",
       "        vertical-align: top;\n",
       "    }\n",
       "\n",
       "    .dataframe thead th {\n",
       "        text-align: right;\n",
       "    }\n",
       "</style>\n",
       "<table border=\"1\" class=\"dataframe\">\n",
       "  <thead>\n",
       "    <tr style=\"text-align: right;\">\n",
       "      <th></th>\n",
       "      <th>Geographic Area Name</th>\n",
       "      <th>sq_mi</th>\n",
       "    </tr>\n",
       "  </thead>\n",
       "  <tbody>\n",
       "    <tr>\n",
       "      <th>0</th>\n",
       "      <td>Anderson County, Texas</td>\n",
       "      <td>1062.630</td>\n",
       "    </tr>\n",
       "    <tr>\n",
       "      <th>1</th>\n",
       "      <td>Andrews County, Texas</td>\n",
       "      <td>1500.721</td>\n",
       "    </tr>\n",
       "  </tbody>\n",
       "</table>\n",
       "</div>"
      ],
      "text/plain": [
       "     Geographic Area Name     sq_mi\n",
       "0  Anderson County, Texas  1062.630\n",
       "1   Andrews County, Texas  1500.721"
      ]
     },
     "execution_count": 6,
     "metadata": {},
     "output_type": "execute_result"
    }
   ],
   "source": [
    "# Display the first few rows of data. \n",
    "land.head(2)"
   ]
  },
  {
   "cell_type": "code",
   "execution_count": 7,
   "metadata": {},
   "outputs": [
    {
     "data": {
      "text/html": [
       "<div>\n",
       "<style scoped>\n",
       "    .dataframe tbody tr th:only-of-type {\n",
       "        vertical-align: middle;\n",
       "    }\n",
       "\n",
       "    .dataframe tbody tr th {\n",
       "        vertical-align: top;\n",
       "    }\n",
       "\n",
       "    .dataframe thead th {\n",
       "        text-align: right;\n",
       "    }\n",
       "</style>\n",
       "<table border=\"1\" class=\"dataframe\">\n",
       "  <thead>\n",
       "    <tr style=\"text-align: right;\">\n",
       "      <th></th>\n",
       "      <th>Geographic Area Name</th>\n",
       "      <th>health_ins_noninst_pop</th>\n",
       "      <th>health_ins_noninst_pop_cov_yes</th>\n",
       "      <th>health_ins_noninst_pop_cov_no</th>\n",
       "    </tr>\n",
       "  </thead>\n",
       "  <tbody>\n",
       "    <tr>\n",
       "      <th>0</th>\n",
       "      <td>Austin County, Texas</td>\n",
       "      <td>29298</td>\n",
       "      <td>25749</td>\n",
       "      <td>3549</td>\n",
       "    </tr>\n",
       "    <tr>\n",
       "      <th>1</th>\n",
       "      <td>Kenedy County, Texas</td>\n",
       "      <td>595</td>\n",
       "      <td>467</td>\n",
       "      <td>128</td>\n",
       "    </tr>\n",
       "  </tbody>\n",
       "</table>\n",
       "</div>"
      ],
      "text/plain": [
       "   Geographic Area Name  health_ins_noninst_pop  \\\n",
       "0  Austin County, Texas                   29298   \n",
       "1  Kenedy County, Texas                     595   \n",
       "\n",
       "   health_ins_noninst_pop_cov_yes  health_ins_noninst_pop_cov_no  \n",
       "0                           25749                           3549  \n",
       "1                             467                            128  "
      ]
     },
     "execution_count": 7,
     "metadata": {},
     "output_type": "execute_result"
    }
   ],
   "source": [
    "# Display the first few rows of data. \n",
    "ins.head(2)"
   ]
  },
  {
   "cell_type": "code",
   "execution_count": 8,
   "metadata": {},
   "outputs": [
    {
     "data": {
      "text/html": [
       "<div>\n",
       "<style scoped>\n",
       "    .dataframe tbody tr th:only-of-type {\n",
       "        vertical-align: middle;\n",
       "    }\n",
       "\n",
       "    .dataframe tbody tr th {\n",
       "        vertical-align: top;\n",
       "    }\n",
       "\n",
       "    .dataframe thead th {\n",
       "        text-align: right;\n",
       "    }\n",
       "</style>\n",
       "<table border=\"1\" class=\"dataframe\">\n",
       "  <thead>\n",
       "    <tr style=\"text-align: right;\">\n",
       "      <th></th>\n",
       "      <th>Geographic Area Name</th>\n",
       "      <th>inc_hhlds</th>\n",
       "      <th>inc_hhlds_less_than_10_000</th>\n",
       "      <th>inc_hhlds_10_000_to_14_999</th>\n",
       "      <th>inc_hhlds_15_000_to_24_999</th>\n",
       "      <th>inc_hhlds_25_000_to_34_999</th>\n",
       "      <th>inc_hhlds_35_000_to_49_999</th>\n",
       "      <th>inc_hhlds_50_000_to_74_999</th>\n",
       "      <th>inc_hhlds_75_000_to_99_999</th>\n",
       "      <th>inc_hhlds_100_000_to_149_999</th>\n",
       "      <th>inc_hhlds_150_000_to_199_999</th>\n",
       "      <th>inc_hhlds_200_000_or_more</th>\n",
       "      <th>inc_med_hhld_inc_dol</th>\n",
       "      <th>inc_mean_hhld_inc_dol</th>\n",
       "      <th>inc_per_capita_inc_dol</th>\n",
       "      <th>inc_med_earn_male_full_yr_workers_dol</th>\n",
       "      <th>inc_med_earn_female_full_yr_workers_dol</th>\n",
       "    </tr>\n",
       "  </thead>\n",
       "  <tbody>\n",
       "    <tr>\n",
       "      <th>0</th>\n",
       "      <td>Austin County, Texas</td>\n",
       "      <td>11041</td>\n",
       "      <td>482</td>\n",
       "      <td>459</td>\n",
       "      <td>1255</td>\n",
       "      <td>927</td>\n",
       "      <td>1186</td>\n",
       "      <td>1851</td>\n",
       "      <td>1651</td>\n",
       "      <td>2150</td>\n",
       "      <td>551</td>\n",
       "      <td>529</td>\n",
       "      <td>65365</td>\n",
       "      <td>80769</td>\n",
       "      <td>30858</td>\n",
       "      <td>55417</td>\n",
       "      <td>38603</td>\n",
       "    </tr>\n",
       "    <tr>\n",
       "      <th>1</th>\n",
       "      <td>Kenedy County, Texas</td>\n",
       "      <td>209</td>\n",
       "      <td>25</td>\n",
       "      <td>4</td>\n",
       "      <td>49</td>\n",
       "      <td>13</td>\n",
       "      <td>71</td>\n",
       "      <td>16</td>\n",
       "      <td>23</td>\n",
       "      <td>8</td>\n",
       "      <td>0</td>\n",
       "      <td>0</td>\n",
       "      <td>36125</td>\n",
       "      <td>40908</td>\n",
       "      <td>15820</td>\n",
       "      <td>40848</td>\n",
       "      <td>23295</td>\n",
       "    </tr>\n",
       "  </tbody>\n",
       "</table>\n",
       "</div>"
      ],
      "text/plain": [
       "   Geographic Area Name  inc_hhlds  inc_hhlds_less_than_10_000  \\\n",
       "0  Austin County, Texas      11041                         482   \n",
       "1  Kenedy County, Texas        209                          25   \n",
       "\n",
       "   inc_hhlds_10_000_to_14_999  inc_hhlds_15_000_to_24_999  \\\n",
       "0                         459                        1255   \n",
       "1                           4                          49   \n",
       "\n",
       "   inc_hhlds_25_000_to_34_999  inc_hhlds_35_000_to_49_999  \\\n",
       "0                         927                        1186   \n",
       "1                          13                          71   \n",
       "\n",
       "   inc_hhlds_50_000_to_74_999  inc_hhlds_75_000_to_99_999  \\\n",
       "0                        1851                        1651   \n",
       "1                          16                          23   \n",
       "\n",
       "   inc_hhlds_100_000_to_149_999  inc_hhlds_150_000_to_199_999  \\\n",
       "0                          2150                           551   \n",
       "1                             8                             0   \n",
       "\n",
       "   inc_hhlds_200_000_or_more  inc_med_hhld_inc_dol  inc_mean_hhld_inc_dol  \\\n",
       "0                        529                 65365                  80769   \n",
       "1                          0                 36125                  40908   \n",
       "\n",
       "   inc_per_capita_inc_dol  inc_med_earn_male_full_yr_workers_dol  \\\n",
       "0                   30858                                  55417   \n",
       "1                   15820                                  40848   \n",
       "\n",
       "   inc_med_earn_female_full_yr_workers_dol  \n",
       "0                                    38603  \n",
       "1                                    23295  "
      ]
     },
     "execution_count": 8,
     "metadata": {},
     "output_type": "execute_result"
    }
   ],
   "source": [
    "# Display the first few rows of data. \n",
    "inc.head(2)"
   ]
  },
  {
   "cell_type": "code",
   "execution_count": 9,
   "metadata": {},
   "outputs": [
    {
     "data": {
      "text/html": [
       "<div>\n",
       "<style scoped>\n",
       "    .dataframe tbody tr th:only-of-type {\n",
       "        vertical-align: middle;\n",
       "    }\n",
       "\n",
       "    .dataframe tbody tr th {\n",
       "        vertical-align: top;\n",
       "    }\n",
       "\n",
       "    .dataframe thead th {\n",
       "        text-align: right;\n",
       "    }\n",
       "</style>\n",
       "<table border=\"1\" class=\"dataframe\">\n",
       "  <thead>\n",
       "    <tr style=\"text-align: right;\">\n",
       "      <th></th>\n",
       "      <th>Geographic Area Name</th>\n",
       "      <th>obes_percent</th>\n",
       "    </tr>\n",
       "  </thead>\n",
       "  <tbody>\n",
       "    <tr>\n",
       "      <th>0</th>\n",
       "      <td>Anderson County, Texas</td>\n",
       "      <td>0.373</td>\n",
       "    </tr>\n",
       "    <tr>\n",
       "      <th>1</th>\n",
       "      <td>Andrews County, Texas</td>\n",
       "      <td>0.313</td>\n",
       "    </tr>\n",
       "  </tbody>\n",
       "</table>\n",
       "</div>"
      ],
      "text/plain": [
       "     Geographic Area Name  obes_percent\n",
       "0  Anderson County, Texas         0.373\n",
       "1   Andrews County, Texas         0.313"
      ]
     },
     "execution_count": 9,
     "metadata": {},
     "output_type": "execute_result"
    }
   ],
   "source": [
    "# Display the first few rows of data. \n",
    "obes.head(2)"
   ]
  },
  {
   "cell_type": "markdown",
   "metadata": {},
   "source": [
    "# Combining COVID and Census Data"
   ]
  },
  {
   "cell_type": "code",
   "execution_count": 10,
   "metadata": {},
   "outputs": [],
   "source": [
    "# Merge the dataframes on Geographic Area Name.\n",
    "df = covid.merge(land,on='Geographic Area Name').merge(obes,on='Geographic Area Name').merge(ins,on='Geographic Area Name')"
   ]
  },
  {
   "cell_type": "code",
   "execution_count": 11,
   "metadata": {},
   "outputs": [],
   "source": [
    "# Merge the dataframes on Geographic Area Name.\n",
    "df = df.merge(inc,on='Geographic Area Name').merge(race,on='Geographic Area Name').merge(sa,on='Geographic Area Name')"
   ]
  },
  {
   "cell_type": "markdown",
   "metadata": {},
   "source": [
    "# Feature Engineering"
   ]
  },
  {
   "cell_type": "code",
   "execution_count": 12,
   "metadata": {},
   "outputs": [],
   "source": [
    "# Rename the geo column.\n",
    "df = df.rename(columns={'Geographic Area Name': 'county_state'})"
   ]
  },
  {
   "cell_type": "markdown",
   "metadata": {},
   "source": [
    "### COVID Metrics"
   ]
  },
  {
   "cell_type": "code",
   "execution_count": 13,
   "metadata": {},
   "outputs": [],
   "source": [
    "# Create a new column for deaths per 100 cases.\n",
    "df['deaths_per_100_cases'] = df['death_rate'] * 100"
   ]
  },
  {
   "cell_type": "code",
   "execution_count": 14,
   "metadata": {},
   "outputs": [],
   "source": [
    "# Create a new column for cases per 100 people.\n",
    "df['cases_per_100_people'] =  (df['total_cases']/df['race_pop']) * 100"
   ]
  },
  {
   "cell_type": "code",
   "execution_count": 15,
   "metadata": {},
   "outputs": [],
   "source": [
    "# Create a new column for tests per 100 people.\n",
    "df['tests_per_100_people'] = (df['total_tests']/df['race_pop']) * 100"
   ]
  },
  {
   "cell_type": "markdown",
   "metadata": {},
   "source": [
    "### Population Density"
   ]
  },
  {
   "cell_type": "code",
   "execution_count": 16,
   "metadata": {},
   "outputs": [],
   "source": [
    "# Create a new column for county population density which is the result of\n",
    "# dividing population by square miles\n",
    "df['pop_density'] = df['race_pop'] / df['sq_mi']"
   ]
  },
  {
   "cell_type": "markdown",
   "metadata": {},
   "source": [
    "### Create a State Column"
   ]
  },
  {
   "cell_type": "code",
   "execution_count": 17,
   "metadata": {},
   "outputs": [],
   "source": [
    "# Create a state column based on county_state.\n",
    "df['state'] = np.where(df['county_state'].str.contains('California'), 'California',\n",
    "              np.where(df['county_state'].str.contains('Florida'), 'Florida',\n",
    "              np.where(df['county_state'].str.contains('Illinois'), 'Illinois',\n",
    "              np.where(df['county_state'].str.contains('New York'), 'New York', 'Texas'))))"
   ]
  },
  {
   "cell_type": "markdown",
   "metadata": {},
   "source": [
    "### Create a County Column"
   ]
  },
  {
   "cell_type": "code",
   "execution_count": 18,
   "metadata": {},
   "outputs": [],
   "source": [
    "# Create a county column based on county_state.\n",
    "df['county'] = df['county_state']"
   ]
  },
  {
   "cell_type": "code",
   "execution_count": 19,
   "metadata": {},
   "outputs": [],
   "source": [
    "# Drop extraneous county words for graphing.\n",
    "df['county'] = df['county'].str.replace(' County, California', '')"
   ]
  },
  {
   "cell_type": "code",
   "execution_count": 20,
   "metadata": {},
   "outputs": [],
   "source": [
    "# Drop extraneous county words for graphing.\n",
    "df['county'] = df['county'].str.replace(' County, Florida', '')"
   ]
  },
  {
   "cell_type": "code",
   "execution_count": 21,
   "metadata": {},
   "outputs": [],
   "source": [
    "# Drop extraneous county words for graphing.\n",
    "df['county'] = df['county'].str.replace(' County, Illinois', '')"
   ]
  },
  {
   "cell_type": "code",
   "execution_count": 22,
   "metadata": {},
   "outputs": [],
   "source": [
    "# Drop extraneous county words for graphing.\n",
    "df['county'] = df['county'].str.replace(' County, New York', '')"
   ]
  },
  {
   "cell_type": "code",
   "execution_count": 23,
   "metadata": {},
   "outputs": [],
   "source": [
    "# Drop extraneous county words for graphing.\n",
    "df['county'] = df['county'].str.replace(' County, Texas', '')"
   ]
  },
  {
   "cell_type": "markdown",
   "metadata": {},
   "source": [
    "### Ordinal COVID Severity"
   ]
  },
  {
   "cell_type": "markdown",
   "metadata": {},
   "source": [
    "##### Create an ordinal COVID severity column for classification modeling."
   ]
  },
  {
   "cell_type": "code",
   "execution_count": 24,
   "metadata": {},
   "outputs": [],
   "source": [
    "# Create a covid_severity column.\n",
    "df['covid_severity'] = 0"
   ]
  },
  {
   "cell_type": "code",
   "execution_count": 25,
   "metadata": {},
   "outputs": [],
   "source": [
    "# Create masks to assign covid_severity to one of three classes based on\n",
    "# numer of cases per 100 people in the county.\n",
    "mask1 = df['cases_per_100_people'] < 2\n",
    "mask2 = (df['cases_per_100_people'] >= 2) & (df['cases_per_100_people'] < 3)\n",
    "mask3 = df['cases_per_100_people'] >= 3"
   ]
  },
  {
   "cell_type": "code",
   "execution_count": 26,
   "metadata": {},
   "outputs": [],
   "source": [
    "# Apply the mask for level 1 (low).\n",
    "df['covid_severity'][mask1] = 1"
   ]
  },
  {
   "cell_type": "code",
   "execution_count": 27,
   "metadata": {},
   "outputs": [],
   "source": [
    "# Apply the mask for level 2 (medium).\n",
    "df['covid_severity'][mask2] = 2"
   ]
  },
  {
   "cell_type": "code",
   "execution_count": 28,
   "metadata": {},
   "outputs": [],
   "source": [
    "# Apply the mask for level 3 (high).\n",
    "df['covid_severity'][mask3] = 3"
   ]
  },
  {
   "cell_type": "code",
   "execution_count": 29,
   "metadata": {},
   "outputs": [
    {
     "data": {
      "text/plain": [
       "1    228\n",
       "3    158\n",
       "2    157\n",
       "Name: covid_severity, dtype: int64"
      ]
     },
     "execution_count": 29,
     "metadata": {},
     "output_type": "execute_result"
    }
   ],
   "source": [
    "# Display the count of counties in each severity category.\n",
    "df['covid_severity'].value_counts()"
   ]
  },
  {
   "cell_type": "markdown",
   "metadata": {},
   "source": [
    "### Demographic Recombinations"
   ]
  },
  {
   "cell_type": "code",
   "execution_count": 30,
   "metadata": {},
   "outputs": [],
   "source": [
    "# Create different income demographic features for testing.\n",
    "df['inc_hhlds_less_than_25_000'] = df['inc_hhlds_less_than_10_000']\\\n",
    "                    + df['inc_hhlds_10_000_to_14_999'] + df['inc_hhlds_15_000_to_24_999']\n",
    "\n",
    "df['inc_hhlds_25_000_to_49_999'] = df['inc_hhlds_25_000_to_34_999']\\\n",
    "                    + df['inc_hhlds_35_000_to_49_999']\n",
    "\n",
    "df['inc_hhlds_less_than_99_999'] = df['inc_hhlds_less_than_10_000']\\\n",
    "                    + df['inc_hhlds_10_000_to_14_999'] + df['inc_hhlds_15_000_to_24_999']\\\n",
    "                    + df['inc_hhlds_25_000_to_34_999'] + df['inc_hhlds_35_000_to_49_999']\\\n",
    "                    + df['inc_hhlds_50_000_to_74_999'] + df['inc_hhlds_75_000_to_99_999']\\\n",
    "\n",
    "df['inc_hhlds_100_000_or_more'] = df['inc_hhlds_100_000_to_149_999']\\\n",
    "                    + df['inc_hhlds_150_000_to_199_999']\n",
    "\n",
    "df['inc_hhlds_less_than_49_999'] = df['inc_hhlds_less_than_10_000']\\\n",
    "                    + df['inc_hhlds_10_000_to_14_999'] + df['inc_hhlds_15_000_to_24_999']\\\n",
    "                    + df['inc_hhlds_25_000_to_34_999'] + df['inc_hhlds_35_000_to_49_999']\\\n",
    "\n",
    "df['inc_hhlds_50_000_to_99_999'] = df['inc_hhlds_50_000_to_74_999'] + df['inc_hhlds_75_000_to_99_999']\n",
    "\n",
    "df['inc_hhlds_100_000_or_more'] = df['inc_hhlds_100_000_to_149_999']\\\n",
    "                    + df['inc_hhlds_150_000_to_199_999']"
   ]
  },
  {
   "cell_type": "code",
   "execution_count": 31,
   "metadata": {},
   "outputs": [],
   "source": [
    "# Create different race demographic features for testing.\n",
    "df['race_pop_other'] = df['race_pop_american_indian_and_alaska_native_alone']\\\n",
    "                    + df['race_pop_native_hawaiian_and_other_pacific_islander_alone']\\\n",
    "                    + df['race_pop_some_other_race_alone'] + df['race_pop_two_or_more_races']"
   ]
  },
  {
   "cell_type": "code",
   "execution_count": 32,
   "metadata": {},
   "outputs": [],
   "source": [
    "# Create different age demographic features for testing.\n",
    "df['sex_age_pop_0_to_44'] = df['sex_age_pop_under_5'] + df['sex_age_pop_5_to_9']\\\n",
    "                    + df['sex_age_pop_10_to_14'] + df['sex_age_pop_15_to_19']\\\n",
    "                    + df['sex_age_pop_20_to_24'] + df['sex_age_pop_25_to_34']\\\n",
    "                    + df['sex_age_pop_35_to_44']\n",
    "\n",
    "df['sex_age_pop_45_to_74'] = df['sex_age_pop_45_to_54'] + df['sex_age_pop_55_to_59']\\\n",
    "                    + df['sex_age_pop_60_to_64'] + df['sex_age_pop_65_to_74']\n",
    "\n",
    "df['sex_age_pop_75_and_over'] = df['sex_age_pop_75_to_84'] + df['sex_age_pop_85_and_over']\n",
    "\n",
    "df['sex_age_pop_0_to_64'] = df['sex_age_pop_under_5'] + df['sex_age_pop_5_to_9']\\\n",
    "                    + df['sex_age_pop_10_to_14'] + df['sex_age_pop_15_to_19']\\\n",
    "                    + df['sex_age_pop_20_to_24'] + df['sex_age_pop_25_to_34']\\\n",
    "                    + df['sex_age_pop_35_to_44'] + df['sex_age_pop_45_to_54']\\\n",
    "                    + df['sex_age_pop_55_to_59'] + df['sex_age_pop_60_to_64']\n",
    "\n",
    "df['sex_age_pop_65_and_over'] = df['sex_age_pop_65_to_74'] + df['sex_age_pop_75_to_84']\\\n",
    "                    + df['sex_age_pop_85_and_over']\n",
    "\n",
    "df['sex_age_pop_0_to_35'] = df['sex_age_pop_under_5'] + df['sex_age_pop_5_to_9']\\\n",
    "                    + df['sex_age_pop_10_to_14'] + df['sex_age_pop_15_to_19']\\\n",
    "                    + df['sex_age_pop_20_to_24'] + df['sex_age_pop_25_to_34']\n",
    "\n",
    "df['sex_age_pop_35_to_59'] = df['sex_age_pop_35_to_44'] + df['sex_age_pop_45_to_54']\\\n",
    "                    + df['sex_age_pop_55_to_59']\n",
    "\n",
    "df['sex_age_pop_60_to_84'] = df['sex_age_pop_60_to_64'] + df['sex_age_pop_65_to_74']\\\n",
    "                    + df['sex_age_pop_75_to_84']"
   ]
  },
  {
   "cell_type": "code",
   "execution_count": 33,
   "metadata": {},
   "outputs": [],
   "source": [
    "# Define a function to create new columns with percentages.\n",
    "def to_percentage(df):\n",
    "    for column in df.columns:\n",
    "        if column.startswith('race_pop_'):\n",
    "            df['percent_' + column] = df[column] / df['race_pop']\n",
    "        elif column.startswith('sex_age_pop_'):\n",
    "            df['percent_' + column] = df[column] / df['sex_age_pop']            \n",
    "        elif column.startswith('health_ins_noninst_pop_cov'):\n",
    "            df['percent_' + column] = df[column] / df['health_ins_noninst_pop']\n",
    "        elif column.startswith('inc_hhlds_'):\n",
    "            df['percent_' + column] = df[column] / df['inc_hhlds']\n",
    "    return"
   ]
  },
  {
   "cell_type": "code",
   "execution_count": 34,
   "metadata": {},
   "outputs": [],
   "source": [
    "# Apply the function to the dataframe.\n",
    "to_percentage(df)"
   ]
  },
  {
   "cell_type": "markdown",
   "metadata": {},
   "source": [
    "# Break Out the States"
   ]
  },
  {
   "cell_type": "code",
   "execution_count": 35,
   "metadata": {},
   "outputs": [],
   "source": [
    "# Create a state-specific dataframe.\n",
    "df_ca = df[df['county_state'].str.contains('California')]"
   ]
  },
  {
   "cell_type": "code",
   "execution_count": 36,
   "metadata": {},
   "outputs": [],
   "source": [
    "# Create a state-specific dataframe.\n",
    "df_fl = df[df['county_state'].str.contains('Florida')]"
   ]
  },
  {
   "cell_type": "code",
   "execution_count": 37,
   "metadata": {},
   "outputs": [],
   "source": [
    "# Create a state-specific dataframe.\n",
    "df_il = df[df['county_state'].str.contains('Illinois')]"
   ]
  },
  {
   "cell_type": "code",
   "execution_count": 38,
   "metadata": {},
   "outputs": [],
   "source": [
    "# Create a state-specific dataframe.\n",
    "df_ny = df[df['county_state'].str.contains('New York')]"
   ]
  },
  {
   "cell_type": "code",
   "execution_count": 39,
   "metadata": {},
   "outputs": [],
   "source": [
    "# Create a state-specific dataframe.\n",
    "df_tx = df[df['county_state'].str.contains('Texas')]"
   ]
  },
  {
   "cell_type": "markdown",
   "metadata": {},
   "source": [
    "# Export Data for Modeling"
   ]
  },
  {
   "cell_type": "code",
   "execution_count": 40,
   "metadata": {},
   "outputs": [],
   "source": [
    "# Export the dataframe to a csv.\n",
    "df.to_csv('../data/cleaned_engineered_five_states.csv', index=False)"
   ]
  },
  {
   "cell_type": "code",
   "execution_count": 41,
   "metadata": {},
   "outputs": [],
   "source": [
    "# Export the dataframe to a csv.\n",
    "df_ca.to_csv('../data/cleaned_engineered_ca.csv', index=False)"
   ]
  },
  {
   "cell_type": "code",
   "execution_count": 42,
   "metadata": {},
   "outputs": [],
   "source": [
    "# Export the dataframe to a csv.\n",
    "df_fl.to_csv('../data/cleaned_engineered_fl.csv', index=False)"
   ]
  },
  {
   "cell_type": "code",
   "execution_count": 43,
   "metadata": {},
   "outputs": [],
   "source": [
    "# Export the dataframe to a csv.\n",
    "df_il.to_csv('../data/cleaned_engineered_il.csv', index=False)"
   ]
  },
  {
   "cell_type": "code",
   "execution_count": 44,
   "metadata": {},
   "outputs": [],
   "source": [
    "# Export the dataframe to a csv.\n",
    "df_ny.to_csv('../data/cleaned_engineered_ny.csv', index=False)"
   ]
  },
  {
   "cell_type": "code",
   "execution_count": 45,
   "metadata": {},
   "outputs": [],
   "source": [
    "# Export the dataframe to a csv.\n",
    "df_tx.to_csv('../data/cleaned_engineered_tx.csv', index=False)"
   ]
  }
 ],
 "metadata": {
  "kernelspec": {
   "display_name": "Python 3",
   "language": "python",
   "name": "python3"
  },
  "language_info": {
   "codemirror_mode": {
    "name": "ipython",
    "version": 3
   },
   "file_extension": ".py",
   "mimetype": "text/x-python",
   "name": "python",
   "nbconvert_exporter": "python",
   "pygments_lexer": "ipython3",
   "version": "3.7.9"
  }
 },
 "nbformat": 4,
 "nbformat_minor": 4
}
