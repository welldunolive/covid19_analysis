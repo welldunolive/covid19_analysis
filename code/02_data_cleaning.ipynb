{
 "cells": [
  {
   "cell_type": "markdown",
   "metadata": {},
   "source": [
    "#### Notebooks  \n",
    "- [Data Collection](./01_data_collection.ipynb)\n",
    "- [Data Cleaning](./02_data_cleaning.ipynb)\n",
    "- [Data Preprocessing](./03_data_preprocessing.ipynb)\n",
    "- [EDA Five States](./04_eda_five_states.ipynb)\n",
    "- [EDA California](./05_eda_ca.ipynb)\n",
    "- [EDA Florida](./05_eda_fl.ipynb)\n",
    "- [EDA Illinois](./05_eda_il.ipynb)\n",
    "- [EDA New York](./05_eda_ny.ipynb)\n",
    "- [EDA Texas](./05_eda_tx.ipynb)\n",
    "- [Modeling Five States](./06_modeling_five_states.ipynb)\n",
    "- [Modeling California](./07_modeling_ca.ipynb)\n",
    "- [Modeling Florida](./07_modeling_fl.ipynb)\n",
    "- [Modeling Illinois](./07_modeling_il.ipynb)\n",
    "- [Modeling New York](./07_modeling_ny.ipynb)\n",
    "- [Modeling Texas](./07_modeling_tx.ipynb)\n",
    "- [Conclusions](./08_conclusions.ipynb)\n",
    "\n",
    "#### This Notebook's Contents  \n",
    "- [Importing and Cleaning Land Area](#Importing-and-Cleaning-Land-Area)  \n",
    "- [Importing and Cleaning DP05 Data](#Importing-and-Cleaning-DP05-Data)  \n",
    "- [Create 'SEX AND AGE' Dataframe](#Create-'SEX-AND-AGE'-Dataframe)\n",
    "- [Create 'RACE' Dataframe](#Create-'RACE'-Dataframe)\n",
    "- [Importing and Cleaning DP03 Data](#Importing-and-Cleaning-DP03-Data) \n",
    "- [Create 'INCOME' Dataframe](#Create-'INCOME'-Dataframe)\n",
    "- [Create 'HEALTH INSURANCE' Dataframe](#Create-'HEALTH-INSURANCE'-Dataframe)\n",
    "- [Importing and Cleaning Obesity Data](#Importing-and-Cleaning-Obesity-Data)\n",
    "- [Importing and Cleaning CA COVID Data](#Importing-and-Cleaning-CA-COVID-Data)\n",
    "- [Importing and Cleaning FL COVID Data](#Importing-and-Cleaning-FL-COVID-Data)\n",
    "- [Importing and Cleaning IL COVID Data](#Importing-and-Cleaning-IL-COVID-Data)\n",
    "- [Importing and Cleaning NY COVID Data](#Importing-and-Cleaning-NY-COVID-Data)\n",
    "- [Importing and Cleaning TX COVID Data](#Importing-and-Cleaning-TX-COVID-Data)\n",
    "- [Combining COVID Data](#Combining-COVID-Data)"
   ]
  },
  {
   "cell_type": "code",
   "execution_count": 1,
   "metadata": {},
   "outputs": [],
   "source": [
    "# Import the required libraries.\n",
    "import pandas as pd\n",
    "import numpy as np"
   ]
  },
  {
   "cell_type": "markdown",
   "metadata": {},
   "source": [
    "# Importing and Cleaning Land Area"
   ]
  },
  {
   "cell_type": "code",
   "execution_count": 2,
   "metadata": {},
   "outputs": [
    {
     "data": {
      "text/html": [
       "<div>\n",
       "<style scoped>\n",
       "    .dataframe tbody tr th:only-of-type {\n",
       "        vertical-align: middle;\n",
       "    }\n",
       "\n",
       "    .dataframe tbody tr th {\n",
       "        vertical-align: top;\n",
       "    }\n",
       "\n",
       "    .dataframe thead th {\n",
       "        text-align: right;\n",
       "    }\n",
       "</style>\n",
       "<table border=\"1\" class=\"dataframe\">\n",
       "  <thead>\n",
       "    <tr style=\"text-align: right;\">\n",
       "      <th></th>\n",
       "      <th>USPS</th>\n",
       "      <th>GEOID</th>\n",
       "      <th>ANSICODE</th>\n",
       "      <th>NAME</th>\n",
       "      <th>ALAND</th>\n",
       "      <th>AWATER</th>\n",
       "      <th>ALAND_SQMI</th>\n",
       "      <th>AWATER_SQMI</th>\n",
       "    </tr>\n",
       "  </thead>\n",
       "  <tbody>\n",
       "    <tr>\n",
       "      <th>0</th>\n",
       "      <td>TX</td>\n",
       "      <td>48001</td>\n",
       "      <td>1383786</td>\n",
       "      <td>Anderson County</td>\n",
       "      <td>2752198848</td>\n",
       "      <td>39810264</td>\n",
       "      <td>1062.630</td>\n",
       "      <td>15.371</td>\n",
       "    </tr>\n",
       "    <tr>\n",
       "      <th>1</th>\n",
       "      <td>TX</td>\n",
       "      <td>48003</td>\n",
       "      <td>1383787</td>\n",
       "      <td>Andrews County</td>\n",
       "      <td>3886850264</td>\n",
       "      <td>957039</td>\n",
       "      <td>1500.721</td>\n",
       "      <td>0.370</td>\n",
       "    </tr>\n",
       "  </tbody>\n",
       "</table>\n",
       "</div>"
      ],
      "text/plain": [
       "  USPS  GEOID  ANSICODE             NAME       ALAND    AWATER  ALAND_SQMI  \\\n",
       "0   TX  48001   1383786  Anderson County  2752198848  39810264    1062.630   \n",
       "1   TX  48003   1383787   Andrews County  3886850264    957039    1500.721   \n",
       "\n",
       "   AWATER_SQMI  \n",
       "0       15.371  \n",
       "1        0.370  "
      ]
     },
     "execution_count": 2,
     "metadata": {},
     "output_type": "execute_result"
    }
   ],
   "source": [
    "# Read in land data as dataframes.\n",
    "tx_land = pd.read_csv('../data/preprocessing/raw_area_tx.csv')\n",
    "ca_land = pd.read_csv('../data/preprocessing/raw_area_ca.csv')\n",
    "fl_land = pd.read_csv('../data/preprocessing/raw_area_fl.csv')\n",
    "il_land = pd.read_csv('../data/preprocessing/raw_area_il.csv')\n",
    "ny_land = pd.read_csv('../data/preprocessing/raw_area_ny.csv')\n",
    "\n",
    "# Display the first few rows of the dataframe.\n",
    "tx_land.head(2)"
   ]
  },
  {
   "cell_type": "code",
   "execution_count": 3,
   "metadata": {},
   "outputs": [
    {
     "data": {
      "text/html": [
       "<div>\n",
       "<style scoped>\n",
       "    .dataframe tbody tr th:only-of-type {\n",
       "        vertical-align: middle;\n",
       "    }\n",
       "\n",
       "    .dataframe tbody tr th {\n",
       "        vertical-align: top;\n",
       "    }\n",
       "\n",
       "    .dataframe thead th {\n",
       "        text-align: right;\n",
       "    }\n",
       "</style>\n",
       "<table border=\"1\" class=\"dataframe\">\n",
       "  <thead>\n",
       "    <tr style=\"text-align: right;\">\n",
       "      <th></th>\n",
       "      <th>USPS</th>\n",
       "      <th>GEOID</th>\n",
       "      <th>ANSICODE</th>\n",
       "      <th>NAME</th>\n",
       "      <th>ALAND</th>\n",
       "      <th>AWATER</th>\n",
       "      <th>ALAND_SQMI</th>\n",
       "      <th>AWATER_SQMI</th>\n",
       "    </tr>\n",
       "  </thead>\n",
       "  <tbody>\n",
       "    <tr>\n",
       "      <th>0</th>\n",
       "      <td>CA</td>\n",
       "      <td>6001</td>\n",
       "      <td>1675839</td>\n",
       "      <td>Alameda County</td>\n",
       "      <td>1909598013</td>\n",
       "      <td>216923745</td>\n",
       "      <td>737.30</td>\n",
       "      <td>83.755</td>\n",
       "    </tr>\n",
       "    <tr>\n",
       "      <th>1</th>\n",
       "      <td>CA</td>\n",
       "      <td>6003</td>\n",
       "      <td>1675840</td>\n",
       "      <td>Alpine County</td>\n",
       "      <td>1912292630</td>\n",
       "      <td>12557304</td>\n",
       "      <td>738.34</td>\n",
       "      <td>4.848</td>\n",
       "    </tr>\n",
       "  </tbody>\n",
       "</table>\n",
       "</div>"
      ],
      "text/plain": [
       "  USPS  GEOID  ANSICODE            NAME       ALAND     AWATER  ALAND_SQMI  \\\n",
       "0   CA   6001   1675839  Alameda County  1909598013  216923745      737.30   \n",
       "1   CA   6003   1675840   Alpine County  1912292630   12557304      738.34   \n",
       "\n",
       "   AWATER_SQMI  \n",
       "0       83.755  \n",
       "1        4.848  "
      ]
     },
     "execution_count": 3,
     "metadata": {},
     "output_type": "execute_result"
    }
   ],
   "source": [
    "# Display the first few rows of the dataframe.\n",
    "ca_land.head(2)"
   ]
  },
  {
   "cell_type": "code",
   "execution_count": 4,
   "metadata": {},
   "outputs": [
    {
     "data": {
      "text/html": [
       "<div>\n",
       "<style scoped>\n",
       "    .dataframe tbody tr th:only-of-type {\n",
       "        vertical-align: middle;\n",
       "    }\n",
       "\n",
       "    .dataframe tbody tr th {\n",
       "        vertical-align: top;\n",
       "    }\n",
       "\n",
       "    .dataframe thead th {\n",
       "        text-align: right;\n",
       "    }\n",
       "</style>\n",
       "<table border=\"1\" class=\"dataframe\">\n",
       "  <thead>\n",
       "    <tr style=\"text-align: right;\">\n",
       "      <th></th>\n",
       "      <th>USPS</th>\n",
       "      <th>GEOID</th>\n",
       "      <th>ANSICODE</th>\n",
       "      <th>NAME</th>\n",
       "      <th>ALAND</th>\n",
       "      <th>AWATER</th>\n",
       "      <th>ALAND_SQMI</th>\n",
       "      <th>AWATER_SQMI</th>\n",
       "    </tr>\n",
       "  </thead>\n",
       "  <tbody>\n",
       "    <tr>\n",
       "      <th>0</th>\n",
       "      <td>FL</td>\n",
       "      <td>12001</td>\n",
       "      <td>308548</td>\n",
       "      <td>Alachua County</td>\n",
       "      <td>2266324954</td>\n",
       "      <td>242877007</td>\n",
       "      <td>875.033</td>\n",
       "      <td>93.775</td>\n",
       "    </tr>\n",
       "    <tr>\n",
       "      <th>1</th>\n",
       "      <td>FL</td>\n",
       "      <td>12003</td>\n",
       "      <td>306920</td>\n",
       "      <td>Baker County</td>\n",
       "      <td>1515738968</td>\n",
       "      <td>9686120</td>\n",
       "      <td>585.230</td>\n",
       "      <td>3.740</td>\n",
       "    </tr>\n",
       "  </tbody>\n",
       "</table>\n",
       "</div>"
      ],
      "text/plain": [
       "  USPS  GEOID  ANSICODE            NAME       ALAND     AWATER  ALAND_SQMI  \\\n",
       "0   FL  12001    308548  Alachua County  2266324954  242877007     875.033   \n",
       "1   FL  12003    306920    Baker County  1515738968    9686120     585.230   \n",
       "\n",
       "   AWATER_SQMI  \n",
       "0       93.775  \n",
       "1        3.740  "
      ]
     },
     "execution_count": 4,
     "metadata": {},
     "output_type": "execute_result"
    }
   ],
   "source": [
    "# Display the first few rows of the dataframe.\n",
    "fl_land.head(2)"
   ]
  },
  {
   "cell_type": "code",
   "execution_count": 5,
   "metadata": {},
   "outputs": [
    {
     "data": {
      "text/html": [
       "<div>\n",
       "<style scoped>\n",
       "    .dataframe tbody tr th:only-of-type {\n",
       "        vertical-align: middle;\n",
       "    }\n",
       "\n",
       "    .dataframe tbody tr th {\n",
       "        vertical-align: top;\n",
       "    }\n",
       "\n",
       "    .dataframe thead th {\n",
       "        text-align: right;\n",
       "    }\n",
       "</style>\n",
       "<table border=\"1\" class=\"dataframe\">\n",
       "  <thead>\n",
       "    <tr style=\"text-align: right;\">\n",
       "      <th></th>\n",
       "      <th>USPS</th>\n",
       "      <th>GEOID</th>\n",
       "      <th>ANSICODE</th>\n",
       "      <th>NAME</th>\n",
       "      <th>ALAND</th>\n",
       "      <th>AWATER</th>\n",
       "      <th>ALAND_SQMI</th>\n",
       "      <th>AWATER_SQMI</th>\n",
       "    </tr>\n",
       "  </thead>\n",
       "  <tbody>\n",
       "    <tr>\n",
       "      <th>0</th>\n",
       "      <td>IL</td>\n",
       "      <td>17001</td>\n",
       "      <td>424202</td>\n",
       "      <td>Adams County</td>\n",
       "      <td>2214804824</td>\n",
       "      <td>41767689</td>\n",
       "      <td>855.141</td>\n",
       "      <td>16.127</td>\n",
       "    </tr>\n",
       "    <tr>\n",
       "      <th>1</th>\n",
       "      <td>IL</td>\n",
       "      <td>17003</td>\n",
       "      <td>424203</td>\n",
       "      <td>Alexander County</td>\n",
       "      <td>609996948</td>\n",
       "      <td>44237171</td>\n",
       "      <td>235.521</td>\n",
       "      <td>17.080</td>\n",
       "    </tr>\n",
       "  </tbody>\n",
       "</table>\n",
       "</div>"
      ],
      "text/plain": [
       "  USPS  GEOID  ANSICODE              NAME       ALAND    AWATER  ALAND_SQMI  \\\n",
       "0   IL  17001    424202      Adams County  2214804824  41767689     855.141   \n",
       "1   IL  17003    424203  Alexander County   609996948  44237171     235.521   \n",
       "\n",
       "   AWATER_SQMI  \n",
       "0       16.127  \n",
       "1       17.080  "
      ]
     },
     "execution_count": 5,
     "metadata": {},
     "output_type": "execute_result"
    }
   ],
   "source": [
    "# Display the first few rows of the dataframe.\n",
    "il_land.head(2)"
   ]
  },
  {
   "cell_type": "code",
   "execution_count": 6,
   "metadata": {},
   "outputs": [
    {
     "data": {
      "text/html": [
       "<div>\n",
       "<style scoped>\n",
       "    .dataframe tbody tr th:only-of-type {\n",
       "        vertical-align: middle;\n",
       "    }\n",
       "\n",
       "    .dataframe tbody tr th {\n",
       "        vertical-align: top;\n",
       "    }\n",
       "\n",
       "    .dataframe thead th {\n",
       "        text-align: right;\n",
       "    }\n",
       "</style>\n",
       "<table border=\"1\" class=\"dataframe\">\n",
       "  <thead>\n",
       "    <tr style=\"text-align: right;\">\n",
       "      <th></th>\n",
       "      <th>USPS</th>\n",
       "      <th>GEOID</th>\n",
       "      <th>ANSICODE</th>\n",
       "      <th>NAME</th>\n",
       "      <th>ALAND</th>\n",
       "      <th>AWATER</th>\n",
       "      <th>ALAND_SQMI</th>\n",
       "      <th>AWATER_SQMI</th>\n",
       "    </tr>\n",
       "  </thead>\n",
       "  <tbody>\n",
       "    <tr>\n",
       "      <th>0</th>\n",
       "      <td>NY</td>\n",
       "      <td>36001</td>\n",
       "      <td>974099</td>\n",
       "      <td>Albany County</td>\n",
       "      <td>1354120790</td>\n",
       "      <td>27124553</td>\n",
       "      <td>522.829</td>\n",
       "      <td>10.473</td>\n",
       "    </tr>\n",
       "    <tr>\n",
       "      <th>1</th>\n",
       "      <td>NY</td>\n",
       "      <td>36003</td>\n",
       "      <td>974100</td>\n",
       "      <td>Allegany County</td>\n",
       "      <td>2666029673</td>\n",
       "      <td>12999275</td>\n",
       "      <td>1029.360</td>\n",
       "      <td>5.019</td>\n",
       "    </tr>\n",
       "  </tbody>\n",
       "</table>\n",
       "</div>"
      ],
      "text/plain": [
       "  USPS  GEOID  ANSICODE             NAME       ALAND    AWATER  ALAND_SQMI  \\\n",
       "0   NY  36001    974099    Albany County  1354120790  27124553     522.829   \n",
       "1   NY  36003    974100  Allegany County  2666029673  12999275    1029.360   \n",
       "\n",
       "   AWATER_SQMI  \n",
       "0       10.473  \n",
       "1        5.019  "
      ]
     },
     "execution_count": 6,
     "metadata": {},
     "output_type": "execute_result"
    }
   ],
   "source": [
    "# Display the first few rows of the dataframe.\n",
    "ny_land.head(2)"
   ]
  },
  {
   "cell_type": "code",
   "execution_count": 7,
   "metadata": {},
   "outputs": [],
   "source": [
    "# Concategnate the dataframes.\n",
    "land = pd.concat([tx_land, ca_land, fl_land, il_land, ny_land])"
   ]
  },
  {
   "cell_type": "code",
   "execution_count": 8,
   "metadata": {},
   "outputs": [
    {
     "data": {
      "text/html": [
       "<div>\n",
       "<style scoped>\n",
       "    .dataframe tbody tr th:only-of-type {\n",
       "        vertical-align: middle;\n",
       "    }\n",
       "\n",
       "    .dataframe tbody tr th {\n",
       "        vertical-align: top;\n",
       "    }\n",
       "\n",
       "    .dataframe thead th {\n",
       "        text-align: right;\n",
       "    }\n",
       "</style>\n",
       "<table border=\"1\" class=\"dataframe\">\n",
       "  <thead>\n",
       "    <tr style=\"text-align: right;\">\n",
       "      <th></th>\n",
       "      <th>USPS</th>\n",
       "      <th>GEOID</th>\n",
       "      <th>ANSICODE</th>\n",
       "      <th>NAME</th>\n",
       "      <th>ALAND</th>\n",
       "      <th>AWATER</th>\n",
       "      <th>ALAND_SQMI</th>\n",
       "      <th>AWATER_SQMI</th>\n",
       "    </tr>\n",
       "  </thead>\n",
       "  <tbody>\n",
       "    <tr>\n",
       "      <th>0</th>\n",
       "      <td>TX</td>\n",
       "      <td>48001</td>\n",
       "      <td>1383786</td>\n",
       "      <td>Anderson County</td>\n",
       "      <td>2752198848</td>\n",
       "      <td>39810264</td>\n",
       "      <td>1062.630</td>\n",
       "      <td>15.371</td>\n",
       "    </tr>\n",
       "    <tr>\n",
       "      <th>1</th>\n",
       "      <td>TX</td>\n",
       "      <td>48003</td>\n",
       "      <td>1383787</td>\n",
       "      <td>Andrews County</td>\n",
       "      <td>3886850264</td>\n",
       "      <td>957039</td>\n",
       "      <td>1500.721</td>\n",
       "      <td>0.370</td>\n",
       "    </tr>\n",
       "  </tbody>\n",
       "</table>\n",
       "</div>"
      ],
      "text/plain": [
       "  USPS  GEOID  ANSICODE             NAME       ALAND    AWATER  ALAND_SQMI  \\\n",
       "0   TX  48001   1383786  Anderson County  2752198848  39810264    1062.630   \n",
       "1   TX  48003   1383787   Andrews County  3886850264    957039    1500.721   \n",
       "\n",
       "   AWATER_SQMI  \n",
       "0       15.371  \n",
       "1        0.370  "
      ]
     },
     "execution_count": 8,
     "metadata": {},
     "output_type": "execute_result"
    }
   ],
   "source": [
    "# Display the first few rows of the dataframe.\n",
    "land.head(2)"
   ]
  },
  {
   "cell_type": "markdown",
   "metadata": {},
   "source": [
    "### Creating a 'Geographic Area Name' column"
   ]
  },
  {
   "cell_type": "code",
   "execution_count": 9,
   "metadata": {},
   "outputs": [
    {
     "data": {
      "text/plain": [
       "TX    254\n",
       "IL    102\n",
       "FL     67\n",
       "NY     62\n",
       "CA     58\n",
       "Name: USPS, dtype: int64"
      ]
     },
     "execution_count": 9,
     "metadata": {},
     "output_type": "execute_result"
    }
   ],
   "source": [
    "# Display the value counts of the 'USPS' column.\n",
    "land['USPS'].value_counts()"
   ]
  },
  {
   "cell_type": "code",
   "execution_count": 10,
   "metadata": {},
   "outputs": [],
   "source": [
    "# Create a new state column.\n",
    "land['state'] = land['USPS'].str.replace('TX', ', Texas').str.replace('FL', ', Florida')\\\n",
    "                .str.replace('IL', ', Illinois').str.replace('NY', ', New York').str.replace('CA', ', California')"
   ]
  },
  {
   "cell_type": "code",
   "execution_count": 11,
   "metadata": {},
   "outputs": [],
   "source": [
    "# Create a new county_state column.\n",
    "land['county_state'] = land['NAME'] + land['state']"
   ]
  },
  {
   "cell_type": "code",
   "execution_count": 12,
   "metadata": {},
   "outputs": [
    {
     "data": {
      "text/html": [
       "<div>\n",
       "<style scoped>\n",
       "    .dataframe tbody tr th:only-of-type {\n",
       "        vertical-align: middle;\n",
       "    }\n",
       "\n",
       "    .dataframe tbody tr th {\n",
       "        vertical-align: top;\n",
       "    }\n",
       "\n",
       "    .dataframe thead th {\n",
       "        text-align: right;\n",
       "    }\n",
       "</style>\n",
       "<table border=\"1\" class=\"dataframe\">\n",
       "  <thead>\n",
       "    <tr style=\"text-align: right;\">\n",
       "      <th></th>\n",
       "      <th>USPS</th>\n",
       "      <th>GEOID</th>\n",
       "      <th>ANSICODE</th>\n",
       "      <th>NAME</th>\n",
       "      <th>ALAND</th>\n",
       "      <th>AWATER</th>\n",
       "      <th>ALAND_SQMI</th>\n",
       "      <th>AWATER_SQMI</th>\n",
       "      <th>state</th>\n",
       "      <th>county_state</th>\n",
       "    </tr>\n",
       "  </thead>\n",
       "  <tbody>\n",
       "    <tr>\n",
       "      <th>0</th>\n",
       "      <td>TX</td>\n",
       "      <td>48001</td>\n",
       "      <td>1383786</td>\n",
       "      <td>Anderson County</td>\n",
       "      <td>2752198848</td>\n",
       "      <td>39810264</td>\n",
       "      <td>1062.630</td>\n",
       "      <td>15.371</td>\n",
       "      <td>, Texas</td>\n",
       "      <td>Anderson County, Texas</td>\n",
       "    </tr>\n",
       "    <tr>\n",
       "      <th>1</th>\n",
       "      <td>TX</td>\n",
       "      <td>48003</td>\n",
       "      <td>1383787</td>\n",
       "      <td>Andrews County</td>\n",
       "      <td>3886850264</td>\n",
       "      <td>957039</td>\n",
       "      <td>1500.721</td>\n",
       "      <td>0.370</td>\n",
       "      <td>, Texas</td>\n",
       "      <td>Andrews County, Texas</td>\n",
       "    </tr>\n",
       "  </tbody>\n",
       "</table>\n",
       "</div>"
      ],
      "text/plain": [
       "  USPS  GEOID  ANSICODE             NAME       ALAND    AWATER  ALAND_SQMI  \\\n",
       "0   TX  48001   1383786  Anderson County  2752198848  39810264    1062.630   \n",
       "1   TX  48003   1383787   Andrews County  3886850264    957039    1500.721   \n",
       "\n",
       "   AWATER_SQMI    state            county_state  \n",
       "0       15.371  , Texas  Anderson County, Texas  \n",
       "1        0.370  , Texas   Andrews County, Texas  "
      ]
     },
     "execution_count": 12,
     "metadata": {},
     "output_type": "execute_result"
    }
   ],
   "source": [
    "# Display the first few rows of the dataframe.\n",
    "land.head(2)"
   ]
  },
  {
   "cell_type": "code",
   "execution_count": 13,
   "metadata": {},
   "outputs": [],
   "source": [
    "# Drop all the columns except for county name and land square miles.\n",
    "land = land[['county_state', 'ALAND_SQMI']]"
   ]
  },
  {
   "cell_type": "code",
   "execution_count": 14,
   "metadata": {},
   "outputs": [],
   "source": [
    "# Rename the columns.\n",
    "land = land.rename(columns={'county_state': 'Geographic Area Name', 'ALAND_SQMI': 'sq_mi'})"
   ]
  },
  {
   "cell_type": "code",
   "execution_count": 15,
   "metadata": {},
   "outputs": [
    {
     "data": {
      "text/html": [
       "<div>\n",
       "<style scoped>\n",
       "    .dataframe tbody tr th:only-of-type {\n",
       "        vertical-align: middle;\n",
       "    }\n",
       "\n",
       "    .dataframe tbody tr th {\n",
       "        vertical-align: top;\n",
       "    }\n",
       "\n",
       "    .dataframe thead th {\n",
       "        text-align: right;\n",
       "    }\n",
       "</style>\n",
       "<table border=\"1\" class=\"dataframe\">\n",
       "  <thead>\n",
       "    <tr style=\"text-align: right;\">\n",
       "      <th></th>\n",
       "      <th>Geographic Area Name</th>\n",
       "      <th>sq_mi</th>\n",
       "    </tr>\n",
       "  </thead>\n",
       "  <tbody>\n",
       "    <tr>\n",
       "      <th>0</th>\n",
       "      <td>Anderson County, Texas</td>\n",
       "      <td>1062.630</td>\n",
       "    </tr>\n",
       "    <tr>\n",
       "      <th>1</th>\n",
       "      <td>Andrews County, Texas</td>\n",
       "      <td>1500.721</td>\n",
       "    </tr>\n",
       "    <tr>\n",
       "      <th>2</th>\n",
       "      <td>Angelina County, Texas</td>\n",
       "      <td>797.782</td>\n",
       "    </tr>\n",
       "    <tr>\n",
       "      <th>3</th>\n",
       "      <td>Aransas County, Texas</td>\n",
       "      <td>252.049</td>\n",
       "    </tr>\n",
       "    <tr>\n",
       "      <th>4</th>\n",
       "      <td>Archer County, Texas</td>\n",
       "      <td>903.289</td>\n",
       "    </tr>\n",
       "    <tr>\n",
       "      <th>...</th>\n",
       "      <td>...</td>\n",
       "      <td>...</td>\n",
       "    </tr>\n",
       "    <tr>\n",
       "      <th>57</th>\n",
       "      <td>Washington County, New York</td>\n",
       "      <td>831.167</td>\n",
       "    </tr>\n",
       "    <tr>\n",
       "      <th>58</th>\n",
       "      <td>Wayne County, New York</td>\n",
       "      <td>603.829</td>\n",
       "    </tr>\n",
       "    <tr>\n",
       "      <th>59</th>\n",
       "      <td>Westchester County, New York</td>\n",
       "      <td>430.568</td>\n",
       "    </tr>\n",
       "    <tr>\n",
       "      <th>60</th>\n",
       "      <td>Wyoming County, New York</td>\n",
       "      <td>592.750</td>\n",
       "    </tr>\n",
       "    <tr>\n",
       "      <th>61</th>\n",
       "      <td>Yates County, New York</td>\n",
       "      <td>338.143</td>\n",
       "    </tr>\n",
       "  </tbody>\n",
       "</table>\n",
       "<p>543 rows × 2 columns</p>\n",
       "</div>"
      ],
      "text/plain": [
       "            Geographic Area Name     sq_mi\n",
       "0         Anderson County, Texas  1062.630\n",
       "1          Andrews County, Texas  1500.721\n",
       "2         Angelina County, Texas   797.782\n",
       "3          Aransas County, Texas   252.049\n",
       "4           Archer County, Texas   903.289\n",
       "..                           ...       ...\n",
       "57   Washington County, New York   831.167\n",
       "58        Wayne County, New York   603.829\n",
       "59  Westchester County, New York   430.568\n",
       "60      Wyoming County, New York   592.750\n",
       "61        Yates County, New York   338.143\n",
       "\n",
       "[543 rows x 2 columns]"
      ]
     },
     "execution_count": 15,
     "metadata": {},
     "output_type": "execute_result"
    }
   ],
   "source": [
    "# Display the dataframe.\n",
    "land"
   ]
  },
  {
   "cell_type": "code",
   "execution_count": 16,
   "metadata": {},
   "outputs": [],
   "source": [
    "# Set the county to the index\n",
    "land = land.set_index('Geographic Area Name')"
   ]
  },
  {
   "cell_type": "code",
   "execution_count": 17,
   "metadata": {},
   "outputs": [],
   "source": [
    "# Export the data.\n",
    "land.to_csv('../data/preprocessing/cleaned_area_five_states.csv')"
   ]
  },
  {
   "cell_type": "markdown",
   "metadata": {},
   "source": [
    "# Importing and Cleaning DP05 Data"
   ]
  },
  {
   "cell_type": "code",
   "execution_count": 18,
   "metadata": {},
   "outputs": [
    {
     "data": {
      "text/html": [
       "<div>\n",
       "<style scoped>\n",
       "    .dataframe tbody tr th:only-of-type {\n",
       "        vertical-align: middle;\n",
       "    }\n",
       "\n",
       "    .dataframe tbody tr th {\n",
       "        vertical-align: top;\n",
       "    }\n",
       "\n",
       "    .dataframe thead th {\n",
       "        text-align: right;\n",
       "    }\n",
       "</style>\n",
       "<table border=\"1\" class=\"dataframe\">\n",
       "  <thead>\n",
       "    <tr style=\"text-align: right;\">\n",
       "      <th></th>\n",
       "      <th>Percent Margin of Error!!SEX AND AGE!!Total population!!65 years and over!!Female</th>\n",
       "      <th>Estimate!!SEX AND AGE!!Total population!!65 years and over!!Sex ratio (males per 100 females)</th>\n",
       "      <th>Margin of Error!!SEX AND AGE!!Total population!!65 years and over!!Sex ratio (males per 100 females)</th>\n",
       "      <th>Percent Estimate!!SEX AND AGE!!Total population!!65 years and over!!Sex ratio (males per 100 females)</th>\n",
       "      <th>Percent Margin of Error!!SEX AND AGE!!Total population!!65 years and over!!Sex ratio (males per 100 females)</th>\n",
       "      <th>Estimate!!RACE!!Total population</th>\n",
       "      <th>Margin of Error!!RACE!!Total population</th>\n",
       "      <th>Percent Estimate!!RACE!!Total population</th>\n",
       "      <th>Percent Margin of Error!!RACE!!Total population</th>\n",
       "      <th>Estimate!!RACE!!Total population!!One race</th>\n",
       "      <th>...</th>\n",
       "      <th>DP05_0004PMA</th>\n",
       "      <th>DP05_0004PEA</th>\n",
       "      <th>DP05_0018PMA</th>\n",
       "      <th>DP05_0018PEA</th>\n",
       "      <th>DP05_0025PMA</th>\n",
       "      <th>DP05_0028PMA</th>\n",
       "      <th>DP05_0028PEA</th>\n",
       "      <th>DP05_0029PMA</th>\n",
       "      <th>state</th>\n",
       "      <th>county</th>\n",
       "    </tr>\n",
       "    <tr>\n",
       "      <th>Geographic Area Name</th>\n",
       "      <th></th>\n",
       "      <th></th>\n",
       "      <th></th>\n",
       "      <th></th>\n",
       "      <th></th>\n",
       "      <th></th>\n",
       "      <th></th>\n",
       "      <th></th>\n",
       "      <th></th>\n",
       "      <th></th>\n",
       "      <th></th>\n",
       "      <th></th>\n",
       "      <th></th>\n",
       "      <th></th>\n",
       "      <th></th>\n",
       "      <th></th>\n",
       "      <th></th>\n",
       "      <th></th>\n",
       "      <th></th>\n",
       "      <th></th>\n",
       "      <th></th>\n",
       "    </tr>\n",
       "  </thead>\n",
       "  <tbody>\n",
       "    <tr>\n",
       "      <th>Austin County, Texas</th>\n",
       "      <td>0.6</td>\n",
       "      <td>87.0</td>\n",
       "      <td>1.9</td>\n",
       "      <td>-888888888</td>\n",
       "      <td>-888888888</td>\n",
       "      <td>29565</td>\n",
       "      <td>-555555555</td>\n",
       "      <td>29565</td>\n",
       "      <td>-888888888</td>\n",
       "      <td>29004</td>\n",
       "      <td>...</td>\n",
       "      <td>(X)</td>\n",
       "      <td>(X)</td>\n",
       "      <td>(X)</td>\n",
       "      <td>(X)</td>\n",
       "      <td>(X)</td>\n",
       "      <td>(X)</td>\n",
       "      <td>(X)</td>\n",
       "      <td>(X)</td>\n",
       "      <td>48</td>\n",
       "      <td>15</td>\n",
       "    </tr>\n",
       "    <tr>\n",
       "      <th>Kenedy County, Texas</th>\n",
       "      <td>20.5</td>\n",
       "      <td>34.7</td>\n",
       "      <td>38.9</td>\n",
       "      <td>-888888888</td>\n",
       "      <td>-888888888</td>\n",
       "      <td>595</td>\n",
       "      <td>181</td>\n",
       "      <td>595</td>\n",
       "      <td>-888888888</td>\n",
       "      <td>595</td>\n",
       "      <td>...</td>\n",
       "      <td>(X)</td>\n",
       "      <td>(X)</td>\n",
       "      <td>(X)</td>\n",
       "      <td>(X)</td>\n",
       "      <td>(X)</td>\n",
       "      <td>(X)</td>\n",
       "      <td>(X)</td>\n",
       "      <td>(X)</td>\n",
       "      <td>48</td>\n",
       "      <td>261</td>\n",
       "    </tr>\n",
       "  </tbody>\n",
       "</table>\n",
       "<p>2 rows × 377 columns</p>\n",
       "</div>"
      ],
      "text/plain": [
       "                      Percent Margin of Error!!SEX AND AGE!!Total population!!65 years and over!!Female  \\\n",
       "Geographic Area Name                                                                                      \n",
       "Austin County, Texas                                                0.6                                   \n",
       "Kenedy County, Texas                                               20.5                                   \n",
       "\n",
       "                      Estimate!!SEX AND AGE!!Total population!!65 years and over!!Sex ratio (males per 100 females)  \\\n",
       "Geographic Area Name                                                                                                  \n",
       "Austin County, Texas                                               87.0                                               \n",
       "Kenedy County, Texas                                               34.7                                               \n",
       "\n",
       "                      Margin of Error!!SEX AND AGE!!Total population!!65 years and over!!Sex ratio (males per 100 females)  \\\n",
       "Geographic Area Name                                                                                                         \n",
       "Austin County, Texas                                                1.9                                                      \n",
       "Kenedy County, Texas                                               38.9                                                      \n",
       "\n",
       "                      Percent Estimate!!SEX AND AGE!!Total population!!65 years and over!!Sex ratio (males per 100 females)  \\\n",
       "Geographic Area Name                                                                                                          \n",
       "Austin County, Texas                                         -888888888                                                       \n",
       "Kenedy County, Texas                                         -888888888                                                       \n",
       "\n",
       "                      Percent Margin of Error!!SEX AND AGE!!Total population!!65 years and over!!Sex ratio (males per 100 females)  \\\n",
       "Geographic Area Name                                                                                                                 \n",
       "Austin County, Texas                                         -888888888                                                              \n",
       "Kenedy County, Texas                                         -888888888                                                              \n",
       "\n",
       "                      Estimate!!RACE!!Total population  \\\n",
       "Geographic Area Name                                     \n",
       "Austin County, Texas                             29565   \n",
       "Kenedy County, Texas                               595   \n",
       "\n",
       "                      Margin of Error!!RACE!!Total population  \\\n",
       "Geographic Area Name                                            \n",
       "Austin County, Texas                               -555555555   \n",
       "Kenedy County, Texas                                      181   \n",
       "\n",
       "                      Percent Estimate!!RACE!!Total population  \\\n",
       "Geographic Area Name                                             \n",
       "Austin County, Texas                                     29565   \n",
       "Kenedy County, Texas                                       595   \n",
       "\n",
       "                      Percent Margin of Error!!RACE!!Total population  \\\n",
       "Geographic Area Name                                                    \n",
       "Austin County, Texas                                       -888888888   \n",
       "Kenedy County, Texas                                       -888888888   \n",
       "\n",
       "                      Estimate!!RACE!!Total population!!One race  ...  \\\n",
       "Geographic Area Name                                              ...   \n",
       "Austin County, Texas                                       29004  ...   \n",
       "Kenedy County, Texas                                         595  ...   \n",
       "\n",
       "                      DP05_0004PMA  DP05_0004PEA  DP05_0018PMA  DP05_0018PEA  \\\n",
       "Geographic Area Name                                                           \n",
       "Austin County, Texas           (X)           (X)           (X)           (X)   \n",
       "Kenedy County, Texas           (X)           (X)           (X)           (X)   \n",
       "\n",
       "                      DP05_0025PMA  DP05_0028PMA  DP05_0028PEA  DP05_0029PMA  \\\n",
       "Geographic Area Name                                                           \n",
       "Austin County, Texas           (X)           (X)           (X)           (X)   \n",
       "Kenedy County, Texas           (X)           (X)           (X)           (X)   \n",
       "\n",
       "                      state  county  \n",
       "Geographic Area Name                 \n",
       "Austin County, Texas     48      15  \n",
       "Kenedy County, Texas     48     261  \n",
       "\n",
       "[2 rows x 377 columns]"
      ]
     },
     "execution_count": 18,
     "metadata": {},
     "output_type": "execute_result"
    }
   ],
   "source": [
    "# Read in data with headers as dataframe, setting the geo name to the idex.\n",
    "dp05 = pd.read_csv('../data/preprocessing/raw_dp05_with_headers_five_states.csv', index_col=0)\n",
    "# Display the first few rows of the dataframe.\n",
    "dp05.head(2)"
   ]
  },
  {
   "cell_type": "code",
   "execution_count": 19,
   "metadata": {},
   "outputs": [],
   "source": [
    "# Replace !! in column titles with empty space.\n",
    "dp05.columns = dp05.columns.str.replace('!!', ' ')"
   ]
  },
  {
   "cell_type": "code",
   "execution_count": 20,
   "metadata": {},
   "outputs": [],
   "source": [
    "# Drop the county and state number columns.\n",
    "dp05 = dp05.drop(columns= ['county', 'state'])"
   ]
  },
  {
   "cell_type": "markdown",
   "metadata": {},
   "source": [
    "## Replace -888888888, -555555555, -666666666, and (X) with NaN\n",
    "\n",
    "-888888888, or '(X)' means that the estimate is not applicable or not available.  \n",
    "-555555555, or '*****' entry in the margin of error column indicates that the estimate is controlled. A statistical test for sampling variability is not appropriate.  \n",
    "-666666666, or '-' entry indicates either no sample observations or too few sample observations were available to compute an estimate, or a ratio of medians cannot be calculated because one or both of the median estimates falls in the lowest interval or upper interval of an open-ended distribution."
   ]
  },
  {
   "cell_type": "code",
   "execution_count": 21,
   "metadata": {},
   "outputs": [],
   "source": [
    "# Replace -888888888, -555555555, and '(X)' with NaN.\n",
    "dp05 = dp05.replace([-888888888, -555555555, -666666666, '(X)'], np.nan)"
   ]
  },
  {
   "cell_type": "markdown",
   "metadata": {},
   "source": [
    "## Drop Margin of Error Columns"
   ]
  },
  {
   "cell_type": "code",
   "execution_count": 22,
   "metadata": {},
   "outputs": [],
   "source": [
    "# Drop columns that contain 'Margin' in the name.\n",
    "# https://stackoverflow.com/questions/406230/regular-expression-to-match-a-line-that-doesnt-contain-a-word\n",
    "dp05 = dp05.filter(regex='^((?!Margin).)*$', axis=1)"
   ]
  },
  {
   "cell_type": "markdown",
   "metadata": {},
   "source": [
    "## Drop Percent Columns"
   ]
  },
  {
   "cell_type": "code",
   "execution_count": 23,
   "metadata": {},
   "outputs": [],
   "source": [
    "# Drop columns that contain 'Percent' in the name.\n",
    "# Any percentages will be recalculated after combining total counts.\n",
    "dp05 = dp05.filter(regex='^((?!Percent).)*$', axis=1)"
   ]
  },
  {
   "cell_type": "markdown",
   "metadata": {},
   "source": [
    "## Drop Columns with NaN Values"
   ]
  },
  {
   "cell_type": "code",
   "execution_count": 24,
   "metadata": {},
   "outputs": [],
   "source": [
    "# Drop the columns that have NaN values.\n",
    "dp05 = dp05.loc[:, (dp05.isna().sum() < 1)]"
   ]
  },
  {
   "cell_type": "markdown",
   "metadata": {},
   "source": [
    "# Create 'SEX AND AGE' Dataframe"
   ]
  },
  {
   "cell_type": "code",
   "execution_count": 25,
   "metadata": {},
   "outputs": [
    {
     "data": {
      "text/html": [
       "<div>\n",
       "<style scoped>\n",
       "    .dataframe tbody tr th:only-of-type {\n",
       "        vertical-align: middle;\n",
       "    }\n",
       "\n",
       "    .dataframe tbody tr th {\n",
       "        vertical-align: top;\n",
       "    }\n",
       "\n",
       "    .dataframe thead th {\n",
       "        text-align: right;\n",
       "    }\n",
       "</style>\n",
       "<table border=\"1\" class=\"dataframe\">\n",
       "  <thead>\n",
       "    <tr style=\"text-align: right;\">\n",
       "      <th></th>\n",
       "      <th>Estimate SEX AND AGE Total population 65 years and over Sex ratio (males per 100 females)</th>\n",
       "      <th>Estimate SEX AND AGE Total population</th>\n",
       "      <th>Estimate SEX AND AGE Total population Male</th>\n",
       "      <th>Estimate SEX AND AGE Total population Female</th>\n",
       "      <th>Estimate SEX AND AGE Total population Sex ratio (males per 100 females)</th>\n",
       "      <th>Estimate SEX AND AGE Total population Under 5 years</th>\n",
       "      <th>Estimate SEX AND AGE Total population 5 to 9 years</th>\n",
       "      <th>Estimate SEX AND AGE Total population 10 to 14 years</th>\n",
       "      <th>Estimate SEX AND AGE Total population 15 to 19 years</th>\n",
       "      <th>Estimate SEX AND AGE Total population 20 to 24 years</th>\n",
       "      <th>...</th>\n",
       "      <th>Estimate SEX AND AGE Total population 21 years and over</th>\n",
       "      <th>Estimate SEX AND AGE Total population 62 years and over</th>\n",
       "      <th>Estimate SEX AND AGE Total population 65 years and over</th>\n",
       "      <th>Estimate SEX AND AGE Total population 18 years and over.1</th>\n",
       "      <th>Estimate SEX AND AGE Total population 18 years and over Male</th>\n",
       "      <th>Estimate SEX AND AGE Total population 18 years and over Female</th>\n",
       "      <th>Estimate SEX AND AGE Total population 18 years and over Sex ratio (males per 100 females)</th>\n",
       "      <th>Estimate SEX AND AGE Total population 65 years and over.1</th>\n",
       "      <th>Estimate SEX AND AGE Total population 65 years and over Male</th>\n",
       "      <th>Estimate SEX AND AGE Total population 65 years and over Female</th>\n",
       "    </tr>\n",
       "    <tr>\n",
       "      <th>Geographic Area Name</th>\n",
       "      <th></th>\n",
       "      <th></th>\n",
       "      <th></th>\n",
       "      <th></th>\n",
       "      <th></th>\n",
       "      <th></th>\n",
       "      <th></th>\n",
       "      <th></th>\n",
       "      <th></th>\n",
       "      <th></th>\n",
       "      <th></th>\n",
       "      <th></th>\n",
       "      <th></th>\n",
       "      <th></th>\n",
       "      <th></th>\n",
       "      <th></th>\n",
       "      <th></th>\n",
       "      <th></th>\n",
       "      <th></th>\n",
       "      <th></th>\n",
       "      <th></th>\n",
       "    </tr>\n",
       "  </thead>\n",
       "  <tbody>\n",
       "    <tr>\n",
       "      <th>Austin County, Texas</th>\n",
       "      <td>87.0</td>\n",
       "      <td>29565</td>\n",
       "      <td>14684</td>\n",
       "      <td>14881</td>\n",
       "      <td>98.7</td>\n",
       "      <td>1780</td>\n",
       "      <td>1960</td>\n",
       "      <td>2118</td>\n",
       "      <td>1861</td>\n",
       "      <td>1712</td>\n",
       "      <td>...</td>\n",
       "      <td>21531</td>\n",
       "      <td>6718</td>\n",
       "      <td>5394</td>\n",
       "      <td>22460</td>\n",
       "      <td>11107</td>\n",
       "      <td>11353</td>\n",
       "      <td>97.8</td>\n",
       "      <td>5394</td>\n",
       "      <td>2509</td>\n",
       "      <td>2885</td>\n",
       "    </tr>\n",
       "    <tr>\n",
       "      <th>Kenedy County, Texas</th>\n",
       "      <td>34.7</td>\n",
       "      <td>595</td>\n",
       "      <td>286</td>\n",
       "      <td>309</td>\n",
       "      <td>92.6</td>\n",
       "      <td>85</td>\n",
       "      <td>37</td>\n",
       "      <td>40</td>\n",
       "      <td>10</td>\n",
       "      <td>10</td>\n",
       "      <td>...</td>\n",
       "      <td>413</td>\n",
       "      <td>137</td>\n",
       "      <td>136</td>\n",
       "      <td>428</td>\n",
       "      <td>190</td>\n",
       "      <td>238</td>\n",
       "      <td>79.8</td>\n",
       "      <td>136</td>\n",
       "      <td>35</td>\n",
       "      <td>101</td>\n",
       "    </tr>\n",
       "  </tbody>\n",
       "</table>\n",
       "<p>2 rows × 32 columns</p>\n",
       "</div>"
      ],
      "text/plain": [
       "                      Estimate SEX AND AGE Total population 65 years and over Sex ratio (males per 100 females)  \\\n",
       "Geographic Area Name                                                                                              \n",
       "Austin County, Texas                                               87.0                                           \n",
       "Kenedy County, Texas                                               34.7                                           \n",
       "\n",
       "                      Estimate SEX AND AGE Total population  \\\n",
       "Geographic Area Name                                          \n",
       "Austin County, Texas                                  29565   \n",
       "Kenedy County, Texas                                    595   \n",
       "\n",
       "                      Estimate SEX AND AGE Total population Male  \\\n",
       "Geographic Area Name                                               \n",
       "Austin County, Texas                                       14684   \n",
       "Kenedy County, Texas                                         286   \n",
       "\n",
       "                      Estimate SEX AND AGE Total population Female  \\\n",
       "Geographic Area Name                                                 \n",
       "Austin County, Texas                                         14881   \n",
       "Kenedy County, Texas                                           309   \n",
       "\n",
       "                      Estimate SEX AND AGE Total population Sex ratio (males per 100 females)  \\\n",
       "Geographic Area Name                                                                            \n",
       "Austin County, Texas                                               98.7                         \n",
       "Kenedy County, Texas                                               92.6                         \n",
       "\n",
       "                      Estimate SEX AND AGE Total population Under 5 years  \\\n",
       "Geographic Area Name                                                        \n",
       "Austin County, Texas                                               1780     \n",
       "Kenedy County, Texas                                                 85     \n",
       "\n",
       "                      Estimate SEX AND AGE Total population 5 to 9 years  \\\n",
       "Geographic Area Name                                                       \n",
       "Austin County, Texas                                               1960    \n",
       "Kenedy County, Texas                                                 37    \n",
       "\n",
       "                      Estimate SEX AND AGE Total population 10 to 14 years  \\\n",
       "Geographic Area Name                                                         \n",
       "Austin County, Texas                                               2118      \n",
       "Kenedy County, Texas                                                 40      \n",
       "\n",
       "                      Estimate SEX AND AGE Total population 15 to 19 years  \\\n",
       "Geographic Area Name                                                         \n",
       "Austin County, Texas                                               1861      \n",
       "Kenedy County, Texas                                                 10      \n",
       "\n",
       "                      Estimate SEX AND AGE Total population 20 to 24 years  \\\n",
       "Geographic Area Name                                                         \n",
       "Austin County, Texas                                               1712      \n",
       "Kenedy County, Texas                                                 10      \n",
       "\n",
       "                      ...  \\\n",
       "Geographic Area Name  ...   \n",
       "Austin County, Texas  ...   \n",
       "Kenedy County, Texas  ...   \n",
       "\n",
       "                      Estimate SEX AND AGE Total population 21 years and over  \\\n",
       "Geographic Area Name                                                            \n",
       "Austin County, Texas                                              21531         \n",
       "Kenedy County, Texas                                                413         \n",
       "\n",
       "                      Estimate SEX AND AGE Total population 62 years and over  \\\n",
       "Geographic Area Name                                                            \n",
       "Austin County, Texas                                               6718         \n",
       "Kenedy County, Texas                                                137         \n",
       "\n",
       "                      Estimate SEX AND AGE Total population 65 years and over  \\\n",
       "Geographic Area Name                                                            \n",
       "Austin County, Texas                                               5394         \n",
       "Kenedy County, Texas                                                136         \n",
       "\n",
       "                      Estimate SEX AND AGE Total population 18 years and over.1  \\\n",
       "Geographic Area Name                                                              \n",
       "Austin County, Texas                                              22460           \n",
       "Kenedy County, Texas                                                428           \n",
       "\n",
       "                      Estimate SEX AND AGE Total population 18 years and over Male  \\\n",
       "Geographic Area Name                                                                 \n",
       "Austin County, Texas                                              11107              \n",
       "Kenedy County, Texas                                                190              \n",
       "\n",
       "                      Estimate SEX AND AGE Total population 18 years and over Female  \\\n",
       "Geographic Area Name                                                                   \n",
       "Austin County, Texas                                              11353                \n",
       "Kenedy County, Texas                                                238                \n",
       "\n",
       "                      Estimate SEX AND AGE Total population 18 years and over Sex ratio (males per 100 females)  \\\n",
       "Geographic Area Name                                                                                              \n",
       "Austin County, Texas                                               97.8                                           \n",
       "Kenedy County, Texas                                               79.8                                           \n",
       "\n",
       "                      Estimate SEX AND AGE Total population 65 years and over.1  \\\n",
       "Geographic Area Name                                                              \n",
       "Austin County, Texas                                               5394           \n",
       "Kenedy County, Texas                                                136           \n",
       "\n",
       "                      Estimate SEX AND AGE Total population 65 years and over Male  \\\n",
       "Geographic Area Name                                                                 \n",
       "Austin County, Texas                                               2509              \n",
       "Kenedy County, Texas                                                 35              \n",
       "\n",
       "                      Estimate SEX AND AGE Total population 65 years and over Female  \n",
       "Geographic Area Name                                                                  \n",
       "Austin County, Texas                                               2885               \n",
       "Kenedy County, Texas                                                101               \n",
       "\n",
       "[2 rows x 32 columns]"
      ]
     },
     "execution_count": 25,
     "metadata": {},
     "output_type": "execute_result"
    }
   ],
   "source": [
    "# Extract the columns that have SEX AND AGE in the title\n",
    "# and save to a new dataframe.\n",
    "dp05_sex_age = dp05.filter(regex = '(SEX AND AGE)', axis=1)\n",
    "# Display the first few rows of the dataframe.\n",
    "dp05_sex_age.head(2)"
   ]
  },
  {
   "cell_type": "code",
   "execution_count": 26,
   "metadata": {},
   "outputs": [
    {
     "name": "stdout",
     "output_type": "stream",
     "text": [
      "<class 'pandas.core.frame.DataFrame'>\n",
      "Index: 543 entries, Austin County, Texas to Mason County, Illinois\n",
      "Data columns (total 32 columns):\n",
      " #   Column                                                                                     Non-Null Count  Dtype  \n",
      "---  ------                                                                                     --------------  -----  \n",
      " 0   Estimate SEX AND AGE Total population 65 years and over Sex ratio (males per 100 females)  543 non-null    float64\n",
      " 1   Estimate SEX AND AGE Total population                                                      543 non-null    int64  \n",
      " 2   Estimate SEX AND AGE Total population Male                                                 543 non-null    int64  \n",
      " 3   Estimate SEX AND AGE Total population Female                                               543 non-null    int64  \n",
      " 4   Estimate SEX AND AGE Total population Sex ratio (males per 100 females)                    543 non-null    float64\n",
      " 5   Estimate SEX AND AGE Total population Under 5 years                                        543 non-null    int64  \n",
      " 6   Estimate SEX AND AGE Total population 5 to 9 years                                         543 non-null    int64  \n",
      " 7   Estimate SEX AND AGE Total population 10 to 14 years                                       543 non-null    int64  \n",
      " 8   Estimate SEX AND AGE Total population 15 to 19 years                                       543 non-null    int64  \n",
      " 9   Estimate SEX AND AGE Total population 20 to 24 years                                       543 non-null    int64  \n",
      " 10  Estimate SEX AND AGE Total population 25 to 34 years                                       543 non-null    int64  \n",
      " 11  Estimate SEX AND AGE Total population 35 to 44 years                                       543 non-null    int64  \n",
      " 12  Estimate SEX AND AGE Total population 45 to 54 years                                       543 non-null    int64  \n",
      " 13  Estimate SEX AND AGE Total population 55 to 59 years                                       543 non-null    int64  \n",
      " 14  Estimate SEX AND AGE Total population 60 to 64 years                                       543 non-null    int64  \n",
      " 15  Estimate SEX AND AGE Total population 65 to 74 years                                       543 non-null    int64  \n",
      " 16  Estimate SEX AND AGE Total population 75 to 84 years                                       543 non-null    int64  \n",
      " 17  Estimate SEX AND AGE Total population 85 years and over                                    543 non-null    int64  \n",
      " 18  Estimate SEX AND AGE Total population Median age (years)                                   543 non-null    float64\n",
      " 19  Estimate SEX AND AGE Total population Under 18 years                                       543 non-null    int64  \n",
      " 20  Estimate SEX AND AGE Total population 16 years and over                                    543 non-null    int64  \n",
      " 21  Estimate SEX AND AGE Total population 18 years and over                                    543 non-null    int64  \n",
      " 22  Estimate SEX AND AGE Total population 21 years and over                                    543 non-null    int64  \n",
      " 23  Estimate SEX AND AGE Total population 62 years and over                                    543 non-null    int64  \n",
      " 24  Estimate SEX AND AGE Total population 65 years and over                                    543 non-null    int64  \n",
      " 25  Estimate SEX AND AGE Total population 18 years and over.1                                  543 non-null    int64  \n",
      " 26  Estimate SEX AND AGE Total population 18 years and over Male                               543 non-null    int64  \n",
      " 27  Estimate SEX AND AGE Total population 18 years and over Female                             543 non-null    int64  \n",
      " 28  Estimate SEX AND AGE Total population 18 years and over Sex ratio (males per 100 females)  543 non-null    float64\n",
      " 29  Estimate SEX AND AGE Total population 65 years and over.1                                  543 non-null    int64  \n",
      " 30  Estimate SEX AND AGE Total population 65 years and over Male                               543 non-null    int64  \n",
      " 31  Estimate SEX AND AGE Total population 65 years and over Female                             543 non-null    int64  \n",
      "dtypes: float64(4), int64(28)\n",
      "memory usage: 140.0+ KB\n"
     ]
    }
   ],
   "source": [
    "# Display information about the SEX and AGE dataframe.\n",
    "dp05_sex_age.info()"
   ]
  },
  {
   "cell_type": "code",
   "execution_count": 27,
   "metadata": {},
   "outputs": [],
   "source": [
    "# These are the columns to be used in the analysis.\n",
    "columns_sex_age = [\n",
    "    'Estimate SEX AND AGE Total population',\n",
    "    'Estimate SEX AND AGE Total population Male',\n",
    "    'Estimate SEX AND AGE Total population Female',\n",
    "    'Estimate SEX AND AGE Total population Under 5 years',\n",
    "    'Estimate SEX AND AGE Total population 5 to 9 years',\n",
    "    'Estimate SEX AND AGE Total population 10 to 14 years',\n",
    "    'Estimate SEX AND AGE Total population 15 to 19 years',\n",
    "    'Estimate SEX AND AGE Total population 20 to 24 years',\n",
    "    'Estimate SEX AND AGE Total population 25 to 34 years',\n",
    "    'Estimate SEX AND AGE Total population 35 to 44 years',\n",
    "    'Estimate SEX AND AGE Total population 45 to 54 years',\n",
    "    'Estimate SEX AND AGE Total population 55 to 59 years',\n",
    "    'Estimate SEX AND AGE Total population 60 to 64 years',\n",
    "    'Estimate SEX AND AGE Total population 65 to 74 years',\n",
    "    'Estimate SEX AND AGE Total population 75 to 84 years',\n",
    "    'Estimate SEX AND AGE Total population 85 years and over',\n",
    "    'Estimate SEX AND AGE Total population Median age (years)',\n",
    "]"
   ]
  },
  {
   "cell_type": "code",
   "execution_count": 28,
   "metadata": {},
   "outputs": [],
   "source": [
    "# Extract the important columns for gender and age analysis.\n",
    "dp05_sex_age = dp05_sex_age[columns_sex_age]"
   ]
  },
  {
   "cell_type": "code",
   "execution_count": 29,
   "metadata": {},
   "outputs": [
    {
     "data": {
      "text/html": [
       "<div>\n",
       "<style scoped>\n",
       "    .dataframe tbody tr th:only-of-type {\n",
       "        vertical-align: middle;\n",
       "    }\n",
       "\n",
       "    .dataframe tbody tr th {\n",
       "        vertical-align: top;\n",
       "    }\n",
       "\n",
       "    .dataframe thead th {\n",
       "        text-align: right;\n",
       "    }\n",
       "</style>\n",
       "<table border=\"1\" class=\"dataframe\">\n",
       "  <thead>\n",
       "    <tr style=\"text-align: right;\">\n",
       "      <th></th>\n",
       "      <th>Estimate SEX AND AGE Total population</th>\n",
       "      <th>Estimate SEX AND AGE Total population Male</th>\n",
       "      <th>Estimate SEX AND AGE Total population Female</th>\n",
       "      <th>Estimate SEX AND AGE Total population Under 5 years</th>\n",
       "      <th>Estimate SEX AND AGE Total population 5 to 9 years</th>\n",
       "      <th>Estimate SEX AND AGE Total population 10 to 14 years</th>\n",
       "      <th>Estimate SEX AND AGE Total population 15 to 19 years</th>\n",
       "      <th>Estimate SEX AND AGE Total population 20 to 24 years</th>\n",
       "      <th>Estimate SEX AND AGE Total population 25 to 34 years</th>\n",
       "      <th>Estimate SEX AND AGE Total population 35 to 44 years</th>\n",
       "      <th>Estimate SEX AND AGE Total population 45 to 54 years</th>\n",
       "      <th>Estimate SEX AND AGE Total population 55 to 59 years</th>\n",
       "      <th>Estimate SEX AND AGE Total population 60 to 64 years</th>\n",
       "      <th>Estimate SEX AND AGE Total population 65 to 74 years</th>\n",
       "      <th>Estimate SEX AND AGE Total population 75 to 84 years</th>\n",
       "      <th>Estimate SEX AND AGE Total population 85 years and over</th>\n",
       "      <th>Estimate SEX AND AGE Total population Median age (years)</th>\n",
       "    </tr>\n",
       "    <tr>\n",
       "      <th>Geographic Area Name</th>\n",
       "      <th></th>\n",
       "      <th></th>\n",
       "      <th></th>\n",
       "      <th></th>\n",
       "      <th></th>\n",
       "      <th></th>\n",
       "      <th></th>\n",
       "      <th></th>\n",
       "      <th></th>\n",
       "      <th></th>\n",
       "      <th></th>\n",
       "      <th></th>\n",
       "      <th></th>\n",
       "      <th></th>\n",
       "      <th></th>\n",
       "      <th></th>\n",
       "      <th></th>\n",
       "    </tr>\n",
       "  </thead>\n",
       "  <tbody>\n",
       "    <tr>\n",
       "      <th>Austin County, Texas</th>\n",
       "      <td>29565</td>\n",
       "      <td>14684</td>\n",
       "      <td>14881</td>\n",
       "      <td>1780</td>\n",
       "      <td>1960</td>\n",
       "      <td>2118</td>\n",
       "      <td>1861</td>\n",
       "      <td>1712</td>\n",
       "      <td>3339</td>\n",
       "      <td>3275</td>\n",
       "      <td>3821</td>\n",
       "      <td>2327</td>\n",
       "      <td>1978</td>\n",
       "      <td>3243</td>\n",
       "      <td>1532</td>\n",
       "      <td>619</td>\n",
       "      <td>40.7</td>\n",
       "    </tr>\n",
       "    <tr>\n",
       "      <th>Kenedy County, Texas</th>\n",
       "      <td>595</td>\n",
       "      <td>286</td>\n",
       "      <td>309</td>\n",
       "      <td>85</td>\n",
       "      <td>37</td>\n",
       "      <td>40</td>\n",
       "      <td>10</td>\n",
       "      <td>10</td>\n",
       "      <td>95</td>\n",
       "      <td>47</td>\n",
       "      <td>75</td>\n",
       "      <td>51</td>\n",
       "      <td>9</td>\n",
       "      <td>85</td>\n",
       "      <td>29</td>\n",
       "      <td>22</td>\n",
       "      <td>39.5</td>\n",
       "    </tr>\n",
       "  </tbody>\n",
       "</table>\n",
       "</div>"
      ],
      "text/plain": [
       "                      Estimate SEX AND AGE Total population  \\\n",
       "Geographic Area Name                                          \n",
       "Austin County, Texas                                  29565   \n",
       "Kenedy County, Texas                                    595   \n",
       "\n",
       "                      Estimate SEX AND AGE Total population Male  \\\n",
       "Geographic Area Name                                               \n",
       "Austin County, Texas                                       14684   \n",
       "Kenedy County, Texas                                         286   \n",
       "\n",
       "                      Estimate SEX AND AGE Total population Female  \\\n",
       "Geographic Area Name                                                 \n",
       "Austin County, Texas                                         14881   \n",
       "Kenedy County, Texas                                           309   \n",
       "\n",
       "                      Estimate SEX AND AGE Total population Under 5 years  \\\n",
       "Geographic Area Name                                                        \n",
       "Austin County, Texas                                               1780     \n",
       "Kenedy County, Texas                                                 85     \n",
       "\n",
       "                      Estimate SEX AND AGE Total population 5 to 9 years  \\\n",
       "Geographic Area Name                                                       \n",
       "Austin County, Texas                                               1960    \n",
       "Kenedy County, Texas                                                 37    \n",
       "\n",
       "                      Estimate SEX AND AGE Total population 10 to 14 years  \\\n",
       "Geographic Area Name                                                         \n",
       "Austin County, Texas                                               2118      \n",
       "Kenedy County, Texas                                                 40      \n",
       "\n",
       "                      Estimate SEX AND AGE Total population 15 to 19 years  \\\n",
       "Geographic Area Name                                                         \n",
       "Austin County, Texas                                               1861      \n",
       "Kenedy County, Texas                                                 10      \n",
       "\n",
       "                      Estimate SEX AND AGE Total population 20 to 24 years  \\\n",
       "Geographic Area Name                                                         \n",
       "Austin County, Texas                                               1712      \n",
       "Kenedy County, Texas                                                 10      \n",
       "\n",
       "                      Estimate SEX AND AGE Total population 25 to 34 years  \\\n",
       "Geographic Area Name                                                         \n",
       "Austin County, Texas                                               3339      \n",
       "Kenedy County, Texas                                                 95      \n",
       "\n",
       "                      Estimate SEX AND AGE Total population 35 to 44 years  \\\n",
       "Geographic Area Name                                                         \n",
       "Austin County, Texas                                               3275      \n",
       "Kenedy County, Texas                                                 47      \n",
       "\n",
       "                      Estimate SEX AND AGE Total population 45 to 54 years  \\\n",
       "Geographic Area Name                                                         \n",
       "Austin County, Texas                                               3821      \n",
       "Kenedy County, Texas                                                 75      \n",
       "\n",
       "                      Estimate SEX AND AGE Total population 55 to 59 years  \\\n",
       "Geographic Area Name                                                         \n",
       "Austin County, Texas                                               2327      \n",
       "Kenedy County, Texas                                                 51      \n",
       "\n",
       "                      Estimate SEX AND AGE Total population 60 to 64 years  \\\n",
       "Geographic Area Name                                                         \n",
       "Austin County, Texas                                               1978      \n",
       "Kenedy County, Texas                                                  9      \n",
       "\n",
       "                      Estimate SEX AND AGE Total population 65 to 74 years  \\\n",
       "Geographic Area Name                                                         \n",
       "Austin County, Texas                                               3243      \n",
       "Kenedy County, Texas                                                 85      \n",
       "\n",
       "                      Estimate SEX AND AGE Total population 75 to 84 years  \\\n",
       "Geographic Area Name                                                         \n",
       "Austin County, Texas                                               1532      \n",
       "Kenedy County, Texas                                                 29      \n",
       "\n",
       "                      Estimate SEX AND AGE Total population 85 years and over  \\\n",
       "Geographic Area Name                                                            \n",
       "Austin County, Texas                                                619         \n",
       "Kenedy County, Texas                                                 22         \n",
       "\n",
       "                      Estimate SEX AND AGE Total population Median age (years)  \n",
       "Geographic Area Name                                                            \n",
       "Austin County, Texas                                               40.7         \n",
       "Kenedy County, Texas                                               39.5         "
      ]
     },
     "execution_count": 29,
     "metadata": {},
     "output_type": "execute_result"
    }
   ],
   "source": [
    "# Display the first few rows of the dataframe.\n",
    "dp05_sex_age.head(2)"
   ]
  },
  {
   "cell_type": "code",
   "execution_count": 30,
   "metadata": {},
   "outputs": [],
   "source": [
    "# Clean up column names.\n",
    "dp05_sex_age.columns = dp05_sex_age.columns.str.lower().str.replace('estimate ', '').str.replace('sex and age', 'sex_age')"
   ]
  },
  {
   "cell_type": "code",
   "execution_count": 31,
   "metadata": {},
   "outputs": [],
   "source": [
    "# Clean up column names.\n",
    "dp05_sex_age.columns = dp05_sex_age.columns.str.replace('total population', 'pop').str.replace(' years', '').str.replace(' ', '_')"
   ]
  },
  {
   "cell_type": "code",
   "execution_count": 32,
   "metadata": {},
   "outputs": [
    {
     "data": {
      "text/plain": [
       "['sex_age_pop',\n",
       " 'sex_age_pop_male',\n",
       " 'sex_age_pop_female',\n",
       " 'sex_age_pop_under_5',\n",
       " 'sex_age_pop_5_to_9',\n",
       " 'sex_age_pop_10_to_14',\n",
       " 'sex_age_pop_15_to_19',\n",
       " 'sex_age_pop_20_to_24',\n",
       " 'sex_age_pop_25_to_34',\n",
       " 'sex_age_pop_35_to_44',\n",
       " 'sex_age_pop_45_to_54',\n",
       " 'sex_age_pop_55_to_59',\n",
       " 'sex_age_pop_60_to_64',\n",
       " 'sex_age_pop_65_to_74',\n",
       " 'sex_age_pop_75_to_84',\n",
       " 'sex_age_pop_85_and_over',\n",
       " 'sex_age_pop_median_age_(years)']"
      ]
     },
     "execution_count": 32,
     "metadata": {},
     "output_type": "execute_result"
    }
   ],
   "source": [
    "# Display the columns.\n",
    "list(dp05_sex_age.columns)"
   ]
  },
  {
   "cell_type": "code",
   "execution_count": 33,
   "metadata": {},
   "outputs": [],
   "source": [
    "# Rename the median age column for the function.\n",
    "dp05_sex_age = dp05_sex_age.rename(columns={'sex_age_pop_median_age_(years)': 'sex_age_median_age_in_years'})"
   ]
  },
  {
   "cell_type": "code",
   "execution_count": 34,
   "metadata": {},
   "outputs": [],
   "source": [
    "# Export the data.\n",
    "dp05_sex_age.to_csv('../data/preprocessing/cleaned_dp05_sex_age_five_states.csv')"
   ]
  },
  {
   "cell_type": "markdown",
   "metadata": {},
   "source": [
    "# Create 'RACE' Dataframe"
   ]
  },
  {
   "cell_type": "code",
   "execution_count": 35,
   "metadata": {},
   "outputs": [
    {
     "data": {
      "text/html": [
       "<div>\n",
       "<style scoped>\n",
       "    .dataframe tbody tr th:only-of-type {\n",
       "        vertical-align: middle;\n",
       "    }\n",
       "\n",
       "    .dataframe tbody tr th {\n",
       "        vertical-align: top;\n",
       "    }\n",
       "\n",
       "    .dataframe thead th {\n",
       "        text-align: right;\n",
       "    }\n",
       "</style>\n",
       "<table border=\"1\" class=\"dataframe\">\n",
       "  <thead>\n",
       "    <tr style=\"text-align: right;\">\n",
       "      <th></th>\n",
       "      <th>Estimate RACE Total population</th>\n",
       "      <th>Estimate RACE Total population One race</th>\n",
       "      <th>Estimate RACE Total population Two or more races</th>\n",
       "      <th>Estimate RACE Total population One race.1</th>\n",
       "      <th>Estimate RACE Total population One race White</th>\n",
       "      <th>Estimate RACE Total population One race Black or African American</th>\n",
       "      <th>Estimate RACE Total population One race American Indian and Alaska Native</th>\n",
       "      <th>Estimate RACE Total population One race American Indian and Alaska Native Cherokee tribal grouping</th>\n",
       "      <th>Estimate RACE Total population One race American Indian and Alaska Native Chippewa tribal grouping</th>\n",
       "      <th>Estimate RACE Total population One race American Indian and Alaska Native Navajo tribal grouping</th>\n",
       "      <th>...</th>\n",
       "      <th>Estimate HISPANIC OR LATINO AND RACE Total population Not Hispanic or Latino</th>\n",
       "      <th>Estimate HISPANIC OR LATINO AND RACE Total population Not Hispanic or Latino White alone</th>\n",
       "      <th>Estimate HISPANIC OR LATINO AND RACE Total population Not Hispanic or Latino Black or African American alone</th>\n",
       "      <th>Estimate HISPANIC OR LATINO AND RACE Total population Not Hispanic or Latino American Indian and Alaska Native alone</th>\n",
       "      <th>Estimate HISPANIC OR LATINO AND RACE Total population Not Hispanic or Latino Asian alone</th>\n",
       "      <th>Estimate HISPANIC OR LATINO AND RACE Total population Not Hispanic or Latino Native Hawaiian and Other Pacific Islander alone</th>\n",
       "      <th>Estimate HISPANIC OR LATINO AND RACE Total population Not Hispanic or Latino Some other race alone</th>\n",
       "      <th>Estimate HISPANIC OR LATINO AND RACE Total population Not Hispanic or Latino Two or more races</th>\n",
       "      <th>Estimate HISPANIC OR LATINO AND RACE Total population Not Hispanic or Latino Two or more races Two races including Some other race</th>\n",
       "      <th>Estimate HISPANIC OR LATINO AND RACE Total population Not Hispanic or Latino Two or more races Two races excluding Some other race, and Three or more races</th>\n",
       "    </tr>\n",
       "    <tr>\n",
       "      <th>Geographic Area Name</th>\n",
       "      <th></th>\n",
       "      <th></th>\n",
       "      <th></th>\n",
       "      <th></th>\n",
       "      <th></th>\n",
       "      <th></th>\n",
       "      <th></th>\n",
       "      <th></th>\n",
       "      <th></th>\n",
       "      <th></th>\n",
       "      <th></th>\n",
       "      <th></th>\n",
       "      <th></th>\n",
       "      <th></th>\n",
       "      <th></th>\n",
       "      <th></th>\n",
       "      <th></th>\n",
       "      <th></th>\n",
       "      <th></th>\n",
       "      <th></th>\n",
       "      <th></th>\n",
       "    </tr>\n",
       "  </thead>\n",
       "  <tbody>\n",
       "    <tr>\n",
       "      <th>Austin County, Texas</th>\n",
       "      <td>29565</td>\n",
       "      <td>29004</td>\n",
       "      <td>561</td>\n",
       "      <td>29004</td>\n",
       "      <td>23810</td>\n",
       "      <td>2626</td>\n",
       "      <td>48</td>\n",
       "      <td>0</td>\n",
       "      <td>0</td>\n",
       "      <td>0</td>\n",
       "      <td>...</td>\n",
       "      <td>21746</td>\n",
       "      <td>18525</td>\n",
       "      <td>2576</td>\n",
       "      <td>48</td>\n",
       "      <td>89</td>\n",
       "      <td>0</td>\n",
       "      <td>52</td>\n",
       "      <td>456</td>\n",
       "      <td>0</td>\n",
       "      <td>456</td>\n",
       "    </tr>\n",
       "    <tr>\n",
       "      <th>Kenedy County, Texas</th>\n",
       "      <td>595</td>\n",
       "      <td>595</td>\n",
       "      <td>0</td>\n",
       "      <td>595</td>\n",
       "      <td>573</td>\n",
       "      <td>0</td>\n",
       "      <td>0</td>\n",
       "      <td>0</td>\n",
       "      <td>0</td>\n",
       "      <td>0</td>\n",
       "      <td>...</td>\n",
       "      <td>73</td>\n",
       "      <td>72</td>\n",
       "      <td>0</td>\n",
       "      <td>0</td>\n",
       "      <td>1</td>\n",
       "      <td>0</td>\n",
       "      <td>0</td>\n",
       "      <td>0</td>\n",
       "      <td>0</td>\n",
       "      <td>0</td>\n",
       "    </tr>\n",
       "  </tbody>\n",
       "</table>\n",
       "<p>2 rows × 46 columns</p>\n",
       "</div>"
      ],
      "text/plain": [
       "                      Estimate RACE Total population  \\\n",
       "Geographic Area Name                                   \n",
       "Austin County, Texas                           29565   \n",
       "Kenedy County, Texas                             595   \n",
       "\n",
       "                      Estimate RACE Total population One race  \\\n",
       "Geographic Area Name                                            \n",
       "Austin County, Texas                                    29004   \n",
       "Kenedy County, Texas                                      595   \n",
       "\n",
       "                      Estimate RACE Total population Two or more races  \\\n",
       "Geographic Area Name                                                     \n",
       "Austin County, Texas                                               561   \n",
       "Kenedy County, Texas                                                 0   \n",
       "\n",
       "                      Estimate RACE Total population One race.1  \\\n",
       "Geographic Area Name                                              \n",
       "Austin County, Texas                                      29004   \n",
       "Kenedy County, Texas                                        595   \n",
       "\n",
       "                      Estimate RACE Total population One race White  \\\n",
       "Geographic Area Name                                                  \n",
       "Austin County, Texas                                          23810   \n",
       "Kenedy County, Texas                                            573   \n",
       "\n",
       "                      Estimate RACE Total population One race Black or African American  \\\n",
       "Geographic Area Name                                                                      \n",
       "Austin County, Texas                                               2626                   \n",
       "Kenedy County, Texas                                                  0                   \n",
       "\n",
       "                      Estimate RACE Total population One race American Indian and Alaska Native  \\\n",
       "Geographic Area Name                                                                              \n",
       "Austin County, Texas                                                 48                           \n",
       "Kenedy County, Texas                                                  0                           \n",
       "\n",
       "                      Estimate RACE Total population One race American Indian and Alaska Native Cherokee tribal grouping  \\\n",
       "Geographic Area Name                                                                                                       \n",
       "Austin County, Texas                                                  0                                                    \n",
       "Kenedy County, Texas                                                  0                                                    \n",
       "\n",
       "                      Estimate RACE Total population One race American Indian and Alaska Native Chippewa tribal grouping  \\\n",
       "Geographic Area Name                                                                                                       \n",
       "Austin County, Texas                                                  0                                                    \n",
       "Kenedy County, Texas                                                  0                                                    \n",
       "\n",
       "                      Estimate RACE Total population One race American Indian and Alaska Native Navajo tribal grouping  \\\n",
       "Geographic Area Name                                                                                                     \n",
       "Austin County, Texas                                                  0                                                  \n",
       "Kenedy County, Texas                                                  0                                                  \n",
       "\n",
       "                      ...  \\\n",
       "Geographic Area Name  ...   \n",
       "Austin County, Texas  ...   \n",
       "Kenedy County, Texas  ...   \n",
       "\n",
       "                      Estimate HISPANIC OR LATINO AND RACE Total population Not Hispanic or Latino  \\\n",
       "Geographic Area Name                                                                                 \n",
       "Austin County, Texas                                              21746                              \n",
       "Kenedy County, Texas                                                 73                              \n",
       "\n",
       "                      Estimate HISPANIC OR LATINO AND RACE Total population Not Hispanic or Latino White alone  \\\n",
       "Geographic Area Name                                                                                             \n",
       "Austin County, Texas                                              18525                                          \n",
       "Kenedy County, Texas                                                 72                                          \n",
       "\n",
       "                      Estimate HISPANIC OR LATINO AND RACE Total population Not Hispanic or Latino Black or African American alone  \\\n",
       "Geographic Area Name                                                                                                                 \n",
       "Austin County, Texas                                               2576                                                              \n",
       "Kenedy County, Texas                                                  0                                                              \n",
       "\n",
       "                      Estimate HISPANIC OR LATINO AND RACE Total population Not Hispanic or Latino American Indian and Alaska Native alone  \\\n",
       "Geographic Area Name                                                                                                                         \n",
       "Austin County, Texas                                                 48                                                                      \n",
       "Kenedy County, Texas                                                  0                                                                      \n",
       "\n",
       "                      Estimate HISPANIC OR LATINO AND RACE Total population Not Hispanic or Latino Asian alone  \\\n",
       "Geographic Area Name                                                                                             \n",
       "Austin County, Texas                                                 89                                          \n",
       "Kenedy County, Texas                                                  1                                          \n",
       "\n",
       "                      Estimate HISPANIC OR LATINO AND RACE Total population Not Hispanic or Latino Native Hawaiian and Other Pacific Islander alone  \\\n",
       "Geographic Area Name                                                                                                                                  \n",
       "Austin County, Texas                                                  0                                                                               \n",
       "Kenedy County, Texas                                                  0                                                                               \n",
       "\n",
       "                      Estimate HISPANIC OR LATINO AND RACE Total population Not Hispanic or Latino Some other race alone  \\\n",
       "Geographic Area Name                                                                                                       \n",
       "Austin County, Texas                                                 52                                                    \n",
       "Kenedy County, Texas                                                  0                                                    \n",
       "\n",
       "                      Estimate HISPANIC OR LATINO AND RACE Total population Not Hispanic or Latino Two or more races  \\\n",
       "Geographic Area Name                                                                                                   \n",
       "Austin County, Texas                                                456                                                \n",
       "Kenedy County, Texas                                                  0                                                \n",
       "\n",
       "                      Estimate HISPANIC OR LATINO AND RACE Total population Not Hispanic or Latino Two or more races Two races including Some other race  \\\n",
       "Geographic Area Name                                                                                                                                       \n",
       "Austin County, Texas                                                  0                                                                                    \n",
       "Kenedy County, Texas                                                  0                                                                                    \n",
       "\n",
       "                      Estimate HISPANIC OR LATINO AND RACE Total population Not Hispanic or Latino Two or more races Two races excluding Some other race, and Three or more races  \n",
       "Geographic Area Name                                                                                                                                                               \n",
       "Austin County, Texas                                                456                                                                                                            \n",
       "Kenedy County, Texas                                                  0                                                                                                            \n",
       "\n",
       "[2 rows x 46 columns]"
      ]
     },
     "execution_count": 35,
     "metadata": {},
     "output_type": "execute_result"
    }
   ],
   "source": [
    "# Extract the columns that have RACE in the title\n",
    "# and save to a new dataframe.\n",
    "dp05_race = dp05.filter(regex='(RACE)', axis=1)\n",
    "# Display the first few rows of the dataframe.\n",
    "dp05_race.head(2)"
   ]
  },
  {
   "cell_type": "code",
   "execution_count": 36,
   "metadata": {},
   "outputs": [
    {
     "name": "stdout",
     "output_type": "stream",
     "text": [
      "<class 'pandas.core.frame.DataFrame'>\n",
      "Index: 543 entries, Austin County, Texas to Mason County, Illinois\n",
      "Data columns (total 46 columns):\n",
      " #   Column                                                                                                                                                       Non-Null Count  Dtype\n",
      "---  ------                                                                                                                                                       --------------  -----\n",
      " 0   Estimate RACE Total population                                                                                                                               543 non-null    int64\n",
      " 1   Estimate RACE Total population One race                                                                                                                      543 non-null    int64\n",
      " 2   Estimate RACE Total population Two or more races                                                                                                             543 non-null    int64\n",
      " 3   Estimate RACE Total population One race.1                                                                                                                    543 non-null    int64\n",
      " 4   Estimate RACE Total population One race White                                                                                                                543 non-null    int64\n",
      " 5   Estimate RACE Total population One race Black or African American                                                                                            543 non-null    int64\n",
      " 6   Estimate RACE Total population One race American Indian and Alaska Native                                                                                    543 non-null    int64\n",
      " 7   Estimate RACE Total population One race American Indian and Alaska Native Cherokee tribal grouping                                                           543 non-null    int64\n",
      " 8   Estimate RACE Total population One race American Indian and Alaska Native Chippewa tribal grouping                                                           543 non-null    int64\n",
      " 9   Estimate RACE Total population One race American Indian and Alaska Native Navajo tribal grouping                                                             543 non-null    int64\n",
      " 10  Estimate RACE Total population One race American Indian and Alaska Native Sioux tribal grouping                                                              543 non-null    int64\n",
      " 11  Estimate RACE Total population One race Asian                                                                                                                543 non-null    int64\n",
      " 12  Estimate RACE Total population One race Asian Asian Indian                                                                                                   543 non-null    int64\n",
      " 13  Estimate RACE Total population One race Asian Chinese                                                                                                        543 non-null    int64\n",
      " 14  Estimate RACE Total population One race Asian Filipino                                                                                                       543 non-null    int64\n",
      " 15  Estimate RACE Total population One race Asian Japanese                                                                                                       543 non-null    int64\n",
      " 16  Estimate RACE Total population One race Asian Korean                                                                                                         543 non-null    int64\n",
      " 17  Estimate RACE Total population One race Asian Vietnamese                                                                                                     543 non-null    int64\n",
      " 18  Estimate RACE Total population One race Asian Other Asian                                                                                                    543 non-null    int64\n",
      " 19  Estimate RACE Total population One race Native Hawaiian and Other Pacific Islander                                                                           543 non-null    int64\n",
      " 20  Estimate RACE Total population One race Native Hawaiian and Other Pacific Islander Native Hawaiian                                                           543 non-null    int64\n",
      " 21  Estimate RACE Total population One race Native Hawaiian and Other Pacific Islander Guamanian or Chamorro                                                     543 non-null    int64\n",
      " 22  Estimate RACE Total population One race Native Hawaiian and Other Pacific Islander Samoan                                                                    543 non-null    int64\n",
      " 23  Estimate RACE Total population One race Native Hawaiian and Other Pacific Islander Other Pacific Islander                                                    543 non-null    int64\n",
      " 24  Estimate RACE Total population One race Some other race                                                                                                      543 non-null    int64\n",
      " 25  Estimate RACE Total population Two or more races.1                                                                                                           543 non-null    int64\n",
      " 26  Estimate RACE Total population Two or more races White and Black or African American                                                                         543 non-null    int64\n",
      " 27  Estimate RACE Total population Two or more races White and American Indian and Alaska Native                                                                 543 non-null    int64\n",
      " 28  Estimate RACE Total population Two or more races White and Asian                                                                                             543 non-null    int64\n",
      " 29  Estimate RACE Total population Two or more races Black or African American and American Indian and Alaska Native                                             543 non-null    int64\n",
      " 30  Estimate HISPANIC OR LATINO AND RACE Total population                                                                                                        543 non-null    int64\n",
      " 31  Estimate HISPANIC OR LATINO AND RACE Total population Hispanic or Latino (of any race)                                                                       543 non-null    int64\n",
      " 32  Estimate HISPANIC OR LATINO AND RACE Total population Hispanic or Latino (of any race) Mexican                                                               543 non-null    int64\n",
      " 33  Estimate HISPANIC OR LATINO AND RACE Total population Hispanic or Latino (of any race) Puerto Rican                                                          543 non-null    int64\n",
      " 34  Estimate HISPANIC OR LATINO AND RACE Total population Hispanic or Latino (of any race) Cuban                                                                 543 non-null    int64\n",
      " 35  Estimate HISPANIC OR LATINO AND RACE Total population Hispanic or Latino (of any race) Other Hispanic or Latino                                              543 non-null    int64\n",
      " 36  Estimate HISPANIC OR LATINO AND RACE Total population Not Hispanic or Latino                                                                                 543 non-null    int64\n",
      " 37  Estimate HISPANIC OR LATINO AND RACE Total population Not Hispanic or Latino White alone                                                                     543 non-null    int64\n",
      " 38  Estimate HISPANIC OR LATINO AND RACE Total population Not Hispanic or Latino Black or African American alone                                                 543 non-null    int64\n",
      " 39  Estimate HISPANIC OR LATINO AND RACE Total population Not Hispanic or Latino American Indian and Alaska Native alone                                         543 non-null    int64\n",
      " 40  Estimate HISPANIC OR LATINO AND RACE Total population Not Hispanic or Latino Asian alone                                                                     543 non-null    int64\n",
      " 41  Estimate HISPANIC OR LATINO AND RACE Total population Not Hispanic or Latino Native Hawaiian and Other Pacific Islander alone                                543 non-null    int64\n",
      " 42  Estimate HISPANIC OR LATINO AND RACE Total population Not Hispanic or Latino Some other race alone                                                           543 non-null    int64\n",
      " 43  Estimate HISPANIC OR LATINO AND RACE Total population Not Hispanic or Latino Two or more races                                                               543 non-null    int64\n",
      " 44  Estimate HISPANIC OR LATINO AND RACE Total population Not Hispanic or Latino Two or more races Two races including Some other race                           543 non-null    int64\n",
      " 45  Estimate HISPANIC OR LATINO AND RACE Total population Not Hispanic or Latino Two or more races Two races excluding Some other race, and Three or more races  543 non-null    int64\n",
      "dtypes: int64(46)\n",
      "memory usage: 199.4+ KB\n"
     ]
    }
   ],
   "source": [
    "# Display information about the dataframe.\n",
    "dp05_race.info()"
   ]
  },
  {
   "cell_type": "code",
   "execution_count": 37,
   "metadata": {},
   "outputs": [],
   "source": [
    "# The race columns are broken down into two basic parts, one witout hispanic, and one with. \n",
    "# The hispanic section appears to be better suited for analysis.\n",
    "columns_hispanic = [\n",
    "    'Estimate RACE Total population',\n",
    "    'Estimate HISPANIC OR LATINO AND RACE Total population Hispanic or Latino (of any race)',\n",
    "    'Estimate HISPANIC OR LATINO AND RACE Total population Not Hispanic or Latino White alone',\n",
    "    'Estimate HISPANIC OR LATINO AND RACE Total population Not Hispanic or Latino Black or African American alone',\n",
    "    'Estimate HISPANIC OR LATINO AND RACE Total population Not Hispanic or Latino American Indian and Alaska Native alone',\n",
    "    'Estimate HISPANIC OR LATINO AND RACE Total population Not Hispanic or Latino Asian alone',\n",
    "    'Estimate HISPANIC OR LATINO AND RACE Total population Not Hispanic or Latino Native Hawaiian and Other Pacific Islander alone',\n",
    "    'Estimate HISPANIC OR LATINO AND RACE Total population Not Hispanic or Latino Some other race alone',\n",
    "    'Estimate HISPANIC OR LATINO AND RACE Total population Not Hispanic or Latino Two or more races'\n",
    "]"
   ]
  },
  {
   "cell_type": "code",
   "execution_count": 38,
   "metadata": {},
   "outputs": [],
   "source": [
    "# Extract the important columns for analysis.\n",
    "dp05_race = dp05_race[columns_hispanic]"
   ]
  },
  {
   "cell_type": "code",
   "execution_count": 39,
   "metadata": {},
   "outputs": [
    {
     "data": {
      "text/plain": [
       "Index(['Estimate RACE Total population',\n",
       "       'Estimate HISPANIC OR LATINO AND RACE Total population Hispanic or Latino (of any race)',\n",
       "       'Estimate HISPANIC OR LATINO AND RACE Total population Not Hispanic or Latino White alone',\n",
       "       'Estimate HISPANIC OR LATINO AND RACE Total population Not Hispanic or Latino Black or African American alone',\n",
       "       'Estimate HISPANIC OR LATINO AND RACE Total population Not Hispanic or Latino American Indian and Alaska Native alone',\n",
       "       'Estimate HISPANIC OR LATINO AND RACE Total population Not Hispanic or Latino Asian alone',\n",
       "       'Estimate HISPANIC OR LATINO AND RACE Total population Not Hispanic or Latino Native Hawaiian and Other Pacific Islander alone',\n",
       "       'Estimate HISPANIC OR LATINO AND RACE Total population Not Hispanic or Latino Some other race alone',\n",
       "       'Estimate HISPANIC OR LATINO AND RACE Total population Not Hispanic or Latino Two or more races'],\n",
       "      dtype='object')"
      ]
     },
     "execution_count": 39,
     "metadata": {},
     "output_type": "execute_result"
    }
   ],
   "source": [
    "# Display the columns of the dataframe.\n",
    "dp05_race.columns"
   ]
  },
  {
   "cell_type": "code",
   "execution_count": 40,
   "metadata": {},
   "outputs": [],
   "source": [
    "# Clean up column names.\n",
    "dp05_race.columns = dp05_race.columns.str.lower().str.replace('estimate hispanic or latino and race total population', 'race pop')"
   ]
  },
  {
   "cell_type": "code",
   "execution_count": 41,
   "metadata": {},
   "outputs": [],
   "source": [
    "# Clean up column names.\n",
    "dp05_race.columns = dp05_race.columns.str.replace('not hispanic or latino ', '').str.replace('estimate race total population', 'race pop')"
   ]
  },
  {
   "cell_type": "code",
   "execution_count": 42,
   "metadata": {},
   "outputs": [],
   "source": [
    "# Clean up column names.\n",
    "dp05_race.columns = dp05_race.columns.str.replace('\\(', '').str.replace('\\)', '').str.replace(' ', '_')"
   ]
  },
  {
   "cell_type": "code",
   "execution_count": 43,
   "metadata": {},
   "outputs": [
    {
     "data": {
      "text/plain": [
       "['race_pop',\n",
       " 'race_pop_hispanic_or_latino_of_any_race',\n",
       " 'race_pop_white_alone',\n",
       " 'race_pop_black_or_african_american_alone',\n",
       " 'race_pop_american_indian_and_alaska_native_alone',\n",
       " 'race_pop_asian_alone',\n",
       " 'race_pop_native_hawaiian_and_other_pacific_islander_alone',\n",
       " 'race_pop_some_other_race_alone',\n",
       " 'race_pop_two_or_more_races']"
      ]
     },
     "execution_count": 43,
     "metadata": {},
     "output_type": "execute_result"
    }
   ],
   "source": [
    "# Display the columns of the dataframe.\n",
    "list(dp05_race.columns)"
   ]
  },
  {
   "cell_type": "code",
   "execution_count": 44,
   "metadata": {},
   "outputs": [],
   "source": [
    "# Export the data.\n",
    "dp05_race.to_csv('../data/preprocessing/cleaned_dp05_race_five_states.csv')"
   ]
  },
  {
   "cell_type": "markdown",
   "metadata": {},
   "source": [
    "# Importing and Cleaning DP03 Data"
   ]
  },
  {
   "cell_type": "code",
   "execution_count": 45,
   "metadata": {},
   "outputs": [
    {
     "data": {
      "text/html": [
       "<div>\n",
       "<style scoped>\n",
       "    .dataframe tbody tr th:only-of-type {\n",
       "        vertical-align: middle;\n",
       "    }\n",
       "\n",
       "    .dataframe tbody tr th {\n",
       "        vertical-align: top;\n",
       "    }\n",
       "\n",
       "    .dataframe thead th {\n",
       "        text-align: right;\n",
       "    }\n",
       "</style>\n",
       "<table border=\"1\" class=\"dataframe\">\n",
       "  <thead>\n",
       "    <tr style=\"text-align: right;\">\n",
       "      <th></th>\n",
       "      <th>GEO_ID</th>\n",
       "      <th>Estimate!!EMPLOYMENT STATUS!!Population 16 years and over</th>\n",
       "      <th>Margin of Error!!EMPLOYMENT STATUS!!Population 16 years and over</th>\n",
       "      <th>Percent Estimate!!EMPLOYMENT STATUS!!Population 16 years and over</th>\n",
       "      <th>Percent Margin of Error!!EMPLOYMENT STATUS!!Population 16 years and over</th>\n",
       "      <th>Estimate!!EMPLOYMENT STATUS!!Population 16 years and over!!In labor force</th>\n",
       "      <th>Margin of Error!!EMPLOYMENT STATUS!!Population 16 years and over!!In labor force</th>\n",
       "      <th>Percent Estimate!!EMPLOYMENT STATUS!!Population 16 years and over!!In labor force</th>\n",
       "      <th>Percent Margin of Error!!EMPLOYMENT STATUS!!Population 16 years and over!!In labor force</th>\n",
       "      <th>Estimate!!EMPLOYMENT STATUS!!Population 16 years and over!!In labor force!!Civilian labor force</th>\n",
       "      <th>...</th>\n",
       "      <th>DP03_0134EA</th>\n",
       "      <th>DP03_0134MA</th>\n",
       "      <th>DP03_0135EA</th>\n",
       "      <th>DP03_0135MA</th>\n",
       "      <th>DP03_0136EA</th>\n",
       "      <th>DP03_0136MA</th>\n",
       "      <th>DP03_0137MA</th>\n",
       "      <th>DP03_0137EA</th>\n",
       "      <th>state</th>\n",
       "      <th>county</th>\n",
       "    </tr>\n",
       "    <tr>\n",
       "      <th>Geographic Area Name</th>\n",
       "      <th></th>\n",
       "      <th></th>\n",
       "      <th></th>\n",
       "      <th></th>\n",
       "      <th></th>\n",
       "      <th></th>\n",
       "      <th></th>\n",
       "      <th></th>\n",
       "      <th></th>\n",
       "      <th></th>\n",
       "      <th></th>\n",
       "      <th></th>\n",
       "      <th></th>\n",
       "      <th></th>\n",
       "      <th></th>\n",
       "      <th></th>\n",
       "      <th></th>\n",
       "      <th></th>\n",
       "      <th></th>\n",
       "      <th></th>\n",
       "      <th></th>\n",
       "    </tr>\n",
       "  </thead>\n",
       "  <tbody>\n",
       "    <tr>\n",
       "      <th>Austin County, Texas</th>\n",
       "      <td>0500000US48015</td>\n",
       "      <td>23354</td>\n",
       "      <td>108</td>\n",
       "      <td>23354</td>\n",
       "      <td>-888888888</td>\n",
       "      <td>14475</td>\n",
       "      <td>413</td>\n",
       "      <td>62.0</td>\n",
       "      <td>1.8</td>\n",
       "      <td>14475</td>\n",
       "      <td>...</td>\n",
       "      <td>(X)</td>\n",
       "      <td>(X)</td>\n",
       "      <td>(X)</td>\n",
       "      <td>(X)</td>\n",
       "      <td>(X)</td>\n",
       "      <td>(X)</td>\n",
       "      <td>(X)</td>\n",
       "      <td>(X)</td>\n",
       "      <td>48</td>\n",
       "      <td>15</td>\n",
       "    </tr>\n",
       "    <tr>\n",
       "      <th>Kenedy County, Texas</th>\n",
       "      <td>0500000US48261</td>\n",
       "      <td>428</td>\n",
       "      <td>122</td>\n",
       "      <td>428</td>\n",
       "      <td>-888888888</td>\n",
       "      <td>220</td>\n",
       "      <td>83</td>\n",
       "      <td>51.4</td>\n",
       "      <td>13.4</td>\n",
       "      <td>220</td>\n",
       "      <td>...</td>\n",
       "      <td>(X)</td>\n",
       "      <td>(X)</td>\n",
       "      <td>(X)</td>\n",
       "      <td>(X)</td>\n",
       "      <td>(X)</td>\n",
       "      <td>(X)</td>\n",
       "      <td>(X)</td>\n",
       "      <td>(X)</td>\n",
       "      <td>48</td>\n",
       "      <td>261</td>\n",
       "    </tr>\n",
       "  </tbody>\n",
       "</table>\n",
       "<p>2 rows × 643 columns</p>\n",
       "</div>"
      ],
      "text/plain": [
       "                              GEO_ID  \\\n",
       "Geographic Area Name                   \n",
       "Austin County, Texas  0500000US48015   \n",
       "Kenedy County, Texas  0500000US48261   \n",
       "\n",
       "                      Estimate!!EMPLOYMENT STATUS!!Population 16 years and over  \\\n",
       "Geographic Area Name                                                              \n",
       "Austin County, Texas                                              23354           \n",
       "Kenedy County, Texas                                                428           \n",
       "\n",
       "                      Margin of Error!!EMPLOYMENT STATUS!!Population 16 years and over  \\\n",
       "Geographic Area Name                                                                     \n",
       "Austin County, Texas                                                108                  \n",
       "Kenedy County, Texas                                                122                  \n",
       "\n",
       "                      Percent Estimate!!EMPLOYMENT STATUS!!Population 16 years and over  \\\n",
       "Geographic Area Name                                                                      \n",
       "Austin County, Texas                                              23354                   \n",
       "Kenedy County, Texas                                                428                   \n",
       "\n",
       "                      Percent Margin of Error!!EMPLOYMENT STATUS!!Population 16 years and over  \\\n",
       "Geographic Area Name                                                                             \n",
       "Austin County, Texas                                         -888888888                          \n",
       "Kenedy County, Texas                                         -888888888                          \n",
       "\n",
       "                      Estimate!!EMPLOYMENT STATUS!!Population 16 years and over!!In labor force  \\\n",
       "Geographic Area Name                                                                              \n",
       "Austin County, Texas                                              14475                           \n",
       "Kenedy County, Texas                                                220                           \n",
       "\n",
       "                      Margin of Error!!EMPLOYMENT STATUS!!Population 16 years and over!!In labor force  \\\n",
       "Geographic Area Name                                                                                     \n",
       "Austin County, Texas                                                413                                  \n",
       "Kenedy County, Texas                                                 83                                  \n",
       "\n",
       "                      Percent Estimate!!EMPLOYMENT STATUS!!Population 16 years and over!!In labor force  \\\n",
       "Geographic Area Name                                                                                      \n",
       "Austin County, Texas                                               62.0                                   \n",
       "Kenedy County, Texas                                               51.4                                   \n",
       "\n",
       "                      Percent Margin of Error!!EMPLOYMENT STATUS!!Population 16 years and over!!In labor force  \\\n",
       "Geographic Area Name                                                                                             \n",
       "Austin County, Texas                                                1.8                                          \n",
       "Kenedy County, Texas                                               13.4                                          \n",
       "\n",
       "                      Estimate!!EMPLOYMENT STATUS!!Population 16 years and over!!In labor force!!Civilian labor force  \\\n",
       "Geographic Area Name                                                                                                    \n",
       "Austin County, Texas                                              14475                                                 \n",
       "Kenedy County, Texas                                                220                                                 \n",
       "\n",
       "                      ...  DP03_0134EA  DP03_0134MA  DP03_0135EA  DP03_0135MA  \\\n",
       "Geographic Area Name  ...                                                       \n",
       "Austin County, Texas  ...          (X)          (X)          (X)          (X)   \n",
       "Kenedy County, Texas  ...          (X)          (X)          (X)          (X)   \n",
       "\n",
       "                      DP03_0136EA  DP03_0136MA  DP03_0137MA  DP03_0137EA  \\\n",
       "Geographic Area Name                                                       \n",
       "Austin County, Texas          (X)          (X)          (X)          (X)   \n",
       "Kenedy County, Texas          (X)          (X)          (X)          (X)   \n",
       "\n",
       "                      state  county  \n",
       "Geographic Area Name                 \n",
       "Austin County, Texas     48      15  \n",
       "Kenedy County, Texas     48     261  \n",
       "\n",
       "[2 rows x 643 columns]"
      ]
     },
     "execution_count": 45,
     "metadata": {},
     "output_type": "execute_result"
    }
   ],
   "source": [
    "# Read in data with heads as dataframe, setting the geo name to the idex.\n",
    "dp03 = pd.read_csv('../data/preprocessing/raw_dp03_with_headers_five_states.csv', index_col=0)\n",
    "# Display the first few rows of the dataframe.\n",
    "dp03.head(2)"
   ]
  },
  {
   "cell_type": "code",
   "execution_count": 46,
   "metadata": {},
   "outputs": [],
   "source": [
    "# Replace !! in column titles with empty space.\n",
    "dp03.columns = dp03.columns.str.replace('!!', ' ')"
   ]
  },
  {
   "cell_type": "code",
   "execution_count": 47,
   "metadata": {},
   "outputs": [],
   "source": [
    "# Drop the state and county number columns.\n",
    "dp03 = dp03.drop(columns= ['state', 'county', 'Geographic Area Name.1', 'GEO_ID'])"
   ]
  },
  {
   "cell_type": "markdown",
   "metadata": {},
   "source": [
    "## Replace -888888888, -555555555, -666666666, and (X) with NaN\n",
    "\n",
    "-888888888, or '(X)' means that the estimate is not applicable or not available.  \n",
    "-555555555, or '*****' entry in the margin of error column indicates that the estimate is controlled. A statistical test for sampling variability is not appropriate.  \n",
    "-666666666, or '-' entry indicates either no sample observations or too few sample observations were available to compute an estimate, or a ratio of medians cannot be calculated because one or both of the median estimates falls in the lowest interval or upper interval of an open-ended distribution."
   ]
  },
  {
   "cell_type": "code",
   "execution_count": 48,
   "metadata": {},
   "outputs": [],
   "source": [
    "# Replace -888888888, -555555555, and '(X)' with NaN\n",
    "dp03 = dp03.replace([-888888888, -555555555, -666666666, '(X)'], np.nan)"
   ]
  },
  {
   "cell_type": "markdown",
   "metadata": {},
   "source": [
    "## Drop Margin of Error Columns"
   ]
  },
  {
   "cell_type": "code",
   "execution_count": 49,
   "metadata": {},
   "outputs": [],
   "source": [
    "# Drop columns that contain 'Margin' in the name.\n",
    "# https://stackoverflow.com/questions/406230/regular-expression-to-match-a-line-that-doesnt-contain-a-word\n",
    "dp03 = dp03.filter(regex='^((?!Margin).)*$', axis=1)"
   ]
  },
  {
   "cell_type": "markdown",
   "metadata": {},
   "source": [
    "## Drop Percent Columns"
   ]
  },
  {
   "cell_type": "code",
   "execution_count": 50,
   "metadata": {},
   "outputs": [],
   "source": [
    "# Drop columns that contain 'Percent' in the name.\n",
    "# Any percentages will be calculated after recombining total counts\n",
    "dp03 = dp03.filter(regex='^((?!Percent).)*$', axis=1)"
   ]
  },
  {
   "cell_type": "markdown",
   "metadata": {},
   "source": [
    "## Drop Columns with NaN Values"
   ]
  },
  {
   "cell_type": "code",
   "execution_count": 51,
   "metadata": {},
   "outputs": [],
   "source": [
    "# Drop the columns that have NaN values.\n",
    "dp03 = dp03.loc[:, (dp03.isna().sum() < 1)]"
   ]
  },
  {
   "cell_type": "code",
   "execution_count": 52,
   "metadata": {},
   "outputs": [
    {
     "data": {
      "text/html": [
       "<div>\n",
       "<style scoped>\n",
       "    .dataframe tbody tr th:only-of-type {\n",
       "        vertical-align: middle;\n",
       "    }\n",
       "\n",
       "    .dataframe tbody tr th {\n",
       "        vertical-align: top;\n",
       "    }\n",
       "\n",
       "    .dataframe thead th {\n",
       "        text-align: right;\n",
       "    }\n",
       "</style>\n",
       "<table border=\"1\" class=\"dataframe\">\n",
       "  <thead>\n",
       "    <tr style=\"text-align: right;\">\n",
       "      <th></th>\n",
       "      <th>Estimate EMPLOYMENT STATUS Population 16 years and over</th>\n",
       "      <th>Estimate EMPLOYMENT STATUS Population 16 years and over In labor force</th>\n",
       "      <th>Estimate EMPLOYMENT STATUS Population 16 years and over In labor force Civilian labor force</th>\n",
       "      <th>Estimate EMPLOYMENT STATUS Population 16 years and over In labor force Civilian labor force Employed</th>\n",
       "      <th>Estimate EMPLOYMENT STATUS Population 16 years and over In labor force Civilian labor force Unemployed</th>\n",
       "      <th>Estimate EMPLOYMENT STATUS Population 16 years and over In labor force Armed Forces</th>\n",
       "      <th>Estimate EMPLOYMENT STATUS Population 16 years and over Not in labor force</th>\n",
       "      <th>Estimate EMPLOYMENT STATUS Civilian labor force</th>\n",
       "      <th>Estimate EMPLOYMENT STATUS Females 16 years and over</th>\n",
       "      <th>Estimate EMPLOYMENT STATUS Females 16 years and over In labor force</th>\n",
       "      <th>...</th>\n",
       "      <th>Estimate HEALTH INSURANCE COVERAGE Civilian noninstitutionalized population Civilian noninstitutionalized population 19 to 64 years In labor force Unemployed</th>\n",
       "      <th>Estimate HEALTH INSURANCE COVERAGE Civilian noninstitutionalized population Civilian noninstitutionalized population 19 to 64 years In labor force Unemployed With health insurance coverage</th>\n",
       "      <th>Estimate HEALTH INSURANCE COVERAGE Civilian noninstitutionalized population Civilian noninstitutionalized population 19 to 64 years In labor force Unemployed With health insurance coverage With private health insurance</th>\n",
       "      <th>Estimate HEALTH INSURANCE COVERAGE Civilian noninstitutionalized population Civilian noninstitutionalized population 19 to 64 years In labor force Unemployed With health insurance coverage With public coverage</th>\n",
       "      <th>Estimate HEALTH INSURANCE COVERAGE Civilian noninstitutionalized population Civilian noninstitutionalized population 19 to 64 years In labor force Unemployed No health insurance coverage</th>\n",
       "      <th>Estimate HEALTH INSURANCE COVERAGE Civilian noninstitutionalized population Civilian noninstitutionalized population 19 to 64 years Not in labor force</th>\n",
       "      <th>Estimate HEALTH INSURANCE COVERAGE Civilian noninstitutionalized population Civilian noninstitutionalized population 19 to 64 years Not in labor force With health insurance coverage</th>\n",
       "      <th>Estimate HEALTH INSURANCE COVERAGE Civilian noninstitutionalized population Civilian noninstitutionalized population 19 to 64 years Not in labor force With health insurance coverage With private health insurance</th>\n",
       "      <th>Estimate HEALTH INSURANCE COVERAGE Civilian noninstitutionalized population Civilian noninstitutionalized population 19 to 64 years Not in labor force With health insurance coverage With public coverage</th>\n",
       "      <th>Estimate HEALTH INSURANCE COVERAGE Civilian noninstitutionalized population Civilian noninstitutionalized population 19 to 64 years Not in labor force No health insurance coverage</th>\n",
       "    </tr>\n",
       "    <tr>\n",
       "      <th>Geographic Area Name</th>\n",
       "      <th></th>\n",
       "      <th></th>\n",
       "      <th></th>\n",
       "      <th></th>\n",
       "      <th></th>\n",
       "      <th></th>\n",
       "      <th></th>\n",
       "      <th></th>\n",
       "      <th></th>\n",
       "      <th></th>\n",
       "      <th></th>\n",
       "      <th></th>\n",
       "      <th></th>\n",
       "      <th></th>\n",
       "      <th></th>\n",
       "      <th></th>\n",
       "      <th></th>\n",
       "      <th></th>\n",
       "      <th></th>\n",
       "      <th></th>\n",
       "      <th></th>\n",
       "    </tr>\n",
       "  </thead>\n",
       "  <tbody>\n",
       "    <tr>\n",
       "      <th>Austin County, Texas</th>\n",
       "      <td>23354</td>\n",
       "      <td>14475</td>\n",
       "      <td>14475</td>\n",
       "      <td>13801</td>\n",
       "      <td>674</td>\n",
       "      <td>0</td>\n",
       "      <td>8879</td>\n",
       "      <td>14475</td>\n",
       "      <td>11825</td>\n",
       "      <td>6551</td>\n",
       "      <td>...</td>\n",
       "      <td>645</td>\n",
       "      <td>469</td>\n",
       "      <td>393</td>\n",
       "      <td>78</td>\n",
       "      <td>176</td>\n",
       "      <td>3758</td>\n",
       "      <td>2918</td>\n",
       "      <td>2081</td>\n",
       "      <td>1036</td>\n",
       "      <td>840</td>\n",
       "    </tr>\n",
       "    <tr>\n",
       "      <th>Kenedy County, Texas</th>\n",
       "      <td>428</td>\n",
       "      <td>220</td>\n",
       "      <td>220</td>\n",
       "      <td>220</td>\n",
       "      <td>0</td>\n",
       "      <td>0</td>\n",
       "      <td>208</td>\n",
       "      <td>220</td>\n",
       "      <td>238</td>\n",
       "      <td>91</td>\n",
       "      <td>...</td>\n",
       "      <td>0</td>\n",
       "      <td>0</td>\n",
       "      <td>0</td>\n",
       "      <td>0</td>\n",
       "      <td>0</td>\n",
       "      <td>83</td>\n",
       "      <td>38</td>\n",
       "      <td>33</td>\n",
       "      <td>5</td>\n",
       "      <td>45</td>\n",
       "    </tr>\n",
       "  </tbody>\n",
       "</table>\n",
       "<p>2 rows × 113 columns</p>\n",
       "</div>"
      ],
      "text/plain": [
       "                      Estimate EMPLOYMENT STATUS Population 16 years and over  \\\n",
       "Geographic Area Name                                                            \n",
       "Austin County, Texas                                              23354         \n",
       "Kenedy County, Texas                                                428         \n",
       "\n",
       "                      Estimate EMPLOYMENT STATUS Population 16 years and over In labor force  \\\n",
       "Geographic Area Name                                                                           \n",
       "Austin County, Texas                                              14475                        \n",
       "Kenedy County, Texas                                                220                        \n",
       "\n",
       "                      Estimate EMPLOYMENT STATUS Population 16 years and over In labor force Civilian labor force  \\\n",
       "Geographic Area Name                                                                                                \n",
       "Austin County, Texas                                              14475                                             \n",
       "Kenedy County, Texas                                                220                                             \n",
       "\n",
       "                      Estimate EMPLOYMENT STATUS Population 16 years and over In labor force Civilian labor force Employed  \\\n",
       "Geographic Area Name                                                                                                         \n",
       "Austin County, Texas                                              13801                                                      \n",
       "Kenedy County, Texas                                                220                                                      \n",
       "\n",
       "                      Estimate EMPLOYMENT STATUS Population 16 years and over In labor force Civilian labor force Unemployed  \\\n",
       "Geographic Area Name                                                                                                           \n",
       "Austin County, Texas                                                674                                                        \n",
       "Kenedy County, Texas                                                  0                                                        \n",
       "\n",
       "                      Estimate EMPLOYMENT STATUS Population 16 years and over In labor force Armed Forces  \\\n",
       "Geographic Area Name                                                                                        \n",
       "Austin County, Texas                                                  0                                     \n",
       "Kenedy County, Texas                                                  0                                     \n",
       "\n",
       "                      Estimate EMPLOYMENT STATUS Population 16 years and over Not in labor force  \\\n",
       "Geographic Area Name                                                                               \n",
       "Austin County, Texas                                               8879                            \n",
       "Kenedy County, Texas                                                208                            \n",
       "\n",
       "                      Estimate EMPLOYMENT STATUS Civilian labor force  \\\n",
       "Geographic Area Name                                                    \n",
       "Austin County, Texas                                            14475   \n",
       "Kenedy County, Texas                                              220   \n",
       "\n",
       "                      Estimate EMPLOYMENT STATUS Females 16 years and over  \\\n",
       "Geographic Area Name                                                         \n",
       "Austin County, Texas                                              11825      \n",
       "Kenedy County, Texas                                                238      \n",
       "\n",
       "                      Estimate EMPLOYMENT STATUS Females 16 years and over In labor force  \\\n",
       "Geographic Area Name                                                                        \n",
       "Austin County, Texas                                               6551                     \n",
       "Kenedy County, Texas                                                 91                     \n",
       "\n",
       "                      ...  \\\n",
       "Geographic Area Name  ...   \n",
       "Austin County, Texas  ...   \n",
       "Kenedy County, Texas  ...   \n",
       "\n",
       "                      Estimate HEALTH INSURANCE COVERAGE Civilian noninstitutionalized population Civilian noninstitutionalized population 19 to 64 years In labor force Unemployed  \\\n",
       "Geographic Area Name                                                                                                                                                                  \n",
       "Austin County, Texas                                                645                                                                                                               \n",
       "Kenedy County, Texas                                                  0                                                                                                               \n",
       "\n",
       "                      Estimate HEALTH INSURANCE COVERAGE Civilian noninstitutionalized population Civilian noninstitutionalized population 19 to 64 years In labor force Unemployed With health insurance coverage  \\\n",
       "Geographic Area Name                                                                                                                                                                                                 \n",
       "Austin County, Texas                                                469                                                                                                                                              \n",
       "Kenedy County, Texas                                                  0                                                                                                                                              \n",
       "\n",
       "                      Estimate HEALTH INSURANCE COVERAGE Civilian noninstitutionalized population Civilian noninstitutionalized population 19 to 64 years In labor force Unemployed With health insurance coverage With private health insurance  \\\n",
       "Geographic Area Name                                                                                                                                                                                                                               \n",
       "Austin County, Texas                                                393                                                                                                                                                                            \n",
       "Kenedy County, Texas                                                  0                                                                                                                                                                            \n",
       "\n",
       "                      Estimate HEALTH INSURANCE COVERAGE Civilian noninstitutionalized population Civilian noninstitutionalized population 19 to 64 years In labor force Unemployed With health insurance coverage With public coverage  \\\n",
       "Geographic Area Name                                                                                                                                                                                                                      \n",
       "Austin County, Texas                                                 78                                                                                                                                                                   \n",
       "Kenedy County, Texas                                                  0                                                                                                                                                                   \n",
       "\n",
       "                      Estimate HEALTH INSURANCE COVERAGE Civilian noninstitutionalized population Civilian noninstitutionalized population 19 to 64 years In labor force Unemployed No health insurance coverage  \\\n",
       "Geographic Area Name                                                                                                                                                                                               \n",
       "Austin County, Texas                                                176                                                                                                                                            \n",
       "Kenedy County, Texas                                                  0                                                                                                                                            \n",
       "\n",
       "                      Estimate HEALTH INSURANCE COVERAGE Civilian noninstitutionalized population Civilian noninstitutionalized population 19 to 64 years Not in labor force  \\\n",
       "Geographic Area Name                                                                                                                                                           \n",
       "Austin County, Texas                                               3758                                                                                                        \n",
       "Kenedy County, Texas                                                 83                                                                                                        \n",
       "\n",
       "                      Estimate HEALTH INSURANCE COVERAGE Civilian noninstitutionalized population Civilian noninstitutionalized population 19 to 64 years Not in labor force With health insurance coverage  \\\n",
       "Geographic Area Name                                                                                                                                                                                          \n",
       "Austin County, Texas                                               2918                                                                                                                                       \n",
       "Kenedy County, Texas                                                 38                                                                                                                                       \n",
       "\n",
       "                      Estimate HEALTH INSURANCE COVERAGE Civilian noninstitutionalized population Civilian noninstitutionalized population 19 to 64 years Not in labor force With health insurance coverage With private health insurance  \\\n",
       "Geographic Area Name                                                                                                                                                                                                                        \n",
       "Austin County, Texas                                               2081                                                                                                                                                                     \n",
       "Kenedy County, Texas                                                 33                                                                                                                                                                     \n",
       "\n",
       "                      Estimate HEALTH INSURANCE COVERAGE Civilian noninstitutionalized population Civilian noninstitutionalized population 19 to 64 years Not in labor force With health insurance coverage With public coverage  \\\n",
       "Geographic Area Name                                                                                                                                                                                                               \n",
       "Austin County, Texas                                               1036                                                                                                                                                            \n",
       "Kenedy County, Texas                                                  5                                                                                                                                                            \n",
       "\n",
       "                      Estimate HEALTH INSURANCE COVERAGE Civilian noninstitutionalized population Civilian noninstitutionalized population 19 to 64 years Not in labor force No health insurance coverage  \n",
       "Geographic Area Name                                                                                                                                                                                       \n",
       "Austin County, Texas                                                840                                                                                                                                    \n",
       "Kenedy County, Texas                                                 45                                                                                                                                    \n",
       "\n",
       "[2 rows x 113 columns]"
      ]
     },
     "execution_count": 52,
     "metadata": {},
     "output_type": "execute_result"
    }
   ],
   "source": [
    "# Display the first few rows of the dataframe\n",
    "dp03.head(2)"
   ]
  },
  {
   "cell_type": "markdown",
   "metadata": {},
   "source": [
    "Economic categories covered in DP03:\n",
    "1. Employment Status\n",
    "1. Commuting to Work\n",
    "1. Occupation\n",
    "1. Industry\n",
    "1. Class of Worker\n",
    "1. Income and Benefits\n",
    "1. Health Insurance Coverage"
   ]
  },
  {
   "cell_type": "code",
   "execution_count": 53,
   "metadata": {},
   "outputs": [
    {
     "data": {
      "text/plain": [
       "['Estimate EMPLOYMENT STATUS Population 16 years and over',\n",
       " 'Estimate EMPLOYMENT STATUS Population 16 years and over In labor force',\n",
       " 'Estimate EMPLOYMENT STATUS Population 16 years and over In labor force Civilian labor force',\n",
       " 'Estimate EMPLOYMENT STATUS Population 16 years and over In labor force Civilian labor force Employed',\n",
       " 'Estimate EMPLOYMENT STATUS Population 16 years and over In labor force Civilian labor force Unemployed',\n",
       " 'Estimate EMPLOYMENT STATUS Population 16 years and over In labor force Armed Forces',\n",
       " 'Estimate EMPLOYMENT STATUS Population 16 years and over Not in labor force',\n",
       " 'Estimate EMPLOYMENT STATUS Civilian labor force',\n",
       " 'Estimate EMPLOYMENT STATUS Females 16 years and over',\n",
       " 'Estimate EMPLOYMENT STATUS Females 16 years and over In labor force',\n",
       " 'Estimate EMPLOYMENT STATUS Females 16 years and over In labor force Civilian labor force',\n",
       " 'Estimate EMPLOYMENT STATUS Females 16 years and over In labor force Civilian labor force Employed',\n",
       " 'Estimate EMPLOYMENT STATUS Own children of the householder under 6 years',\n",
       " 'Estimate EMPLOYMENT STATUS Own children of the householder under 6 years All parents in family in labor force',\n",
       " 'Estimate EMPLOYMENT STATUS Own children of the householder 6 to 17 years',\n",
       " 'Estimate EMPLOYMENT STATUS Own children of the householder 6 to 17 years All parents in family in labor force',\n",
       " 'Estimate COMMUTING TO WORK Workers 16 years and over',\n",
       " 'Estimate COMMUTING TO WORK Workers 16 years and over Car, truck, or van -- drove alone',\n",
       " 'Estimate COMMUTING TO WORK Workers 16 years and over Car, truck, or van -- carpooled',\n",
       " 'Estimate COMMUTING TO WORK Workers 16 years and over Public transportation (excluding taxicab)',\n",
       " 'Estimate COMMUTING TO WORK Workers 16 years and over Walked',\n",
       " 'Estimate COMMUTING TO WORK Workers 16 years and over Other means',\n",
       " 'Estimate COMMUTING TO WORK Workers 16 years and over Worked at home',\n",
       " 'Estimate COMMUTING TO WORK Workers 16 years and over Mean travel time to work (minutes)',\n",
       " 'Estimate OCCUPATION Civilian employed population 16 years and over',\n",
       " 'Estimate OCCUPATION Civilian employed population 16 years and over Management, business, science, and arts occupations',\n",
       " 'Estimate OCCUPATION Civilian employed population 16 years and over Service occupations',\n",
       " 'Estimate OCCUPATION Civilian employed population 16 years and over Sales and office occupations',\n",
       " 'Estimate OCCUPATION Civilian employed population 16 years and over Natural resources, construction, and maintenance occupations',\n",
       " 'Estimate OCCUPATION Civilian employed population 16 years and over Production, transportation, and material moving occupations',\n",
       " 'Estimate INDUSTRY Civilian employed population 16 years and over',\n",
       " 'Estimate INDUSTRY Civilian employed population 16 years and over Agriculture, forestry, fishing and hunting, and mining',\n",
       " 'Estimate INDUSTRY Civilian employed population 16 years and over Construction',\n",
       " 'Estimate INDUSTRY Civilian employed population 16 years and over Manufacturing',\n",
       " 'Estimate INDUSTRY Civilian employed population 16 years and over Wholesale trade',\n",
       " 'Estimate INDUSTRY Civilian employed population 16 years and over Retail trade',\n",
       " 'Estimate INDUSTRY Civilian employed population 16 years and over Transportation and warehousing, and utilities',\n",
       " 'Estimate INDUSTRY Civilian employed population 16 years and over Information',\n",
       " 'Estimate INDUSTRY Civilian employed population 16 years and over Finance and insurance, and real estate and rental and leasing',\n",
       " 'Estimate INDUSTRY Civilian employed population 16 years and over Professional, scientific, and management, and administrative and waste management services',\n",
       " 'Estimate INDUSTRY Civilian employed population 16 years and over Educational services, and health care and social assistance',\n",
       " 'Estimate INDUSTRY Civilian employed population 16 years and over Arts, entertainment, and recreation, and accommodation and food services',\n",
       " 'Estimate INDUSTRY Civilian employed population 16 years and over Other services, except public administration',\n",
       " 'Estimate INDUSTRY Civilian employed population 16 years and over Public administration',\n",
       " 'Estimate CLASS OF WORKER Civilian employed population 16 years and over',\n",
       " 'Estimate CLASS OF WORKER Civilian employed population 16 years and over Private wage and salary workers',\n",
       " 'Estimate CLASS OF WORKER Civilian employed population 16 years and over Government workers',\n",
       " 'Estimate CLASS OF WORKER Civilian employed population 16 years and over Self-employed in own not incorporated business workers',\n",
       " 'Estimate CLASS OF WORKER Civilian employed population 16 years and over Unpaid family workers',\n",
       " 'Estimate INCOME AND BENEFITS (IN 2018 INFLATION-ADJUSTED DOLLARS) Total households',\n",
       " 'Estimate INCOME AND BENEFITS (IN 2018 INFLATION-ADJUSTED DOLLARS) Total households Less than $10,000',\n",
       " 'Estimate INCOME AND BENEFITS (IN 2018 INFLATION-ADJUSTED DOLLARS) Total households $10,000 to $14,999',\n",
       " 'Estimate INCOME AND BENEFITS (IN 2018 INFLATION-ADJUSTED DOLLARS) Total households $15,000 to $24,999',\n",
       " 'Estimate INCOME AND BENEFITS (IN 2018 INFLATION-ADJUSTED DOLLARS) Total households $25,000 to $34,999',\n",
       " 'Estimate INCOME AND BENEFITS (IN 2018 INFLATION-ADJUSTED DOLLARS) Total households $35,000 to $49,999',\n",
       " 'Estimate INCOME AND BENEFITS (IN 2018 INFLATION-ADJUSTED DOLLARS) Total households $50,000 to $74,999',\n",
       " 'Estimate INCOME AND BENEFITS (IN 2018 INFLATION-ADJUSTED DOLLARS) Total households $75,000 to $99,999',\n",
       " 'Estimate INCOME AND BENEFITS (IN 2018 INFLATION-ADJUSTED DOLLARS) Total households $100,000 to $149,999',\n",
       " 'Estimate INCOME AND BENEFITS (IN 2018 INFLATION-ADJUSTED DOLLARS) Total households $150,000 to $199,999',\n",
       " 'Estimate INCOME AND BENEFITS (IN 2018 INFLATION-ADJUSTED DOLLARS) Total households $200,000 or more',\n",
       " 'Estimate INCOME AND BENEFITS (IN 2018 INFLATION-ADJUSTED DOLLARS) Total households Median household income (dollars)',\n",
       " 'Estimate INCOME AND BENEFITS (IN 2018 INFLATION-ADJUSTED DOLLARS) Total households Mean household income (dollars)',\n",
       " 'Estimate INCOME AND BENEFITS (IN 2018 INFLATION-ADJUSTED DOLLARS) Total households With earnings',\n",
       " 'Estimate INCOME AND BENEFITS (IN 2018 INFLATION-ADJUSTED DOLLARS) Total households With earnings Mean earnings (dollars)',\n",
       " 'Estimate INCOME AND BENEFITS (IN 2018 INFLATION-ADJUSTED DOLLARS) Total households With Social Security',\n",
       " 'Estimate INCOME AND BENEFITS (IN 2018 INFLATION-ADJUSTED DOLLARS) Total households With Social Security Mean Social Security income (dollars)',\n",
       " 'Estimate INCOME AND BENEFITS (IN 2018 INFLATION-ADJUSTED DOLLARS) Total households With retirement income',\n",
       " 'Estimate INCOME AND BENEFITS (IN 2018 INFLATION-ADJUSTED DOLLARS) Total households With retirement income Mean retirement income (dollars)',\n",
       " 'Estimate INCOME AND BENEFITS (IN 2018 INFLATION-ADJUSTED DOLLARS) Total households With Supplemental Security Income',\n",
       " 'Estimate INCOME AND BENEFITS (IN 2018 INFLATION-ADJUSTED DOLLARS) Total households With cash public assistance income',\n",
       " 'Estimate INCOME AND BENEFITS (IN 2018 INFLATION-ADJUSTED DOLLARS) Total households With Food Stamp/SNAP benefits in the past 12 months',\n",
       " 'Estimate INCOME AND BENEFITS (IN 2018 INFLATION-ADJUSTED DOLLARS) Families',\n",
       " 'Estimate INCOME AND BENEFITS (IN 2018 INFLATION-ADJUSTED DOLLARS) Families Less than $10,000',\n",
       " 'Estimate INCOME AND BENEFITS (IN 2018 INFLATION-ADJUSTED DOLLARS) Families $10,000 to $14,999',\n",
       " 'Estimate INCOME AND BENEFITS (IN 2018 INFLATION-ADJUSTED DOLLARS) Families $15,000 to $24,999',\n",
       " 'Estimate INCOME AND BENEFITS (IN 2018 INFLATION-ADJUSTED DOLLARS) Families $25,000 to $34,999',\n",
       " 'Estimate INCOME AND BENEFITS (IN 2018 INFLATION-ADJUSTED DOLLARS) Families $35,000 to $49,999',\n",
       " 'Estimate INCOME AND BENEFITS (IN 2018 INFLATION-ADJUSTED DOLLARS) Families $50,000 to $74,999',\n",
       " 'Estimate INCOME AND BENEFITS (IN 2018 INFLATION-ADJUSTED DOLLARS) Families $75,000 to $99,999',\n",
       " 'Estimate INCOME AND BENEFITS (IN 2018 INFLATION-ADJUSTED DOLLARS) Families $100,000 to $149,999',\n",
       " 'Estimate INCOME AND BENEFITS (IN 2018 INFLATION-ADJUSTED DOLLARS) Families $150,000 to $199,999',\n",
       " 'Estimate INCOME AND BENEFITS (IN 2018 INFLATION-ADJUSTED DOLLARS) Families $200,000 or more',\n",
       " 'Estimate INCOME AND BENEFITS (IN 2018 INFLATION-ADJUSTED DOLLARS) Families Median family income (dollars)',\n",
       " 'Estimate INCOME AND BENEFITS (IN 2018 INFLATION-ADJUSTED DOLLARS) Families Mean family income (dollars)',\n",
       " 'Estimate INCOME AND BENEFITS (IN 2018 INFLATION-ADJUSTED DOLLARS) Per capita income (dollars)',\n",
       " 'Estimate INCOME AND BENEFITS (IN 2018 INFLATION-ADJUSTED DOLLARS) Nonfamily households',\n",
       " 'Estimate INCOME AND BENEFITS (IN 2018 INFLATION-ADJUSTED DOLLARS) Nonfamily households Mean nonfamily income (dollars)',\n",
       " 'Estimate INCOME AND BENEFITS (IN 2018 INFLATION-ADJUSTED DOLLARS) Median earnings for male full-time, year-round workers (dollars)',\n",
       " 'Estimate INCOME AND BENEFITS (IN 2018 INFLATION-ADJUSTED DOLLARS) Median earnings for female full-time, year-round workers (dollars)',\n",
       " 'Estimate HEALTH INSURANCE COVERAGE Civilian noninstitutionalized population',\n",
       " 'Estimate HEALTH INSURANCE COVERAGE Civilian noninstitutionalized population With health insurance coverage',\n",
       " 'Estimate HEALTH INSURANCE COVERAGE Civilian noninstitutionalized population With health insurance coverage With private health insurance',\n",
       " 'Estimate HEALTH INSURANCE COVERAGE Civilian noninstitutionalized population With health insurance coverage With public coverage',\n",
       " 'Estimate HEALTH INSURANCE COVERAGE Civilian noninstitutionalized population No health insurance coverage',\n",
       " 'Estimate HEALTH INSURANCE COVERAGE Civilian noninstitutionalized population Civilian noninstitutionalized population under 19 years',\n",
       " 'Estimate HEALTH INSURANCE COVERAGE Civilian noninstitutionalized population Civilian noninstitutionalized population under 19 years No health insurance coverage',\n",
       " 'Estimate HEALTH INSURANCE COVERAGE Civilian noninstitutionalized population Civilian noninstitutionalized population 19 to 64 years',\n",
       " 'Estimate HEALTH INSURANCE COVERAGE Civilian noninstitutionalized population Civilian noninstitutionalized population 19 to 64 years In labor force',\n",
       " 'Estimate HEALTH INSURANCE COVERAGE Civilian noninstitutionalized population Civilian noninstitutionalized population 19 to 64 years In labor force Employed',\n",
       " 'Estimate HEALTH INSURANCE COVERAGE Civilian noninstitutionalized population Civilian noninstitutionalized population 19 to 64 years In labor force Employed With health insurance coverage',\n",
       " 'Estimate HEALTH INSURANCE COVERAGE Civilian noninstitutionalized population Civilian noninstitutionalized population 19 to 64 years In labor force Employed With health insurance coverage With private health insurance',\n",
       " 'Estimate HEALTH INSURANCE COVERAGE Civilian noninstitutionalized population Civilian noninstitutionalized population 19 to 64 years In labor force Employed With health insurance coverage With public coverage',\n",
       " 'Estimate HEALTH INSURANCE COVERAGE Civilian noninstitutionalized population Civilian noninstitutionalized population 19 to 64 years In labor force Employed No health insurance coverage',\n",
       " 'Estimate HEALTH INSURANCE COVERAGE Civilian noninstitutionalized population Civilian noninstitutionalized population 19 to 64 years In labor force Unemployed',\n",
       " 'Estimate HEALTH INSURANCE COVERAGE Civilian noninstitutionalized population Civilian noninstitutionalized population 19 to 64 years In labor force Unemployed With health insurance coverage',\n",
       " 'Estimate HEALTH INSURANCE COVERAGE Civilian noninstitutionalized population Civilian noninstitutionalized population 19 to 64 years In labor force Unemployed With health insurance coverage With private health insurance',\n",
       " 'Estimate HEALTH INSURANCE COVERAGE Civilian noninstitutionalized population Civilian noninstitutionalized population 19 to 64 years In labor force Unemployed With health insurance coverage With public coverage',\n",
       " 'Estimate HEALTH INSURANCE COVERAGE Civilian noninstitutionalized population Civilian noninstitutionalized population 19 to 64 years In labor force Unemployed No health insurance coverage',\n",
       " 'Estimate HEALTH INSURANCE COVERAGE Civilian noninstitutionalized population Civilian noninstitutionalized population 19 to 64 years Not in labor force',\n",
       " 'Estimate HEALTH INSURANCE COVERAGE Civilian noninstitutionalized population Civilian noninstitutionalized population 19 to 64 years Not in labor force With health insurance coverage',\n",
       " 'Estimate HEALTH INSURANCE COVERAGE Civilian noninstitutionalized population Civilian noninstitutionalized population 19 to 64 years Not in labor force With health insurance coverage With private health insurance',\n",
       " 'Estimate HEALTH INSURANCE COVERAGE Civilian noninstitutionalized population Civilian noninstitutionalized population 19 to 64 years Not in labor force With health insurance coverage With public coverage',\n",
       " 'Estimate HEALTH INSURANCE COVERAGE Civilian noninstitutionalized population Civilian noninstitutionalized population 19 to 64 years Not in labor force No health insurance coverage']"
      ]
     },
     "execution_count": 53,
     "metadata": {},
     "output_type": "execute_result"
    }
   ],
   "source": [
    "# Display DP03 columns as a list.\n",
    "list(dp03.columns)"
   ]
  },
  {
   "cell_type": "markdown",
   "metadata": {},
   "source": [
    "# Create 'INCOME' Dataframe"
   ]
  },
  {
   "cell_type": "code",
   "execution_count": 54,
   "metadata": {},
   "outputs": [
    {
     "data": {
      "text/html": [
       "<div>\n",
       "<style scoped>\n",
       "    .dataframe tbody tr th:only-of-type {\n",
       "        vertical-align: middle;\n",
       "    }\n",
       "\n",
       "    .dataframe tbody tr th {\n",
       "        vertical-align: top;\n",
       "    }\n",
       "\n",
       "    .dataframe thead th {\n",
       "        text-align: right;\n",
       "    }\n",
       "</style>\n",
       "<table border=\"1\" class=\"dataframe\">\n",
       "  <thead>\n",
       "    <tr style=\"text-align: right;\">\n",
       "      <th></th>\n",
       "      <th>Estimate INCOME AND BENEFITS (IN 2018 INFLATION-ADJUSTED DOLLARS) Total households</th>\n",
       "      <th>Estimate INCOME AND BENEFITS (IN 2018 INFLATION-ADJUSTED DOLLARS) Total households Less than $10,000</th>\n",
       "      <th>Estimate INCOME AND BENEFITS (IN 2018 INFLATION-ADJUSTED DOLLARS) Total households $10,000 to $14,999</th>\n",
       "      <th>Estimate INCOME AND BENEFITS (IN 2018 INFLATION-ADJUSTED DOLLARS) Total households $15,000 to $24,999</th>\n",
       "      <th>Estimate INCOME AND BENEFITS (IN 2018 INFLATION-ADJUSTED DOLLARS) Total households $25,000 to $34,999</th>\n",
       "      <th>Estimate INCOME AND BENEFITS (IN 2018 INFLATION-ADJUSTED DOLLARS) Total households $35,000 to $49,999</th>\n",
       "      <th>Estimate INCOME AND BENEFITS (IN 2018 INFLATION-ADJUSTED DOLLARS) Total households $50,000 to $74,999</th>\n",
       "      <th>Estimate INCOME AND BENEFITS (IN 2018 INFLATION-ADJUSTED DOLLARS) Total households $75,000 to $99,999</th>\n",
       "      <th>Estimate INCOME AND BENEFITS (IN 2018 INFLATION-ADJUSTED DOLLARS) Total households $100,000 to $149,999</th>\n",
       "      <th>Estimate INCOME AND BENEFITS (IN 2018 INFLATION-ADJUSTED DOLLARS) Total households $150,000 to $199,999</th>\n",
       "      <th>...</th>\n",
       "      <th>Estimate INCOME AND BENEFITS (IN 2018 INFLATION-ADJUSTED DOLLARS) Families $100,000 to $149,999</th>\n",
       "      <th>Estimate INCOME AND BENEFITS (IN 2018 INFLATION-ADJUSTED DOLLARS) Families $150,000 to $199,999</th>\n",
       "      <th>Estimate INCOME AND BENEFITS (IN 2018 INFLATION-ADJUSTED DOLLARS) Families $200,000 or more</th>\n",
       "      <th>Estimate INCOME AND BENEFITS (IN 2018 INFLATION-ADJUSTED DOLLARS) Families Median family income (dollars)</th>\n",
       "      <th>Estimate INCOME AND BENEFITS (IN 2018 INFLATION-ADJUSTED DOLLARS) Families Mean family income (dollars)</th>\n",
       "      <th>Estimate INCOME AND BENEFITS (IN 2018 INFLATION-ADJUSTED DOLLARS) Per capita income (dollars)</th>\n",
       "      <th>Estimate INCOME AND BENEFITS (IN 2018 INFLATION-ADJUSTED DOLLARS) Nonfamily households</th>\n",
       "      <th>Estimate INCOME AND BENEFITS (IN 2018 INFLATION-ADJUSTED DOLLARS) Nonfamily households Mean nonfamily income (dollars)</th>\n",
       "      <th>Estimate INCOME AND BENEFITS (IN 2018 INFLATION-ADJUSTED DOLLARS) Median earnings for male full-time, year-round workers (dollars)</th>\n",
       "      <th>Estimate INCOME AND BENEFITS (IN 2018 INFLATION-ADJUSTED DOLLARS) Median earnings for female full-time, year-round workers (dollars)</th>\n",
       "    </tr>\n",
       "    <tr>\n",
       "      <th>Geographic Area Name</th>\n",
       "      <th></th>\n",
       "      <th></th>\n",
       "      <th></th>\n",
       "      <th></th>\n",
       "      <th></th>\n",
       "      <th></th>\n",
       "      <th></th>\n",
       "      <th></th>\n",
       "      <th></th>\n",
       "      <th></th>\n",
       "      <th></th>\n",
       "      <th></th>\n",
       "      <th></th>\n",
       "      <th></th>\n",
       "      <th></th>\n",
       "      <th></th>\n",
       "      <th></th>\n",
       "      <th></th>\n",
       "      <th></th>\n",
       "      <th></th>\n",
       "      <th></th>\n",
       "    </tr>\n",
       "  </thead>\n",
       "  <tbody>\n",
       "    <tr>\n",
       "      <th>Austin County, Texas</th>\n",
       "      <td>11041</td>\n",
       "      <td>482</td>\n",
       "      <td>459</td>\n",
       "      <td>1255</td>\n",
       "      <td>927</td>\n",
       "      <td>1186</td>\n",
       "      <td>1851</td>\n",
       "      <td>1651</td>\n",
       "      <td>2150</td>\n",
       "      <td>551</td>\n",
       "      <td>...</td>\n",
       "      <td>1888</td>\n",
       "      <td>534</td>\n",
       "      <td>479</td>\n",
       "      <td>79066</td>\n",
       "      <td>92253</td>\n",
       "      <td>30858</td>\n",
       "      <td>2781</td>\n",
       "      <td>44884</td>\n",
       "      <td>55417</td>\n",
       "      <td>38603</td>\n",
       "    </tr>\n",
       "    <tr>\n",
       "      <th>Kenedy County, Texas</th>\n",
       "      <td>209</td>\n",
       "      <td>25</td>\n",
       "      <td>4</td>\n",
       "      <td>49</td>\n",
       "      <td>13</td>\n",
       "      <td>71</td>\n",
       "      <td>16</td>\n",
       "      <td>23</td>\n",
       "      <td>8</td>\n",
       "      <td>0</td>\n",
       "      <td>...</td>\n",
       "      <td>0</td>\n",
       "      <td>0</td>\n",
       "      <td>0</td>\n",
       "      <td>40625</td>\n",
       "      <td>44286</td>\n",
       "      <td>15820</td>\n",
       "      <td>55</td>\n",
       "      <td>28953</td>\n",
       "      <td>40848</td>\n",
       "      <td>23295</td>\n",
       "    </tr>\n",
       "  </tbody>\n",
       "</table>\n",
       "<p>2 rows × 40 columns</p>\n",
       "</div>"
      ],
      "text/plain": [
       "                      Estimate INCOME AND BENEFITS (IN 2018 INFLATION-ADJUSTED DOLLARS) Total households  \\\n",
       "Geographic Area Name                                                                                       \n",
       "Austin County, Texas                                              11041                                    \n",
       "Kenedy County, Texas                                                209                                    \n",
       "\n",
       "                      Estimate INCOME AND BENEFITS (IN 2018 INFLATION-ADJUSTED DOLLARS) Total households Less than $10,000  \\\n",
       "Geographic Area Name                                                                                                         \n",
       "Austin County, Texas                                                482                                                      \n",
       "Kenedy County, Texas                                                 25                                                      \n",
       "\n",
       "                      Estimate INCOME AND BENEFITS (IN 2018 INFLATION-ADJUSTED DOLLARS) Total households $10,000 to $14,999  \\\n",
       "Geographic Area Name                                                                                                          \n",
       "Austin County, Texas                                                459                                                       \n",
       "Kenedy County, Texas                                                  4                                                       \n",
       "\n",
       "                      Estimate INCOME AND BENEFITS (IN 2018 INFLATION-ADJUSTED DOLLARS) Total households $15,000 to $24,999  \\\n",
       "Geographic Area Name                                                                                                          \n",
       "Austin County, Texas                                               1255                                                       \n",
       "Kenedy County, Texas                                                 49                                                       \n",
       "\n",
       "                      Estimate INCOME AND BENEFITS (IN 2018 INFLATION-ADJUSTED DOLLARS) Total households $25,000 to $34,999  \\\n",
       "Geographic Area Name                                                                                                          \n",
       "Austin County, Texas                                                927                                                       \n",
       "Kenedy County, Texas                                                 13                                                       \n",
       "\n",
       "                      Estimate INCOME AND BENEFITS (IN 2018 INFLATION-ADJUSTED DOLLARS) Total households $35,000 to $49,999  \\\n",
       "Geographic Area Name                                                                                                          \n",
       "Austin County, Texas                                               1186                                                       \n",
       "Kenedy County, Texas                                                 71                                                       \n",
       "\n",
       "                      Estimate INCOME AND BENEFITS (IN 2018 INFLATION-ADJUSTED DOLLARS) Total households $50,000 to $74,999  \\\n",
       "Geographic Area Name                                                                                                          \n",
       "Austin County, Texas                                               1851                                                       \n",
       "Kenedy County, Texas                                                 16                                                       \n",
       "\n",
       "                      Estimate INCOME AND BENEFITS (IN 2018 INFLATION-ADJUSTED DOLLARS) Total households $75,000 to $99,999  \\\n",
       "Geographic Area Name                                                                                                          \n",
       "Austin County, Texas                                               1651                                                       \n",
       "Kenedy County, Texas                                                 23                                                       \n",
       "\n",
       "                      Estimate INCOME AND BENEFITS (IN 2018 INFLATION-ADJUSTED DOLLARS) Total households $100,000 to $149,999  \\\n",
       "Geographic Area Name                                                                                                            \n",
       "Austin County, Texas                                               2150                                                         \n",
       "Kenedy County, Texas                                                  8                                                         \n",
       "\n",
       "                      Estimate INCOME AND BENEFITS (IN 2018 INFLATION-ADJUSTED DOLLARS) Total households $150,000 to $199,999  \\\n",
       "Geographic Area Name                                                                                                            \n",
       "Austin County, Texas                                                551                                                         \n",
       "Kenedy County, Texas                                                  0                                                         \n",
       "\n",
       "                      ...  \\\n",
       "Geographic Area Name  ...   \n",
       "Austin County, Texas  ...   \n",
       "Kenedy County, Texas  ...   \n",
       "\n",
       "                      Estimate INCOME AND BENEFITS (IN 2018 INFLATION-ADJUSTED DOLLARS) Families $100,000 to $149,999  \\\n",
       "Geographic Area Name                                                                                                    \n",
       "Austin County, Texas                                               1888                                                 \n",
       "Kenedy County, Texas                                                  0                                                 \n",
       "\n",
       "                      Estimate INCOME AND BENEFITS (IN 2018 INFLATION-ADJUSTED DOLLARS) Families $150,000 to $199,999  \\\n",
       "Geographic Area Name                                                                                                    \n",
       "Austin County, Texas                                                534                                                 \n",
       "Kenedy County, Texas                                                  0                                                 \n",
       "\n",
       "                      Estimate INCOME AND BENEFITS (IN 2018 INFLATION-ADJUSTED DOLLARS) Families $200,000 or more  \\\n",
       "Geographic Area Name                                                                                                \n",
       "Austin County, Texas                                                479                                             \n",
       "Kenedy County, Texas                                                  0                                             \n",
       "\n",
       "                      Estimate INCOME AND BENEFITS (IN 2018 INFLATION-ADJUSTED DOLLARS) Families Median family income (dollars)  \\\n",
       "Geographic Area Name                                                                                                              \n",
       "Austin County, Texas                                              79066                                                           \n",
       "Kenedy County, Texas                                              40625                                                           \n",
       "\n",
       "                      Estimate INCOME AND BENEFITS (IN 2018 INFLATION-ADJUSTED DOLLARS) Families Mean family income (dollars)  \\\n",
       "Geographic Area Name                                                                                                            \n",
       "Austin County, Texas                                              92253                                                         \n",
       "Kenedy County, Texas                                              44286                                                         \n",
       "\n",
       "                      Estimate INCOME AND BENEFITS (IN 2018 INFLATION-ADJUSTED DOLLARS) Per capita income (dollars)  \\\n",
       "Geographic Area Name                                                                                                  \n",
       "Austin County, Texas                                              30858                                               \n",
       "Kenedy County, Texas                                              15820                                               \n",
       "\n",
       "                      Estimate INCOME AND BENEFITS (IN 2018 INFLATION-ADJUSTED DOLLARS) Nonfamily households  \\\n",
       "Geographic Area Name                                                                                           \n",
       "Austin County, Texas                                               2781                                        \n",
       "Kenedy County, Texas                                                 55                                        \n",
       "\n",
       "                      Estimate INCOME AND BENEFITS (IN 2018 INFLATION-ADJUSTED DOLLARS) Nonfamily households Mean nonfamily income (dollars)  \\\n",
       "Geographic Area Name                                                                                                                           \n",
       "Austin County, Texas                                              44884                                                                        \n",
       "Kenedy County, Texas                                              28953                                                                        \n",
       "\n",
       "                      Estimate INCOME AND BENEFITS (IN 2018 INFLATION-ADJUSTED DOLLARS) Median earnings for male full-time, year-round workers (dollars)  \\\n",
       "Geographic Area Name                                                                                                                                       \n",
       "Austin County, Texas                                              55417                                                                                    \n",
       "Kenedy County, Texas                                              40848                                                                                    \n",
       "\n",
       "                      Estimate INCOME AND BENEFITS (IN 2018 INFLATION-ADJUSTED DOLLARS) Median earnings for female full-time, year-round workers (dollars)  \n",
       "Geographic Area Name                                                                                                                                        \n",
       "Austin County, Texas                                              38603                                                                                     \n",
       "Kenedy County, Texas                                              23295                                                                                     \n",
       "\n",
       "[2 rows x 40 columns]"
      ]
     },
     "execution_count": 54,
     "metadata": {},
     "output_type": "execute_result"
    }
   ],
   "source": [
    "# Extract the columns that have INCOME AND BENEFITS in the title\n",
    "# and save to a new dataframe.\n",
    "dp03_income = dp03.filter(regex = '(INCOME AND BENEFITS)', axis=1)\n",
    "# Display the first few rows of the dataframe.\n",
    "dp03_income.head(2)"
   ]
  },
  {
   "cell_type": "code",
   "execution_count": 55,
   "metadata": {},
   "outputs": [
    {
     "name": "stdout",
     "output_type": "stream",
     "text": [
      "<class 'pandas.core.frame.DataFrame'>\n",
      "Index: 543 entries, Austin County, Texas to Mason County, Illinois\n",
      "Data columns (total 40 columns):\n",
      " #   Column                                                                                                                                         Non-Null Count  Dtype\n",
      "---  ------                                                                                                                                         --------------  -----\n",
      " 0   Estimate INCOME AND BENEFITS (IN 2018 INFLATION-ADJUSTED DOLLARS) Total households                                                             543 non-null    int64\n",
      " 1   Estimate INCOME AND BENEFITS (IN 2018 INFLATION-ADJUSTED DOLLARS) Total households Less than $10,000                                           543 non-null    int64\n",
      " 2   Estimate INCOME AND BENEFITS (IN 2018 INFLATION-ADJUSTED DOLLARS) Total households $10,000 to $14,999                                          543 non-null    int64\n",
      " 3   Estimate INCOME AND BENEFITS (IN 2018 INFLATION-ADJUSTED DOLLARS) Total households $15,000 to $24,999                                          543 non-null    int64\n",
      " 4   Estimate INCOME AND BENEFITS (IN 2018 INFLATION-ADJUSTED DOLLARS) Total households $25,000 to $34,999                                          543 non-null    int64\n",
      " 5   Estimate INCOME AND BENEFITS (IN 2018 INFLATION-ADJUSTED DOLLARS) Total households $35,000 to $49,999                                          543 non-null    int64\n",
      " 6   Estimate INCOME AND BENEFITS (IN 2018 INFLATION-ADJUSTED DOLLARS) Total households $50,000 to $74,999                                          543 non-null    int64\n",
      " 7   Estimate INCOME AND BENEFITS (IN 2018 INFLATION-ADJUSTED DOLLARS) Total households $75,000 to $99,999                                          543 non-null    int64\n",
      " 8   Estimate INCOME AND BENEFITS (IN 2018 INFLATION-ADJUSTED DOLLARS) Total households $100,000 to $149,999                                        543 non-null    int64\n",
      " 9   Estimate INCOME AND BENEFITS (IN 2018 INFLATION-ADJUSTED DOLLARS) Total households $150,000 to $199,999                                        543 non-null    int64\n",
      " 10  Estimate INCOME AND BENEFITS (IN 2018 INFLATION-ADJUSTED DOLLARS) Total households $200,000 or more                                            543 non-null    int64\n",
      " 11  Estimate INCOME AND BENEFITS (IN 2018 INFLATION-ADJUSTED DOLLARS) Total households Median household income (dollars)                           543 non-null    int64\n",
      " 12  Estimate INCOME AND BENEFITS (IN 2018 INFLATION-ADJUSTED DOLLARS) Total households Mean household income (dollars)                             543 non-null    int64\n",
      " 13  Estimate INCOME AND BENEFITS (IN 2018 INFLATION-ADJUSTED DOLLARS) Total households With earnings                                               543 non-null    int64\n",
      " 14  Estimate INCOME AND BENEFITS (IN 2018 INFLATION-ADJUSTED DOLLARS) Total households With earnings Mean earnings (dollars)                       543 non-null    int64\n",
      " 15  Estimate INCOME AND BENEFITS (IN 2018 INFLATION-ADJUSTED DOLLARS) Total households With Social Security                                        543 non-null    int64\n",
      " 16  Estimate INCOME AND BENEFITS (IN 2018 INFLATION-ADJUSTED DOLLARS) Total households With Social Security Mean Social Security income (dollars)  543 non-null    int64\n",
      " 17  Estimate INCOME AND BENEFITS (IN 2018 INFLATION-ADJUSTED DOLLARS) Total households With retirement income                                      543 non-null    int64\n",
      " 18  Estimate INCOME AND BENEFITS (IN 2018 INFLATION-ADJUSTED DOLLARS) Total households With retirement income Mean retirement income (dollars)     543 non-null    int64\n",
      " 19  Estimate INCOME AND BENEFITS (IN 2018 INFLATION-ADJUSTED DOLLARS) Total households With Supplemental Security Income                           543 non-null    int64\n",
      " 20  Estimate INCOME AND BENEFITS (IN 2018 INFLATION-ADJUSTED DOLLARS) Total households With cash public assistance income                          543 non-null    int64\n",
      " 21  Estimate INCOME AND BENEFITS (IN 2018 INFLATION-ADJUSTED DOLLARS) Total households With Food Stamp/SNAP benefits in the past 12 months         543 non-null    int64\n",
      " 22  Estimate INCOME AND BENEFITS (IN 2018 INFLATION-ADJUSTED DOLLARS) Families                                                                     543 non-null    int64\n",
      " 23  Estimate INCOME AND BENEFITS (IN 2018 INFLATION-ADJUSTED DOLLARS) Families Less than $10,000                                                   543 non-null    int64\n",
      " 24  Estimate INCOME AND BENEFITS (IN 2018 INFLATION-ADJUSTED DOLLARS) Families $10,000 to $14,999                                                  543 non-null    int64\n",
      " 25  Estimate INCOME AND BENEFITS (IN 2018 INFLATION-ADJUSTED DOLLARS) Families $15,000 to $24,999                                                  543 non-null    int64\n",
      " 26  Estimate INCOME AND BENEFITS (IN 2018 INFLATION-ADJUSTED DOLLARS) Families $25,000 to $34,999                                                  543 non-null    int64\n",
      " 27  Estimate INCOME AND BENEFITS (IN 2018 INFLATION-ADJUSTED DOLLARS) Families $35,000 to $49,999                                                  543 non-null    int64\n",
      " 28  Estimate INCOME AND BENEFITS (IN 2018 INFLATION-ADJUSTED DOLLARS) Families $50,000 to $74,999                                                  543 non-null    int64\n",
      " 29  Estimate INCOME AND BENEFITS (IN 2018 INFLATION-ADJUSTED DOLLARS) Families $75,000 to $99,999                                                  543 non-null    int64\n",
      " 30  Estimate INCOME AND BENEFITS (IN 2018 INFLATION-ADJUSTED DOLLARS) Families $100,000 to $149,999                                                543 non-null    int64\n",
      " 31  Estimate INCOME AND BENEFITS (IN 2018 INFLATION-ADJUSTED DOLLARS) Families $150,000 to $199,999                                                543 non-null    int64\n",
      " 32  Estimate INCOME AND BENEFITS (IN 2018 INFLATION-ADJUSTED DOLLARS) Families $200,000 or more                                                    543 non-null    int64\n",
      " 33  Estimate INCOME AND BENEFITS (IN 2018 INFLATION-ADJUSTED DOLLARS) Families Median family income (dollars)                                      543 non-null    int64\n",
      " 34  Estimate INCOME AND BENEFITS (IN 2018 INFLATION-ADJUSTED DOLLARS) Families Mean family income (dollars)                                        543 non-null    int64\n",
      " 35  Estimate INCOME AND BENEFITS (IN 2018 INFLATION-ADJUSTED DOLLARS) Per capita income (dollars)                                                  543 non-null    int64\n",
      " 36  Estimate INCOME AND BENEFITS (IN 2018 INFLATION-ADJUSTED DOLLARS) Nonfamily households                                                         543 non-null    int64\n",
      " 37  Estimate INCOME AND BENEFITS (IN 2018 INFLATION-ADJUSTED DOLLARS) Nonfamily households Mean nonfamily income (dollars)                         543 non-null    int64\n",
      " 38  Estimate INCOME AND BENEFITS (IN 2018 INFLATION-ADJUSTED DOLLARS) Median earnings for male full-time, year-round workers (dollars)             543 non-null    int64\n",
      " 39  Estimate INCOME AND BENEFITS (IN 2018 INFLATION-ADJUSTED DOLLARS) Median earnings for female full-time, year-round workers (dollars)           543 non-null    int64\n",
      "dtypes: int64(40)\n",
      "memory usage: 173.9+ KB\n"
     ]
    }
   ],
   "source": [
    "# Display information about the dataframe.\n",
    "dp03_income.info()"
   ]
  },
  {
   "cell_type": "code",
   "execution_count": 56,
   "metadata": {},
   "outputs": [],
   "source": [
    "# These are the columns to be used in the analysis.\n",
    "columns_income = [\n",
    "    'Estimate INCOME AND BENEFITS (IN 2018 INFLATION-ADJUSTED DOLLARS) Total households',\n",
    "    'Estimate INCOME AND BENEFITS (IN 2018 INFLATION-ADJUSTED DOLLARS) Total households Less than $10,000',\n",
    "    'Estimate INCOME AND BENEFITS (IN 2018 INFLATION-ADJUSTED DOLLARS) Total households $10,000 to $14,999',\n",
    "    'Estimate INCOME AND BENEFITS (IN 2018 INFLATION-ADJUSTED DOLLARS) Total households $15,000 to $24,999',\n",
    "    'Estimate INCOME AND BENEFITS (IN 2018 INFLATION-ADJUSTED DOLLARS) Total households $25,000 to $34,999',\n",
    "    'Estimate INCOME AND BENEFITS (IN 2018 INFLATION-ADJUSTED DOLLARS) Total households $35,000 to $49,999',\n",
    "    'Estimate INCOME AND BENEFITS (IN 2018 INFLATION-ADJUSTED DOLLARS) Total households $50,000 to $74,999',\n",
    "    'Estimate INCOME AND BENEFITS (IN 2018 INFLATION-ADJUSTED DOLLARS) Total households $75,000 to $99,999',\n",
    "    'Estimate INCOME AND BENEFITS (IN 2018 INFLATION-ADJUSTED DOLLARS) Total households $100,000 to $149,999',\n",
    "    'Estimate INCOME AND BENEFITS (IN 2018 INFLATION-ADJUSTED DOLLARS) Total households $150,000 to $199,999',\n",
    "    'Estimate INCOME AND BENEFITS (IN 2018 INFLATION-ADJUSTED DOLLARS) Total households $200,000 or more',\n",
    "    'Estimate INCOME AND BENEFITS (IN 2018 INFLATION-ADJUSTED DOLLARS) Total households Median household income (dollars)',\n",
    "    'Estimate INCOME AND BENEFITS (IN 2018 INFLATION-ADJUSTED DOLLARS) Total households Mean household income (dollars)',\n",
    "    'Estimate INCOME AND BENEFITS (IN 2018 INFLATION-ADJUSTED DOLLARS) Per capita income (dollars)',\n",
    "    'Estimate INCOME AND BENEFITS (IN 2018 INFLATION-ADJUSTED DOLLARS) Median earnings for male full-time, year-round workers (dollars)',\n",
    "    'Estimate INCOME AND BENEFITS (IN 2018 INFLATION-ADJUSTED DOLLARS) Median earnings for female full-time, year-round workers (dollars)'\n",
    "]"
   ]
  },
  {
   "cell_type": "code",
   "execution_count": 57,
   "metadata": {},
   "outputs": [],
   "source": [
    "# Extract the important columns for income analysis.\n",
    "dp03_income = dp03_income[columns_income]"
   ]
  },
  {
   "cell_type": "code",
   "execution_count": 58,
   "metadata": {},
   "outputs": [
    {
     "data": {
      "text/html": [
       "<div>\n",
       "<style scoped>\n",
       "    .dataframe tbody tr th:only-of-type {\n",
       "        vertical-align: middle;\n",
       "    }\n",
       "\n",
       "    .dataframe tbody tr th {\n",
       "        vertical-align: top;\n",
       "    }\n",
       "\n",
       "    .dataframe thead th {\n",
       "        text-align: right;\n",
       "    }\n",
       "</style>\n",
       "<table border=\"1\" class=\"dataframe\">\n",
       "  <thead>\n",
       "    <tr style=\"text-align: right;\">\n",
       "      <th></th>\n",
       "      <th>Estimate INCOME AND BENEFITS (IN 2018 INFLATION-ADJUSTED DOLLARS) Total households</th>\n",
       "      <th>Estimate INCOME AND BENEFITS (IN 2018 INFLATION-ADJUSTED DOLLARS) Total households Less than $10,000</th>\n",
       "      <th>Estimate INCOME AND BENEFITS (IN 2018 INFLATION-ADJUSTED DOLLARS) Total households $10,000 to $14,999</th>\n",
       "      <th>Estimate INCOME AND BENEFITS (IN 2018 INFLATION-ADJUSTED DOLLARS) Total households $15,000 to $24,999</th>\n",
       "      <th>Estimate INCOME AND BENEFITS (IN 2018 INFLATION-ADJUSTED DOLLARS) Total households $25,000 to $34,999</th>\n",
       "      <th>Estimate INCOME AND BENEFITS (IN 2018 INFLATION-ADJUSTED DOLLARS) Total households $35,000 to $49,999</th>\n",
       "      <th>Estimate INCOME AND BENEFITS (IN 2018 INFLATION-ADJUSTED DOLLARS) Total households $50,000 to $74,999</th>\n",
       "      <th>Estimate INCOME AND BENEFITS (IN 2018 INFLATION-ADJUSTED DOLLARS) Total households $75,000 to $99,999</th>\n",
       "      <th>Estimate INCOME AND BENEFITS (IN 2018 INFLATION-ADJUSTED DOLLARS) Total households $100,000 to $149,999</th>\n",
       "      <th>Estimate INCOME AND BENEFITS (IN 2018 INFLATION-ADJUSTED DOLLARS) Total households $150,000 to $199,999</th>\n",
       "      <th>Estimate INCOME AND BENEFITS (IN 2018 INFLATION-ADJUSTED DOLLARS) Total households $200,000 or more</th>\n",
       "      <th>Estimate INCOME AND BENEFITS (IN 2018 INFLATION-ADJUSTED DOLLARS) Total households Median household income (dollars)</th>\n",
       "      <th>Estimate INCOME AND BENEFITS (IN 2018 INFLATION-ADJUSTED DOLLARS) Total households Mean household income (dollars)</th>\n",
       "      <th>Estimate INCOME AND BENEFITS (IN 2018 INFLATION-ADJUSTED DOLLARS) Per capita income (dollars)</th>\n",
       "      <th>Estimate INCOME AND BENEFITS (IN 2018 INFLATION-ADJUSTED DOLLARS) Median earnings for male full-time, year-round workers (dollars)</th>\n",
       "      <th>Estimate INCOME AND BENEFITS (IN 2018 INFLATION-ADJUSTED DOLLARS) Median earnings for female full-time, year-round workers (dollars)</th>\n",
       "    </tr>\n",
       "    <tr>\n",
       "      <th>Geographic Area Name</th>\n",
       "      <th></th>\n",
       "      <th></th>\n",
       "      <th></th>\n",
       "      <th></th>\n",
       "      <th></th>\n",
       "      <th></th>\n",
       "      <th></th>\n",
       "      <th></th>\n",
       "      <th></th>\n",
       "      <th></th>\n",
       "      <th></th>\n",
       "      <th></th>\n",
       "      <th></th>\n",
       "      <th></th>\n",
       "      <th></th>\n",
       "      <th></th>\n",
       "    </tr>\n",
       "  </thead>\n",
       "  <tbody>\n",
       "    <tr>\n",
       "      <th>Austin County, Texas</th>\n",
       "      <td>11041</td>\n",
       "      <td>482</td>\n",
       "      <td>459</td>\n",
       "      <td>1255</td>\n",
       "      <td>927</td>\n",
       "      <td>1186</td>\n",
       "      <td>1851</td>\n",
       "      <td>1651</td>\n",
       "      <td>2150</td>\n",
       "      <td>551</td>\n",
       "      <td>529</td>\n",
       "      <td>65365</td>\n",
       "      <td>80769</td>\n",
       "      <td>30858</td>\n",
       "      <td>55417</td>\n",
       "      <td>38603</td>\n",
       "    </tr>\n",
       "    <tr>\n",
       "      <th>Kenedy County, Texas</th>\n",
       "      <td>209</td>\n",
       "      <td>25</td>\n",
       "      <td>4</td>\n",
       "      <td>49</td>\n",
       "      <td>13</td>\n",
       "      <td>71</td>\n",
       "      <td>16</td>\n",
       "      <td>23</td>\n",
       "      <td>8</td>\n",
       "      <td>0</td>\n",
       "      <td>0</td>\n",
       "      <td>36125</td>\n",
       "      <td>40908</td>\n",
       "      <td>15820</td>\n",
       "      <td>40848</td>\n",
       "      <td>23295</td>\n",
       "    </tr>\n",
       "  </tbody>\n",
       "</table>\n",
       "</div>"
      ],
      "text/plain": [
       "                      Estimate INCOME AND BENEFITS (IN 2018 INFLATION-ADJUSTED DOLLARS) Total households  \\\n",
       "Geographic Area Name                                                                                       \n",
       "Austin County, Texas                                              11041                                    \n",
       "Kenedy County, Texas                                                209                                    \n",
       "\n",
       "                      Estimate INCOME AND BENEFITS (IN 2018 INFLATION-ADJUSTED DOLLARS) Total households Less than $10,000  \\\n",
       "Geographic Area Name                                                                                                         \n",
       "Austin County, Texas                                                482                                                      \n",
       "Kenedy County, Texas                                                 25                                                      \n",
       "\n",
       "                      Estimate INCOME AND BENEFITS (IN 2018 INFLATION-ADJUSTED DOLLARS) Total households $10,000 to $14,999  \\\n",
       "Geographic Area Name                                                                                                          \n",
       "Austin County, Texas                                                459                                                       \n",
       "Kenedy County, Texas                                                  4                                                       \n",
       "\n",
       "                      Estimate INCOME AND BENEFITS (IN 2018 INFLATION-ADJUSTED DOLLARS) Total households $15,000 to $24,999  \\\n",
       "Geographic Area Name                                                                                                          \n",
       "Austin County, Texas                                               1255                                                       \n",
       "Kenedy County, Texas                                                 49                                                       \n",
       "\n",
       "                      Estimate INCOME AND BENEFITS (IN 2018 INFLATION-ADJUSTED DOLLARS) Total households $25,000 to $34,999  \\\n",
       "Geographic Area Name                                                                                                          \n",
       "Austin County, Texas                                                927                                                       \n",
       "Kenedy County, Texas                                                 13                                                       \n",
       "\n",
       "                      Estimate INCOME AND BENEFITS (IN 2018 INFLATION-ADJUSTED DOLLARS) Total households $35,000 to $49,999  \\\n",
       "Geographic Area Name                                                                                                          \n",
       "Austin County, Texas                                               1186                                                       \n",
       "Kenedy County, Texas                                                 71                                                       \n",
       "\n",
       "                      Estimate INCOME AND BENEFITS (IN 2018 INFLATION-ADJUSTED DOLLARS) Total households $50,000 to $74,999  \\\n",
       "Geographic Area Name                                                                                                          \n",
       "Austin County, Texas                                               1851                                                       \n",
       "Kenedy County, Texas                                                 16                                                       \n",
       "\n",
       "                      Estimate INCOME AND BENEFITS (IN 2018 INFLATION-ADJUSTED DOLLARS) Total households $75,000 to $99,999  \\\n",
       "Geographic Area Name                                                                                                          \n",
       "Austin County, Texas                                               1651                                                       \n",
       "Kenedy County, Texas                                                 23                                                       \n",
       "\n",
       "                      Estimate INCOME AND BENEFITS (IN 2018 INFLATION-ADJUSTED DOLLARS) Total households $100,000 to $149,999  \\\n",
       "Geographic Area Name                                                                                                            \n",
       "Austin County, Texas                                               2150                                                         \n",
       "Kenedy County, Texas                                                  8                                                         \n",
       "\n",
       "                      Estimate INCOME AND BENEFITS (IN 2018 INFLATION-ADJUSTED DOLLARS) Total households $150,000 to $199,999  \\\n",
       "Geographic Area Name                                                                                                            \n",
       "Austin County, Texas                                                551                                                         \n",
       "Kenedy County, Texas                                                  0                                                         \n",
       "\n",
       "                      Estimate INCOME AND BENEFITS (IN 2018 INFLATION-ADJUSTED DOLLARS) Total households $200,000 or more  \\\n",
       "Geographic Area Name                                                                                                        \n",
       "Austin County, Texas                                                529                                                     \n",
       "Kenedy County, Texas                                                  0                                                     \n",
       "\n",
       "                      Estimate INCOME AND BENEFITS (IN 2018 INFLATION-ADJUSTED DOLLARS) Total households Median household income (dollars)  \\\n",
       "Geographic Area Name                                                                                                                         \n",
       "Austin County, Texas                                              65365                                                                      \n",
       "Kenedy County, Texas                                              36125                                                                      \n",
       "\n",
       "                      Estimate INCOME AND BENEFITS (IN 2018 INFLATION-ADJUSTED DOLLARS) Total households Mean household income (dollars)  \\\n",
       "Geographic Area Name                                                                                                                       \n",
       "Austin County, Texas                                              80769                                                                    \n",
       "Kenedy County, Texas                                              40908                                                                    \n",
       "\n",
       "                      Estimate INCOME AND BENEFITS (IN 2018 INFLATION-ADJUSTED DOLLARS) Per capita income (dollars)  \\\n",
       "Geographic Area Name                                                                                                  \n",
       "Austin County, Texas                                              30858                                               \n",
       "Kenedy County, Texas                                              15820                                               \n",
       "\n",
       "                      Estimate INCOME AND BENEFITS (IN 2018 INFLATION-ADJUSTED DOLLARS) Median earnings for male full-time, year-round workers (dollars)  \\\n",
       "Geographic Area Name                                                                                                                                       \n",
       "Austin County, Texas                                              55417                                                                                    \n",
       "Kenedy County, Texas                                              40848                                                                                    \n",
       "\n",
       "                      Estimate INCOME AND BENEFITS (IN 2018 INFLATION-ADJUSTED DOLLARS) Median earnings for female full-time, year-round workers (dollars)  \n",
       "Geographic Area Name                                                                                                                                        \n",
       "Austin County, Texas                                              38603                                                                                     \n",
       "Kenedy County, Texas                                              23295                                                                                     "
      ]
     },
     "execution_count": 58,
     "metadata": {},
     "output_type": "execute_result"
    }
   ],
   "source": [
    "# Display the first few rows of the dataframe.\n",
    "dp03_income.head(2)"
   ]
  },
  {
   "cell_type": "code",
   "execution_count": 59,
   "metadata": {},
   "outputs": [],
   "source": [
    "# Clean up column names.\n",
    "dp03_income.columns = dp03_income.columns.str.lower().str.replace('estimate ', '')"
   ]
  },
  {
   "cell_type": "code",
   "execution_count": 60,
   "metadata": {},
   "outputs": [],
   "source": [
    "# Clean up column names.\n",
    "dp03_income.columns = dp03_income.columns.str.replace('income', 'inc').str.replace(' and benefits \\(in 2018 inflation-adjusted dollars\\)', '')"
   ]
  },
  {
   "cell_type": "code",
   "execution_count": 61,
   "metadata": {},
   "outputs": [],
   "source": [
    "# Clean up column names.\n",
    "dp03_income.columns = dp03_income.columns.str.replace('total ', '').str.replace(', ', '_').str.replace('$', '')"
   ]
  },
  {
   "cell_type": "code",
   "execution_count": 62,
   "metadata": {},
   "outputs": [],
   "source": [
    "# Clean up column names.\n",
    "dp03_income.columns = dp03_income.columns.str.replace('households', 'hhlds').str.replace('household', 'hhld').str.replace(',', '_')"
   ]
  },
  {
   "cell_type": "code",
   "execution_count": 63,
   "metadata": {},
   "outputs": [],
   "source": [
    "# Clean up column names.\n",
    "dp03_income.columns = dp03_income.columns.str.replace('inc hhlds median', 'inc median').str.replace('inc hhlds mean', 'inc mean')"
   ]
  },
  {
   "cell_type": "code",
   "execution_count": 64,
   "metadata": {},
   "outputs": [],
   "source": [
    "# Clean up column names.\n",
    "dp03_income.columns = dp03_income.columns.str.replace('\\(', '').str.replace('\\)', '').str.replace('for ', '').str.replace(' ', '_')"
   ]
  },
  {
   "cell_type": "code",
   "execution_count": 65,
   "metadata": {},
   "outputs": [],
   "source": [
    "# Clean up column names.\n",
    "dp03_income.columns = dp03_income.columns.str.replace('median', 'med').str.replace('full-time_year-round', 'full_yr')"
   ]
  },
  {
   "cell_type": "code",
   "execution_count": 66,
   "metadata": {},
   "outputs": [],
   "source": [
    "# Clean up column names.\n",
    "dp03_income.columns = dp03_income.columns.str.replace('dollars', 'dol').str.replace('earnings', 'earn')"
   ]
  },
  {
   "cell_type": "code",
   "execution_count": 67,
   "metadata": {},
   "outputs": [
    {
     "data": {
      "text/plain": [
       "['inc_hhlds',\n",
       " 'inc_hhlds_less_than_10_000',\n",
       " 'inc_hhlds_10_000_to_14_999',\n",
       " 'inc_hhlds_15_000_to_24_999',\n",
       " 'inc_hhlds_25_000_to_34_999',\n",
       " 'inc_hhlds_35_000_to_49_999',\n",
       " 'inc_hhlds_50_000_to_74_999',\n",
       " 'inc_hhlds_75_000_to_99_999',\n",
       " 'inc_hhlds_100_000_to_149_999',\n",
       " 'inc_hhlds_150_000_to_199_999',\n",
       " 'inc_hhlds_200_000_or_more',\n",
       " 'inc_med_hhld_inc_dol',\n",
       " 'inc_mean_hhld_inc_dol',\n",
       " 'inc_per_capita_inc_dol',\n",
       " 'inc_med_earn_male_full_yr_workers_dol',\n",
       " 'inc_med_earn_female_full_yr_workers_dol']"
      ]
     },
     "execution_count": 67,
     "metadata": {},
     "output_type": "execute_result"
    }
   ],
   "source": [
    "# Display column names.\n",
    "list(dp03_income.columns)"
   ]
  },
  {
   "cell_type": "code",
   "execution_count": 68,
   "metadata": {},
   "outputs": [],
   "source": [
    "# Export the data.\n",
    "dp03_income.to_csv('../data/preprocessing/cleaned_dp03_income_five_states.csv')"
   ]
  },
  {
   "cell_type": "markdown",
   "metadata": {},
   "source": [
    "# Create 'HEALTH INSURANCE' Dataframe"
   ]
  },
  {
   "cell_type": "code",
   "execution_count": 69,
   "metadata": {},
   "outputs": [
    {
     "data": {
      "text/html": [
       "<div>\n",
       "<style scoped>\n",
       "    .dataframe tbody tr th:only-of-type {\n",
       "        vertical-align: middle;\n",
       "    }\n",
       "\n",
       "    .dataframe tbody tr th {\n",
       "        vertical-align: top;\n",
       "    }\n",
       "\n",
       "    .dataframe thead th {\n",
       "        text-align: right;\n",
       "    }\n",
       "</style>\n",
       "<table border=\"1\" class=\"dataframe\">\n",
       "  <thead>\n",
       "    <tr style=\"text-align: right;\">\n",
       "      <th></th>\n",
       "      <th>Estimate HEALTH INSURANCE COVERAGE Civilian noninstitutionalized population</th>\n",
       "      <th>Estimate HEALTH INSURANCE COVERAGE Civilian noninstitutionalized population With health insurance coverage</th>\n",
       "      <th>Estimate HEALTH INSURANCE COVERAGE Civilian noninstitutionalized population With health insurance coverage With private health insurance</th>\n",
       "      <th>Estimate HEALTH INSURANCE COVERAGE Civilian noninstitutionalized population With health insurance coverage With public coverage</th>\n",
       "      <th>Estimate HEALTH INSURANCE COVERAGE Civilian noninstitutionalized population No health insurance coverage</th>\n",
       "      <th>Estimate HEALTH INSURANCE COVERAGE Civilian noninstitutionalized population Civilian noninstitutionalized population under 19 years</th>\n",
       "      <th>Estimate HEALTH INSURANCE COVERAGE Civilian noninstitutionalized population Civilian noninstitutionalized population under 19 years No health insurance coverage</th>\n",
       "      <th>Estimate HEALTH INSURANCE COVERAGE Civilian noninstitutionalized population Civilian noninstitutionalized population 19 to 64 years</th>\n",
       "      <th>Estimate HEALTH INSURANCE COVERAGE Civilian noninstitutionalized population Civilian noninstitutionalized population 19 to 64 years In labor force</th>\n",
       "      <th>Estimate HEALTH INSURANCE COVERAGE Civilian noninstitutionalized population Civilian noninstitutionalized population 19 to 64 years In labor force Employed</th>\n",
       "      <th>...</th>\n",
       "      <th>Estimate HEALTH INSURANCE COVERAGE Civilian noninstitutionalized population Civilian noninstitutionalized population 19 to 64 years In labor force Unemployed</th>\n",
       "      <th>Estimate HEALTH INSURANCE COVERAGE Civilian noninstitutionalized population Civilian noninstitutionalized population 19 to 64 years In labor force Unemployed With health insurance coverage</th>\n",
       "      <th>Estimate HEALTH INSURANCE COVERAGE Civilian noninstitutionalized population Civilian noninstitutionalized population 19 to 64 years In labor force Unemployed With health insurance coverage With private health insurance</th>\n",
       "      <th>Estimate HEALTH INSURANCE COVERAGE Civilian noninstitutionalized population Civilian noninstitutionalized population 19 to 64 years In labor force Unemployed With health insurance coverage With public coverage</th>\n",
       "      <th>Estimate HEALTH INSURANCE COVERAGE Civilian noninstitutionalized population Civilian noninstitutionalized population 19 to 64 years In labor force Unemployed No health insurance coverage</th>\n",
       "      <th>Estimate HEALTH INSURANCE COVERAGE Civilian noninstitutionalized population Civilian noninstitutionalized population 19 to 64 years Not in labor force</th>\n",
       "      <th>Estimate HEALTH INSURANCE COVERAGE Civilian noninstitutionalized population Civilian noninstitutionalized population 19 to 64 years Not in labor force With health insurance coverage</th>\n",
       "      <th>Estimate HEALTH INSURANCE COVERAGE Civilian noninstitutionalized population Civilian noninstitutionalized population 19 to 64 years Not in labor force With health insurance coverage With private health insurance</th>\n",
       "      <th>Estimate HEALTH INSURANCE COVERAGE Civilian noninstitutionalized population Civilian noninstitutionalized population 19 to 64 years Not in labor force With health insurance coverage With public coverage</th>\n",
       "      <th>Estimate HEALTH INSURANCE COVERAGE Civilian noninstitutionalized population Civilian noninstitutionalized population 19 to 64 years Not in labor force No health insurance coverage</th>\n",
       "    </tr>\n",
       "    <tr>\n",
       "      <th>Geographic Area Name</th>\n",
       "      <th></th>\n",
       "      <th></th>\n",
       "      <th></th>\n",
       "      <th></th>\n",
       "      <th></th>\n",
       "      <th></th>\n",
       "      <th></th>\n",
       "      <th></th>\n",
       "      <th></th>\n",
       "      <th></th>\n",
       "      <th></th>\n",
       "      <th></th>\n",
       "      <th></th>\n",
       "      <th></th>\n",
       "      <th></th>\n",
       "      <th></th>\n",
       "      <th></th>\n",
       "      <th></th>\n",
       "      <th></th>\n",
       "      <th></th>\n",
       "      <th></th>\n",
       "    </tr>\n",
       "  </thead>\n",
       "  <tbody>\n",
       "    <tr>\n",
       "      <th>Austin County, Texas</th>\n",
       "      <td>29298</td>\n",
       "      <td>25749</td>\n",
       "      <td>20393</td>\n",
       "      <td>8863</td>\n",
       "      <td>3549</td>\n",
       "      <td>7434</td>\n",
       "      <td>415</td>\n",
       "      <td>16634</td>\n",
       "      <td>12876</td>\n",
       "      <td>12231</td>\n",
       "      <td>...</td>\n",
       "      <td>645</td>\n",
       "      <td>469</td>\n",
       "      <td>393</td>\n",
       "      <td>78</td>\n",
       "      <td>176</td>\n",
       "      <td>3758</td>\n",
       "      <td>2918</td>\n",
       "      <td>2081</td>\n",
       "      <td>1036</td>\n",
       "      <td>840</td>\n",
       "    </tr>\n",
       "    <tr>\n",
       "      <th>Kenedy County, Texas</th>\n",
       "      <td>595</td>\n",
       "      <td>467</td>\n",
       "      <td>212</td>\n",
       "      <td>276</td>\n",
       "      <td>128</td>\n",
       "      <td>167</td>\n",
       "      <td>4</td>\n",
       "      <td>292</td>\n",
       "      <td>209</td>\n",
       "      <td>209</td>\n",
       "      <td>...</td>\n",
       "      <td>0</td>\n",
       "      <td>0</td>\n",
       "      <td>0</td>\n",
       "      <td>0</td>\n",
       "      <td>0</td>\n",
       "      <td>83</td>\n",
       "      <td>38</td>\n",
       "      <td>33</td>\n",
       "      <td>5</td>\n",
       "      <td>45</td>\n",
       "    </tr>\n",
       "  </tbody>\n",
       "</table>\n",
       "<p>2 rows × 24 columns</p>\n",
       "</div>"
      ],
      "text/plain": [
       "                      Estimate HEALTH INSURANCE COVERAGE Civilian noninstitutionalized population  \\\n",
       "Geographic Area Name                                                                                \n",
       "Austin County, Texas                                              29298                             \n",
       "Kenedy County, Texas                                                595                             \n",
       "\n",
       "                      Estimate HEALTH INSURANCE COVERAGE Civilian noninstitutionalized population With health insurance coverage  \\\n",
       "Geographic Area Name                                                                                                               \n",
       "Austin County, Texas                                              25749                                                            \n",
       "Kenedy County, Texas                                                467                                                            \n",
       "\n",
       "                      Estimate HEALTH INSURANCE COVERAGE Civilian noninstitutionalized population With health insurance coverage With private health insurance  \\\n",
       "Geographic Area Name                                                                                                                                             \n",
       "Austin County, Texas                                              20393                                                                                          \n",
       "Kenedy County, Texas                                                212                                                                                          \n",
       "\n",
       "                      Estimate HEALTH INSURANCE COVERAGE Civilian noninstitutionalized population With health insurance coverage With public coverage  \\\n",
       "Geographic Area Name                                                                                                                                    \n",
       "Austin County, Texas                                               8863                                                                                 \n",
       "Kenedy County, Texas                                                276                                                                                 \n",
       "\n",
       "                      Estimate HEALTH INSURANCE COVERAGE Civilian noninstitutionalized population No health insurance coverage  \\\n",
       "Geographic Area Name                                                                                                             \n",
       "Austin County, Texas                                               3549                                                          \n",
       "Kenedy County, Texas                                                128                                                          \n",
       "\n",
       "                      Estimate HEALTH INSURANCE COVERAGE Civilian noninstitutionalized population Civilian noninstitutionalized population under 19 years  \\\n",
       "Geographic Area Name                                                                                                                                        \n",
       "Austin County, Texas                                               7434                                                                                     \n",
       "Kenedy County, Texas                                                167                                                                                     \n",
       "\n",
       "                      Estimate HEALTH INSURANCE COVERAGE Civilian noninstitutionalized population Civilian noninstitutionalized population under 19 years No health insurance coverage  \\\n",
       "Geographic Area Name                                                                                                                                                                     \n",
       "Austin County, Texas                                                415                                                                                                                  \n",
       "Kenedy County, Texas                                                  4                                                                                                                  \n",
       "\n",
       "                      Estimate HEALTH INSURANCE COVERAGE Civilian noninstitutionalized population Civilian noninstitutionalized population 19 to 64 years  \\\n",
       "Geographic Area Name                                                                                                                                        \n",
       "Austin County, Texas                                              16634                                                                                     \n",
       "Kenedy County, Texas                                                292                                                                                     \n",
       "\n",
       "                      Estimate HEALTH INSURANCE COVERAGE Civilian noninstitutionalized population Civilian noninstitutionalized population 19 to 64 years In labor force  \\\n",
       "Geographic Area Name                                                                                                                                                       \n",
       "Austin County, Texas                                              12876                                                                                                    \n",
       "Kenedy County, Texas                                                209                                                                                                    \n",
       "\n",
       "                      Estimate HEALTH INSURANCE COVERAGE Civilian noninstitutionalized population Civilian noninstitutionalized population 19 to 64 years In labor force Employed  \\\n",
       "Geographic Area Name                                                                                                                                                                \n",
       "Austin County, Texas                                              12231                                                                                                             \n",
       "Kenedy County, Texas                                                209                                                                                                             \n",
       "\n",
       "                      ...  \\\n",
       "Geographic Area Name  ...   \n",
       "Austin County, Texas  ...   \n",
       "Kenedy County, Texas  ...   \n",
       "\n",
       "                      Estimate HEALTH INSURANCE COVERAGE Civilian noninstitutionalized population Civilian noninstitutionalized population 19 to 64 years In labor force Unemployed  \\\n",
       "Geographic Area Name                                                                                                                                                                  \n",
       "Austin County, Texas                                                645                                                                                                               \n",
       "Kenedy County, Texas                                                  0                                                                                                               \n",
       "\n",
       "                      Estimate HEALTH INSURANCE COVERAGE Civilian noninstitutionalized population Civilian noninstitutionalized population 19 to 64 years In labor force Unemployed With health insurance coverage  \\\n",
       "Geographic Area Name                                                                                                                                                                                                 \n",
       "Austin County, Texas                                                469                                                                                                                                              \n",
       "Kenedy County, Texas                                                  0                                                                                                                                              \n",
       "\n",
       "                      Estimate HEALTH INSURANCE COVERAGE Civilian noninstitutionalized population Civilian noninstitutionalized population 19 to 64 years In labor force Unemployed With health insurance coverage With private health insurance  \\\n",
       "Geographic Area Name                                                                                                                                                                                                                               \n",
       "Austin County, Texas                                                393                                                                                                                                                                            \n",
       "Kenedy County, Texas                                                  0                                                                                                                                                                            \n",
       "\n",
       "                      Estimate HEALTH INSURANCE COVERAGE Civilian noninstitutionalized population Civilian noninstitutionalized population 19 to 64 years In labor force Unemployed With health insurance coverage With public coverage  \\\n",
       "Geographic Area Name                                                                                                                                                                                                                      \n",
       "Austin County, Texas                                                 78                                                                                                                                                                   \n",
       "Kenedy County, Texas                                                  0                                                                                                                                                                   \n",
       "\n",
       "                      Estimate HEALTH INSURANCE COVERAGE Civilian noninstitutionalized population Civilian noninstitutionalized population 19 to 64 years In labor force Unemployed No health insurance coverage  \\\n",
       "Geographic Area Name                                                                                                                                                                                               \n",
       "Austin County, Texas                                                176                                                                                                                                            \n",
       "Kenedy County, Texas                                                  0                                                                                                                                            \n",
       "\n",
       "                      Estimate HEALTH INSURANCE COVERAGE Civilian noninstitutionalized population Civilian noninstitutionalized population 19 to 64 years Not in labor force  \\\n",
       "Geographic Area Name                                                                                                                                                           \n",
       "Austin County, Texas                                               3758                                                                                                        \n",
       "Kenedy County, Texas                                                 83                                                                                                        \n",
       "\n",
       "                      Estimate HEALTH INSURANCE COVERAGE Civilian noninstitutionalized population Civilian noninstitutionalized population 19 to 64 years Not in labor force With health insurance coverage  \\\n",
       "Geographic Area Name                                                                                                                                                                                          \n",
       "Austin County, Texas                                               2918                                                                                                                                       \n",
       "Kenedy County, Texas                                                 38                                                                                                                                       \n",
       "\n",
       "                      Estimate HEALTH INSURANCE COVERAGE Civilian noninstitutionalized population Civilian noninstitutionalized population 19 to 64 years Not in labor force With health insurance coverage With private health insurance  \\\n",
       "Geographic Area Name                                                                                                                                                                                                                        \n",
       "Austin County, Texas                                               2081                                                                                                                                                                     \n",
       "Kenedy County, Texas                                                 33                                                                                                                                                                     \n",
       "\n",
       "                      Estimate HEALTH INSURANCE COVERAGE Civilian noninstitutionalized population Civilian noninstitutionalized population 19 to 64 years Not in labor force With health insurance coverage With public coverage  \\\n",
       "Geographic Area Name                                                                                                                                                                                                               \n",
       "Austin County, Texas                                               1036                                                                                                                                                            \n",
       "Kenedy County, Texas                                                  5                                                                                                                                                            \n",
       "\n",
       "                      Estimate HEALTH INSURANCE COVERAGE Civilian noninstitutionalized population Civilian noninstitutionalized population 19 to 64 years Not in labor force No health insurance coverage  \n",
       "Geographic Area Name                                                                                                                                                                                       \n",
       "Austin County, Texas                                                840                                                                                                                                    \n",
       "Kenedy County, Texas                                                 45                                                                                                                                    \n",
       "\n",
       "[2 rows x 24 columns]"
      ]
     },
     "execution_count": 69,
     "metadata": {},
     "output_type": "execute_result"
    }
   ],
   "source": [
    "# Extract the columns that have HEALTH INSURANCE in the title\n",
    "# and save to a new dataframe.\n",
    "dp03_ins = dp03.filter(regex = '(HEALTH INSURANCE)', axis=1)\n",
    "# Display the first few rows of the dataframe.\n",
    "dp03_ins.head(2)"
   ]
  },
  {
   "cell_type": "code",
   "execution_count": 70,
   "metadata": {},
   "outputs": [
    {
     "name": "stdout",
     "output_type": "stream",
     "text": [
      "<class 'pandas.core.frame.DataFrame'>\n",
      "Index: 543 entries, Austin County, Texas to Mason County, Illinois\n",
      "Data columns (total 24 columns):\n",
      " #   Column                                                                                                                                                                                                                      Non-Null Count  Dtype\n",
      "---  ------                                                                                                                                                                                                                      --------------  -----\n",
      " 0   Estimate HEALTH INSURANCE COVERAGE Civilian noninstitutionalized population                                                                                                                                                 543 non-null    int64\n",
      " 1   Estimate HEALTH INSURANCE COVERAGE Civilian noninstitutionalized population With health insurance coverage                                                                                                                  543 non-null    int64\n",
      " 2   Estimate HEALTH INSURANCE COVERAGE Civilian noninstitutionalized population With health insurance coverage With private health insurance                                                                                    543 non-null    int64\n",
      " 3   Estimate HEALTH INSURANCE COVERAGE Civilian noninstitutionalized population With health insurance coverage With public coverage                                                                                             543 non-null    int64\n",
      " 4   Estimate HEALTH INSURANCE COVERAGE Civilian noninstitutionalized population No health insurance coverage                                                                                                                    543 non-null    int64\n",
      " 5   Estimate HEALTH INSURANCE COVERAGE Civilian noninstitutionalized population Civilian noninstitutionalized population under 19 years                                                                                         543 non-null    int64\n",
      " 6   Estimate HEALTH INSURANCE COVERAGE Civilian noninstitutionalized population Civilian noninstitutionalized population under 19 years No health insurance coverage                                                            543 non-null    int64\n",
      " 7   Estimate HEALTH INSURANCE COVERAGE Civilian noninstitutionalized population Civilian noninstitutionalized population 19 to 64 years                                                                                         543 non-null    int64\n",
      " 8   Estimate HEALTH INSURANCE COVERAGE Civilian noninstitutionalized population Civilian noninstitutionalized population 19 to 64 years In labor force                                                                          543 non-null    int64\n",
      " 9   Estimate HEALTH INSURANCE COVERAGE Civilian noninstitutionalized population Civilian noninstitutionalized population 19 to 64 years In labor force Employed                                                                 543 non-null    int64\n",
      " 10  Estimate HEALTH INSURANCE COVERAGE Civilian noninstitutionalized population Civilian noninstitutionalized population 19 to 64 years In labor force Employed With health insurance coverage                                  543 non-null    int64\n",
      " 11  Estimate HEALTH INSURANCE COVERAGE Civilian noninstitutionalized population Civilian noninstitutionalized population 19 to 64 years In labor force Employed With health insurance coverage With private health insurance    543 non-null    int64\n",
      " 12  Estimate HEALTH INSURANCE COVERAGE Civilian noninstitutionalized population Civilian noninstitutionalized population 19 to 64 years In labor force Employed With health insurance coverage With public coverage             543 non-null    int64\n",
      " 13  Estimate HEALTH INSURANCE COVERAGE Civilian noninstitutionalized population Civilian noninstitutionalized population 19 to 64 years In labor force Employed No health insurance coverage                                    543 non-null    int64\n",
      " 14  Estimate HEALTH INSURANCE COVERAGE Civilian noninstitutionalized population Civilian noninstitutionalized population 19 to 64 years In labor force Unemployed                                                               543 non-null    int64\n",
      " 15  Estimate HEALTH INSURANCE COVERAGE Civilian noninstitutionalized population Civilian noninstitutionalized population 19 to 64 years In labor force Unemployed With health insurance coverage                                543 non-null    int64\n",
      " 16  Estimate HEALTH INSURANCE COVERAGE Civilian noninstitutionalized population Civilian noninstitutionalized population 19 to 64 years In labor force Unemployed With health insurance coverage With private health insurance  543 non-null    int64\n",
      " 17  Estimate HEALTH INSURANCE COVERAGE Civilian noninstitutionalized population Civilian noninstitutionalized population 19 to 64 years In labor force Unemployed With health insurance coverage With public coverage           543 non-null    int64\n",
      " 18  Estimate HEALTH INSURANCE COVERAGE Civilian noninstitutionalized population Civilian noninstitutionalized population 19 to 64 years In labor force Unemployed No health insurance coverage                                  543 non-null    int64\n",
      " 19  Estimate HEALTH INSURANCE COVERAGE Civilian noninstitutionalized population Civilian noninstitutionalized population 19 to 64 years Not in labor force                                                                      543 non-null    int64\n",
      " 20  Estimate HEALTH INSURANCE COVERAGE Civilian noninstitutionalized population Civilian noninstitutionalized population 19 to 64 years Not in labor force With health insurance coverage                                       543 non-null    int64\n",
      " 21  Estimate HEALTH INSURANCE COVERAGE Civilian noninstitutionalized population Civilian noninstitutionalized population 19 to 64 years Not in labor force With health insurance coverage With private health insurance         543 non-null    int64\n",
      " 22  Estimate HEALTH INSURANCE COVERAGE Civilian noninstitutionalized population Civilian noninstitutionalized population 19 to 64 years Not in labor force With health insurance coverage With public coverage                  543 non-null    int64\n",
      " 23  Estimate HEALTH INSURANCE COVERAGE Civilian noninstitutionalized population Civilian noninstitutionalized population 19 to 64 years Not in labor force No health insurance coverage                                         543 non-null    int64\n",
      "dtypes: int64(24)\n",
      "memory usage: 106.1+ KB\n"
     ]
    }
   ],
   "source": [
    "# Display information about the dataframe.\n",
    "dp03_ins.info()"
   ]
  },
  {
   "cell_type": "code",
   "execution_count": 71,
   "metadata": {},
   "outputs": [],
   "source": [
    "# These are the columns to be used in the analysis.\n",
    "columns_ins = [\n",
    "    'Estimate HEALTH INSURANCE COVERAGE Civilian noninstitutionalized population',\n",
    "    'Estimate HEALTH INSURANCE COVERAGE Civilian noninstitutionalized population With health insurance coverage',\n",
    "    'Estimate HEALTH INSURANCE COVERAGE Civilian noninstitutionalized population No health insurance coverage'\n",
    "]"
   ]
  },
  {
   "cell_type": "code",
   "execution_count": 72,
   "metadata": {},
   "outputs": [],
   "source": [
    "# Extract the important columns for analysis.\n",
    "dp03_ins = dp03_ins[columns_ins]"
   ]
  },
  {
   "cell_type": "code",
   "execution_count": 73,
   "metadata": {},
   "outputs": [
    {
     "data": {
      "text/html": [
       "<div>\n",
       "<style scoped>\n",
       "    .dataframe tbody tr th:only-of-type {\n",
       "        vertical-align: middle;\n",
       "    }\n",
       "\n",
       "    .dataframe tbody tr th {\n",
       "        vertical-align: top;\n",
       "    }\n",
       "\n",
       "    .dataframe thead th {\n",
       "        text-align: right;\n",
       "    }\n",
       "</style>\n",
       "<table border=\"1\" class=\"dataframe\">\n",
       "  <thead>\n",
       "    <tr style=\"text-align: right;\">\n",
       "      <th></th>\n",
       "      <th>Estimate HEALTH INSURANCE COVERAGE Civilian noninstitutionalized population</th>\n",
       "      <th>Estimate HEALTH INSURANCE COVERAGE Civilian noninstitutionalized population With health insurance coverage</th>\n",
       "      <th>Estimate HEALTH INSURANCE COVERAGE Civilian noninstitutionalized population No health insurance coverage</th>\n",
       "    </tr>\n",
       "    <tr>\n",
       "      <th>Geographic Area Name</th>\n",
       "      <th></th>\n",
       "      <th></th>\n",
       "      <th></th>\n",
       "    </tr>\n",
       "  </thead>\n",
       "  <tbody>\n",
       "    <tr>\n",
       "      <th>Austin County, Texas</th>\n",
       "      <td>29298</td>\n",
       "      <td>25749</td>\n",
       "      <td>3549</td>\n",
       "    </tr>\n",
       "    <tr>\n",
       "      <th>Kenedy County, Texas</th>\n",
       "      <td>595</td>\n",
       "      <td>467</td>\n",
       "      <td>128</td>\n",
       "    </tr>\n",
       "    <tr>\n",
       "      <th>Nueces County, Texas</th>\n",
       "      <td>355767</td>\n",
       "      <td>295165</td>\n",
       "      <td>60602</td>\n",
       "    </tr>\n",
       "  </tbody>\n",
       "</table>\n",
       "</div>"
      ],
      "text/plain": [
       "                      Estimate HEALTH INSURANCE COVERAGE Civilian noninstitutionalized population  \\\n",
       "Geographic Area Name                                                                                \n",
       "Austin County, Texas                                              29298                             \n",
       "Kenedy County, Texas                                                595                             \n",
       "Nueces County, Texas                                             355767                             \n",
       "\n",
       "                      Estimate HEALTH INSURANCE COVERAGE Civilian noninstitutionalized population With health insurance coverage  \\\n",
       "Geographic Area Name                                                                                                               \n",
       "Austin County, Texas                                              25749                                                            \n",
       "Kenedy County, Texas                                                467                                                            \n",
       "Nueces County, Texas                                             295165                                                            \n",
       "\n",
       "                      Estimate HEALTH INSURANCE COVERAGE Civilian noninstitutionalized population No health insurance coverage  \n",
       "Geographic Area Name                                                                                                            \n",
       "Austin County, Texas                                               3549                                                         \n",
       "Kenedy County, Texas                                                128                                                         \n",
       "Nueces County, Texas                                              60602                                                         "
      ]
     },
     "execution_count": 73,
     "metadata": {},
     "output_type": "execute_result"
    }
   ],
   "source": [
    "# Display the first few rows of the dataframe.\n",
    "dp03_ins.head(3)"
   ]
  },
  {
   "cell_type": "code",
   "execution_count": 74,
   "metadata": {},
   "outputs": [],
   "source": [
    "# Clean up column names.\n",
    "dp03_ins.columns = dp03_ins.columns.str.lower().str.replace('estimate health insurance coverage civilian noninstitutionalized population', 'health_ins_noninst_pop')"
   ]
  },
  {
   "cell_type": "code",
   "execution_count": 75,
   "metadata": {},
   "outputs": [],
   "source": [
    "dp03_ins.columns = dp03_ins.columns.str.replace('with health insurance coverage', 'cov_yes')"
   ]
  },
  {
   "cell_type": "code",
   "execution_count": 76,
   "metadata": {},
   "outputs": [],
   "source": [
    "# Clean up column names.\n",
    "dp03_ins.columns = dp03_ins.columns.str.replace('no health insurance coverage', 'cov_no')"
   ]
  },
  {
   "cell_type": "code",
   "execution_count": 77,
   "metadata": {},
   "outputs": [],
   "source": [
    "# Clean up column names.\n",
    "dp03_ins.columns = dp03_ins.columns.str.replace(' ', '_')"
   ]
  },
  {
   "cell_type": "code",
   "execution_count": 78,
   "metadata": {},
   "outputs": [
    {
     "data": {
      "text/plain": [
       "['health_ins_noninst_pop',\n",
       " 'health_ins_noninst_pop_cov_yes',\n",
       " 'health_ins_noninst_pop_cov_no']"
      ]
     },
     "execution_count": 78,
     "metadata": {},
     "output_type": "execute_result"
    }
   ],
   "source": [
    "# Display the columns as a list.\n",
    "list(dp03_ins.columns)"
   ]
  },
  {
   "cell_type": "code",
   "execution_count": 79,
   "metadata": {},
   "outputs": [],
   "source": [
    "# Export the data.\n",
    "dp03_ins.to_csv('../data/preprocessing/cleaned_dp03_insurance_five_states.csv')"
   ]
  },
  {
   "cell_type": "markdown",
   "metadata": {},
   "source": [
    "# Importing and Cleaning Obesity Data"
   ]
  },
  {
   "cell_type": "code",
   "execution_count": 80,
   "metadata": {},
   "outputs": [],
   "source": [
    "# Read in the data.\n",
    "tx = pd.read_csv('../data/preprocessing/raw_obesity_tx.csv')\n",
    "ca = pd.read_csv('../data/preprocessing/raw_obesity_ca.csv')\n",
    "fl = pd.read_csv('../data/preprocessing/raw_obesity_fl.csv')\n",
    "il = pd.read_csv('../data/preprocessing/raw_obesity_il.csv')\n",
    "ny = pd.read_csv('../data/preprocessing/raw_obesity_ny.csv')"
   ]
  },
  {
   "cell_type": "code",
   "execution_count": 81,
   "metadata": {},
   "outputs": [
    {
     "data": {
      "text/html": [
       "<div>\n",
       "<style scoped>\n",
       "    .dataframe tbody tr th:only-of-type {\n",
       "        vertical-align: middle;\n",
       "    }\n",
       "\n",
       "    .dataframe tbody tr th {\n",
       "        vertical-align: top;\n",
       "    }\n",
       "\n",
       "    .dataframe thead th {\n",
       "        text-align: right;\n",
       "    }\n",
       "</style>\n",
       "<table border=\"1\" class=\"dataframe\">\n",
       "  <thead>\n",
       "    <tr style=\"text-align: right;\">\n",
       "      <th></th>\n",
       "      <th>County</th>\n",
       "      <th>State</th>\n",
       "      <th>CountyFIPS</th>\n",
       "      <th>Percentage</th>\n",
       "      <th>Lower Limit</th>\n",
       "      <th>Upper Limit</th>\n",
       "    </tr>\n",
       "  </thead>\n",
       "  <tbody>\n",
       "    <tr>\n",
       "      <th>0</th>\n",
       "      <td>Anderson County</td>\n",
       "      <td>Texas</td>\n",
       "      <td>48001</td>\n",
       "      <td>37.3</td>\n",
       "      <td>28.1</td>\n",
       "      <td>47.5</td>\n",
       "    </tr>\n",
       "    <tr>\n",
       "      <th>1</th>\n",
       "      <td>Andrews County</td>\n",
       "      <td>Texas</td>\n",
       "      <td>48003</td>\n",
       "      <td>31.3</td>\n",
       "      <td>20.0</td>\n",
       "      <td>44.2</td>\n",
       "    </tr>\n",
       "  </tbody>\n",
       "</table>\n",
       "</div>"
      ],
      "text/plain": [
       "            County  State  CountyFIPS  Percentage  Lower Limit   Upper Limit\n",
       "0  Anderson County  Texas       48001        37.3         28.1          47.5\n",
       "1   Andrews County  Texas       48003        31.3         20.0          44.2"
      ]
     },
     "execution_count": 81,
     "metadata": {},
     "output_type": "execute_result"
    }
   ],
   "source": [
    "# Display the first few rows of the dataframe.\n",
    "tx.head(2)"
   ]
  },
  {
   "cell_type": "code",
   "execution_count": 82,
   "metadata": {},
   "outputs": [
    {
     "data": {
      "text/html": [
       "<div>\n",
       "<style scoped>\n",
       "    .dataframe tbody tr th:only-of-type {\n",
       "        vertical-align: middle;\n",
       "    }\n",
       "\n",
       "    .dataframe tbody tr th {\n",
       "        vertical-align: top;\n",
       "    }\n",
       "\n",
       "    .dataframe thead th {\n",
       "        text-align: right;\n",
       "    }\n",
       "</style>\n",
       "<table border=\"1\" class=\"dataframe\">\n",
       "  <thead>\n",
       "    <tr style=\"text-align: right;\">\n",
       "      <th></th>\n",
       "      <th>County</th>\n",
       "      <th>State</th>\n",
       "      <th>CountyFIPS</th>\n",
       "      <th>Percentage</th>\n",
       "      <th>Lower Limit</th>\n",
       "      <th>Upper Limit</th>\n",
       "    </tr>\n",
       "  </thead>\n",
       "  <tbody>\n",
       "    <tr>\n",
       "      <th>0</th>\n",
       "      <td>Alameda County</td>\n",
       "      <td>California</td>\n",
       "      <td>6001</td>\n",
       "      <td>6.7</td>\n",
       "      <td>5.5</td>\n",
       "      <td>7.8</td>\n",
       "    </tr>\n",
       "    <tr>\n",
       "      <th>1</th>\n",
       "      <td>Alpine County</td>\n",
       "      <td>California</td>\n",
       "      <td>6003</td>\n",
       "      <td>4.6</td>\n",
       "      <td>1.7</td>\n",
       "      <td>11.2</td>\n",
       "    </tr>\n",
       "  </tbody>\n",
       "</table>\n",
       "</div>"
      ],
      "text/plain": [
       "           County       State  CountyFIPS  Percentage  Lower Limit  \\\n",
       "0  Alameda County  California        6001         6.7          5.5   \n",
       "1   Alpine County  California        6003         4.6          1.7   \n",
       "\n",
       "    Upper Limit  \n",
       "0           7.8  \n",
       "1          11.2  "
      ]
     },
     "execution_count": 82,
     "metadata": {},
     "output_type": "execute_result"
    }
   ],
   "source": [
    "# Display the first few rows of the dataframe.\n",
    "ca.head(2)"
   ]
  },
  {
   "cell_type": "code",
   "execution_count": 83,
   "metadata": {},
   "outputs": [
    {
     "data": {
      "text/html": [
       "<div>\n",
       "<style scoped>\n",
       "    .dataframe tbody tr th:only-of-type {\n",
       "        vertical-align: middle;\n",
       "    }\n",
       "\n",
       "    .dataframe tbody tr th {\n",
       "        vertical-align: top;\n",
       "    }\n",
       "\n",
       "    .dataframe thead th {\n",
       "        text-align: right;\n",
       "    }\n",
       "</style>\n",
       "<table border=\"1\" class=\"dataframe\">\n",
       "  <thead>\n",
       "    <tr style=\"text-align: right;\">\n",
       "      <th></th>\n",
       "      <th>County</th>\n",
       "      <th>State</th>\n",
       "      <th>CountyFIPS</th>\n",
       "      <th>Percentage</th>\n",
       "      <th>Lower Limit</th>\n",
       "      <th>Upper Limit</th>\n",
       "    </tr>\n",
       "  </thead>\n",
       "  <tbody>\n",
       "    <tr>\n",
       "      <th>0</th>\n",
       "      <td>Alachua County</td>\n",
       "      <td>Florida</td>\n",
       "      <td>12001</td>\n",
       "      <td>9.6</td>\n",
       "      <td>8.2</td>\n",
       "      <td>11.3</td>\n",
       "    </tr>\n",
       "    <tr>\n",
       "      <th>1</th>\n",
       "      <td>Baker County</td>\n",
       "      <td>Florida</td>\n",
       "      <td>12003</td>\n",
       "      <td>13.6</td>\n",
       "      <td>11.0</td>\n",
       "      <td>16.3</td>\n",
       "    </tr>\n",
       "  </tbody>\n",
       "</table>\n",
       "</div>"
      ],
      "text/plain": [
       "           County    State  CountyFIPS  Percentage  Lower Limit   Upper Limit\n",
       "0  Alachua County  Florida       12001         9.6          8.2          11.3\n",
       "1    Baker County  Florida       12003        13.6         11.0          16.3"
      ]
     },
     "execution_count": 83,
     "metadata": {},
     "output_type": "execute_result"
    }
   ],
   "source": [
    "# Display the first few rows of the dataframe.\n",
    "fl.head(2)"
   ]
  },
  {
   "cell_type": "code",
   "execution_count": 84,
   "metadata": {},
   "outputs": [
    {
     "data": {
      "text/html": [
       "<div>\n",
       "<style scoped>\n",
       "    .dataframe tbody tr th:only-of-type {\n",
       "        vertical-align: middle;\n",
       "    }\n",
       "\n",
       "    .dataframe tbody tr th {\n",
       "        vertical-align: top;\n",
       "    }\n",
       "\n",
       "    .dataframe thead th {\n",
       "        text-align: right;\n",
       "    }\n",
       "</style>\n",
       "<table border=\"1\" class=\"dataframe\">\n",
       "  <thead>\n",
       "    <tr style=\"text-align: right;\">\n",
       "      <th></th>\n",
       "      <th>County</th>\n",
       "      <th>State</th>\n",
       "      <th>CountyFIPS</th>\n",
       "      <th>Percentage</th>\n",
       "      <th>Lower Limit</th>\n",
       "      <th>Upper Limit</th>\n",
       "    </tr>\n",
       "  </thead>\n",
       "  <tbody>\n",
       "    <tr>\n",
       "      <th>0</th>\n",
       "      <td>Adams County</td>\n",
       "      <td>Illinois</td>\n",
       "      <td>17001</td>\n",
       "      <td>11.4</td>\n",
       "      <td>6.8</td>\n",
       "      <td>18.2</td>\n",
       "    </tr>\n",
       "    <tr>\n",
       "      <th>1</th>\n",
       "      <td>Alexander County</td>\n",
       "      <td>Illinois</td>\n",
       "      <td>17003</td>\n",
       "      <td>3.6</td>\n",
       "      <td>1.4</td>\n",
       "      <td>7.5</td>\n",
       "    </tr>\n",
       "  </tbody>\n",
       "</table>\n",
       "</div>"
      ],
      "text/plain": [
       "             County     State  CountyFIPS  Percentage  Lower Limit  \\\n",
       "0      Adams County  Illinois       17001        11.4          6.8   \n",
       "1  Alexander County  Illinois       17003         3.6          1.4   \n",
       "\n",
       "    Upper Limit  \n",
       "0          18.2  \n",
       "1           7.5  "
      ]
     },
     "execution_count": 84,
     "metadata": {},
     "output_type": "execute_result"
    }
   ],
   "source": [
    "# Display the first few rows of the dataframe.\n",
    "il.head(2)"
   ]
  },
  {
   "cell_type": "code",
   "execution_count": 85,
   "metadata": {},
   "outputs": [
    {
     "data": {
      "text/html": [
       "<div>\n",
       "<style scoped>\n",
       "    .dataframe tbody tr th:only-of-type {\n",
       "        vertical-align: middle;\n",
       "    }\n",
       "\n",
       "    .dataframe tbody tr th {\n",
       "        vertical-align: top;\n",
       "    }\n",
       "\n",
       "    .dataframe thead th {\n",
       "        text-align: right;\n",
       "    }\n",
       "</style>\n",
       "<table border=\"1\" class=\"dataframe\">\n",
       "  <thead>\n",
       "    <tr style=\"text-align: right;\">\n",
       "      <th></th>\n",
       "      <th>County</th>\n",
       "      <th>State</th>\n",
       "      <th>CountyFIPS</th>\n",
       "      <th>Percentage</th>\n",
       "      <th>Lower Limit</th>\n",
       "      <th>Upper Limit</th>\n",
       "    </tr>\n",
       "  </thead>\n",
       "  <tbody>\n",
       "    <tr>\n",
       "      <th>0</th>\n",
       "      <td>Albany County</td>\n",
       "      <td>New York</td>\n",
       "      <td>36001</td>\n",
       "      <td>8.8</td>\n",
       "      <td>7.5</td>\n",
       "      <td>10.2</td>\n",
       "    </tr>\n",
       "    <tr>\n",
       "      <th>1</th>\n",
       "      <td>Allegany County</td>\n",
       "      <td>New York</td>\n",
       "      <td>36003</td>\n",
       "      <td>9.3</td>\n",
       "      <td>7.8</td>\n",
       "      <td>11.2</td>\n",
       "    </tr>\n",
       "  </tbody>\n",
       "</table>\n",
       "</div>"
      ],
      "text/plain": [
       "            County     State  CountyFIPS  Percentage  Lower Limit  \\\n",
       "0    Albany County  New York       36001         8.8          7.5   \n",
       "1  Allegany County  New York       36003         9.3          7.8   \n",
       "\n",
       "    Upper Limit  \n",
       "0          10.2  \n",
       "1          11.2  "
      ]
     },
     "execution_count": 85,
     "metadata": {},
     "output_type": "execute_result"
    }
   ],
   "source": [
    "# Display the first few rows of the dataframe.\n",
    "ny.head(2)"
   ]
  },
  {
   "cell_type": "code",
   "execution_count": 86,
   "metadata": {},
   "outputs": [],
   "source": [
    "# Combine the dataframes.\n",
    "obesity = pd.concat([tx, ca, fl, il, ny])"
   ]
  },
  {
   "cell_type": "code",
   "execution_count": 87,
   "metadata": {},
   "outputs": [],
   "source": [
    "# Create a county column using the lowercase county-only formatting\n",
    "obesity['Geographic Area Name'] = obesity['County'] + ', ' + obesity['State']"
   ]
  },
  {
   "cell_type": "code",
   "execution_count": 88,
   "metadata": {},
   "outputs": [],
   "source": [
    "# Rename a column.\n",
    "obesity = obesity.rename(columns={'Percentage': 'obes_percent'})"
   ]
  },
  {
   "cell_type": "code",
   "execution_count": 89,
   "metadata": {},
   "outputs": [],
   "source": [
    "# Convert obesity percentage column to a decimal.\n",
    "obesity['obes_percent'] = obesity['obes_percent'] / 100"
   ]
  },
  {
   "cell_type": "code",
   "execution_count": 90,
   "metadata": {},
   "outputs": [
    {
     "data": {
      "text/html": [
       "<div>\n",
       "<style scoped>\n",
       "    .dataframe tbody tr th:only-of-type {\n",
       "        vertical-align: middle;\n",
       "    }\n",
       "\n",
       "    .dataframe tbody tr th {\n",
       "        vertical-align: top;\n",
       "    }\n",
       "\n",
       "    .dataframe thead th {\n",
       "        text-align: right;\n",
       "    }\n",
       "</style>\n",
       "<table border=\"1\" class=\"dataframe\">\n",
       "  <thead>\n",
       "    <tr style=\"text-align: right;\">\n",
       "      <th></th>\n",
       "      <th>County</th>\n",
       "      <th>State</th>\n",
       "      <th>CountyFIPS</th>\n",
       "      <th>obes_percent</th>\n",
       "      <th>Lower Limit</th>\n",
       "      <th>Upper Limit</th>\n",
       "      <th>Geographic Area Name</th>\n",
       "    </tr>\n",
       "  </thead>\n",
       "  <tbody>\n",
       "    <tr>\n",
       "      <th>0</th>\n",
       "      <td>Anderson County</td>\n",
       "      <td>Texas</td>\n",
       "      <td>48001</td>\n",
       "      <td>0.373</td>\n",
       "      <td>28.1</td>\n",
       "      <td>47.5</td>\n",
       "      <td>Anderson County, Texas</td>\n",
       "    </tr>\n",
       "    <tr>\n",
       "      <th>1</th>\n",
       "      <td>Andrews County</td>\n",
       "      <td>Texas</td>\n",
       "      <td>48003</td>\n",
       "      <td>0.313</td>\n",
       "      <td>20.0</td>\n",
       "      <td>44.2</td>\n",
       "      <td>Andrews County, Texas</td>\n",
       "    </tr>\n",
       "  </tbody>\n",
       "</table>\n",
       "</div>"
      ],
      "text/plain": [
       "            County  State  CountyFIPS  obes_percent  Lower Limit  \\\n",
       "0  Anderson County  Texas       48001         0.373         28.1   \n",
       "1   Andrews County  Texas       48003         0.313         20.0   \n",
       "\n",
       "    Upper Limit    Geographic Area Name  \n",
       "0          47.5  Anderson County, Texas  \n",
       "1          44.2   Andrews County, Texas  "
      ]
     },
     "execution_count": 90,
     "metadata": {},
     "output_type": "execute_result"
    }
   ],
   "source": [
    "# Display the first few rows of the dataframe.\n",
    "obesity.head(2)"
   ]
  },
  {
   "cell_type": "code",
   "execution_count": 91,
   "metadata": {},
   "outputs": [],
   "source": [
    "# Drop all columns except for geo and obesity percentage.\n",
    "obesity = obesity[['Geographic Area Name', 'obes_percent']]"
   ]
  },
  {
   "cell_type": "code",
   "execution_count": 92,
   "metadata": {},
   "outputs": [],
   "source": [
    "# Set the location to the index.\n",
    "obesity = obesity.set_index('Geographic Area Name')"
   ]
  },
  {
   "cell_type": "code",
   "execution_count": 93,
   "metadata": {},
   "outputs": [],
   "source": [
    "# Export the data.\n",
    "obesity.to_csv('../data/preprocessing/cleaned_obesity_five_states.csv')"
   ]
  },
  {
   "cell_type": "markdown",
   "metadata": {},
   "source": [
    "# Importing and Cleaning CA COVID Data"
   ]
  },
  {
   "cell_type": "code",
   "execution_count": 94,
   "metadata": {},
   "outputs": [],
   "source": [
    "# Read in the data.\n",
    "ca = pd.read_csv('../data/preprocessing/raw_covid_cases_ca.csv')\n",
    "ca_tests = pd.read_csv('../data/preprocessing/raw_covid_tests_ca.csv')"
   ]
  },
  {
   "cell_type": "code",
   "execution_count": 95,
   "metadata": {},
   "outputs": [
    {
     "data": {
      "text/html": [
       "<div>\n",
       "<style scoped>\n",
       "    .dataframe tbody tr th:only-of-type {\n",
       "        vertical-align: middle;\n",
       "    }\n",
       "\n",
       "    .dataframe tbody tr th {\n",
       "        vertical-align: top;\n",
       "    }\n",
       "\n",
       "    .dataframe thead th {\n",
       "        text-align: right;\n",
       "    }\n",
       "</style>\n",
       "<table border=\"1\" class=\"dataframe\">\n",
       "  <thead>\n",
       "    <tr style=\"text-align: right;\">\n",
       "      <th></th>\n",
       "      <th>county</th>\n",
       "      <th>totalcountconfirmed</th>\n",
       "      <th>totalcountdeaths</th>\n",
       "      <th>newcountconfirmed</th>\n",
       "      <th>newcountdeaths</th>\n",
       "      <th>date</th>\n",
       "    </tr>\n",
       "  </thead>\n",
       "  <tbody>\n",
       "    <tr>\n",
       "      <th>0</th>\n",
       "      <td>Santa Clara</td>\n",
       "      <td>151.0</td>\n",
       "      <td>6.0</td>\n",
       "      <td>151</td>\n",
       "      <td>6</td>\n",
       "      <td>2020-03-18</td>\n",
       "    </tr>\n",
       "    <tr>\n",
       "      <th>1</th>\n",
       "      <td>Santa Clara</td>\n",
       "      <td>183.0</td>\n",
       "      <td>8.0</td>\n",
       "      <td>32</td>\n",
       "      <td>2</td>\n",
       "      <td>2020-03-19</td>\n",
       "    </tr>\n",
       "  </tbody>\n",
       "</table>\n",
       "</div>"
      ],
      "text/plain": [
       "        county  totalcountconfirmed  totalcountdeaths  newcountconfirmed  \\\n",
       "0  Santa Clara                151.0               6.0                151   \n",
       "1  Santa Clara                183.0               8.0                 32   \n",
       "\n",
       "   newcountdeaths        date  \n",
       "0               6  2020-03-18  \n",
       "1               2  2020-03-19  "
      ]
     },
     "execution_count": 95,
     "metadata": {},
     "output_type": "execute_result"
    }
   ],
   "source": [
    "# Display the first few rows of the dataframe.\n",
    "ca.head(2)"
   ]
  },
  {
   "cell_type": "code",
   "execution_count": 96,
   "metadata": {},
   "outputs": [],
   "source": [
    "# Convert the date column to a datetime object and set it to the index.\n",
    "ca['date'] = pd.to_datetime(ca['date'])\n",
    "ca = ca.set_index('date')"
   ]
  },
  {
   "cell_type": "code",
   "execution_count": 97,
   "metadata": {},
   "outputs": [
    {
     "data": {
      "text/plain": [
       "Timestamp('2020-10-24 00:00:00')"
      ]
     },
     "execution_count": 97,
     "metadata": {},
     "output_type": "execute_result"
    }
   ],
   "source": [
    "# Display the max index.\n",
    "ca.index.max()"
   ]
  },
  {
   "cell_type": "code",
   "execution_count": 98,
   "metadata": {},
   "outputs": [],
   "source": [
    "# Drop all rows except for October 24th.\n",
    "ca = ca.loc['2020-10-24']"
   ]
  },
  {
   "cell_type": "code",
   "execution_count": 99,
   "metadata": {},
   "outputs": [],
   "source": [
    "# Reset the index.\n",
    "ca = ca.reset_index()"
   ]
  },
  {
   "cell_type": "code",
   "execution_count": 100,
   "metadata": {},
   "outputs": [
    {
     "data": {
      "text/html": [
       "<div>\n",
       "<style scoped>\n",
       "    .dataframe tbody tr th:only-of-type {\n",
       "        vertical-align: middle;\n",
       "    }\n",
       "\n",
       "    .dataframe tbody tr th {\n",
       "        vertical-align: top;\n",
       "    }\n",
       "\n",
       "    .dataframe thead th {\n",
       "        text-align: right;\n",
       "    }\n",
       "</style>\n",
       "<table border=\"1\" class=\"dataframe\">\n",
       "  <thead>\n",
       "    <tr style=\"text-align: right;\">\n",
       "      <th></th>\n",
       "      <th>date</th>\n",
       "      <th>county</th>\n",
       "      <th>totalcountconfirmed</th>\n",
       "      <th>totalcountdeaths</th>\n",
       "      <th>newcountconfirmed</th>\n",
       "      <th>newcountdeaths</th>\n",
       "    </tr>\n",
       "  </thead>\n",
       "  <tbody>\n",
       "    <tr>\n",
       "      <th>37</th>\n",
       "      <td>2020-10-24</td>\n",
       "      <td>Out Of Country</td>\n",
       "      <td>0.0</td>\n",
       "      <td>0.0</td>\n",
       "      <td>0</td>\n",
       "      <td>0</td>\n",
       "    </tr>\n",
       "  </tbody>\n",
       "</table>\n",
       "</div>"
      ],
      "text/plain": [
       "         date          county  totalcountconfirmed  totalcountdeaths  \\\n",
       "37 2020-10-24  Out Of Country                  0.0               0.0   \n",
       "\n",
       "    newcountconfirmed  newcountdeaths  \n",
       "37                  0               0  "
      ]
     },
     "execution_count": 100,
     "metadata": {},
     "output_type": "execute_result"
    }
   ],
   "source": [
    "# Display non-normal county rows.\n",
    "ca[ca['county'] == 'Out Of Country']"
   ]
  },
  {
   "cell_type": "code",
   "execution_count": 101,
   "metadata": {},
   "outputs": [],
   "source": [
    "# Drop non-normal county rows.\n",
    "ca = ca.drop(ca[ca['county'] == 'Out Of Country'].index)"
   ]
  },
  {
   "cell_type": "code",
   "execution_count": 102,
   "metadata": {},
   "outputs": [
    {
     "data": {
      "text/html": [
       "<div>\n",
       "<style scoped>\n",
       "    .dataframe tbody tr th:only-of-type {\n",
       "        vertical-align: middle;\n",
       "    }\n",
       "\n",
       "    .dataframe tbody tr th {\n",
       "        vertical-align: top;\n",
       "    }\n",
       "\n",
       "    .dataframe thead th {\n",
       "        text-align: right;\n",
       "    }\n",
       "</style>\n",
       "<table border=\"1\" class=\"dataframe\">\n",
       "  <thead>\n",
       "    <tr style=\"text-align: right;\">\n",
       "      <th></th>\n",
       "      <th>date</th>\n",
       "      <th>county</th>\n",
       "      <th>totalcountconfirmed</th>\n",
       "      <th>totalcountdeaths</th>\n",
       "      <th>newcountconfirmed</th>\n",
       "      <th>newcountdeaths</th>\n",
       "    </tr>\n",
       "  </thead>\n",
       "  <tbody>\n",
       "    <tr>\n",
       "      <th>50</th>\n",
       "      <td>2020-10-24</td>\n",
       "      <td>Unassigned</td>\n",
       "      <td>3.0</td>\n",
       "      <td>0.0</td>\n",
       "      <td>2</td>\n",
       "      <td>0</td>\n",
       "    </tr>\n",
       "  </tbody>\n",
       "</table>\n",
       "</div>"
      ],
      "text/plain": [
       "         date      county  totalcountconfirmed  totalcountdeaths  \\\n",
       "50 2020-10-24  Unassigned                  3.0               0.0   \n",
       "\n",
       "    newcountconfirmed  newcountdeaths  \n",
       "50                  2               0  "
      ]
     },
     "execution_count": 102,
     "metadata": {},
     "output_type": "execute_result"
    }
   ],
   "source": [
    "# Display non-normal county rows.\n",
    "ca[ca['county'] == 'Unassigned']"
   ]
  },
  {
   "cell_type": "code",
   "execution_count": 103,
   "metadata": {},
   "outputs": [],
   "source": [
    "# Drop non-normal county rows.\n",
    "ca = ca.drop(ca[ca['county'] == 'Unassigned'].index)"
   ]
  },
  {
   "cell_type": "code",
   "execution_count": 104,
   "metadata": {},
   "outputs": [],
   "source": [
    "# Create a geo column.\n",
    "ca['Geographic Area Name'] = ca['county'] + ' County, California' "
   ]
  },
  {
   "cell_type": "code",
   "execution_count": 105,
   "metadata": {},
   "outputs": [],
   "source": [
    "# Drop columns\n",
    "ca = ca[['Geographic Area Name', 'totalcountconfirmed', 'totalcountdeaths']]"
   ]
  },
  {
   "cell_type": "code",
   "execution_count": 106,
   "metadata": {},
   "outputs": [],
   "source": [
    "# Rename columns.\n",
    "ca = ca.rename(columns={'totalcountconfirmed': 'total_cases', 'totalcountdeaths': 'total_fatalities'})"
   ]
  },
  {
   "cell_type": "code",
   "execution_count": 107,
   "metadata": {},
   "outputs": [],
   "source": [
    "# Calculate death rate and add as a column.\n",
    "ca['death_rate'] = ca['total_fatalities']/ca['total_cases']"
   ]
  },
  {
   "cell_type": "code",
   "execution_count": 108,
   "metadata": {},
   "outputs": [
    {
     "data": {
      "text/html": [
       "<div>\n",
       "<style scoped>\n",
       "    .dataframe tbody tr th:only-of-type {\n",
       "        vertical-align: middle;\n",
       "    }\n",
       "\n",
       "    .dataframe tbody tr th {\n",
       "        vertical-align: top;\n",
       "    }\n",
       "\n",
       "    .dataframe thead th {\n",
       "        text-align: right;\n",
       "    }\n",
       "</style>\n",
       "<table border=\"1\" class=\"dataframe\">\n",
       "  <thead>\n",
       "    <tr style=\"text-align: right;\">\n",
       "      <th></th>\n",
       "      <th>County</th>\n",
       "      <th>Tests as of 2020-10-24</th>\n",
       "    </tr>\n",
       "  </thead>\n",
       "  <tbody>\n",
       "    <tr>\n",
       "      <th>0</th>\n",
       "      <td>Alameda</td>\n",
       "      <td>613097</td>\n",
       "    </tr>\n",
       "    <tr>\n",
       "      <th>1</th>\n",
       "      <td>Alpine</td>\n",
       "      <td>371</td>\n",
       "    </tr>\n",
       "  </tbody>\n",
       "</table>\n",
       "</div>"
      ],
      "text/plain": [
       "    County  Tests as of 2020-10-24\n",
       "0  Alameda                  613097\n",
       "1   Alpine                     371"
      ]
     },
     "execution_count": 108,
     "metadata": {},
     "output_type": "execute_result"
    }
   ],
   "source": [
    "# Display the first few rows of the dataframe.\n",
    "ca_tests.head(2)"
   ]
  },
  {
   "cell_type": "code",
   "execution_count": 109,
   "metadata": {},
   "outputs": [],
   "source": [
    "# Create a geo column.\n",
    "ca_tests['Geographic Area Name'] = ca_tests['County'] + ' County, California' "
   ]
  },
  {
   "cell_type": "code",
   "execution_count": 110,
   "metadata": {},
   "outputs": [],
   "source": [
    "# Drop columns.\n",
    "ca_tests = ca_tests[['Geographic Area Name', 'Tests as of 2020-10-24']]"
   ]
  },
  {
   "cell_type": "code",
   "execution_count": 111,
   "metadata": {},
   "outputs": [],
   "source": [
    "# Rename columns.\n",
    "ca_tests = ca_tests.rename(columns={'Tests as of 2020-10-24': 'total_tests'})"
   ]
  },
  {
   "cell_type": "code",
   "execution_count": 112,
   "metadata": {},
   "outputs": [],
   "source": [
    "# Merge the dataframes.\n",
    "ca = ca.merge(ca_tests,on='Geographic Area Name')"
   ]
  },
  {
   "cell_type": "code",
   "execution_count": 113,
   "metadata": {},
   "outputs": [
    {
     "data": {
      "text/html": [
       "<div>\n",
       "<style scoped>\n",
       "    .dataframe tbody tr th:only-of-type {\n",
       "        vertical-align: middle;\n",
       "    }\n",
       "\n",
       "    .dataframe tbody tr th {\n",
       "        vertical-align: top;\n",
       "    }\n",
       "\n",
       "    .dataframe thead th {\n",
       "        text-align: right;\n",
       "    }\n",
       "</style>\n",
       "<table border=\"1\" class=\"dataframe\">\n",
       "  <thead>\n",
       "    <tr style=\"text-align: right;\">\n",
       "      <th></th>\n",
       "      <th>Geographic Area Name</th>\n",
       "      <th>total_cases</th>\n",
       "      <th>total_fatalities</th>\n",
       "      <th>death_rate</th>\n",
       "      <th>total_tests</th>\n",
       "    </tr>\n",
       "  </thead>\n",
       "  <tbody>\n",
       "    <tr>\n",
       "      <th>0</th>\n",
       "      <td>Santa Clara County, California</td>\n",
       "      <td>23978.0</td>\n",
       "      <td>388.0</td>\n",
       "      <td>0.016181</td>\n",
       "      <td>839764</td>\n",
       "    </tr>\n",
       "    <tr>\n",
       "      <th>1</th>\n",
       "      <td>San Mateo County, California</td>\n",
       "      <td>10942.0</td>\n",
       "      <td>159.0</td>\n",
       "      <td>0.014531</td>\n",
       "      <td>285657</td>\n",
       "    </tr>\n",
       "  </tbody>\n",
       "</table>\n",
       "</div>"
      ],
      "text/plain": [
       "             Geographic Area Name  total_cases  total_fatalities  death_rate  \\\n",
       "0  Santa Clara County, California      23978.0             388.0    0.016181   \n",
       "1    San Mateo County, California      10942.0             159.0    0.014531   \n",
       "\n",
       "   total_tests  \n",
       "0       839764  \n",
       "1       285657  "
      ]
     },
     "execution_count": 113,
     "metadata": {},
     "output_type": "execute_result"
    }
   ],
   "source": [
    "# Display the first few rows of the dataframe.\n",
    "ca.head(2)"
   ]
  },
  {
   "cell_type": "markdown",
   "metadata": {},
   "source": [
    "# Importing and Cleaning FL COVID Data"
   ]
  },
  {
   "cell_type": "code",
   "execution_count": 114,
   "metadata": {},
   "outputs": [],
   "source": [
    "# Import the data.\n",
    "fl = pd.read_csv('../data/preprocessing/raw_covid_fl.csv')"
   ]
  },
  {
   "cell_type": "code",
   "execution_count": 115,
   "metadata": {},
   "outputs": [
    {
     "data": {
      "text/html": [
       "<div>\n",
       "<style scoped>\n",
       "    .dataframe tbody tr th:only-of-type {\n",
       "        vertical-align: middle;\n",
       "    }\n",
       "\n",
       "    .dataframe tbody tr th {\n",
       "        vertical-align: top;\n",
       "    }\n",
       "\n",
       "    .dataframe thead th {\n",
       "        text-align: right;\n",
       "    }\n",
       "</style>\n",
       "<table border=\"1\" class=\"dataframe\">\n",
       "  <thead>\n",
       "    <tr style=\"text-align: right;\">\n",
       "      <th></th>\n",
       "      <th>COUNTYNAME</th>\n",
       "      <th>CasesAll</th>\n",
       "      <th>Deaths</th>\n",
       "      <th>T_total</th>\n",
       "    </tr>\n",
       "  </thead>\n",
       "  <tbody>\n",
       "    <tr>\n",
       "      <th>0</th>\n",
       "      <td>GILCHRIST</td>\n",
       "      <td>602</td>\n",
       "      <td>18</td>\n",
       "      <td>5016</td>\n",
       "    </tr>\n",
       "    <tr>\n",
       "      <th>1</th>\n",
       "      <td>PUTNAM</td>\n",
       "      <td>2355</td>\n",
       "      <td>50</td>\n",
       "      <td>19344</td>\n",
       "    </tr>\n",
       "  </tbody>\n",
       "</table>\n",
       "</div>"
      ],
      "text/plain": [
       "  COUNTYNAME  CasesAll  Deaths  T_total\n",
       "0  GILCHRIST       602      18     5016\n",
       "1     PUTNAM      2355      50    19344"
      ]
     },
     "execution_count": 115,
     "metadata": {},
     "output_type": "execute_result"
    }
   ],
   "source": [
    "# Display the first few rows of th dataframe.\n",
    "fl.head(2)"
   ]
  },
  {
   "cell_type": "code",
   "execution_count": 116,
   "metadata": {},
   "outputs": [],
   "source": [
    "# Capitalize the first letter of every word in the dataframe.\n",
    "fl['County'] = fl['COUNTYNAME'].str.lower().str.title()"
   ]
  },
  {
   "cell_type": "code",
   "execution_count": 117,
   "metadata": {},
   "outputs": [],
   "source": [
    "# Create a geo column.\n",
    "fl['Geographic Area Name'] = fl['County'] + ' County, Florida' "
   ]
  },
  {
   "cell_type": "code",
   "execution_count": 118,
   "metadata": {},
   "outputs": [],
   "source": [
    "# Rename columns.\n",
    "fl = fl.rename(columns={'CasesAll': 'total_cases', 'T_total': 'total_tests', 'Deaths': 'total_fatalities'})"
   ]
  },
  {
   "cell_type": "code",
   "execution_count": 119,
   "metadata": {},
   "outputs": [
    {
     "data": {
      "text/html": [
       "<div>\n",
       "<style scoped>\n",
       "    .dataframe tbody tr th:only-of-type {\n",
       "        vertical-align: middle;\n",
       "    }\n",
       "\n",
       "    .dataframe tbody tr th {\n",
       "        vertical-align: top;\n",
       "    }\n",
       "\n",
       "    .dataframe thead th {\n",
       "        text-align: right;\n",
       "    }\n",
       "</style>\n",
       "<table border=\"1\" class=\"dataframe\">\n",
       "  <thead>\n",
       "    <tr style=\"text-align: right;\">\n",
       "      <th></th>\n",
       "      <th>COUNTYNAME</th>\n",
       "      <th>total_cases</th>\n",
       "      <th>total_fatalities</th>\n",
       "      <th>total_tests</th>\n",
       "      <th>County</th>\n",
       "      <th>Geographic Area Name</th>\n",
       "    </tr>\n",
       "  </thead>\n",
       "  <tbody>\n",
       "    <tr>\n",
       "      <th>67</th>\n",
       "      <td>Unknown</td>\n",
       "      <td>1857</td>\n",
       "      <td>0</td>\n",
       "      <td>19276</td>\n",
       "      <td>Unknown</td>\n",
       "      <td>Unknown County, Florida</td>\n",
       "    </tr>\n",
       "  </tbody>\n",
       "</table>\n",
       "</div>"
      ],
      "text/plain": [
       "   COUNTYNAME  total_cases  total_fatalities  total_tests   County  \\\n",
       "67    Unknown         1857                 0        19276  Unknown   \n",
       "\n",
       "       Geographic Area Name  \n",
       "67  Unknown County, Florida  "
      ]
     },
     "execution_count": 119,
     "metadata": {},
     "output_type": "execute_result"
    }
   ],
   "source": [
    "# Display non-normal county rows.\n",
    "fl[fl['County'] == 'Unknown']"
   ]
  },
  {
   "cell_type": "code",
   "execution_count": 120,
   "metadata": {},
   "outputs": [],
   "source": [
    "# Drop non-normal county rows.\n",
    "fl = fl.drop(fl[fl['County'] == 'Unknown'].index)"
   ]
  },
  {
   "cell_type": "code",
   "execution_count": 121,
   "metadata": {},
   "outputs": [
    {
     "data": {
      "text/html": [
       "<div>\n",
       "<style scoped>\n",
       "    .dataframe tbody tr th:only-of-type {\n",
       "        vertical-align: middle;\n",
       "    }\n",
       "\n",
       "    .dataframe tbody tr th {\n",
       "        vertical-align: top;\n",
       "    }\n",
       "\n",
       "    .dataframe thead th {\n",
       "        text-align: right;\n",
       "    }\n",
       "</style>\n",
       "<table border=\"1\" class=\"dataframe\">\n",
       "  <thead>\n",
       "    <tr style=\"text-align: right;\">\n",
       "      <th></th>\n",
       "      <th>COUNTYNAME</th>\n",
       "      <th>total_cases</th>\n",
       "      <th>total_fatalities</th>\n",
       "      <th>total_tests</th>\n",
       "      <th>County</th>\n",
       "      <th>Geographic Area Name</th>\n",
       "    </tr>\n",
       "  </thead>\n",
       "  <tbody>\n",
       "    <tr>\n",
       "      <th>68</th>\n",
       "      <td>A State</td>\n",
       "      <td>778636</td>\n",
       "      <td>16429</td>\n",
       "      <td>5960050</td>\n",
       "      <td>A State</td>\n",
       "      <td>A State County, Florida</td>\n",
       "    </tr>\n",
       "  </tbody>\n",
       "</table>\n",
       "</div>"
      ],
      "text/plain": [
       "   COUNTYNAME  total_cases  total_fatalities  total_tests   County  \\\n",
       "68    A State       778636             16429      5960050  A State   \n",
       "\n",
       "       Geographic Area Name  \n",
       "68  A State County, Florida  "
      ]
     },
     "execution_count": 121,
     "metadata": {},
     "output_type": "execute_result"
    }
   ],
   "source": [
    "# Display non-normal county rows.\n",
    "fl[fl['County'] == 'A State']"
   ]
  },
  {
   "cell_type": "code",
   "execution_count": 122,
   "metadata": {},
   "outputs": [],
   "source": [
    "# Drop non-normal county rows.\n",
    "fl = fl.drop(fl[fl['County'] == 'A State'].index)"
   ]
  },
  {
   "cell_type": "code",
   "execution_count": 123,
   "metadata": {},
   "outputs": [
    {
     "data": {
      "text/html": [
       "<div>\n",
       "<style scoped>\n",
       "    .dataframe tbody tr th:only-of-type {\n",
       "        vertical-align: middle;\n",
       "    }\n",
       "\n",
       "    .dataframe tbody tr th {\n",
       "        vertical-align: top;\n",
       "    }\n",
       "\n",
       "    .dataframe thead th {\n",
       "        text-align: right;\n",
       "    }\n",
       "</style>\n",
       "<table border=\"1\" class=\"dataframe\">\n",
       "  <thead>\n",
       "    <tr style=\"text-align: right;\">\n",
       "      <th></th>\n",
       "      <th>COUNTYNAME</th>\n",
       "      <th>total_cases</th>\n",
       "      <th>total_fatalities</th>\n",
       "      <th>total_tests</th>\n",
       "      <th>County</th>\n",
       "      <th>Geographic Area Name</th>\n",
       "    </tr>\n",
       "  </thead>\n",
       "  <tbody>\n",
       "    <tr>\n",
       "      <th>47</th>\n",
       "      <td>DADE</td>\n",
       "      <td>181942</td>\n",
       "      <td>3612</td>\n",
       "      <td>1032525</td>\n",
       "      <td>Dade</td>\n",
       "      <td>Dade County, Florida</td>\n",
       "    </tr>\n",
       "  </tbody>\n",
       "</table>\n",
       "</div>"
      ],
      "text/plain": [
       "   COUNTYNAME  total_cases  total_fatalities  total_tests County  \\\n",
       "47       DADE       181942              3612      1032525   Dade   \n",
       "\n",
       "    Geographic Area Name  \n",
       "47  Dade County, Florida  "
      ]
     },
     "execution_count": 123,
     "metadata": {},
     "output_type": "execute_result"
    }
   ],
   "source": [
    "# Display non-normal county rows.\n",
    "fl[fl['Geographic Area Name'] == 'Dade County, Florida']"
   ]
  },
  {
   "cell_type": "markdown",
   "metadata": {},
   "source": [
    "Dade county should be Miami-Dade County."
   ]
  },
  {
   "cell_type": "code",
   "execution_count": 124,
   "metadata": {},
   "outputs": [],
   "source": [
    "# Rename non-normal county rows.\n",
    "fl.loc[47, 'Geographic Area Name'] = 'Miami-Dade County, Florida'"
   ]
  },
  {
   "cell_type": "code",
   "execution_count": 125,
   "metadata": {},
   "outputs": [
    {
     "data": {
      "text/html": [
       "<div>\n",
       "<style scoped>\n",
       "    .dataframe tbody tr th:only-of-type {\n",
       "        vertical-align: middle;\n",
       "    }\n",
       "\n",
       "    .dataframe tbody tr th {\n",
       "        vertical-align: top;\n",
       "    }\n",
       "\n",
       "    .dataframe thead th {\n",
       "        text-align: right;\n",
       "    }\n",
       "</style>\n",
       "<table border=\"1\" class=\"dataframe\">\n",
       "  <thead>\n",
       "    <tr style=\"text-align: right;\">\n",
       "      <th></th>\n",
       "      <th>COUNTYNAME</th>\n",
       "      <th>total_cases</th>\n",
       "      <th>total_fatalities</th>\n",
       "      <th>total_tests</th>\n",
       "      <th>County</th>\n",
       "      <th>Geographic Area Name</th>\n",
       "    </tr>\n",
       "  </thead>\n",
       "  <tbody>\n",
       "    <tr>\n",
       "      <th>57</th>\n",
       "      <td>DESOTO</td>\n",
       "      <td>1652</td>\n",
       "      <td>29</td>\n",
       "      <td>11834</td>\n",
       "      <td>Desoto</td>\n",
       "      <td>Desoto County, Florida</td>\n",
       "    </tr>\n",
       "  </tbody>\n",
       "</table>\n",
       "</div>"
      ],
      "text/plain": [
       "   COUNTYNAME  total_cases  total_fatalities  total_tests  County  \\\n",
       "57     DESOTO         1652                29        11834  Desoto   \n",
       "\n",
       "      Geographic Area Name  \n",
       "57  Desoto County, Florida  "
      ]
     },
     "execution_count": 125,
     "metadata": {},
     "output_type": "execute_result"
    }
   ],
   "source": [
    "# Display non-normal county rows.\n",
    "fl[fl['Geographic Area Name'] == 'Desoto County, Florida']"
   ]
  },
  {
   "cell_type": "code",
   "execution_count": 126,
   "metadata": {},
   "outputs": [],
   "source": [
    "# Rename non-normal county rows.\n",
    "fl.loc[57, 'Geographic Area Name'] = 'DeSoto County, Florida'"
   ]
  },
  {
   "cell_type": "code",
   "execution_count": 127,
   "metadata": {},
   "outputs": [],
   "source": [
    "# Calculate death rate and add as a column.\n",
    "fl['death_rate'] = fl['total_fatalities'] / fl['total_cases']"
   ]
  },
  {
   "cell_type": "code",
   "execution_count": 128,
   "metadata": {},
   "outputs": [],
   "source": [
    "# Drop columns.\n",
    "fl = fl[['Geographic Area Name', 'total_cases', 'total_fatalities', 'death_rate', 'total_tests']]"
   ]
  },
  {
   "cell_type": "code",
   "execution_count": 129,
   "metadata": {},
   "outputs": [
    {
     "data": {
      "text/html": [
       "<div>\n",
       "<style scoped>\n",
       "    .dataframe tbody tr th:only-of-type {\n",
       "        vertical-align: middle;\n",
       "    }\n",
       "\n",
       "    .dataframe tbody tr th {\n",
       "        vertical-align: top;\n",
       "    }\n",
       "\n",
       "    .dataframe thead th {\n",
       "        text-align: right;\n",
       "    }\n",
       "</style>\n",
       "<table border=\"1\" class=\"dataframe\">\n",
       "  <thead>\n",
       "    <tr style=\"text-align: right;\">\n",
       "      <th></th>\n",
       "      <th>Geographic Area Name</th>\n",
       "      <th>total_cases</th>\n",
       "      <th>total_fatalities</th>\n",
       "      <th>death_rate</th>\n",
       "      <th>total_tests</th>\n",
       "    </tr>\n",
       "  </thead>\n",
       "  <tbody>\n",
       "    <tr>\n",
       "      <th>0</th>\n",
       "      <td>Gilchrist County, Florida</td>\n",
       "      <td>602</td>\n",
       "      <td>18</td>\n",
       "      <td>0.029900</td>\n",
       "      <td>5016</td>\n",
       "    </tr>\n",
       "    <tr>\n",
       "      <th>1</th>\n",
       "      <td>Putnam County, Florida</td>\n",
       "      <td>2355</td>\n",
       "      <td>50</td>\n",
       "      <td>0.021231</td>\n",
       "      <td>19344</td>\n",
       "    </tr>\n",
       "  </tbody>\n",
       "</table>\n",
       "</div>"
      ],
      "text/plain": [
       "        Geographic Area Name  total_cases  total_fatalities  death_rate  \\\n",
       "0  Gilchrist County, Florida          602                18    0.029900   \n",
       "1     Putnam County, Florida         2355                50    0.021231   \n",
       "\n",
       "   total_tests  \n",
       "0         5016  \n",
       "1        19344  "
      ]
     },
     "execution_count": 129,
     "metadata": {},
     "output_type": "execute_result"
    }
   ],
   "source": [
    "# Display the first few rows of the dataframe.\n",
    "fl.head(2)"
   ]
  },
  {
   "cell_type": "markdown",
   "metadata": {},
   "source": [
    "# Importing and Cleaning IL COVID Data"
   ]
  },
  {
   "cell_type": "code",
   "execution_count": 130,
   "metadata": {},
   "outputs": [],
   "source": [
    "# Import the data.\n",
    "il = pd.read_csv('../data/preprocessing/raw_covid_tests_cases_il.csv')"
   ]
  },
  {
   "cell_type": "code",
   "execution_count": 131,
   "metadata": {},
   "outputs": [
    {
     "data": {
      "text/html": [
       "<div>\n",
       "<style scoped>\n",
       "    .dataframe tbody tr th:only-of-type {\n",
       "        vertical-align: middle;\n",
       "    }\n",
       "\n",
       "    .dataframe tbody tr th {\n",
       "        vertical-align: top;\n",
       "    }\n",
       "\n",
       "    .dataframe thead th {\n",
       "        text-align: right;\n",
       "    }\n",
       "</style>\n",
       "<table border=\"1\" class=\"dataframe\">\n",
       "  <thead>\n",
       "    <tr style=\"text-align: right;\">\n",
       "      <th></th>\n",
       "      <th>County</th>\n",
       "      <th>Tested</th>\n",
       "      <th>Confirmed Cases</th>\n",
       "      <th>Deaths</th>\n",
       "    </tr>\n",
       "  </thead>\n",
       "  <tbody>\n",
       "    <tr>\n",
       "      <th>0</th>\n",
       "      <td>Illinois</td>\n",
       "      <td>7268952</td>\n",
       "      <td>374256</td>\n",
       "      <td>9505</td>\n",
       "    </tr>\n",
       "    <tr>\n",
       "      <th>1</th>\n",
       "      <td>Adams</td>\n",
       "      <td>38542</td>\n",
       "      <td>1862</td>\n",
       "      <td>19</td>\n",
       "    </tr>\n",
       "  </tbody>\n",
       "</table>\n",
       "</div>"
      ],
      "text/plain": [
       "     County   Tested  Confirmed Cases  Deaths\n",
       "0  Illinois  7268952           374256    9505\n",
       "1     Adams    38542             1862      19"
      ]
     },
     "execution_count": 131,
     "metadata": {},
     "output_type": "execute_result"
    }
   ],
   "source": [
    "# Display the first few rows of the dataframe.\n",
    "il.head(2)"
   ]
  },
  {
   "cell_type": "code",
   "execution_count": 132,
   "metadata": {},
   "outputs": [],
   "source": [
    "# Drop non-normal county rows.\n",
    "il = il.drop(il[il['County'] == 'Illinois'].index)"
   ]
  },
  {
   "cell_type": "code",
   "execution_count": 133,
   "metadata": {},
   "outputs": [],
   "source": [
    "# Drop non-normal county rows.\n",
    "il = il.drop(il[il['County'] == 'Out Of State'].index)"
   ]
  },
  {
   "cell_type": "code",
   "execution_count": 134,
   "metadata": {},
   "outputs": [
    {
     "data": {
      "text/html": [
       "<div>\n",
       "<style scoped>\n",
       "    .dataframe tbody tr th:only-of-type {\n",
       "        vertical-align: middle;\n",
       "    }\n",
       "\n",
       "    .dataframe tbody tr th {\n",
       "        vertical-align: top;\n",
       "    }\n",
       "\n",
       "    .dataframe thead th {\n",
       "        text-align: right;\n",
       "    }\n",
       "</style>\n",
       "<table border=\"1\" class=\"dataframe\">\n",
       "  <thead>\n",
       "    <tr style=\"text-align: right;\">\n",
       "      <th></th>\n",
       "      <th>County</th>\n",
       "      <th>Tested</th>\n",
       "      <th>Confirmed Cases</th>\n",
       "      <th>Deaths</th>\n",
       "    </tr>\n",
       "  </thead>\n",
       "  <tbody>\n",
       "    <tr>\n",
       "      <th>11</th>\n",
       "      <td>Chicago</td>\n",
       "      <td>1460721</td>\n",
       "      <td>95463</td>\n",
       "      <td>3041</td>\n",
       "    </tr>\n",
       "  </tbody>\n",
       "</table>\n",
       "</div>"
      ],
      "text/plain": [
       "     County   Tested  Confirmed Cases  Deaths\n",
       "11  Chicago  1460721            95463    3041"
      ]
     },
     "execution_count": 134,
     "metadata": {},
     "output_type": "execute_result"
    }
   ],
   "source": [
    "# Display non-normal county rows.\n",
    "il[il['County'] == 'Chicago']"
   ]
  },
  {
   "cell_type": "code",
   "execution_count": 135,
   "metadata": {},
   "outputs": [
    {
     "data": {
      "text/html": [
       "<div>\n",
       "<style scoped>\n",
       "    .dataframe tbody tr th:only-of-type {\n",
       "        vertical-align: middle;\n",
       "    }\n",
       "\n",
       "    .dataframe tbody tr th {\n",
       "        vertical-align: top;\n",
       "    }\n",
       "\n",
       "    .dataframe thead th {\n",
       "        text-align: right;\n",
       "    }\n",
       "</style>\n",
       "<table border=\"1\" class=\"dataframe\">\n",
       "  <thead>\n",
       "    <tr style=\"text-align: right;\">\n",
       "      <th></th>\n",
       "      <th>County</th>\n",
       "      <th>Tested</th>\n",
       "      <th>Confirmed Cases</th>\n",
       "      <th>Deaths</th>\n",
       "    </tr>\n",
       "  </thead>\n",
       "  <tbody>\n",
       "    <tr>\n",
       "      <th>17</th>\n",
       "      <td>Cook</td>\n",
       "      <td>1270723</td>\n",
       "      <td>80123</td>\n",
       "      <td>2380</td>\n",
       "    </tr>\n",
       "  </tbody>\n",
       "</table>\n",
       "</div>"
      ],
      "text/plain": [
       "   County   Tested  Confirmed Cases  Deaths\n",
       "17   Cook  1270723            80123    2380"
      ]
     },
     "execution_count": 135,
     "metadata": {},
     "output_type": "execute_result"
    }
   ],
   "source": [
    "# Display non-normal county rows.\n",
    "il[il['County'] == 'Cook']"
   ]
  },
  {
   "cell_type": "markdown",
   "metadata": {},
   "source": [
    "The datasource for IL testing for some reason separated Chicago and Cook county. They should be combined under Cook county."
   ]
  },
  {
   "cell_type": "code",
   "execution_count": 136,
   "metadata": {},
   "outputs": [
    {
     "data": {
      "text/plain": [
       "County             ChicagoCook\n",
       "Tested                 2731444\n",
       "Confirmed Cases         175586\n",
       "Deaths                    5421\n",
       "dtype: object"
      ]
     },
     "execution_count": 136,
     "metadata": {},
     "output_type": "execute_result"
    }
   ],
   "source": [
    "# Display combinations of the two rows.\n",
    "il.loc[11] + il.loc[17]"
   ]
  },
  {
   "cell_type": "code",
   "execution_count": 137,
   "metadata": {},
   "outputs": [],
   "source": [
    "# Save the sum of the two rows to a new row.\n",
    "new_row = il.loc[11] + il.loc[17]"
   ]
  },
  {
   "cell_type": "code",
   "execution_count": 138,
   "metadata": {},
   "outputs": [],
   "source": [
    "# Name the new row.\n",
    "new_row.name = 105"
   ]
  },
  {
   "cell_type": "code",
   "execution_count": 139,
   "metadata": {},
   "outputs": [
    {
     "data": {
      "text/html": [
       "<div>\n",
       "<style scoped>\n",
       "    .dataframe tbody tr th:only-of-type {\n",
       "        vertical-align: middle;\n",
       "    }\n",
       "\n",
       "    .dataframe tbody tr th {\n",
       "        vertical-align: top;\n",
       "    }\n",
       "\n",
       "    .dataframe thead th {\n",
       "        text-align: right;\n",
       "    }\n",
       "</style>\n",
       "<table border=\"1\" class=\"dataframe\">\n",
       "  <thead>\n",
       "    <tr style=\"text-align: right;\">\n",
       "      <th></th>\n",
       "      <th>County</th>\n",
       "      <th>Tested</th>\n",
       "      <th>Confirmed Cases</th>\n",
       "      <th>Deaths</th>\n",
       "    </tr>\n",
       "  </thead>\n",
       "  <tbody>\n",
       "    <tr>\n",
       "      <th>104</th>\n",
       "      <td>Woodford</td>\n",
       "      <td>16973</td>\n",
       "      <td>618</td>\n",
       "      <td>14</td>\n",
       "    </tr>\n",
       "    <tr>\n",
       "      <th>105</th>\n",
       "      <td>ChicagoCook</td>\n",
       "      <td>2731444</td>\n",
       "      <td>175586</td>\n",
       "      <td>5421</td>\n",
       "    </tr>\n",
       "  </tbody>\n",
       "</table>\n",
       "</div>"
      ],
      "text/plain": [
       "          County   Tested  Confirmed Cases  Deaths\n",
       "104     Woodford    16973              618      14\n",
       "105  ChicagoCook  2731444           175586    5421"
      ]
     },
     "execution_count": 139,
     "metadata": {},
     "output_type": "execute_result"
    }
   ],
   "source": [
    "# Append the new row to the dataframe.\n",
    "il = il.append(new_row)\n",
    "# Display the last few rows of the dataframe.\n",
    "il.tail(2)"
   ]
  },
  {
   "cell_type": "code",
   "execution_count": 140,
   "metadata": {},
   "outputs": [],
   "source": [
    "# Drop non-normal county rows.\n",
    "il = il.drop(il[il['County'] == 'Chicago'].index)"
   ]
  },
  {
   "cell_type": "code",
   "execution_count": 141,
   "metadata": {},
   "outputs": [],
   "source": [
    "# Drop non-normal county rows.\n",
    "il = il.drop(il[il['County'] == 'Cook'].index)"
   ]
  },
  {
   "cell_type": "code",
   "execution_count": 142,
   "metadata": {},
   "outputs": [],
   "source": [
    "# Reset the index.\n",
    "il = il.reset_index(drop=True)"
   ]
  },
  {
   "cell_type": "code",
   "execution_count": 143,
   "metadata": {},
   "outputs": [
    {
     "data": {
      "text/html": [
       "<div>\n",
       "<style scoped>\n",
       "    .dataframe tbody tr th:only-of-type {\n",
       "        vertical-align: middle;\n",
       "    }\n",
       "\n",
       "    .dataframe tbody tr th {\n",
       "        vertical-align: top;\n",
       "    }\n",
       "\n",
       "    .dataframe thead th {\n",
       "        text-align: right;\n",
       "    }\n",
       "</style>\n",
       "<table border=\"1\" class=\"dataframe\">\n",
       "  <thead>\n",
       "    <tr style=\"text-align: right;\">\n",
       "      <th></th>\n",
       "      <th>County</th>\n",
       "      <th>Tested</th>\n",
       "      <th>Confirmed Cases</th>\n",
       "      <th>Deaths</th>\n",
       "    </tr>\n",
       "  </thead>\n",
       "  <tbody>\n",
       "    <tr>\n",
       "      <th>101</th>\n",
       "      <td>ChicagoCook</td>\n",
       "      <td>2731444</td>\n",
       "      <td>175586</td>\n",
       "      <td>5421</td>\n",
       "    </tr>\n",
       "  </tbody>\n",
       "</table>\n",
       "</div>"
      ],
      "text/plain": [
       "          County   Tested  Confirmed Cases  Deaths\n",
       "101  ChicagoCook  2731444           175586    5421"
      ]
     },
     "execution_count": 143,
     "metadata": {},
     "output_type": "execute_result"
    }
   ],
   "source": [
    "# Display the added entry.\n",
    "il.loc[il['County'] == 'ChicagoCook']"
   ]
  },
  {
   "cell_type": "code",
   "execution_count": 144,
   "metadata": {},
   "outputs": [],
   "source": [
    "# Rename the county to 'Cook'.\n",
    "il.loc[101, 'County'] = 'Cook'"
   ]
  },
  {
   "cell_type": "code",
   "execution_count": 145,
   "metadata": {},
   "outputs": [],
   "source": [
    "# Create a geo column.\n",
    "il['Geographic Area Name'] = il['County'] + ' County, Illinois' "
   ]
  },
  {
   "cell_type": "code",
   "execution_count": 146,
   "metadata": {},
   "outputs": [],
   "source": [
    "# Calculate death rate and add as a column.\n",
    "il['death_rate'] = il['Deaths'] / il['Confirmed Cases']"
   ]
  },
  {
   "cell_type": "code",
   "execution_count": 147,
   "metadata": {},
   "outputs": [],
   "source": [
    "# Drop columns.\n",
    "il = il[['Geographic Area Name', 'Confirmed Cases', 'Deaths', 'death_rate', 'Tested']]"
   ]
  },
  {
   "cell_type": "code",
   "execution_count": 148,
   "metadata": {},
   "outputs": [],
   "source": [
    "# Rename columns.\n",
    "il = il.rename(columns={'Confirmed Cases': 'total_cases', 'Deaths': 'total_fatalities', 'Tested': 'total_tests'})"
   ]
  },
  {
   "cell_type": "code",
   "execution_count": 149,
   "metadata": {},
   "outputs": [
    {
     "data": {
      "text/html": [
       "<div>\n",
       "<style scoped>\n",
       "    .dataframe tbody tr th:only-of-type {\n",
       "        vertical-align: middle;\n",
       "    }\n",
       "\n",
       "    .dataframe tbody tr th {\n",
       "        vertical-align: top;\n",
       "    }\n",
       "\n",
       "    .dataframe thead th {\n",
       "        text-align: right;\n",
       "    }\n",
       "</style>\n",
       "<table border=\"1\" class=\"dataframe\">\n",
       "  <thead>\n",
       "    <tr style=\"text-align: right;\">\n",
       "      <th></th>\n",
       "      <th>Geographic Area Name</th>\n",
       "      <th>total_cases</th>\n",
       "      <th>total_fatalities</th>\n",
       "      <th>death_rate</th>\n",
       "      <th>total_tests</th>\n",
       "    </tr>\n",
       "  </thead>\n",
       "  <tbody>\n",
       "    <tr>\n",
       "      <th>0</th>\n",
       "      <td>Adams County, Illinois</td>\n",
       "      <td>1862</td>\n",
       "      <td>19</td>\n",
       "      <td>0.010204</td>\n",
       "      <td>38542</td>\n",
       "    </tr>\n",
       "    <tr>\n",
       "      <th>1</th>\n",
       "      <td>Alexander County, Illinois</td>\n",
       "      <td>120</td>\n",
       "      <td>1</td>\n",
       "      <td>0.008333</td>\n",
       "      <td>2350</td>\n",
       "    </tr>\n",
       "  </tbody>\n",
       "</table>\n",
       "</div>"
      ],
      "text/plain": [
       "         Geographic Area Name  total_cases  total_fatalities  death_rate  \\\n",
       "0      Adams County, Illinois         1862                19    0.010204   \n",
       "1  Alexander County, Illinois          120                 1    0.008333   \n",
       "\n",
       "   total_tests  \n",
       "0        38542  \n",
       "1         2350  "
      ]
     },
     "execution_count": 149,
     "metadata": {},
     "output_type": "execute_result"
    }
   ],
   "source": [
    "# Display the first few rows of the dataframe.\n",
    "il.head(2)"
   ]
  },
  {
   "cell_type": "markdown",
   "metadata": {},
   "source": [
    "# Importing and Cleaning NY COVID Data"
   ]
  },
  {
   "cell_type": "code",
   "execution_count": 150,
   "metadata": {},
   "outputs": [],
   "source": [
    "# Import the data.\n",
    "ny = pd.read_csv('../data/preprocessing/raw_covid_tests_cases_ny.csv')\n",
    "ny_death = pd.read_csv('../data/preprocessing/raw_covid_deaths_cases_ny.csv')"
   ]
  },
  {
   "cell_type": "code",
   "execution_count": 151,
   "metadata": {},
   "outputs": [
    {
     "data": {
      "text/html": [
       "<div>\n",
       "<style scoped>\n",
       "    .dataframe tbody tr th:only-of-type {\n",
       "        vertical-align: middle;\n",
       "    }\n",
       "\n",
       "    .dataframe tbody tr th {\n",
       "        vertical-align: top;\n",
       "    }\n",
       "\n",
       "    .dataframe thead th {\n",
       "        text-align: right;\n",
       "    }\n",
       "</style>\n",
       "<table border=\"1\" class=\"dataframe\">\n",
       "  <thead>\n",
       "    <tr style=\"text-align: right;\">\n",
       "      <th></th>\n",
       "      <th>date</th>\n",
       "      <th>County</th>\n",
       "      <th>New Positives</th>\n",
       "      <th>total_cases</th>\n",
       "      <th>Total Number of Tests Performed</th>\n",
       "      <th>total_tests</th>\n",
       "    </tr>\n",
       "  </thead>\n",
       "  <tbody>\n",
       "    <tr>\n",
       "      <th>0</th>\n",
       "      <td>03/01/2020</td>\n",
       "      <td>Albany</td>\n",
       "      <td>0</td>\n",
       "      <td>0</td>\n",
       "      <td>0</td>\n",
       "      <td>0</td>\n",
       "    </tr>\n",
       "    <tr>\n",
       "      <th>1</th>\n",
       "      <td>03/02/2020</td>\n",
       "      <td>Albany</td>\n",
       "      <td>0</td>\n",
       "      <td>0</td>\n",
       "      <td>0</td>\n",
       "      <td>0</td>\n",
       "    </tr>\n",
       "  </tbody>\n",
       "</table>\n",
       "</div>"
      ],
      "text/plain": [
       "         date  County  New Positives  total_cases  \\\n",
       "0  03/01/2020  Albany              0            0   \n",
       "1  03/02/2020  Albany              0            0   \n",
       "\n",
       "   Total Number of Tests Performed  total_tests  \n",
       "0                                0            0  \n",
       "1                                0            0  "
      ]
     },
     "execution_count": 151,
     "metadata": {},
     "output_type": "execute_result"
    }
   ],
   "source": [
    "# Display the first few rows of the dataframe.\n",
    "ny.head(2)"
   ]
  },
  {
   "cell_type": "code",
   "execution_count": 152,
   "metadata": {},
   "outputs": [],
   "source": [
    "# Convert the date column to a datetime object and set it to the index.\n",
    "ny['date'] = pd.to_datetime(ny['date'])\n",
    "ny = ny.set_index('date')"
   ]
  },
  {
   "cell_type": "code",
   "execution_count": 153,
   "metadata": {},
   "outputs": [
    {
     "data": {
      "text/plain": [
       "Timestamp('2020-10-24 00:00:00')"
      ]
     },
     "execution_count": 153,
     "metadata": {},
     "output_type": "execute_result"
    }
   ],
   "source": [
    "# Display the max index.\n",
    "ny.index.max()"
   ]
  },
  {
   "cell_type": "code",
   "execution_count": 154,
   "metadata": {},
   "outputs": [],
   "source": [
    "# Include data only from the max index.\n",
    "ny = ny.loc['2020-10-24']"
   ]
  },
  {
   "cell_type": "code",
   "execution_count": 155,
   "metadata": {},
   "outputs": [],
   "source": [
    "# Reset and drop the index.\n",
    "ny = ny.reset_index(drop=True)"
   ]
  },
  {
   "cell_type": "code",
   "execution_count": 156,
   "metadata": {},
   "outputs": [],
   "source": [
    "# Create a geo column.\n",
    "ny['Geographic Area Name'] = ny['County'] + ' County, New York'"
   ]
  },
  {
   "cell_type": "code",
   "execution_count": 157,
   "metadata": {},
   "outputs": [],
   "source": [
    "# Drop columns.\n",
    "ny = ny[['Geographic Area Name', 'total_cases', 'total_tests']]"
   ]
  },
  {
   "cell_type": "code",
   "execution_count": 158,
   "metadata": {},
   "outputs": [
    {
     "data": {
      "text/html": [
       "<div>\n",
       "<style scoped>\n",
       "    .dataframe tbody tr th:only-of-type {\n",
       "        vertical-align: middle;\n",
       "    }\n",
       "\n",
       "    .dataframe tbody tr th {\n",
       "        vertical-align: top;\n",
       "    }\n",
       "\n",
       "    .dataframe thead th {\n",
       "        text-align: right;\n",
       "    }\n",
       "</style>\n",
       "<table border=\"1\" class=\"dataframe\">\n",
       "  <thead>\n",
       "    <tr style=\"text-align: right;\">\n",
       "      <th></th>\n",
       "      <th>Geographic Area Name</th>\n",
       "      <th>total_cases</th>\n",
       "      <th>total_tests</th>\n",
       "    </tr>\n",
       "  </thead>\n",
       "  <tbody>\n",
       "    <tr>\n",
       "      <th>0</th>\n",
       "      <td>Albany County, New York</td>\n",
       "      <td>3577</td>\n",
       "      <td>176101</td>\n",
       "    </tr>\n",
       "    <tr>\n",
       "      <th>1</th>\n",
       "      <td>Allegany County, New York</td>\n",
       "      <td>271</td>\n",
       "      <td>24790</td>\n",
       "    </tr>\n",
       "  </tbody>\n",
       "</table>\n",
       "</div>"
      ],
      "text/plain": [
       "        Geographic Area Name  total_cases  total_tests\n",
       "0    Albany County, New York         3577       176101\n",
       "1  Allegany County, New York          271        24790"
      ]
     },
     "execution_count": 158,
     "metadata": {},
     "output_type": "execute_result"
    }
   ],
   "source": [
    "# Display the first few rows of the dataframe.\n",
    "ny.head(2)"
   ]
  },
  {
   "cell_type": "code",
   "execution_count": 159,
   "metadata": {},
   "outputs": [
    {
     "data": {
      "text/html": [
       "<div>\n",
       "<style scoped>\n",
       "    .dataframe tbody tr th:only-of-type {\n",
       "        vertical-align: middle;\n",
       "    }\n",
       "\n",
       "    .dataframe tbody tr th {\n",
       "        vertical-align: top;\n",
       "    }\n",
       "\n",
       "    .dataframe thead th {\n",
       "        text-align: right;\n",
       "    }\n",
       "</style>\n",
       "<table border=\"1\" class=\"dataframe\">\n",
       "  <thead>\n",
       "    <tr style=\"text-align: right;\">\n",
       "      <th></th>\n",
       "      <th>County</th>\n",
       "      <th>Total Cases 10-24</th>\n",
       "      <th>Total Fatalities 10-24</th>\n",
       "    </tr>\n",
       "  </thead>\n",
       "  <tbody>\n",
       "    <tr>\n",
       "      <th>0</th>\n",
       "      <td>Albany</td>\n",
       "      <td>3549</td>\n",
       "      <td>128</td>\n",
       "    </tr>\n",
       "    <tr>\n",
       "      <th>1</th>\n",
       "      <td>Allegany</td>\n",
       "      <td>269</td>\n",
       "      <td>9</td>\n",
       "    </tr>\n",
       "  </tbody>\n",
       "</table>\n",
       "</div>"
      ],
      "text/plain": [
       "     County  Total Cases 10-24  Total Fatalities 10-24\n",
       "0    Albany               3549                     128\n",
       "1  Allegany                269                       9"
      ]
     },
     "execution_count": 159,
     "metadata": {},
     "output_type": "execute_result"
    }
   ],
   "source": [
    "# Display the first few rows of the dataframe.\n",
    "ny_death.head(2)"
   ]
  },
  {
   "cell_type": "code",
   "execution_count": 160,
   "metadata": {},
   "outputs": [],
   "source": [
    "# Create a geo column.\n",
    "ny_death['Geographic Area Name'] = ny_death['County'] + ' County, New York'"
   ]
  },
  {
   "cell_type": "code",
   "execution_count": 161,
   "metadata": {},
   "outputs": [
    {
     "data": {
      "text/html": [
       "<div>\n",
       "<style scoped>\n",
       "    .dataframe tbody tr th:only-of-type {\n",
       "        vertical-align: middle;\n",
       "    }\n",
       "\n",
       "    .dataframe tbody tr th {\n",
       "        vertical-align: top;\n",
       "    }\n",
       "\n",
       "    .dataframe thead th {\n",
       "        text-align: right;\n",
       "    }\n",
       "</style>\n",
       "<table border=\"1\" class=\"dataframe\">\n",
       "  <thead>\n",
       "    <tr style=\"text-align: right;\">\n",
       "      <th></th>\n",
       "      <th>County</th>\n",
       "      <th>Total Cases 10-24</th>\n",
       "      <th>Total Fatalities 10-24</th>\n",
       "      <th>Geographic Area Name</th>\n",
       "    </tr>\n",
       "  </thead>\n",
       "  <tbody>\n",
       "    <tr>\n",
       "      <th>30</th>\n",
       "      <td>New York City</td>\n",
       "      <td>262615</td>\n",
       "      <td>23963</td>\n",
       "      <td>New York City County, New York</td>\n",
       "    </tr>\n",
       "  </tbody>\n",
       "</table>\n",
       "</div>"
      ],
      "text/plain": [
       "           County  Total Cases 10-24  Total Fatalities 10-24  \\\n",
       "30  New York City             262615                   23963   \n",
       "\n",
       "              Geographic Area Name  \n",
       "30  New York City County, New York  "
      ]
     },
     "execution_count": 161,
     "metadata": {},
     "output_type": "execute_result"
    }
   ],
   "source": [
    "# Display non-normal county rows.\n",
    "ny_death[ny_death['Geographic Area Name'] == 'New York City County, New York']"
   ]
  },
  {
   "cell_type": "code",
   "execution_count": 162,
   "metadata": {},
   "outputs": [],
   "source": [
    "# Rename non-normal county rows.\n",
    "ny_death.loc[30, 'Geographic Area Name'] = 'New York County, New York'"
   ]
  },
  {
   "cell_type": "code",
   "execution_count": 163,
   "metadata": {},
   "outputs": [],
   "source": [
    "# Rename columns.\n",
    "ny_death = ny_death.rename(\n",
    "    columns={'Total Fatalities 10-24': 'total_fatalities'})"
   ]
  },
  {
   "cell_type": "code",
   "execution_count": 164,
   "metadata": {},
   "outputs": [],
   "source": [
    "# Drop columns.\n",
    "ny_death = ny_death[['Geographic Area Name', 'total_fatalities']]"
   ]
  },
  {
   "cell_type": "code",
   "execution_count": 165,
   "metadata": {},
   "outputs": [
    {
     "data": {
      "text/html": [
       "<div>\n",
       "<style scoped>\n",
       "    .dataframe tbody tr th:only-of-type {\n",
       "        vertical-align: middle;\n",
       "    }\n",
       "\n",
       "    .dataframe tbody tr th {\n",
       "        vertical-align: top;\n",
       "    }\n",
       "\n",
       "    .dataframe thead th {\n",
       "        text-align: right;\n",
       "    }\n",
       "</style>\n",
       "<table border=\"1\" class=\"dataframe\">\n",
       "  <thead>\n",
       "    <tr style=\"text-align: right;\">\n",
       "      <th></th>\n",
       "      <th>Geographic Area Name</th>\n",
       "      <th>total_fatalities</th>\n",
       "    </tr>\n",
       "  </thead>\n",
       "  <tbody>\n",
       "    <tr>\n",
       "      <th>0</th>\n",
       "      <td>Albany County, New York</td>\n",
       "      <td>128</td>\n",
       "    </tr>\n",
       "    <tr>\n",
       "      <th>1</th>\n",
       "      <td>Allegany County, New York</td>\n",
       "      <td>9</td>\n",
       "    </tr>\n",
       "  </tbody>\n",
       "</table>\n",
       "</div>"
      ],
      "text/plain": [
       "        Geographic Area Name  total_fatalities\n",
       "0    Albany County, New York               128\n",
       "1  Allegany County, New York                 9"
      ]
     },
     "execution_count": 165,
     "metadata": {},
     "output_type": "execute_result"
    }
   ],
   "source": [
    "# Display the first few rows of the dataframe.\n",
    "ny_death.head(2)"
   ]
  },
  {
   "cell_type": "code",
   "execution_count": 166,
   "metadata": {},
   "outputs": [],
   "source": [
    "# Merge the dataframes.\n",
    "ny = ny.merge(ny_death,on='Geographic Area Name')"
   ]
  },
  {
   "cell_type": "code",
   "execution_count": 167,
   "metadata": {},
   "outputs": [],
   "source": [
    "# Calculate death rate and add as a column.\n",
    "ny['death_rate'] = ny['total_fatalities'] / ny['total_cases']"
   ]
  },
  {
   "cell_type": "code",
   "execution_count": 168,
   "metadata": {},
   "outputs": [],
   "source": [
    "# Reorder the columns.\n",
    "ny = ny[['Geographic Area Name', 'total_cases', 'total_fatalities', 'death_rate', 'total_tests']]"
   ]
  },
  {
   "cell_type": "code",
   "execution_count": 169,
   "metadata": {},
   "outputs": [
    {
     "data": {
      "text/html": [
       "<div>\n",
       "<style scoped>\n",
       "    .dataframe tbody tr th:only-of-type {\n",
       "        vertical-align: middle;\n",
       "    }\n",
       "\n",
       "    .dataframe tbody tr th {\n",
       "        vertical-align: top;\n",
       "    }\n",
       "\n",
       "    .dataframe thead th {\n",
       "        text-align: right;\n",
       "    }\n",
       "</style>\n",
       "<table border=\"1\" class=\"dataframe\">\n",
       "  <thead>\n",
       "    <tr style=\"text-align: right;\">\n",
       "      <th></th>\n",
       "      <th>Geographic Area Name</th>\n",
       "      <th>total_cases</th>\n",
       "      <th>total_fatalities</th>\n",
       "      <th>death_rate</th>\n",
       "      <th>total_tests</th>\n",
       "    </tr>\n",
       "  </thead>\n",
       "  <tbody>\n",
       "    <tr>\n",
       "      <th>0</th>\n",
       "      <td>Albany County, New York</td>\n",
       "      <td>3577</td>\n",
       "      <td>128</td>\n",
       "      <td>0.035784</td>\n",
       "      <td>176101</td>\n",
       "    </tr>\n",
       "    <tr>\n",
       "      <th>1</th>\n",
       "      <td>Allegany County, New York</td>\n",
       "      <td>271</td>\n",
       "      <td>9</td>\n",
       "      <td>0.033210</td>\n",
       "      <td>24790</td>\n",
       "    </tr>\n",
       "  </tbody>\n",
       "</table>\n",
       "</div>"
      ],
      "text/plain": [
       "        Geographic Area Name  total_cases  total_fatalities  death_rate  \\\n",
       "0    Albany County, New York         3577               128    0.035784   \n",
       "1  Allegany County, New York          271                 9    0.033210   \n",
       "\n",
       "   total_tests  \n",
       "0       176101  \n",
       "1        24790  "
      ]
     },
     "execution_count": 169,
     "metadata": {},
     "output_type": "execute_result"
    }
   ],
   "source": [
    "# Display the first few rows of the dataframe.\n",
    "ny.head(2)"
   ]
  },
  {
   "cell_type": "markdown",
   "metadata": {},
   "source": [
    "# Importing and Cleaning TX COVID Data"
   ]
  },
  {
   "cell_type": "code",
   "execution_count": 170,
   "metadata": {},
   "outputs": [],
   "source": [
    "# Import the data.\n",
    "tx = pd.read_csv('../data/preprocessing/raw_covid_tests_cases_tx.csv')\n",
    "tx_death = pd.read_csv('../data/preprocessing/raw_covid_deaths_tx.csv')"
   ]
  },
  {
   "cell_type": "code",
   "execution_count": 171,
   "metadata": {},
   "outputs": [
    {
     "data": {
      "text/html": [
       "<div>\n",
       "<style scoped>\n",
       "    .dataframe tbody tr th:only-of-type {\n",
       "        vertical-align: middle;\n",
       "    }\n",
       "\n",
       "    .dataframe tbody tr th {\n",
       "        vertical-align: top;\n",
       "    }\n",
       "\n",
       "    .dataframe thead th {\n",
       "        text-align: right;\n",
       "    }\n",
       "</style>\n",
       "<table border=\"1\" class=\"dataframe\">\n",
       "  <thead>\n",
       "    <tr style=\"text-align: right;\">\n",
       "      <th></th>\n",
       "      <th>County Name</th>\n",
       "      <th>Cases 10-20</th>\n",
       "      <th>Cases 10-21</th>\n",
       "      <th>Cases 10-22</th>\n",
       "      <th>Cases 10-23</th>\n",
       "      <th>Cases 10-24</th>\n",
       "      <th>Cases 10-25</th>\n",
       "      <th>Tests 10-20</th>\n",
       "      <th>Tests 10-21</th>\n",
       "      <th>Tests 10-22</th>\n",
       "      <th>Tests 10-23</th>\n",
       "      <th>Tests 10-24</th>\n",
       "    </tr>\n",
       "  </thead>\n",
       "  <tbody>\n",
       "    <tr>\n",
       "      <th>0</th>\n",
       "      <td>Anderson</td>\n",
       "      <td>2920</td>\n",
       "      <td>2922</td>\n",
       "      <td>2934</td>\n",
       "      <td>2935</td>\n",
       "      <td>2941</td>\n",
       "      <td>2941</td>\n",
       "      <td>29,371</td>\n",
       "      <td>29,485</td>\n",
       "      <td>29,843</td>\n",
       "      <td>29,964</td>\n",
       "      <td>30,052</td>\n",
       "    </tr>\n",
       "    <tr>\n",
       "      <th>1</th>\n",
       "      <td>Andrews</td>\n",
       "      <td>549</td>\n",
       "      <td>567</td>\n",
       "      <td>567</td>\n",
       "      <td>567</td>\n",
       "      <td>584</td>\n",
       "      <td>584</td>\n",
       "      <td>1,930</td>\n",
       "      <td>1,943</td>\n",
       "      <td>2,092</td>\n",
       "      <td>2,112</td>\n",
       "      <td>2,127</td>\n",
       "    </tr>\n",
       "  </tbody>\n",
       "</table>\n",
       "</div>"
      ],
      "text/plain": [
       "  County Name  Cases 10-20  Cases 10-21  Cases 10-22  Cases 10-23  \\\n",
       "0    Anderson         2920         2922         2934         2935   \n",
       "1     Andrews          549          567          567          567   \n",
       "\n",
       "   Cases 10-24  Cases 10-25 Tests 10-20 Tests 10-21 Tests 10-22 Tests 10-23  \\\n",
       "0         2941         2941      29,371      29,485      29,843      29,964   \n",
       "1          584          584       1,930       1,943       2,092       2,112   \n",
       "\n",
       "  Tests 10-24  \n",
       "0      30,052  \n",
       "1       2,127  "
      ]
     },
     "execution_count": 171,
     "metadata": {},
     "output_type": "execute_result"
    }
   ],
   "source": [
    "# Display the first few rows of the dataframe.\n",
    "tx.head(2)"
   ]
  },
  {
   "cell_type": "code",
   "execution_count": 172,
   "metadata": {},
   "outputs": [],
   "source": [
    "# Create a geo column.\n",
    "tx['Geographic Area Name'] = tx['County Name'] + ' County, Texas' "
   ]
  },
  {
   "cell_type": "code",
   "execution_count": 173,
   "metadata": {},
   "outputs": [],
   "source": [
    "# Rename columns.\n",
    "tx = tx.rename(columns={'Cases 10-24': 'total_cases', 'Tests 10-24': 'total_tests'})"
   ]
  },
  {
   "cell_type": "code",
   "execution_count": 174,
   "metadata": {},
   "outputs": [],
   "source": [
    "# Drop columns. \n",
    "tx = tx[['Geographic Area Name', 'total_cases', 'total_tests']]"
   ]
  },
  {
   "cell_type": "code",
   "execution_count": 175,
   "metadata": {},
   "outputs": [],
   "source": [
    "# Sort by geo column.\n",
    "tx = tx.sort_values(by='Geographic Area Name')"
   ]
  },
  {
   "cell_type": "code",
   "execution_count": 176,
   "metadata": {},
   "outputs": [
    {
     "data": {
      "text/html": [
       "<div>\n",
       "<style scoped>\n",
       "    .dataframe tbody tr th:only-of-type {\n",
       "        vertical-align: middle;\n",
       "    }\n",
       "\n",
       "    .dataframe tbody tr th {\n",
       "        vertical-align: top;\n",
       "    }\n",
       "\n",
       "    .dataframe thead th {\n",
       "        text-align: right;\n",
       "    }\n",
       "</style>\n",
       "<table border=\"1\" class=\"dataframe\">\n",
       "  <thead>\n",
       "    <tr style=\"text-align: right;\">\n",
       "      <th></th>\n",
       "      <th>County Name</th>\n",
       "      <th>Fatalities 10-20</th>\n",
       "      <th>Fatalities 10-21</th>\n",
       "      <th>Fatalities 10-22</th>\n",
       "      <th>Fatalities 10-23</th>\n",
       "      <th>Fatalities 10-24</th>\n",
       "    </tr>\n",
       "  </thead>\n",
       "  <tbody>\n",
       "    <tr>\n",
       "      <th>0</th>\n",
       "      <td>ANDERSON</td>\n",
       "      <td>39</td>\n",
       "      <td>39</td>\n",
       "      <td>39</td>\n",
       "      <td>39</td>\n",
       "      <td>39</td>\n",
       "    </tr>\n",
       "    <tr>\n",
       "      <th>1</th>\n",
       "      <td>ANDREWS</td>\n",
       "      <td>10</td>\n",
       "      <td>10</td>\n",
       "      <td>10</td>\n",
       "      <td>10</td>\n",
       "      <td>10</td>\n",
       "    </tr>\n",
       "  </tbody>\n",
       "</table>\n",
       "</div>"
      ],
      "text/plain": [
       "  County Name  Fatalities 10-20  Fatalities 10-21  Fatalities 10-22  \\\n",
       "0    ANDERSON                39                39                39   \n",
       "1     ANDREWS                10                10                10   \n",
       "\n",
       "   Fatalities 10-23  Fatalities 10-24  \n",
       "0                39                39  \n",
       "1                10                10  "
      ]
     },
     "execution_count": 176,
     "metadata": {},
     "output_type": "execute_result"
    }
   ],
   "source": [
    "# Display the first few rows of the dataframe.\n",
    "tx_death.head(2)"
   ]
  },
  {
   "cell_type": "code",
   "execution_count": 177,
   "metadata": {},
   "outputs": [],
   "source": [
    "# Capitalize the first letter of every word in the dataframe.\n",
    "tx_death['County Name'] = tx_death['County Name'].str.lower().str.title()"
   ]
  },
  {
   "cell_type": "code",
   "execution_count": 178,
   "metadata": {},
   "outputs": [],
   "source": [
    "# Create a geo column.\n",
    "tx_death['Geographic Area Name'] = tx_death['County Name'] + ' County, Texas' "
   ]
  },
  {
   "cell_type": "code",
   "execution_count": 179,
   "metadata": {},
   "outputs": [],
   "source": [
    "# Rename columns.\n",
    "tx_death = tx_death.rename(columns={'Fatalities 10-24': 'total_fatalities'})"
   ]
  },
  {
   "cell_type": "code",
   "execution_count": 180,
   "metadata": {},
   "outputs": [
    {
     "data": {
      "text/html": [
       "<div>\n",
       "<style scoped>\n",
       "    .dataframe tbody tr th:only-of-type {\n",
       "        vertical-align: middle;\n",
       "    }\n",
       "\n",
       "    .dataframe tbody tr th {\n",
       "        vertical-align: top;\n",
       "    }\n",
       "\n",
       "    .dataframe thead th {\n",
       "        text-align: right;\n",
       "    }\n",
       "</style>\n",
       "<table border=\"1\" class=\"dataframe\">\n",
       "  <thead>\n",
       "    <tr style=\"text-align: right;\">\n",
       "      <th></th>\n",
       "      <th>County Name</th>\n",
       "      <th>Fatalities 10-20</th>\n",
       "      <th>Fatalities 10-21</th>\n",
       "      <th>Fatalities 10-22</th>\n",
       "      <th>Fatalities 10-23</th>\n",
       "      <th>total_fatalities</th>\n",
       "      <th>Geographic Area Name</th>\n",
       "    </tr>\n",
       "  </thead>\n",
       "  <tbody>\n",
       "    <tr>\n",
       "      <th>0</th>\n",
       "      <td>Anderson</td>\n",
       "      <td>39</td>\n",
       "      <td>39</td>\n",
       "      <td>39</td>\n",
       "      <td>39</td>\n",
       "      <td>39</td>\n",
       "      <td>Anderson County, Texas</td>\n",
       "    </tr>\n",
       "    <tr>\n",
       "      <th>1</th>\n",
       "      <td>Andrews</td>\n",
       "      <td>10</td>\n",
       "      <td>10</td>\n",
       "      <td>10</td>\n",
       "      <td>10</td>\n",
       "      <td>10</td>\n",
       "      <td>Andrews County, Texas</td>\n",
       "    </tr>\n",
       "  </tbody>\n",
       "</table>\n",
       "</div>"
      ],
      "text/plain": [
       "  County Name  Fatalities 10-20  Fatalities 10-21  Fatalities 10-22  \\\n",
       "0    Anderson                39                39                39   \n",
       "1     Andrews                10                10                10   \n",
       "\n",
       "   Fatalities 10-23  total_fatalities    Geographic Area Name  \n",
       "0                39                39  Anderson County, Texas  \n",
       "1                10                10   Andrews County, Texas  "
      ]
     },
     "execution_count": 180,
     "metadata": {},
     "output_type": "execute_result"
    }
   ],
   "source": [
    "tx_death.head(2)"
   ]
  },
  {
   "cell_type": "code",
   "execution_count": 181,
   "metadata": {},
   "outputs": [],
   "source": [
    "# Drop columns. \n",
    "tx_death = tx_death[['Geographic Area Name', 'total_fatalities']]"
   ]
  },
  {
   "cell_type": "code",
   "execution_count": 182,
   "metadata": {},
   "outputs": [],
   "source": [
    "# Sort by geo column.\n",
    "tx_death = tx_death.sort_values(by='Geographic Area Name')"
   ]
  },
  {
   "cell_type": "code",
   "execution_count": 183,
   "metadata": {},
   "outputs": [
    {
     "data": {
      "text/html": [
       "<div>\n",
       "<style scoped>\n",
       "    .dataframe tbody tr th:only-of-type {\n",
       "        vertical-align: middle;\n",
       "    }\n",
       "\n",
       "    .dataframe tbody tr th {\n",
       "        vertical-align: top;\n",
       "    }\n",
       "\n",
       "    .dataframe thead th {\n",
       "        text-align: right;\n",
       "    }\n",
       "</style>\n",
       "<table border=\"1\" class=\"dataframe\">\n",
       "  <thead>\n",
       "    <tr style=\"text-align: right;\">\n",
       "      <th></th>\n",
       "      <th>Geographic Area Name</th>\n",
       "      <th>total_fatalities</th>\n",
       "    </tr>\n",
       "  </thead>\n",
       "  <tbody>\n",
       "    <tr>\n",
       "      <th>58</th>\n",
       "      <td>De Witt County, Texas</td>\n",
       "      <td>44</td>\n",
       "    </tr>\n",
       "  </tbody>\n",
       "</table>\n",
       "</div>"
      ],
      "text/plain": [
       "     Geographic Area Name  total_fatalities\n",
       "58  De Witt County, Texas                44"
      ]
     },
     "execution_count": 183,
     "metadata": {},
     "output_type": "execute_result"
    }
   ],
   "source": [
    "# Display non-normal county rows.\n",
    "tx_death[tx_death['Geographic Area Name'] == 'De Witt County, Texas']"
   ]
  },
  {
   "cell_type": "code",
   "execution_count": 184,
   "metadata": {},
   "outputs": [],
   "source": [
    "# Rename non-normal county rows.\n",
    "tx_death.loc[58, 'Geographic Area Name'] = 'DeWitt County, Texas'"
   ]
  },
  {
   "cell_type": "code",
   "execution_count": 185,
   "metadata": {},
   "outputs": [
    {
     "data": {
      "text/html": [
       "<div>\n",
       "<style scoped>\n",
       "    .dataframe tbody tr th:only-of-type {\n",
       "        vertical-align: middle;\n",
       "    }\n",
       "\n",
       "    .dataframe tbody tr th {\n",
       "        vertical-align: top;\n",
       "    }\n",
       "\n",
       "    .dataframe thead th {\n",
       "        text-align: right;\n",
       "    }\n",
       "</style>\n",
       "<table border=\"1\" class=\"dataframe\">\n",
       "  <thead>\n",
       "    <tr style=\"text-align: right;\">\n",
       "      <th></th>\n",
       "      <th>Geographic Area Name</th>\n",
       "      <th>total_fatalities</th>\n",
       "    </tr>\n",
       "  </thead>\n",
       "  <tbody>\n",
       "    <tr>\n",
       "      <th>159</th>\n",
       "      <td>Mcculloch County, Texas</td>\n",
       "      <td>4</td>\n",
       "    </tr>\n",
       "  </tbody>\n",
       "</table>\n",
       "</div>"
      ],
      "text/plain": [
       "        Geographic Area Name  total_fatalities\n",
       "159  Mcculloch County, Texas                 4"
      ]
     },
     "execution_count": 185,
     "metadata": {},
     "output_type": "execute_result"
    }
   ],
   "source": [
    "# Display non-normal county rows.\n",
    "tx_death[tx_death['Geographic Area Name'] == 'Mcculloch County, Texas']"
   ]
  },
  {
   "cell_type": "code",
   "execution_count": 186,
   "metadata": {},
   "outputs": [],
   "source": [
    "# Rename non-normal county rows.\n",
    "tx_death.loc[159, 'Geographic Area Name'] = 'McCulloch County, Texas'"
   ]
  },
  {
   "cell_type": "code",
   "execution_count": 187,
   "metadata": {},
   "outputs": [
    {
     "data": {
      "text/html": [
       "<div>\n",
       "<style scoped>\n",
       "    .dataframe tbody tr th:only-of-type {\n",
       "        vertical-align: middle;\n",
       "    }\n",
       "\n",
       "    .dataframe tbody tr th {\n",
       "        vertical-align: top;\n",
       "    }\n",
       "\n",
       "    .dataframe thead th {\n",
       "        text-align: right;\n",
       "    }\n",
       "</style>\n",
       "<table border=\"1\" class=\"dataframe\">\n",
       "  <thead>\n",
       "    <tr style=\"text-align: right;\">\n",
       "      <th></th>\n",
       "      <th>Geographic Area Name</th>\n",
       "      <th>total_fatalities</th>\n",
       "    </tr>\n",
       "  </thead>\n",
       "  <tbody>\n",
       "    <tr>\n",
       "      <th>160</th>\n",
       "      <td>Mclennan County, Texas</td>\n",
       "      <td>131</td>\n",
       "    </tr>\n",
       "  </tbody>\n",
       "</table>\n",
       "</div>"
      ],
      "text/plain": [
       "       Geographic Area Name  total_fatalities\n",
       "160  Mclennan County, Texas               131"
      ]
     },
     "execution_count": 187,
     "metadata": {},
     "output_type": "execute_result"
    }
   ],
   "source": [
    "# Display non-normal county rows.\n",
    "tx_death[tx_death['Geographic Area Name'] == 'Mclennan County, Texas']"
   ]
  },
  {
   "cell_type": "code",
   "execution_count": 188,
   "metadata": {},
   "outputs": [],
   "source": [
    "# Rename non-normal county rows.\n",
    "tx_death.loc[160, 'Geographic Area Name'] = 'McLennan County, Texas'"
   ]
  },
  {
   "cell_type": "code",
   "execution_count": 189,
   "metadata": {},
   "outputs": [
    {
     "data": {
      "text/html": [
       "<div>\n",
       "<style scoped>\n",
       "    .dataframe tbody tr th:only-of-type {\n",
       "        vertical-align: middle;\n",
       "    }\n",
       "\n",
       "    .dataframe tbody tr th {\n",
       "        vertical-align: top;\n",
       "    }\n",
       "\n",
       "    .dataframe thead th {\n",
       "        text-align: right;\n",
       "    }\n",
       "</style>\n",
       "<table border=\"1\" class=\"dataframe\">\n",
       "  <thead>\n",
       "    <tr style=\"text-align: right;\">\n",
       "      <th></th>\n",
       "      <th>Geographic Area Name</th>\n",
       "      <th>total_fatalities</th>\n",
       "    </tr>\n",
       "  </thead>\n",
       "  <tbody>\n",
       "    <tr>\n",
       "      <th>161</th>\n",
       "      <td>Mcmullen County, Texas</td>\n",
       "      <td>1</td>\n",
       "    </tr>\n",
       "  </tbody>\n",
       "</table>\n",
       "</div>"
      ],
      "text/plain": [
       "       Geographic Area Name  total_fatalities\n",
       "161  Mcmullen County, Texas                 1"
      ]
     },
     "execution_count": 189,
     "metadata": {},
     "output_type": "execute_result"
    }
   ],
   "source": [
    "# Display non-normal county rows.\n",
    "tx_death[tx_death['Geographic Area Name'] == 'Mcmullen County, Texas']"
   ]
  },
  {
   "cell_type": "code",
   "execution_count": 190,
   "metadata": {},
   "outputs": [],
   "source": [
    "# Rename non-normal county rows.\n",
    "tx_death.loc[161, 'Geographic Area Name'] = 'McMullen County, Texas'"
   ]
  },
  {
   "cell_type": "code",
   "execution_count": 191,
   "metadata": {},
   "outputs": [],
   "source": [
    "# Merge the dataframes.\n",
    "tx = tx.merge(tx_death,on='Geographic Area Name')"
   ]
  },
  {
   "cell_type": "code",
   "execution_count": 192,
   "metadata": {},
   "outputs": [],
   "source": [
    "# Calculate death rate and add as a column.\n",
    "tx['death_rate'] = tx['total_fatalities'] / tx['total_cases']"
   ]
  },
  {
   "cell_type": "code",
   "execution_count": 193,
   "metadata": {},
   "outputs": [
    {
     "data": {
      "text/html": [
       "<div>\n",
       "<style scoped>\n",
       "    .dataframe tbody tr th:only-of-type {\n",
       "        vertical-align: middle;\n",
       "    }\n",
       "\n",
       "    .dataframe tbody tr th {\n",
       "        vertical-align: top;\n",
       "    }\n",
       "\n",
       "    .dataframe thead th {\n",
       "        text-align: right;\n",
       "    }\n",
       "</style>\n",
       "<table border=\"1\" class=\"dataframe\">\n",
       "  <thead>\n",
       "    <tr style=\"text-align: right;\">\n",
       "      <th></th>\n",
       "      <th>Geographic Area Name</th>\n",
       "      <th>total_cases</th>\n",
       "      <th>total_tests</th>\n",
       "      <th>total_fatalities</th>\n",
       "      <th>death_rate</th>\n",
       "    </tr>\n",
       "  </thead>\n",
       "  <tbody>\n",
       "    <tr>\n",
       "      <th>0</th>\n",
       "      <td>Anderson County, Texas</td>\n",
       "      <td>2941</td>\n",
       "      <td>30,052</td>\n",
       "      <td>39</td>\n",
       "      <td>0.013261</td>\n",
       "    </tr>\n",
       "    <tr>\n",
       "      <th>1</th>\n",
       "      <td>Andrews County, Texas</td>\n",
       "      <td>584</td>\n",
       "      <td>2,127</td>\n",
       "      <td>10</td>\n",
       "      <td>0.017123</td>\n",
       "    </tr>\n",
       "  </tbody>\n",
       "</table>\n",
       "</div>"
      ],
      "text/plain": [
       "     Geographic Area Name  total_cases total_tests  total_fatalities  \\\n",
       "0  Anderson County, Texas         2941      30,052                39   \n",
       "1   Andrews County, Texas          584       2,127                10   \n",
       "\n",
       "   death_rate  \n",
       "0    0.013261  \n",
       "1    0.017123  "
      ]
     },
     "execution_count": 193,
     "metadata": {},
     "output_type": "execute_result"
    }
   ],
   "source": [
    "# Display the first few rows of th dataframe.\n",
    "tx.head(2)"
   ]
  },
  {
   "cell_type": "code",
   "execution_count": 194,
   "metadata": {},
   "outputs": [],
   "source": [
    "# Reorder columns.\n",
    "tx = tx[['Geographic Area Name', 'total_cases', 'total_fatalities', 'death_rate', 'total_tests']]"
   ]
  },
  {
   "cell_type": "code",
   "execution_count": 195,
   "metadata": {},
   "outputs": [],
   "source": [
    "# Define a function clean total_tests.\n",
    "def clean(text):\n",
    "    new_string = ''\n",
    "    for ch in text:\n",
    "        if ch != ',':\n",
    "            new_string = new_string + ch\n",
    "    return int(new_string)"
   ]
  },
  {
   "cell_type": "code",
   "execution_count": 196,
   "metadata": {},
   "outputs": [],
   "source": [
    "# Apply the function to the tests column.\n",
    "tx['total_tests'] = tx['total_tests'].apply(clean)"
   ]
  },
  {
   "cell_type": "code",
   "execution_count": 197,
   "metadata": {},
   "outputs": [
    {
     "data": {
      "text/html": [
       "<div>\n",
       "<style scoped>\n",
       "    .dataframe tbody tr th:only-of-type {\n",
       "        vertical-align: middle;\n",
       "    }\n",
       "\n",
       "    .dataframe tbody tr th {\n",
       "        vertical-align: top;\n",
       "    }\n",
       "\n",
       "    .dataframe thead th {\n",
       "        text-align: right;\n",
       "    }\n",
       "</style>\n",
       "<table border=\"1\" class=\"dataframe\">\n",
       "  <thead>\n",
       "    <tr style=\"text-align: right;\">\n",
       "      <th></th>\n",
       "      <th>Geographic Area Name</th>\n",
       "      <th>total_cases</th>\n",
       "      <th>total_fatalities</th>\n",
       "      <th>death_rate</th>\n",
       "      <th>total_tests</th>\n",
       "    </tr>\n",
       "  </thead>\n",
       "  <tbody>\n",
       "    <tr>\n",
       "      <th>0</th>\n",
       "      <td>Anderson County, Texas</td>\n",
       "      <td>2941</td>\n",
       "      <td>39</td>\n",
       "      <td>0.013261</td>\n",
       "      <td>30052</td>\n",
       "    </tr>\n",
       "    <tr>\n",
       "      <th>1</th>\n",
       "      <td>Andrews County, Texas</td>\n",
       "      <td>584</td>\n",
       "      <td>10</td>\n",
       "      <td>0.017123</td>\n",
       "      <td>2127</td>\n",
       "    </tr>\n",
       "  </tbody>\n",
       "</table>\n",
       "</div>"
      ],
      "text/plain": [
       "     Geographic Area Name  total_cases  total_fatalities  death_rate  \\\n",
       "0  Anderson County, Texas         2941                39    0.013261   \n",
       "1   Andrews County, Texas          584                10    0.017123   \n",
       "\n",
       "   total_tests  \n",
       "0        30052  \n",
       "1         2127  "
      ]
     },
     "execution_count": 197,
     "metadata": {},
     "output_type": "execute_result"
    }
   ],
   "source": [
    "# Display the first few rows of th dataframe.\n",
    "tx.head(2)"
   ]
  },
  {
   "cell_type": "markdown",
   "metadata": {},
   "source": [
    "# Combining COVID Data"
   ]
  },
  {
   "cell_type": "code",
   "execution_count": 198,
   "metadata": {},
   "outputs": [],
   "source": [
    "# Concatenate the dataframes.\n",
    "covid = pd.concat([ca, fl, il, ny, tx])"
   ]
  },
  {
   "cell_type": "code",
   "execution_count": 199,
   "metadata": {},
   "outputs": [
    {
     "data": {
      "text/html": [
       "<div>\n",
       "<style scoped>\n",
       "    .dataframe tbody tr th:only-of-type {\n",
       "        vertical-align: middle;\n",
       "    }\n",
       "\n",
       "    .dataframe tbody tr th {\n",
       "        vertical-align: top;\n",
       "    }\n",
       "\n",
       "    .dataframe thead th {\n",
       "        text-align: right;\n",
       "    }\n",
       "</style>\n",
       "<table border=\"1\" class=\"dataframe\">\n",
       "  <thead>\n",
       "    <tr style=\"text-align: right;\">\n",
       "      <th></th>\n",
       "      <th>Geographic Area Name</th>\n",
       "      <th>total_cases</th>\n",
       "      <th>total_fatalities</th>\n",
       "      <th>death_rate</th>\n",
       "      <th>total_tests</th>\n",
       "    </tr>\n",
       "  </thead>\n",
       "  <tbody>\n",
       "    <tr>\n",
       "      <th>0</th>\n",
       "      <td>Santa Clara County, California</td>\n",
       "      <td>23978.0</td>\n",
       "      <td>388.0</td>\n",
       "      <td>0.016181</td>\n",
       "      <td>839764</td>\n",
       "    </tr>\n",
       "    <tr>\n",
       "      <th>1</th>\n",
       "      <td>San Mateo County, California</td>\n",
       "      <td>10942.0</td>\n",
       "      <td>159.0</td>\n",
       "      <td>0.014531</td>\n",
       "      <td>285657</td>\n",
       "    </tr>\n",
       "    <tr>\n",
       "      <th>2</th>\n",
       "      <td>Santa Barbara County, California</td>\n",
       "      <td>9781.0</td>\n",
       "      <td>120.0</td>\n",
       "      <td>0.012269</td>\n",
       "      <td>158693</td>\n",
       "    </tr>\n",
       "    <tr>\n",
       "      <th>3</th>\n",
       "      <td>Tuolumne County, California</td>\n",
       "      <td>269.0</td>\n",
       "      <td>4.0</td>\n",
       "      <td>0.014870</td>\n",
       "      <td>20986</td>\n",
       "    </tr>\n",
       "    <tr>\n",
       "      <th>4</th>\n",
       "      <td>Sierra County, California</td>\n",
       "      <td>6.0</td>\n",
       "      <td>0.0</td>\n",
       "      <td>0.000000</td>\n",
       "      <td>641</td>\n",
       "    </tr>\n",
       "    <tr>\n",
       "      <th>...</th>\n",
       "      <td>...</td>\n",
       "      <td>...</td>\n",
       "      <td>...</td>\n",
       "      <td>...</td>\n",
       "      <td>...</td>\n",
       "    </tr>\n",
       "    <tr>\n",
       "      <th>249</th>\n",
       "      <td>Wood County, Texas</td>\n",
       "      <td>626.0</td>\n",
       "      <td>39.0</td>\n",
       "      <td>0.062300</td>\n",
       "      <td>6844</td>\n",
       "    </tr>\n",
       "    <tr>\n",
       "      <th>250</th>\n",
       "      <td>Yoakum County, Texas</td>\n",
       "      <td>289.0</td>\n",
       "      <td>6.0</td>\n",
       "      <td>0.020761</td>\n",
       "      <td>1531</td>\n",
       "    </tr>\n",
       "    <tr>\n",
       "      <th>251</th>\n",
       "      <td>Young County, Texas</td>\n",
       "      <td>535.0</td>\n",
       "      <td>8.0</td>\n",
       "      <td>0.014953</td>\n",
       "      <td>3363</td>\n",
       "    </tr>\n",
       "    <tr>\n",
       "      <th>252</th>\n",
       "      <td>Zapata County, Texas</td>\n",
       "      <td>345.0</td>\n",
       "      <td>9.0</td>\n",
       "      <td>0.026087</td>\n",
       "      <td>4355</td>\n",
       "    </tr>\n",
       "    <tr>\n",
       "      <th>253</th>\n",
       "      <td>Zavala County, Texas</td>\n",
       "      <td>460.0</td>\n",
       "      <td>18.0</td>\n",
       "      <td>0.039130</td>\n",
       "      <td>2520</td>\n",
       "    </tr>\n",
       "  </tbody>\n",
       "</table>\n",
       "<p>543 rows × 5 columns</p>\n",
       "</div>"
      ],
      "text/plain": [
       "                 Geographic Area Name  total_cases  total_fatalities  \\\n",
       "0      Santa Clara County, California      23978.0             388.0   \n",
       "1        San Mateo County, California      10942.0             159.0   \n",
       "2    Santa Barbara County, California       9781.0             120.0   \n",
       "3         Tuolumne County, California        269.0               4.0   \n",
       "4           Sierra County, California          6.0               0.0   \n",
       "..                                ...          ...               ...   \n",
       "249                Wood County, Texas        626.0              39.0   \n",
       "250              Yoakum County, Texas        289.0               6.0   \n",
       "251               Young County, Texas        535.0               8.0   \n",
       "252              Zapata County, Texas        345.0               9.0   \n",
       "253              Zavala County, Texas        460.0              18.0   \n",
       "\n",
       "     death_rate  total_tests  \n",
       "0      0.016181       839764  \n",
       "1      0.014531       285657  \n",
       "2      0.012269       158693  \n",
       "3      0.014870        20986  \n",
       "4      0.000000          641  \n",
       "..          ...          ...  \n",
       "249    0.062300         6844  \n",
       "250    0.020761         1531  \n",
       "251    0.014953         3363  \n",
       "252    0.026087         4355  \n",
       "253    0.039130         2520  \n",
       "\n",
       "[543 rows x 5 columns]"
      ]
     },
     "execution_count": 199,
     "metadata": {},
     "output_type": "execute_result"
    }
   ],
   "source": [
    "# Display the dataframe.\n",
    "covid"
   ]
  },
  {
   "cell_type": "code",
   "execution_count": 200,
   "metadata": {},
   "outputs": [],
   "source": [
    "# Export the data.\n",
    "covid.to_csv('../data/preprocessing/cleaned_covid_five_states.csv', index=False)"
   ]
  }
 ],
 "metadata": {
  "kernelspec": {
   "display_name": "Python 3",
   "language": "python",
   "name": "python3"
  },
  "language_info": {
   "codemirror_mode": {
    "name": "ipython",
    "version": 3
   },
   "file_extension": ".py",
   "mimetype": "text/x-python",
   "name": "python",
   "nbconvert_exporter": "python",
   "pygments_lexer": "ipython3",
   "version": "3.7.9"
  }
 },
 "nbformat": 4,
 "nbformat_minor": 4
}
