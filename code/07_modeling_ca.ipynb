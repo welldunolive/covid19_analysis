{
 "cells": [
  {
   "cell_type": "markdown",
   "metadata": {},
   "source": [
    "#### Notebooks  \n",
    "- [Data Collection](./01_data_collection.ipynb)\n",
    "- [Data Cleaning](./02_data_cleaning.ipynb)\n",
    "- [Data Preprocessing](./03_data_preprocessing.ipynb)\n",
    "- [EDA Five States](./04_eda_five_states.ipynb)\n",
    "- [EDA California](./05_eda_ca.ipynb)\n",
    "- [EDA Florida](./05_eda_fl.ipynb)\n",
    "- [EDA Illinois](./05_eda_il.ipynb)\n",
    "- [EDA New York](./05_eda_ny.ipynb)\n",
    "- [EDA Texas](./05_eda_tx.ipynb)\n",
    "- [Modeling Five States](./06_modeling_five_states.ipynb)\n",
    "- [Modeling California](./07_modeling_ca.ipynb)\n",
    "- [Modeling Florida](./07_modeling_fl.ipynb)\n",
    "- [Modeling Illinois](./07_modeling_il.ipynb)\n",
    "- [Modeling New York](./07_modeling_ny.ipynb)\n",
    "- [Modeling Texas](./07_modeling_tx.ipynb)\n",
    "- [Conclusions](./08_conclusions.ipynb)\n",
    "\n",
    "#### This Notebook's Contents  \n",
    "- [Imports](#Data-Dictionary)\n",
    "- [Regression Model: Explainable](#Regression-Model:-Explainable)\n",
    "- [Regression Model: Best](#Regression-Model:-Best) \n",
    "- [Classification Model: Best](#Classification-Model:-Best)\n",
    "\n",
    "# California"
   ]
  },
  {
   "cell_type": "markdown",
   "metadata": {},
   "source": [
    "# Imports"
   ]
  },
  {
   "cell_type": "code",
   "execution_count": 1,
   "metadata": {},
   "outputs": [],
   "source": [
    "# Import the required libraries\n",
    "import pandas as pd\n",
    "import matplotlib.pyplot as plt\n",
    "import seaborn as sns\n",
    "import numpy as np\n",
    "plt.style.use('seaborn-whitegrid')\n",
    "\n",
    "import warnings\n",
    "warnings.filterwarnings('ignore')\n",
    "\n",
    "from sklearn.model_selection import train_test_split, GridSearchCV\n",
    "from sklearn.feature_selection import SelectKBest, f_regression\n",
    "from sklearn.pipeline import make_pipeline\n",
    "from sklearn.metrics import mean_squared_error, plot_confusion_matrix\n",
    "\n",
    "from sklearn.linear_model import LinearRegression, Ridge\n",
    "from sklearn.preprocessing import StandardScaler, PolynomialFeatures, PowerTransformer, QuantileTransformer\n",
    "from sklearn.tree import DecisionTreeRegressor\n",
    "from sklearn.linear_model import LogisticRegression\n",
    "from sklearn.decomposition import PCA"
   ]
  },
  {
   "cell_type": "code",
   "execution_count": 2,
   "metadata": {},
   "outputs": [],
   "source": [
    "# Import the data as a dataframe and save to a variable.\n",
    "df = pd.read_csv('../data/cleaned_engineered_ca.csv')"
   ]
  },
  {
   "cell_type": "code",
   "execution_count": 3,
   "metadata": {},
   "outputs": [
    {
     "data": {
      "text/html": [
       "<div>\n",
       "<style scoped>\n",
       "    .dataframe tbody tr th:only-of-type {\n",
       "        vertical-align: middle;\n",
       "    }\n",
       "\n",
       "    .dataframe tbody tr th {\n",
       "        vertical-align: top;\n",
       "    }\n",
       "\n",
       "    .dataframe thead th {\n",
       "        text-align: right;\n",
       "    }\n",
       "</style>\n",
       "<table border=\"1\" class=\"dataframe\">\n",
       "  <thead>\n",
       "    <tr style=\"text-align: right;\">\n",
       "      <th></th>\n",
       "      <th>county_state</th>\n",
       "      <th>total_cases</th>\n",
       "      <th>total_fatalities</th>\n",
       "      <th>death_rate</th>\n",
       "      <th>total_tests</th>\n",
       "      <th>sq_mi</th>\n",
       "      <th>obes_percent</th>\n",
       "      <th>health_ins_noninst_pop</th>\n",
       "      <th>health_ins_noninst_pop_cov_yes</th>\n",
       "      <th>health_ins_noninst_pop_cov_no</th>\n",
       "      <th>...</th>\n",
       "      <th>percent_inc_hhlds_50_000_to_99_999</th>\n",
       "      <th>percent_race_pop_other</th>\n",
       "      <th>percent_sex_age_pop_0_to_44</th>\n",
       "      <th>percent_sex_age_pop_45_to_74</th>\n",
       "      <th>percent_sex_age_pop_75_and_over</th>\n",
       "      <th>percent_sex_age_pop_0_to_64</th>\n",
       "      <th>percent_sex_age_pop_65_and_over</th>\n",
       "      <th>percent_sex_age_pop_0_to_35</th>\n",
       "      <th>percent_sex_age_pop_35_to_59</th>\n",
       "      <th>percent_sex_age_pop_60_to_84</th>\n",
       "    </tr>\n",
       "  </thead>\n",
       "  <tbody>\n",
       "    <tr>\n",
       "      <th>0</th>\n",
       "      <td>Santa Clara County, California</td>\n",
       "      <td>23978.0</td>\n",
       "      <td>388.0</td>\n",
       "      <td>0.016181</td>\n",
       "      <td>839764</td>\n",
       "      <td>1291.086</td>\n",
       "      <td>0.081</td>\n",
       "      <td>1912773</td>\n",
       "      <td>1821047</td>\n",
       "      <td>91726</td>\n",
       "      <td>...</td>\n",
       "      <td>0.214966</td>\n",
       "      <td>0.041717</td>\n",
       "      <td>0.616108</td>\n",
       "      <td>0.327238</td>\n",
       "      <td>0.056655</td>\n",
       "      <td>0.871549</td>\n",
       "      <td>0.128451</td>\n",
       "      <td>0.469933</td>\n",
       "      <td>0.348772</td>\n",
       "      <td>0.163722</td>\n",
       "    </tr>\n",
       "    <tr>\n",
       "      <th>1</th>\n",
       "      <td>San Mateo County, California</td>\n",
       "      <td>10942.0</td>\n",
       "      <td>159.0</td>\n",
       "      <td>0.014531</td>\n",
       "      <td>285657</td>\n",
       "      <td>448.636</td>\n",
       "      <td>0.071</td>\n",
       "      <td>762101</td>\n",
       "      <td>725672</td>\n",
       "      <td>36429</td>\n",
       "      <td>...</td>\n",
       "      <td>0.226225</td>\n",
       "      <td>0.058196</td>\n",
       "      <td>0.574618</td>\n",
       "      <td>0.357939</td>\n",
       "      <td>0.067443</td>\n",
       "      <td>0.846114</td>\n",
       "      <td>0.153886</td>\n",
       "      <td>0.430888</td>\n",
       "      <td>0.353295</td>\n",
       "      <td>0.192727</td>\n",
       "    </tr>\n",
       "  </tbody>\n",
       "</table>\n",
       "<p>2 rows × 124 columns</p>\n",
       "</div>"
      ],
      "text/plain": [
       "                     county_state  total_cases  total_fatalities  death_rate  \\\n",
       "0  Santa Clara County, California      23978.0             388.0    0.016181   \n",
       "1    San Mateo County, California      10942.0             159.0    0.014531   \n",
       "\n",
       "   total_tests     sq_mi  obes_percent  health_ins_noninst_pop  \\\n",
       "0       839764  1291.086         0.081                 1912773   \n",
       "1       285657   448.636         0.071                  762101   \n",
       "\n",
       "   health_ins_noninst_pop_cov_yes  health_ins_noninst_pop_cov_no  ...  \\\n",
       "0                         1821047                          91726  ...   \n",
       "1                          725672                          36429  ...   \n",
       "\n",
       "   percent_inc_hhlds_50_000_to_99_999  percent_race_pop_other  \\\n",
       "0                            0.214966                0.041717   \n",
       "1                            0.226225                0.058196   \n",
       "\n",
       "   percent_sex_age_pop_0_to_44  percent_sex_age_pop_45_to_74  \\\n",
       "0                     0.616108                      0.327238   \n",
       "1                     0.574618                      0.357939   \n",
       "\n",
       "   percent_sex_age_pop_75_and_over  percent_sex_age_pop_0_to_64  \\\n",
       "0                         0.056655                     0.871549   \n",
       "1                         0.067443                     0.846114   \n",
       "\n",
       "   percent_sex_age_pop_65_and_over  percent_sex_age_pop_0_to_35  \\\n",
       "0                         0.128451                     0.469933   \n",
       "1                         0.153886                     0.430888   \n",
       "\n",
       "   percent_sex_age_pop_35_to_59  percent_sex_age_pop_60_to_84  \n",
       "0                      0.348772                      0.163722  \n",
       "1                      0.353295                      0.192727  \n",
       "\n",
       "[2 rows x 124 columns]"
      ]
     },
     "execution_count": 3,
     "metadata": {},
     "output_type": "execute_result"
    }
   ],
   "source": [
    "# Display the first few rows of the dataframe.\n",
    "df.head(2)"
   ]
  },
  {
   "cell_type": "markdown",
   "metadata": {},
   "source": [
    "# Regression Model: Explainable"
   ]
  },
  {
   "cell_type": "markdown",
   "metadata": {},
   "source": [
    "The model achieved 69% R2."
   ]
  },
  {
   "cell_type": "code",
   "execution_count": 4,
   "metadata": {},
   "outputs": [],
   "source": [
    "# Assign our features to X and y.\n",
    "X = df[[\n",
    "    'inc_per_capita_inc_dol',\n",
    "    'obes_percent',\n",
    "    'percent_sex_age_pop_under_5',\n",
    "    'percent_sex_age_pop_5_to_9',\n",
    "    'percent_sex_age_pop_10_to_14',\n",
    "    'percent_sex_age_pop_15_to_19',\n",
    "    'percent_sex_age_pop_20_to_24',\n",
    "    'percent_sex_age_pop_25_to_34',\n",
    "    'percent_sex_age_pop_35_to_44',\n",
    "    'percent_sex_age_pop_45_to_74',\n",
    "    'percent_sex_age_pop_75_and_over',\n",
    "    'percent_sex_age_pop_male',\n",
    "    'percent_health_ins_noninst_pop_cov_no',\n",
    "    'percent_race_pop_white_alone',    \n",
    "    'percent_race_pop_hispanic_or_latino_of_any_race',\n",
    "    'percent_race_pop_two_or_more_races',\n",
    "    'pop_density',\n",
    "    'tests_per_100_people',\n",
    "    'percent_inc_hhlds_35_000_to_49_999',   \n",
    "]]\n",
    "\n",
    "y = df['cases_per_100_people']\n",
    "\n",
    "# Split X and y into train/test groups.\n",
    "X_train, X_test, y_train, y_test = train_test_split(X, y, random_state=42)"
   ]
  },
  {
   "cell_type": "code",
   "execution_count": 5,
   "metadata": {},
   "outputs": [
    {
     "data": {
      "text/plain": [
       "((43, 19), (15, 19))"
      ]
     },
     "execution_count": 5,
     "metadata": {},
     "output_type": "execute_result"
    }
   ],
   "source": [
    "# Display the shape of the training  and test data.\n",
    "X_train.shape, X_test.shape"
   ]
  },
  {
   "cell_type": "code",
   "execution_count": 6,
   "metadata": {},
   "outputs": [],
   "source": [
    "# Create a pipeline.\n",
    "pipe = make_pipeline(QuantileTransformer(), SelectKBest(f_regression), Ridge(max_iter=20_000))\n",
    "\n",
    "# Set parameters for GridSearchCV.\n",
    "params = {\n",
    "    'selectkbest__k': range(1,20),\n",
    "    'ridge__alpha': [.1, 1, 10, 20]\n",
    "}\n",
    "\n",
    "# Set up GridSearchCV with the pipe.\n",
    "gs = GridSearchCV(pipe, param_grid=params, scoring='r2', cv=10, n_jobs=-1)"
   ]
  },
  {
   "cell_type": "code",
   "execution_count": 7,
   "metadata": {},
   "outputs": [
    {
     "data": {
      "text/plain": [
       "GridSearchCV(cv=10,\n",
       "             estimator=Pipeline(steps=[('quantiletransformer',\n",
       "                                        QuantileTransformer()),\n",
       "                                       ('selectkbest',\n",
       "                                        SelectKBest(score_func=<function f_regression at 0x7f7d21d4bb90>)),\n",
       "                                       ('ridge', Ridge(max_iter=20000))]),\n",
       "             n_jobs=-1,\n",
       "             param_grid={'ridge__alpha': [0.1, 1, 10, 20],\n",
       "                         'selectkbest__k': range(1, 20)},\n",
       "             scoring='r2')"
      ]
     },
     "execution_count": 7,
     "metadata": {},
     "output_type": "execute_result"
    }
   ],
   "source": [
    "# Call fit on the GridSearchCV object and pass the training  data.\n",
    "gs.fit(X_train, y_train)"
   ]
  },
  {
   "cell_type": "code",
   "execution_count": 8,
   "metadata": {},
   "outputs": [
    {
     "data": {
      "text/plain": [
       "{'ridge__alpha': 1, 'selectkbest__k': 16}"
      ]
     },
     "execution_count": 8,
     "metadata": {},
     "output_type": "execute_result"
    }
   ],
   "source": [
    "# Display the best parameters.\n",
    "gs.best_params_"
   ]
  },
  {
   "cell_type": "code",
   "execution_count": 9,
   "metadata": {},
   "outputs": [
    {
     "name": "stdout",
     "output_type": "stream",
     "text": [
      "Test R2 Score: 0.6929.\n"
     ]
    }
   ],
   "source": [
    "# Display the score for the test set.\n",
    "print(f'Test R2 Score: {round(gs.score(X_test, y_test), 4)}.')"
   ]
  },
  {
   "cell_type": "code",
   "execution_count": 10,
   "metadata": {},
   "outputs": [
    {
     "name": "stdout",
     "output_type": "stream",
     "text": [
      "Train R2 Score: 0.7799.\n"
     ]
    }
   ],
   "source": [
    "# Display the score for the training set.\n",
    "print(f'Train R2 Score: {round(gs.score(X_train, y_train), 4)}.')"
   ]
  },
  {
   "cell_type": "code",
   "execution_count": 11,
   "metadata": {},
   "outputs": [
    {
     "name": "stdout",
     "output_type": "stream",
     "text": [
      "RMSE of Model:0.7216.\n"
     ]
    }
   ],
   "source": [
    "# Calculate the RMSE for the model.\n",
    "y_preds = gs.predict(X_test)\n",
    "print(f'RMSE of Model:{round(mean_squared_error(y_test, y_preds, squared=False), 4)}.')"
   ]
  },
  {
   "cell_type": "code",
   "execution_count": 12,
   "metadata": {},
   "outputs": [
    {
     "data": {
      "image/png": "[encoded data removed]",
      "text/plain": [
       "<Figure size 576x432 with 1 Axes>"
      ]
     },
     "metadata": {},
     "output_type": "display_data"
    }
   ],
   "source": [
    "# Plot the predicted versus the actual 'cases_per_100_people'.\n",
    "plt.figure(figsize=(8,6))\n",
    "sns.scatterplot(y_preds, y_test)\n",
    "plt.title('California Actual vs. Predicted Cases/100 People', fontsize=16)\n",
    "plt.xlabel('Predicted Cases/100 People', fontsize=14)\n",
    "plt.ylabel('Actual Cases/100 People', fontsize=14);"
   ]
  },
  {
   "cell_type": "code",
   "execution_count": 13,
   "metadata": {},
   "outputs": [],
   "source": [
    "# Extract a boolean matrix of features selectkbest used in the best model.\n",
    "features = gs.best_estimator_.named_steps['selectkbest'].get_support()"
   ]
  },
  {
   "cell_type": "code",
   "execution_count": 14,
   "metadata": {},
   "outputs": [],
   "source": [
    "# Overlay the boolean matrix with the features to get the features used.\n",
    "features = X_train.columns[features==True]"
   ]
  },
  {
   "cell_type": "code",
   "execution_count": 15,
   "metadata": {},
   "outputs": [],
   "source": [
    "# Extract the coefficients for the features used in the best model.\n",
    "coefs = gs.best_estimator_.named_steps['ridge'].coef_"
   ]
  },
  {
   "cell_type": "code",
   "execution_count": 16,
   "metadata": {},
   "outputs": [],
   "source": [
    "# Create a dataframe of the features and their coefficients.\n",
    "coef_df = pd.DataFrame(list(zip(features, coefs)), columns=['Feature', 'Coefficients'])\n",
    "coef_df = coef_df.set_index('Feature')\n",
    "coef_df = coef_df.sort_values(by='Coefficients', ascending=False)"
   ]
  },
  {
   "cell_type": "code",
   "execution_count": 17,
   "metadata": {},
   "outputs": [],
   "source": [
    "# Rename the index.\n",
    "coef_df = coef_df.rename(index={\n",
    "    'inc_per_capita_inc_dol': 'Income Per Capita ($)',\n",
    "    'obes_percent': 'Obesity (%)',\n",
    "    'pop_density': 'Population Density',\n",
    "    'percent_health_ins_noninst_pop_cov_no': 'Health Insurance: None (%)',\n",
    "    'percent_sex_age_pop_male': 'Sex: Male (%)',\n",
    "    'percent_sex_age_pop_under_5': 'Age: Under 5 Yrs (%)',\n",
    "    'percent_sex_age_pop_5_to_9': 'Age: 5-9 Yrs (%)',\n",
    "    'percent_sex_age_pop_10_to_14': 'Age: 10-14 Yrs (%)',\n",
    "    'percent_sex_age_pop_15_to_19': 'Age: 15-19 Yrs (%)',\n",
    "    'percent_sex_age_pop_20_to_24': 'Age: 20-24 Yrs (%)',\n",
    "    'percent_sex_age_pop_25_to_34': 'Age: 25-34 Yrs (%)',\n",
    "    'percent_sex_age_pop_35_to_44': 'Age: 35-44 Yrs (%)',\n",
    "    'percent_sex_age_pop_45_to_74': 'Age: 45-75 Yrs (%)',\n",
    "    'percent_sex_age_pop_75_and_over': 'Age: 75+ Yrs (%)',\n",
    "    'percent_race_pop_asian_alone': 'Race: Asian (%)',\n",
    "    'percent_race_pop_american_indian_and_alaska_native_alone': 'Race: American Indian/Alaskan (%)',\n",
    "    'percent_race_pop_black_or_african_american_alone': 'Race: Black/African American (%)',\n",
    "    'percent_race_pop_hispanic_or_latino_of_any_race': 'Race: Hispanic/Latino (%)',\n",
    "    'percent_race_pop_two_or_more_races': 'Race: Two or More Races (%)',\n",
    "    'percent_race_pop_white_alone': 'Race: White (%)',\n",
    "    'tests_per_100_people': 'Tests/100 People'\n",
    "})"
   ]
  },
  {
   "cell_type": "code",
   "execution_count": 18,
   "metadata": {},
   "outputs": [
    {
     "data": {
      "image/png": "[encoded data removed]",
      "text/plain": [
       "<Figure size 432x432 with 1 Axes>"
      ]
     },
     "metadata": {},
     "output_type": "display_data"
    }
   ],
   "source": [
    "# Plot the datatframe of the features and their coefficients.\n",
    "coef_df.sort_values(by='Coefficients').plot(kind = 'barh', figsize=(6,6), legend=None)\n",
    "plt.title('California Model Coefficients', fontsize=16)\n",
    "plt.yticks(fontsize=14);"
   ]
  },
  {
   "cell_type": "markdown",
   "metadata": {},
   "source": [
    "### Create a smaller coefficient dataframe"
   ]
  },
  {
   "cell_type": "code",
   "execution_count": 19,
   "metadata": {},
   "outputs": [],
   "source": [
    "# Extract the top 10 coefficients.\n",
    "coef_neg = coef_df.sort_values(by='Coefficients')[:5]\n",
    "coef_pos = coef_df.sort_values(by='Coefficients', ascending=False)[:5]\n",
    "coef_df = pd.concat([coef_neg, coef_pos]).sort_values(by='Coefficients', ascending=False)"
   ]
  },
  {
   "cell_type": "code",
   "execution_count": 20,
   "metadata": {},
   "outputs": [
    {
     "data": {
      "image/png": "[encoded data removed]",
      "text/plain": [
       "<Figure size 288x288 with 1 Axes>"
      ]
     },
     "metadata": {},
     "output_type": "display_data"
    }
   ],
   "source": [
    "# Plot the datatframe of the features and their coefficients.\n",
    "coef_df.sort_values(by='Coefficients').plot(kind = 'barh', figsize=(4,4), legend=None)\n",
    "plt.title('California Model Coefficients', fontsize=16)\n",
    "plt.yticks(fontsize=14);"
   ]
  },
  {
   "cell_type": "markdown",
   "metadata": {},
   "source": [
    "# Regression Model: Best"
   ]
  },
  {
   "cell_type": "markdown",
   "metadata": {},
   "source": [
    "The model achieved 74% R2."
   ]
  },
  {
   "cell_type": "code",
   "execution_count": 21,
   "metadata": {},
   "outputs": [],
   "source": [
    "# Assign our features to X and y.\n",
    "X = df[[\n",
    "    'inc_per_capita_inc_dol',\n",
    "    'obes_percent',\n",
    "    'percent_sex_age_pop_under_5',\n",
    "    'percent_sex_age_pop_5_to_9',\n",
    "    'percent_sex_age_pop_10_to_14',\n",
    "    'percent_sex_age_pop_15_to_19',\n",
    "    'percent_sex_age_pop_20_to_24',\n",
    "    'percent_sex_age_pop_25_to_34',\n",
    "    'percent_sex_age_pop_35_to_44',\n",
    "    'percent_sex_age_pop_45_to_74',\n",
    "    'percent_sex_age_pop_75_and_over',\n",
    "    'percent_sex_age_pop_male',\n",
    "    'percent_health_ins_noninst_pop_cov_no',\n",
    "    'percent_race_pop_white_alone',    \n",
    "    'percent_race_pop_hispanic_or_latino_of_any_race',\n",
    "    'percent_race_pop_two_or_more_races',\n",
    "    'pop_density',\n",
    "    'tests_per_100_people',\n",
    "    'percent_inc_hhlds_35_000_to_49_999',   \n",
    "]]\n",
    "\n",
    "y = df['cases_per_100_people']\n",
    "\n",
    "# Split X and y into train/test groups.\n",
    "X_train, X_test, y_train, y_test = train_test_split(X, y, random_state=42)"
   ]
  },
  {
   "cell_type": "code",
   "execution_count": 22,
   "metadata": {},
   "outputs": [
    {
     "data": {
      "text/plain": [
       "((43, 19), (15, 19))"
      ]
     },
     "execution_count": 22,
     "metadata": {},
     "output_type": "execute_result"
    }
   ],
   "source": [
    "# Display the shape of the training  and test data.\n",
    "X_train.shape, X_test.shape"
   ]
  },
  {
   "cell_type": "code",
   "execution_count": 23,
   "metadata": {},
   "outputs": [],
   "source": [
    "# Create a pipeline.\n",
    "pipe = make_pipeline(PCA(random_state=22), LinearRegression())\n",
    "\n",
    "# Set parameters for GridSearchCV.\n",
    "params = {\n",
    "    'pca__n_components': [5, 10, 20, 50, 100, 200],\n",
    "}\n",
    "# Set up GridSearchCV with the pipe.\n",
    "gs = GridSearchCV(pipe, params, cv=10, n_jobs=-1)"
   ]
  },
  {
   "cell_type": "code",
   "execution_count": 24,
   "metadata": {},
   "outputs": [
    {
     "data": {
      "text/plain": [
       "GridSearchCV(cv=10,\n",
       "             estimator=Pipeline(steps=[('pca', PCA(random_state=22)),\n",
       "                                       ('linearregression',\n",
       "                                        LinearRegression())]),\n",
       "             n_jobs=-1,\n",
       "             param_grid={'pca__n_components': [5, 10, 20, 50, 100, 200]})"
      ]
     },
     "execution_count": 24,
     "metadata": {},
     "output_type": "execute_result"
    }
   ],
   "source": [
    "# Call fit on the GridSearchCV object and pass the training  data.\n",
    "gs.fit (X_train, y_train)"
   ]
  },
  {
   "cell_type": "code",
   "execution_count": 25,
   "metadata": {},
   "outputs": [
    {
     "name": "stdout",
     "output_type": "stream",
     "text": [
      "Test R2 Score: 0.7461.\n"
     ]
    }
   ],
   "source": [
    "# Display the score for the test set.\n",
    "print(f'Test R2 Score: {round(gs.score(X_test, y_test), 4)}.')"
   ]
  },
  {
   "cell_type": "code",
   "execution_count": 26,
   "metadata": {},
   "outputs": [
    {
     "name": "stdout",
     "output_type": "stream",
     "text": [
      "Train R2 Score: 0.8158.\n"
     ]
    }
   ],
   "source": [
    "# Display the score for the training set.\n",
    "print(f'Train R2 Score: {round(gs.score(X_train, y_train), 4)}.')"
   ]
  },
  {
   "cell_type": "code",
   "execution_count": 27,
   "metadata": {},
   "outputs": [
    {
     "name": "stdout",
     "output_type": "stream",
     "text": [
      "RMSE of Model:0.6562.\n"
     ]
    }
   ],
   "source": [
    "# Calculate the RMSE for the model.\n",
    "y_preds = gs.predict(X_test)\n",
    "print(f'RMSE of Model:{round(mean_squared_error(y_test, y_preds, squared=False), 4)}.')"
   ]
  },
  {
   "cell_type": "code",
   "execution_count": 28,
   "metadata": {},
   "outputs": [
    {
     "data": {
      "image/png": "[encoded data removed]",
      "text/plain": [
       "<Figure size 576x432 with 1 Axes>"
      ]
     },
     "metadata": {},
     "output_type": "display_data"
    }
   ],
   "source": [
    "# Plot the predicted versus the actual 'cases_per_100_people'.\n",
    "plt.figure(figsize=(8,6))\n",
    "sns.scatterplot(y_preds, y_test)\n",
    "plt.title('California Actual vs. Predicted Cases/100 People', fontsize=16)\n",
    "plt.xlabel('Predicted Cases/100 People', fontsize=14)\n",
    "plt.ylabel('Actual Cases/100 People', fontsize=14);"
   ]
  },
  {
   "cell_type": "markdown",
   "metadata": {},
   "source": [
    "# Classification Model: Best"
   ]
  },
  {
   "cell_type": "markdown",
   "metadata": {},
   "source": [
    "This model was achieved 93% accuracy with 66% baseline."
   ]
  },
  {
   "cell_type": "code",
   "execution_count": 29,
   "metadata": {},
   "outputs": [],
   "source": [
    "# Assign our features to X and y.\n",
    "X = df[[\n",
    "    'inc_per_capita_inc_dol',\n",
    "    'obes_percent',\n",
    "    'percent_race_pop_hispanic_or_latino_of_any_race',\n",
    "    'percent_sex_age_pop_under_5',\n",
    "    'percent_sex_age_pop_5_to_9',\n",
    "    'percent_sex_age_pop_10_to_14',\n",
    "    'percent_sex_age_pop_15_to_19',\n",
    "    'percent_race_pop_white_alone',\n",
    "    'percent_sex_age_pop_45_to_74',\n",
    "    'percent_sex_age_pop_75_and_over'\n",
    "]]\n",
    "\n",
    "y = df['covid_severity']\n",
    "\n",
    "# Split X and y into train/test groups.\n",
    "X_train, X_test, y_train, y_test = train_test_split(X, y, stratify=y, random_state=42)"
   ]
  },
  {
   "cell_type": "code",
   "execution_count": 30,
   "metadata": {},
   "outputs": [
    {
     "data": {
      "text/plain": [
       "((43, 10), (15, 10))"
      ]
     },
     "execution_count": 30,
     "metadata": {},
     "output_type": "execute_result"
    }
   ],
   "source": [
    "# Display the shape of the training and test data.\n",
    "X_train.shape, X_test.shape"
   ]
  },
  {
   "cell_type": "code",
   "execution_count": 31,
   "metadata": {},
   "outputs": [
    {
     "data": {
      "text/plain": [
       "1    0.666667\n",
       "2    0.200000\n",
       "3    0.133333\n",
       "Name: covid_severity, dtype: float64"
      ]
     },
     "execution_count": 31,
     "metadata": {},
     "output_type": "execute_result"
    }
   ],
   "source": [
    "# Display the baseline percentages.\n",
    "y_test.value_counts(normalize=True)"
   ]
  },
  {
   "cell_type": "code",
   "execution_count": 32,
   "metadata": {},
   "outputs": [],
   "source": [
    "# Create a pipeline.\n",
    "pipe = make_pipeline(StandardScaler(), SelectKBest(), LogisticRegression())\n",
    "\n",
    "# Set parameters for GridSearchCV.\n",
    "params = {\n",
    "    'selectkbest__k': range(1,300),\n",
    "    'logisticregression__C': [.1, .5, 1, 10]\n",
    "}\n",
    "\n",
    "# Set up GridSearchCV with the pipe.\n",
    "gs = GridSearchCV(pipe, param_grid=params, cv=10, n_jobs=-1)"
   ]
  },
  {
   "cell_type": "code",
   "execution_count": 33,
   "metadata": {},
   "outputs": [
    {
     "data": {
      "text/plain": [
       "GridSearchCV(cv=10,\n",
       "             estimator=Pipeline(steps=[('standardscaler', StandardScaler()),\n",
       "                                       ('selectkbest', SelectKBest()),\n",
       "                                       ('logisticregression',\n",
       "                                        LogisticRegression())]),\n",
       "             n_jobs=-1,\n",
       "             param_grid={'logisticregression__C': [0.1, 0.5, 1, 10],\n",
       "                         'selectkbest__k': range(1, 300)})"
      ]
     },
     "execution_count": 33,
     "metadata": {},
     "output_type": "execute_result"
    }
   ],
   "source": [
    "# Call fit on the GridSearchCV object and pass the training  data.\n",
    "gs.fit(X_train, y_train)"
   ]
  },
  {
   "cell_type": "code",
   "execution_count": 34,
   "metadata": {},
   "outputs": [
    {
     "data": {
      "text/plain": [
       "{'logisticregression__C': 0.5, 'selectkbest__k': 4}"
      ]
     },
     "execution_count": 34,
     "metadata": {},
     "output_type": "execute_result"
    }
   ],
   "source": [
    "# Display the best parameters.\n",
    "gs.best_params_"
   ]
  },
  {
   "cell_type": "code",
   "execution_count": 35,
   "metadata": {},
   "outputs": [
    {
     "name": "stdout",
     "output_type": "stream",
     "text": [
      "Test Accuracy: 0.9333.\n"
     ]
    }
   ],
   "source": [
    "# Display the score for the test set.\n",
    "print(f'Test Accuracy: {round(gs.score(X_test, y_test), 4)}.')"
   ]
  },
  {
   "cell_type": "code",
   "execution_count": 36,
   "metadata": {},
   "outputs": [
    {
     "name": "stdout",
     "output_type": "stream",
     "text": [
      "Train Accuracy: 0.9302.\n"
     ]
    }
   ],
   "source": [
    "# Display the score for the training set.\n",
    "print(f'Train Accuracy: {round(gs.score(X_train, y_train), 4)}.')"
   ]
  },
  {
   "cell_type": "code",
   "execution_count": 37,
   "metadata": {},
   "outputs": [
    {
     "data": {
      "image/png": "[encoded data removed]",
      "text/plain": [
       "<Figure size 432x288 with 2 Axes>"
      ]
     },
     "metadata": {},
     "output_type": "display_data"
    }
   ],
   "source": [
    "# Plot a confusion matrix.\n",
    "y_preds = gs.predict(X_test)\n",
    "plot_confusion_matrix(gs, X_test, y_test);"
   ]
  }
 ],
 "metadata": {
  "kernelspec": {
   "display_name": "Python 3",
   "language": "python",
   "name": "python3"
  },
  "language_info": {
   "codemirror_mode": {
    "name": "ipython",
    "version": 3
   },
   "file_extension": ".py",
   "mimetype": "text/x-python",
   "name": "python",
   "nbconvert_exporter": "python",
   "pygments_lexer": "ipython3",
   "version": "3.7.9"
  }
 },
 "nbformat": 4,
 "nbformat_minor": 4
}
