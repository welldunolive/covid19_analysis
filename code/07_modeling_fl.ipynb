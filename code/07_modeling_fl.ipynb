{
 "cells": [
  {
   "cell_type": "markdown",
   "metadata": {},
   "source": [
    "#### Notebooks  \n",
    "- [Data Collection](./01_data_collection.ipynb)\n",
    "- [Data Cleaning](./02_data_cleaning.ipynb)\n",
    "- [Data Preprocessing](./03_data_preprocessing.ipynb)\n",
    "- [EDA Five States](./04_eda_five_states.ipynb)\n",
    "- [EDA California](./05_eda_ca.ipynb)\n",
    "- [EDA Florida](./05_eda_fl.ipynb)\n",
    "- [EDA Illinois](./05_eda_il.ipynb)\n",
    "- [EDA New York](./05_eda_ny.ipynb)\n",
    "- [EDA Texas](./05_eda_tx.ipynb)\n",
    "- [Modeling Five States](./06_modeling_five_states.ipynb)\n",
    "- [Modeling California](./07_modeling_ca.ipynb)\n",
    "- [Modeling Florida](./07_modeling_fl.ipynb)\n",
    "- [Modeling Illinois](./07_modeling_il.ipynb)\n",
    "- [Modeling New York](./07_modeling_ny.ipynb)\n",
    "- [Modeling Texas](./07_modeling_tx.ipynb)\n",
    "- [Conclusions](./08_conclusions.ipynb)\n",
    "\n",
    "#### This Notebook's Contents  \n",
    "- [Imports](#Data-Dictionary)\n",
    "- [Regression Model: Explainable and Best](#Regression-Model:-Explainable-and-Best)\n",
    "- [Classification Model: Best](#Classification-Model:-Best)\n",
    "\n",
    "# Florida "
   ]
  },
  {
   "cell_type": "markdown",
   "metadata": {},
   "source": [
    "# Imports"
   ]
  },
  {
   "cell_type": "code",
   "execution_count": 1,
   "metadata": {},
   "outputs": [],
   "source": [
    "# Import the required libraries\n",
    "import pandas as pd\n",
    "import matplotlib.pyplot as plt\n",
    "import seaborn as sns\n",
    "import numpy as np\n",
    "plt.style.use('seaborn-whitegrid')\n",
    "\n",
    "import warnings\n",
    "warnings.filterwarnings('ignore')\n",
    "\n",
    "from sklearn.model_selection import train_test_split, GridSearchCV\n",
    "from sklearn.feature_selection import SelectKBest, f_regression\n",
    "from sklearn.pipeline import make_pipeline\n",
    "from sklearn.metrics import mean_squared_error, plot_confusion_matrix\n",
    "\n",
    "from sklearn.linear_model import LinearRegression, Ridge\n",
    "from sklearn.preprocessing import StandardScaler, PolynomialFeatures, PowerTransformer, QuantileTransformer\n",
    "from sklearn.tree import DecisionTreeRegressor\n",
    "from sklearn.linear_model import LogisticRegression\n",
    "from sklearn.decomposition import PCA"
   ]
  },
  {
   "cell_type": "code",
   "execution_count": 2,
   "metadata": {},
   "outputs": [],
   "source": [
    "# Import the data as a dataframe and save to a variable.\n",
    "df = pd.read_csv('../data/cleaned_engineered_fl.csv')"
   ]
  },
  {
   "cell_type": "code",
   "execution_count": 3,
   "metadata": {},
   "outputs": [
    {
     "data": {
      "text/html": [
       "<div>\n",
       "<style scoped>\n",
       "    .dataframe tbody tr th:only-of-type {\n",
       "        vertical-align: middle;\n",
       "    }\n",
       "\n",
       "    .dataframe tbody tr th {\n",
       "        vertical-align: top;\n",
       "    }\n",
       "\n",
       "    .dataframe thead th {\n",
       "        text-align: right;\n",
       "    }\n",
       "</style>\n",
       "<table border=\"1\" class=\"dataframe\">\n",
       "  <thead>\n",
       "    <tr style=\"text-align: right;\">\n",
       "      <th></th>\n",
       "      <th>county_state</th>\n",
       "      <th>total_cases</th>\n",
       "      <th>total_fatalities</th>\n",
       "      <th>death_rate</th>\n",
       "      <th>total_tests</th>\n",
       "      <th>sq_mi</th>\n",
       "      <th>obes_percent</th>\n",
       "      <th>health_ins_noninst_pop</th>\n",
       "      <th>health_ins_noninst_pop_cov_yes</th>\n",
       "      <th>health_ins_noninst_pop_cov_no</th>\n",
       "      <th>...</th>\n",
       "      <th>percent_inc_hhlds_50_000_to_99_999</th>\n",
       "      <th>percent_race_pop_other</th>\n",
       "      <th>percent_sex_age_pop_0_to_44</th>\n",
       "      <th>percent_sex_age_pop_45_to_74</th>\n",
       "      <th>percent_sex_age_pop_75_and_over</th>\n",
       "      <th>percent_sex_age_pop_0_to_64</th>\n",
       "      <th>percent_sex_age_pop_65_and_over</th>\n",
       "      <th>percent_sex_age_pop_0_to_35</th>\n",
       "      <th>percent_sex_age_pop_35_to_59</th>\n",
       "      <th>percent_sex_age_pop_60_to_84</th>\n",
       "    </tr>\n",
       "  </thead>\n",
       "  <tbody>\n",
       "    <tr>\n",
       "      <th>0</th>\n",
       "      <td>Gilchrist County, Florida</td>\n",
       "      <td>602.0</td>\n",
       "      <td>18.0</td>\n",
       "      <td>0.029900</td>\n",
       "      <td>5016</td>\n",
       "      <td>349.695</td>\n",
       "      <td>0.128</td>\n",
       "      <td>16285</td>\n",
       "      <td>13340</td>\n",
       "      <td>2945</td>\n",
       "      <td>...</td>\n",
       "      <td>0.31178</td>\n",
       "      <td>0.015214</td>\n",
       "      <td>0.530003</td>\n",
       "      <td>0.385467</td>\n",
       "      <td>0.08453</td>\n",
       "      <td>0.800341</td>\n",
       "      <td>0.199659</td>\n",
       "      <td>0.426171</td>\n",
       "      <td>0.311155</td>\n",
       "      <td>0.238320</td>\n",
       "    </tr>\n",
       "    <tr>\n",
       "      <th>1</th>\n",
       "      <td>Putnam County, Florida</td>\n",
       "      <td>2355.0</td>\n",
       "      <td>50.0</td>\n",
       "      <td>0.021231</td>\n",
       "      <td>19344</td>\n",
       "      <td>727.867</td>\n",
       "      <td>0.146</td>\n",
       "      <td>71607</td>\n",
       "      <td>60138</td>\n",
       "      <td>11469</td>\n",
       "      <td>...</td>\n",
       "      <td>0.24533</td>\n",
       "      <td>0.020477</td>\n",
       "      <td>0.499574</td>\n",
       "      <td>0.406756</td>\n",
       "      <td>0.09367</td>\n",
       "      <td>0.776407</td>\n",
       "      <td>0.223593</td>\n",
       "      <td>0.399170</td>\n",
       "      <td>0.303177</td>\n",
       "      <td>0.279141</td>\n",
       "    </tr>\n",
       "  </tbody>\n",
       "</table>\n",
       "<p>2 rows × 124 columns</p>\n",
       "</div>"
      ],
      "text/plain": [
       "                county_state  total_cases  total_fatalities  death_rate  \\\n",
       "0  Gilchrist County, Florida        602.0              18.0    0.029900   \n",
       "1     Putnam County, Florida       2355.0              50.0    0.021231   \n",
       "\n",
       "   total_tests    sq_mi  obes_percent  health_ins_noninst_pop  \\\n",
       "0         5016  349.695         0.128                   16285   \n",
       "1        19344  727.867         0.146                   71607   \n",
       "\n",
       "   health_ins_noninst_pop_cov_yes  health_ins_noninst_pop_cov_no  ...  \\\n",
       "0                           13340                           2945  ...   \n",
       "1                           60138                          11469  ...   \n",
       "\n",
       "   percent_inc_hhlds_50_000_to_99_999  percent_race_pop_other  \\\n",
       "0                             0.31178                0.015214   \n",
       "1                             0.24533                0.020477   \n",
       "\n",
       "   percent_sex_age_pop_0_to_44  percent_sex_age_pop_45_to_74  \\\n",
       "0                     0.530003                      0.385467   \n",
       "1                     0.499574                      0.406756   \n",
       "\n",
       "   percent_sex_age_pop_75_and_over  percent_sex_age_pop_0_to_64  \\\n",
       "0                          0.08453                     0.800341   \n",
       "1                          0.09367                     0.776407   \n",
       "\n",
       "   percent_sex_age_pop_65_and_over  percent_sex_age_pop_0_to_35  \\\n",
       "0                         0.199659                     0.426171   \n",
       "1                         0.223593                     0.399170   \n",
       "\n",
       "   percent_sex_age_pop_35_to_59  percent_sex_age_pop_60_to_84  \n",
       "0                      0.311155                      0.238320  \n",
       "1                      0.303177                      0.279141  \n",
       "\n",
       "[2 rows x 124 columns]"
      ]
     },
     "execution_count": 3,
     "metadata": {},
     "output_type": "execute_result"
    }
   ],
   "source": [
    "# Display the first few rows of the dataframe.\n",
    "df.head(2)"
   ]
  },
  {
   "cell_type": "markdown",
   "metadata": {},
   "source": [
    "# Regression Model: Explainable and Best"
   ]
  },
  {
   "cell_type": "markdown",
   "metadata": {},
   "source": [
    "The model achieved 76% R2."
   ]
  },
  {
   "cell_type": "code",
   "execution_count": 4,
   "metadata": {},
   "outputs": [],
   "source": [
    "# Assign our features to X and y.\n",
    "X = df[[\n",
    "    'obes_percent',\n",
    "    'percent_sex_age_pop_male',\n",
    "    'percent_sex_age_pop_0_to_44',\n",
    "    'percent_sex_age_pop_45_to_74',\n",
    "    'percent_inc_hhlds_less_than_99_999',\n",
    "    'percent_inc_hhlds_100_000_or_more',\n",
    "    'percent_health_ins_noninst_pop_cov_no',\n",
    "    'percent_race_pop_asian_alone',\n",
    "    'percent_race_pop_white_alone',\n",
    "    'percent_race_pop_native_hawaiian_and_other_pacific_islander_alone',\n",
    "    'percent_race_pop_black_or_african_american_alone',\n",
    "    'pop_density',\n",
    "    'tests_per_100_people'\n",
    "]]\n",
    "\n",
    "y = df['cases_per_100_people']\n",
    "\n",
    "# Split X and y into train/test groups.\n",
    "X_train, X_test, y_train, y_test = train_test_split(X, y, random_state=42)"
   ]
  },
  {
   "cell_type": "code",
   "execution_count": 5,
   "metadata": {},
   "outputs": [
    {
     "data": {
      "text/plain": [
       "((50, 13), (17, 13))"
      ]
     },
     "execution_count": 5,
     "metadata": {},
     "output_type": "execute_result"
    }
   ],
   "source": [
    "# Display the shape of the training  and test data.\n",
    "X_train.shape, X_test.shape"
   ]
  },
  {
   "cell_type": "code",
   "execution_count": 6,
   "metadata": {},
   "outputs": [],
   "source": [
    "# Create a pipeline.\n",
    "pipe = make_pipeline(PowerTransformer(), Ridge(max_iter=20_000))\n",
    "\n",
    "# Set parameters for GridSearchCV.\n",
    "params = {\n",
    "    'ridge__alpha': [1, 10, 20]\n",
    "}\n",
    "\n",
    "# Set up GridSearchCV with the pipe.\n",
    "gs = GridSearchCV(pipe, param_grid=params, scoring='r2', cv=10, n_jobs=-1)"
   ]
  },
  {
   "cell_type": "code",
   "execution_count": 7,
   "metadata": {},
   "outputs": [
    {
     "data": {
      "text/plain": [
       "GridSearchCV(cv=10,\n",
       "             estimator=Pipeline(steps=[('powertransformer', PowerTransformer()),\n",
       "                                       ('ridge', Ridge(max_iter=20000))]),\n",
       "             n_jobs=-1, param_grid={'ridge__alpha': [1, 10, 20]}, scoring='r2')"
      ]
     },
     "execution_count": 7,
     "metadata": {},
     "output_type": "execute_result"
    }
   ],
   "source": [
    "# Call fit on the GridSearchCV object and pass the training  data.\n",
    "gs.fit(X_train, y_train)"
   ]
  },
  {
   "cell_type": "code",
   "execution_count": 8,
   "metadata": {},
   "outputs": [
    {
     "data": {
      "text/plain": [
       "{'ridge__alpha': 20}"
      ]
     },
     "execution_count": 8,
     "metadata": {},
     "output_type": "execute_result"
    }
   ],
   "source": [
    "# Display the best parameters.\n",
    "gs.best_params_"
   ]
  },
  {
   "cell_type": "code",
   "execution_count": 9,
   "metadata": {},
   "outputs": [
    {
     "name": "stdout",
     "output_type": "stream",
     "text": [
      "Test R2 Score: 0.3384.\n"
     ]
    }
   ],
   "source": [
    "# Display the score for the test set.\n",
    "print(f'Test R2 Score: {round(gs.score(X_test, y_test), 4)}.')"
   ]
  },
  {
   "cell_type": "code",
   "execution_count": 10,
   "metadata": {},
   "outputs": [
    {
     "name": "stdout",
     "output_type": "stream",
     "text": [
      "Train R2 Score: 0.8276.\n"
     ]
    }
   ],
   "source": [
    "# Display the score for the training set.\n",
    "print(f'Train R2 Score: {round(gs.score(X_train, y_train), 4)}.')"
   ]
  },
  {
   "cell_type": "code",
   "execution_count": 11,
   "metadata": {},
   "outputs": [
    {
     "name": "stdout",
     "output_type": "stream",
     "text": [
      "RMSE of Model:2.1758.\n"
     ]
    }
   ],
   "source": [
    "# Calculate the RMSE for the model.\n",
    "y_preds = gs.predict(X_test)\n",
    "print(f'RMSE of Model:{round(mean_squared_error(y_test, y_preds, squared=False), 4)}.')"
   ]
  },
  {
   "cell_type": "code",
   "execution_count": 12,
   "metadata": {},
   "outputs": [
    {
     "data": {
      "image/png": "[encoded data removed]",
      "text/plain": [
       "<Figure size 576x432 with 1 Axes>"
      ]
     },
     "metadata": {},
     "output_type": "display_data"
    }
   ],
   "source": [
    "# Plot the predicted versus the actual 'cases_per_100_people'.\n",
    "plt.figure(figsize=(8,6))\n",
    "sns.scatterplot(y_preds, y_test)\n",
    "plt.title('Florida Actual vs. Predicted Cases/100 People', fontsize=16)\n",
    "plt.xlabel('Predicted Cases/100 People', fontsize=14)\n",
    "plt.ylabel('Actual Cases/100 People', fontsize=14);"
   ]
  },
  {
   "cell_type": "code",
   "execution_count": 13,
   "metadata": {},
   "outputs": [],
   "source": [
    "# Extract the features of X.\n",
    "features = X_train.columns"
   ]
  },
  {
   "cell_type": "code",
   "execution_count": 14,
   "metadata": {},
   "outputs": [],
   "source": [
    "# Extract the coefficients for the features used in the best model.\n",
    "coefs = gs.best_estimator_.named_steps['ridge'].coef_"
   ]
  },
  {
   "cell_type": "code",
   "execution_count": 15,
   "metadata": {},
   "outputs": [],
   "source": [
    "# Create a dataframe of the features and their coefficients.\n",
    "coef_df = pd.DataFrame(list(zip(features, coefs)), columns=['Feature', 'Coefficients'])\n",
    "coef_df = coef_df.set_index('Feature')\n",
    "coef_df = coef_df.sort_values(by='Coefficients', ascending=False)"
   ]
  },
  {
   "cell_type": "code",
   "execution_count": 16,
   "metadata": {},
   "outputs": [],
   "source": [
    "# Rename the index.\n",
    "coef_df = coef_df.rename(index={\n",
    "    'inc_per_capita_inc_dol': 'Income Per Capita ($)',\n",
    "    'percent_inc_hhlds_less_than_99_999': 'Income: < $100,000',\n",
    "    'percent_inc_hhlds_100_000_or_more': 'Income: > $100,000',\n",
    "    'obes_percent': 'Obesity (%)',\n",
    "    'pop_density': 'Population Density',\n",
    "    'percent_health_ins_noninst_pop_cov_no': 'Health Insurance: None (%)',\n",
    "    'percent_sex_age_pop_male': 'Sex: Male (%)',\n",
    "    'percent_sex_age_pop_under_5': 'Age: Under 5 Yrs (%)',\n",
    "    'percent_sex_age_pop_5_to_9': 'Age: 5-9 Yrs (%)',\n",
    "    'percent_sex_age_pop_10_to_14': 'Age: 10-14 Yrs (%)',\n",
    "    'percent_sex_age_pop_15_to_19': 'Age: 15-19 Yrs (%)',\n",
    "    'percent_sex_age_pop_20_to_24': 'Age: 20-24 Yrs (%)',\n",
    "    'percent_sex_age_pop_25_to_34': 'Age: 25-34 Yrs (%)',\n",
    "    'percent_sex_age_pop_35_to_44': 'Age: 35-44 Yrs (%)',\n",
    "    'percent_sex_age_pop_45_to_74': 'Age: 45-75 Yrs (%)',\n",
    "    'percent_sex_age_pop_75_and_over': 'Age: 75+ Yrs (%)',\n",
    "    'percent_sex_age_pop_0_to_44': 'Age: 0-44 Yrs (%)',\n",
    "    'percent_race_pop_asian_alone': 'Race: Asian (%)',\n",
    "    'percent_race_pop_american_indian_and_alaska_native_alone': 'Race: American Indian/Alaskan (%)',\n",
    "    'percent_race_pop_native_hawaiian_and_other_pacific_islander_alone': 'Race: Pacific Islander (%)',\n",
    "    'percent_race_pop_black_or_african_american_alone': 'Race: Black/African American (%)',\n",
    "    'percent_race_pop_hispanic_or_latino_of_any_race': 'Race: Hispanic/Latino (%)',\n",
    "    'percent_race_pop_two_or_more_races': 'Race: Two or More Races (%)',\n",
    "    'percent_race_pop_white_alone': 'Race: White (%)',\n",
    "    'tests_per_100_people': 'Tests/100 People'\n",
    "})"
   ]
  },
  {
   "cell_type": "code",
   "execution_count": 17,
   "metadata": {},
   "outputs": [
    {
     "data": {
      "image/png": "[encoded data removed]",
      "text/plain": [
       "<Figure size 432x432 with 1 Axes>"
      ]
     },
     "metadata": {},
     "output_type": "display_data"
    }
   ],
   "source": [
    "# Plot the datatframe of the features and their coefficients.\n",
    "coef_df.sort_values(by='Coefficients').plot(kind = 'barh', figsize=(6,6), legend=None)\n",
    "plt.title('Florida Model Coefficients', fontsize=16)\n",
    "plt.yticks(fontsize=14);"
   ]
  },
  {
   "cell_type": "markdown",
   "metadata": {},
   "source": [
    "### Create a smaller coefficient dataframe"
   ]
  },
  {
   "cell_type": "code",
   "execution_count": 18,
   "metadata": {},
   "outputs": [],
   "source": [
    "# Extract the top 10 coefficients.\n",
    "coef_neg = coef_df.sort_values(by='Coefficients')[:5]\n",
    "coef_pos = coef_df.sort_values(by='Coefficients', ascending=False)[:5]\n",
    "coef_df = pd.concat([coef_neg, coef_pos]).sort_values(by='Coefficients', ascending=False)"
   ]
  },
  {
   "cell_type": "code",
   "execution_count": 19,
   "metadata": {},
   "outputs": [
    {
     "data": {
      "image/png": "[encoded data removed]",
      "text/plain": [
       "<Figure size 288x288 with 1 Axes>"
      ]
     },
     "metadata": {},
     "output_type": "display_data"
    }
   ],
   "source": [
    "# Plot the datatframe of the features and their coefficients.\n",
    "coef_df.sort_values(by='Coefficients').plot(kind = 'barh', figsize=(4,4), legend=None)\n",
    "plt.title('Florida Model Coefficients', fontsize=16)\n",
    "plt.yticks(fontsize=14);"
   ]
  },
  {
   "cell_type": "markdown",
   "metadata": {},
   "source": [
    "# Classification Model: Best"
   ]
  },
  {
   "cell_type": "markdown",
   "metadata": {},
   "source": [
    "This model was achieved 71% accuracy with 71% baseline."
   ]
  },
  {
   "cell_type": "code",
   "execution_count": 20,
   "metadata": {},
   "outputs": [],
   "source": [
    "# Assign our features to X and y.\n",
    "X = df[[\n",
    "    'inc_per_capita_inc_dol',\n",
    "    'percent_sex_age_pop_male',\n",
    "    'obes_percent',\n",
    "    'percent_sex_age_pop_0_to_44',\n",
    "    'percent_sex_age_pop_45_to_74',\n",
    "    'percent_race_pop_asian_alone',\n",
    "    'percent_inc_hhlds_less_than_99_999',\n",
    "    'percent_inc_hhlds_100_000_or_more',\n",
    "    'percent_health_ins_noninst_pop_cov_yes',\n",
    "    'pop_density',\n",
    "    'percent_race_pop_white_alone',\n",
    "    'percent_race_pop_native_hawaiian_and_other_pacific_islander_alone',\n",
    "    'percent_race_pop_black_or_african_american_alone',\n",
    "    'tests_per_100_people'\n",
    "]]\n",
    "\n",
    "y = df['covid_severity']\n",
    "\n",
    "# Split X and y into train/test groups.\n",
    "X_train, X_test, y_train, y_test = train_test_split(X, y, stratify=y, random_state=42)"
   ]
  },
  {
   "cell_type": "code",
   "execution_count": 21,
   "metadata": {},
   "outputs": [
    {
     "data": {
      "text/plain": [
       "((50, 14), (17, 14))"
      ]
     },
     "execution_count": 21,
     "metadata": {},
     "output_type": "execute_result"
    }
   ],
   "source": [
    "# Display the shape of the training and test data.\n",
    "X_train.shape, X_test.shape"
   ]
  },
  {
   "cell_type": "code",
   "execution_count": 22,
   "metadata": {},
   "outputs": [
    {
     "data": {
      "text/plain": [
       "3    0.705882\n",
       "2    0.235294\n",
       "1    0.058824\n",
       "Name: covid_severity, dtype: float64"
      ]
     },
     "execution_count": 22,
     "metadata": {},
     "output_type": "execute_result"
    }
   ],
   "source": [
    "# Display the baseline percentages.\n",
    "y_test.value_counts(normalize=True)"
   ]
  },
  {
   "cell_type": "code",
   "execution_count": 23,
   "metadata": {},
   "outputs": [],
   "source": [
    "# Create a pipeline.\n",
    "pipe = make_pipeline(QuantileTransformer(), SelectKBest(), LogisticRegression())\n",
    "\n",
    "# Set parameters for GridSearchCV.\n",
    "params = {\n",
    "    'selectkbest__k': range(1,21),\n",
    "    'logisticregression__C': [.1, .5, 1, 10]\n",
    "}\n",
    "\n",
    "# Set up GridSearchCV with the pipe.\n",
    "gs = GridSearchCV(pipe, param_grid=params, cv=10, n_jobs=-1)"
   ]
  },
  {
   "cell_type": "code",
   "execution_count": 24,
   "metadata": {},
   "outputs": [
    {
     "data": {
      "text/plain": [
       "GridSearchCV(cv=10,\n",
       "             estimator=Pipeline(steps=[('quantiletransformer',\n",
       "                                        QuantileTransformer()),\n",
       "                                       ('selectkbest', SelectKBest()),\n",
       "                                       ('logisticregression',\n",
       "                                        LogisticRegression())]),\n",
       "             n_jobs=-1,\n",
       "             param_grid={'logisticregression__C': [0.1, 0.5, 1, 10],\n",
       "                         'selectkbest__k': range(1, 21)})"
      ]
     },
     "execution_count": 24,
     "metadata": {},
     "output_type": "execute_result"
    }
   ],
   "source": [
    "# Call fit on the GridSearchCV object and pass the training  data.\n",
    "gs.fit(X_train, y_train)"
   ]
  },
  {
   "cell_type": "code",
   "execution_count": 25,
   "metadata": {},
   "outputs": [
    {
     "data": {
      "text/plain": [
       "{'logisticregression__C': 10, 'selectkbest__k': 4}"
      ]
     },
     "execution_count": 25,
     "metadata": {},
     "output_type": "execute_result"
    }
   ],
   "source": [
    "# Display the best parameters.\n",
    "gs.best_params_"
   ]
  },
  {
   "cell_type": "code",
   "execution_count": 26,
   "metadata": {},
   "outputs": [
    {
     "name": "stdout",
     "output_type": "stream",
     "text": [
      "Test Accuracy: 0.7647.\n"
     ]
    }
   ],
   "source": [
    "# Display the score for the test set.\n",
    "print(f'Test Accuracy: {round(gs.score(X_test, y_test), 4)}.')"
   ]
  },
  {
   "cell_type": "code",
   "execution_count": 27,
   "metadata": {},
   "outputs": [
    {
     "name": "stdout",
     "output_type": "stream",
     "text": [
      "Train Accuracy: 0.88.\n"
     ]
    }
   ],
   "source": [
    "# Display the score for the training set.\n",
    "print(f'Train Accuracy: {round(gs.score(X_train, y_train), 4)}.')"
   ]
  },
  {
   "cell_type": "code",
   "execution_count": 28,
   "metadata": {},
   "outputs": [
    {
     "data": {
      "image/png": "[encoded data removed]",
      "text/plain": [
       "<Figure size 432x288 with 2 Axes>"
      ]
     },
     "metadata": {},
     "output_type": "display_data"
    }
   ],
   "source": [
    "# Plot a confusion matrix.\n",
    "y_preds = gs.predict(X_test)\n",
    "plot_confusion_matrix(gs, X_test, y_test);"
   ]
  }
 ],
 "metadata": {
  "kernelspec": {
   "display_name": "Python 3",
   "language": "python",
   "name": "python3"
  },
  "language_info": {
   "codemirror_mode": {
    "name": "ipython",
    "version": 3
   },
   "file_extension": ".py",
   "mimetype": "text/x-python",
   "name": "python",
   "nbconvert_exporter": "python",
   "pygments_lexer": "ipython3",
   "version": "3.7.9"
  }
 },
 "nbformat": 4,
 "nbformat_minor": 4
}
