{
 "cells": [
  {
   "cell_type": "code",
   "execution_count": 1,
   "metadata": {},
   "outputs": [],
   "source": [
    "import numpy as np\n",
    "import pandas as pd"
   ]
  },
  {
   "cell_type": "code",
   "execution_count": 2,
   "metadata": {},
   "outputs": [],
   "source": [
    "df = pd.read_csv('cleaned_engineered_il.csv')"
   ]
  },
  {
   "cell_type": "code",
   "execution_count": 3,
   "metadata": {},
   "outputs": [],
   "source": [
    "df['County'] = df['county_state'].str.split(',').apply(lambda x:x[0])"
   ]
  },
  {
   "cell_type": "code",
   "execution_count": 4,
   "metadata": {},
   "outputs": [
    {
     "data": {
      "text/plain": [
       "0           Adams County\n",
       "1       Alexander County\n",
       "2            Bond County\n",
       "3           Boone County\n",
       "4           Brown County\n",
       "             ...        \n",
       "97           Will County\n",
       "98     Williamson County\n",
       "99      Winnebago County\n",
       "100      Woodford County\n",
       "101          Cook County\n",
       "Name: County, Length: 102, dtype: object"
      ]
     },
     "execution_count": 4,
     "metadata": {},
     "output_type": "execute_result"
    }
   ],
   "source": [
    "df['County']"
   ]
  },
  {
   "cell_type": "code",
   "execution_count": 5,
   "metadata": {},
   "outputs": [],
   "source": [
    "df['county'] = df['County'].str.replace(' County', '')"
   ]
  },
  {
   "cell_type": "code",
   "execution_count": 11,
   "metadata": {},
   "outputs": [],
   "source": [
    "df['county'] = df['county'].str.lower()"
   ]
  },
  {
   "cell_type": "code",
   "execution_count": 18,
   "metadata": {},
   "outputs": [],
   "source": [
    "df['county'] = df['county'].str.title()"
   ]
  },
  {
   "cell_type": "code",
   "execution_count": 19,
   "metadata": {
    "collapsed": true,
    "jupyter": {
     "outputs_hidden": true
    }
   },
   "outputs": [
    {
     "data": {
      "text/plain": [
       "0            Adams\n",
       "1        Alexander\n",
       "2             Bond\n",
       "3            Boone\n",
       "4            Brown\n",
       "5           Bureau\n",
       "6          Calhoun\n",
       "7          Carroll\n",
       "8             Cass\n",
       "9        Champaign\n",
       "10       Christian\n",
       "11           Clark\n",
       "12            Clay\n",
       "13         Clinton\n",
       "14           Coles\n",
       "15        Crawford\n",
       "16      Cumberland\n",
       "17         De Witt\n",
       "18          Dekalb\n",
       "19         Douglas\n",
       "20          Dupage\n",
       "21           Edgar\n",
       "22         Edwards\n",
       "23       Effingham\n",
       "24         Fayette\n",
       "25            Ford\n",
       "26        Franklin\n",
       "27          Fulton\n",
       "28        Gallatin\n",
       "29          Greene\n",
       "30          Grundy\n",
       "31        Hamilton\n",
       "32         Hancock\n",
       "33          Hardin\n",
       "34       Henderson\n",
       "35           Henry\n",
       "36        Iroquois\n",
       "37         Jackson\n",
       "38          Jasper\n",
       "39       Jefferson\n",
       "40          Jersey\n",
       "41      Jo Daviess\n",
       "42         Johnson\n",
       "43            Kane\n",
       "44        Kankakee\n",
       "45         Kendall\n",
       "46            Knox\n",
       "47            Lake\n",
       "48         Lasalle\n",
       "49        Lawrence\n",
       "50             Lee\n",
       "51      Livingston\n",
       "52           Logan\n",
       "53           Macon\n",
       "54        Macoupin\n",
       "55         Madison\n",
       "56          Marion\n",
       "57        Marshall\n",
       "58           Mason\n",
       "59          Massac\n",
       "60       Mcdonough\n",
       "61         Mchenry\n",
       "62          Mclean\n",
       "63          Menard\n",
       "64          Mercer\n",
       "65          Monroe\n",
       "66      Montgomery\n",
       "67          Morgan\n",
       "68        Moultrie\n",
       "69            Ogle\n",
       "70          Peoria\n",
       "71           Perry\n",
       "72           Piatt\n",
       "73            Pike\n",
       "74            Pope\n",
       "75         Pulaski\n",
       "76          Putnam\n",
       "77        Randolph\n",
       "78        Richland\n",
       "79     Rock Island\n",
       "80          Saline\n",
       "81        Sangamon\n",
       "82        Schuyler\n",
       "83           Scott\n",
       "84          Shelby\n",
       "85       St. Clair\n",
       "86           Stark\n",
       "87      Stephenson\n",
       "88        Tazewell\n",
       "89           Union\n",
       "90       Vermilion\n",
       "91          Wabash\n",
       "92          Warren\n",
       "93      Washington\n",
       "94           Wayne\n",
       "95           White\n",
       "96       Whiteside\n",
       "97            Will\n",
       "98      Williamson\n",
       "99       Winnebago\n",
       "100       Woodford\n",
       "101           Cook\n",
       "Name: county, dtype: object"
      ]
     },
     "execution_count": 19,
     "metadata": {},
     "output_type": "execute_result"
    }
   ],
   "source": [
    "pd.set_option('display.max_rows', 500)\n",
    "df['county']"
   ]
  },
  {
   "cell_type": "code",
   "execution_count": 25,
   "metadata": {},
   "outputs": [],
   "source": [
    "df.to_csv('il_folium.csv')"
   ]
  },
  {
   "cell_type": "code",
   "execution_count": 26,
   "metadata": {},
   "outputs": [],
   "source": [
    "df2 = pd.read_csv('cleaned_engineered_ny.csv')"
   ]
  },
  {
   "cell_type": "code",
   "execution_count": 28,
   "metadata": {},
   "outputs": [
    {
     "data": {
      "text/plain": [
       "0           Albany County\n",
       "1         Allegany County\n",
       "2            Bronx County\n",
       "3           Broome County\n",
       "4      Cattaraugus County\n",
       "5           Cayuga County\n",
       "6       Chautauqua County\n",
       "7          Chemung County\n",
       "8         Chenango County\n",
       "9          Clinton County\n",
       "10        Columbia County\n",
       "11        Cortland County\n",
       "12        Delaware County\n",
       "13        Dutchess County\n",
       "14            Erie County\n",
       "15           Essex County\n",
       "16        Franklin County\n",
       "17          Fulton County\n",
       "18         Genesee County\n",
       "19          Greene County\n",
       "20        Hamilton County\n",
       "21        Herkimer County\n",
       "22       Jefferson County\n",
       "23           Kings County\n",
       "24           Lewis County\n",
       "25      Livingston County\n",
       "26         Madison County\n",
       "27          Monroe County\n",
       "28      Montgomery County\n",
       "29          Nassau County\n",
       "30        New York County\n",
       "31         Niagara County\n",
       "32          Oneida County\n",
       "33        Onondaga County\n",
       "34         Ontario County\n",
       "35          Orange County\n",
       "36         Orleans County\n",
       "37          Oswego County\n",
       "38          Otsego County\n",
       "39          Putnam County\n",
       "40          Queens County\n",
       "41      Rensselaer County\n",
       "42        Richmond County\n",
       "43        Rockland County\n",
       "44        Saratoga County\n",
       "45     Schenectady County\n",
       "46       Schoharie County\n",
       "47        Schuyler County\n",
       "48          Seneca County\n",
       "49    St. Lawrence County\n",
       "50         Steuben County\n",
       "51         Suffolk County\n",
       "52        Sullivan County\n",
       "53           Tioga County\n",
       "54        Tompkins County\n",
       "55          Ulster County\n",
       "56          Warren County\n",
       "57      Washington County\n",
       "58           Wayne County\n",
       "59     Westchester County\n",
       "60         Wyoming County\n",
       "61           Yates County\n",
       "Name: county, dtype: object"
      ]
     },
     "execution_count": 28,
     "metadata": {},
     "output_type": "execute_result"
    }
   ],
   "source": [
    "df2['county'] = df2['county_state'].str.split(',').apply(lambda x:x[0])\n",
    "df2['county'] = df2['county'].str.lower()\n",
    "df2['county'] = df2['county'].str.title()\n",
    "df2['county']"
   ]
  },
  {
   "cell_type": "code",
   "execution_count": 30,
   "metadata": {},
   "outputs": [],
   "source": [
    "df2.to_csv('ny_folium.csv')"
   ]
  },
  {
   "cell_type": "code",
   "execution_count": 32,
   "metadata": {},
   "outputs": [],
   "source": [
    "df3 = pd.read_csv('cleaned_engineered_ca.csv')"
   ]
  },
  {
   "cell_type": "code",
   "execution_count": 34,
   "metadata": {
    "collapsed": true,
    "jupyter": {
     "outputs_hidden": true
    }
   },
   "outputs": [
    {
     "data": {
      "text/plain": [
       "0         Santa Clara\n",
       "1           San Mateo\n",
       "2       Santa Barbara\n",
       "3            Tuolumne\n",
       "4              Sierra\n",
       "5              Placer\n",
       "6     San Luis Obispo\n",
       "7              Solano\n",
       "8            Monterey\n",
       "9                Yuba\n",
       "10      San Francisco\n",
       "11             Orange\n",
       "12               Mono\n",
       "13          Calaveras\n",
       "14             Alpine\n",
       "15             Nevada\n",
       "16              Butte\n",
       "17         Santa Cruz\n",
       "18          Mendocino\n",
       "19             Fresno\n",
       "20               Inyo\n",
       "21        San Joaquin\n",
       "22            Ventura\n",
       "23            Trinity\n",
       "24           Mariposa\n",
       "25          El Dorado\n",
       "26             Sonoma\n",
       "27             Shasta\n",
       "28             Lassen\n",
       "29             Colusa\n",
       "30               Lake\n",
       "31              Modoc\n",
       "32             Tulare\n",
       "33         San Benito\n",
       "34            Alameda\n",
       "35              Marin\n",
       "36          San Diego\n",
       "37              Glenn\n",
       "38           Siskiyou\n",
       "39             Madera\n",
       "40             Tehama\n",
       "41             Sutter\n",
       "42               Napa\n",
       "43        Los Angeles\n",
       "44         Sacramento\n",
       "45             Merced\n",
       "46              Kings\n",
       "47               Kern\n",
       "48          Riverside\n",
       "49       Contra Costa\n",
       "50          Del Norte\n",
       "51     San Bernardino\n",
       "52         Stanislaus\n",
       "53           Humboldt\n",
       "54             Plumas\n",
       "55             Amador\n",
       "56           Imperial\n",
       "57               Yolo\n",
       "Name: county, dtype: object"
      ]
     },
     "execution_count": 34,
     "metadata": {},
     "output_type": "execute_result"
    }
   ],
   "source": [
    "df3['county'] = df3['county_state'].str.split(',').apply(lambda x:x[0])\n",
    "df3['county'] = df3['county'].str.replace(' County', '')\n",
    "df3['county'] = df3['county'].str.lower()\n",
    "df3['county'] = df3['county'].str.title()\n",
    "df3['county']"
   ]
  },
  {
   "cell_type": "code",
   "execution_count": 35,
   "metadata": {},
   "outputs": [],
   "source": [
    "df3.to_csv('ca_folium.csv')"
   ]
  }
 ],
 "metadata": {
  "kernelspec": {
   "display_name": "Python 3",
   "language": "python",
   "name": "python3"
  },
  "language_info": {
   "codemirror_mode": {
    "name": "ipython",
    "version": 3
   },
   "file_extension": ".py",
   "mimetype": "text/x-python",
   "name": "python",
   "nbconvert_exporter": "python",
   "pygments_lexer": "ipython3",
   "version": "3.8.3"
  }
 },
 "nbformat": 4,
 "nbformat_minor": 4
}
